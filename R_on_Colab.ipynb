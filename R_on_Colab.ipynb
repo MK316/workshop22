{
  "nbformat": 4,
  "nbformat_minor": 0,
  "metadata": {
    "colab": {
      "name": "R_on_Colab.ipynb",
      "provenance": [],
      "authorship_tag": "ABX9TyPhmRBVA6edlxxtaTx4FSi2",
      "include_colab_link": true
    },
    "kernelspec": {
      "name": "python3",
      "display_name": "Python 3"
    },
    "language_info": {
      "name": "python"
    }
  },
  "cells": [
    {
      "cell_type": "markdown",
      "metadata": {
        "id": "view-in-github",
        "colab_type": "text"
      },
      "source": [
        "<a href=\"https://colab.research.google.com/github/MK316/workshop22/blob/main/R_on_Colab.ipynb\" target=\"_parent\"><img src=\"https://colab.research.google.com/assets/colab-badge.svg\" alt=\"Open In Colab\"/></a>"
      ]
    },
    {
      "cell_type": "markdown",
      "source": [
        "# How to use R on Colab\n",
        "\n",
        "1. load rpy2.ipython\n",
        "2. Start each cell with %%R"
      ],
      "metadata": {
        "id": "VCPytFDSq1Sg"
      }
    },
    {
      "cell_type": "code",
      "execution_count": null,
      "metadata": {
        "id": "--772SD0qxZd"
      },
      "outputs": [],
      "source": [
        "%load_ext rpy2.ipython"
      ]
    },
    {
      "cell_type": "code",
      "source": [
        "%%R\n",
        "x <- seq(0, 2*pi, length.out=50)\n",
        "x"
      ],
      "metadata": {
        "id": "h4vvbYG9q31D"
      },
      "execution_count": null,
      "outputs": []
    },
    {
      "cell_type": "markdown",
      "source": [
        "=> Here is how you could use this line to copy R variable to Python:"
      ],
      "metadata": {
        "id": "l9W-NQbSrbQq"
      }
    },
    {
      "cell_type": "code",
      "source": [
        "x = %R x"
      ],
      "metadata": {
        "id": "ZLK3IbV-rZCi"
      },
      "execution_count": null,
      "outputs": []
    }
  ]
}