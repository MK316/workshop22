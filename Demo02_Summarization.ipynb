{
  "nbformat": 4,
  "nbformat_minor": 0,
  "metadata": {
    "colab": {
      "provenance": [],
      "authorship_tag": "ABX9TyPxvc+rKaMihmHyj+ov8dS2",
      "include_colab_link": true
    },
    "kernelspec": {
      "name": "python3",
      "display_name": "Python 3"
    },
    "language_info": {
      "name": "python"
    }
  },
  "cells": [
    {
      "cell_type": "markdown",
      "metadata": {
        "id": "view-in-github",
        "colab_type": "text"
      },
      "source": [
        "<a href=\"https://colab.research.google.com/github/MK316/workshop22/blob/main/Demo02_Summarization.ipynb\" target=\"_parent\"><img src=\"https://colab.research.google.com/assets/colab-badge.svg\" alt=\"Open In Colab\"/></a>"
      ]
    },
    {
      "cell_type": "markdown",
      "source": [
        "# Summarization of a text\n",
        "\n",
        "Using {transformers, pipeline}\n",
        "- 🤗 Transformers provides APIs and tools to easily download and train state-of-the-art pretrained models. Using pretrained models can reduce your compute costs, carbon footprint, and save you the time and resources required to train a model from scratch. These models support common tasks in different modalities (image, audio, video, text, etc.).\n",
        "\n",
        "\n",
        "- About Transformer: [link](https://huggingface.co/docs/transformers/index)"
      ],
      "metadata": {
        "id": "jCBcB_hvXqbT"
      }
    },
    {
      "cell_type": "code",
      "execution_count": 2,
      "metadata": {
        "id": "6dNQCKW7t4ja"
      },
      "outputs": [],
      "source": [
        "%%capture\n",
        "!pip install transformers\n",
        "from transformers import pipeline"
      ]
    },
    {
      "cell_type": "markdown",
      "source": [
        "Sample text to copy: [follow this link](https://raw.githubusercontent.com/MK316/workshop22/main/data/COE_sample)  \n",
        "- Use Ctrl + a > Ctrl + C\n",
        "- Get it ready to paste (Ctrl + V) to the pop-up window below."
      ],
      "metadata": {
        "id": "1PR3e3UPgOZN"
      }
    },
    {
      "cell_type": "code",
      "source": [
        "text_to_summarize = input()\n",
        "text = str(text_to_summarize)"
      ],
      "metadata": {
        "id": "4LwTveb5agSb",
        "outputId": "ba358bbf-df20-4a9d-d6f7-02a4458c4588",
        "colab": {
          "base_uri": "https://localhost:8080/"
        }
      },
      "execution_count": 3,
      "outputs": [
        {
          "name": "stdout",
          "output_type": "stream",
          "text": [
            "The Association is an academic society which aims to contribute to / the development of English-language abilities through research and education. / The role of the Association's members (hereinafter, \"Members\") is to broaden their knowledge / of professional English education and to demonstrate their knowledge and capability of / improvement of the English skills of all types of learners. The Association's Code of Ethics  (hereinafter, \"the Code\") prescribes the principles and standards that Members, as educators, / must comply with while doing research and academic activities. In pursuing academic activities and the publication of academic research, Members must abide by / the Code, fulfill their duties as researchers, acknowledge one another's research, and share / the results of their work. Publication in academic journals impartially selecting and publishing / strictly evaluated papers on English education is one of the most important goals of the Association./ In order to ensure responsible publication in well-respected academic journals, thereby making a / contribution towards English education development, it is necessary to establish the Code for authors / and the Association's Editors and Judges to follow. Although our organization has long had a general and practical code of ethics, this Code, / established to meet the expectations of changing times that now require a more explicit code of ethics, / will become a foundation to reconfirm the ethical mandate that the Association intends to apply in all / aspects of its operation.\n"
          ]
        }
      ]
    },
    {
      "cell_type": "code",
      "source": [
        "classifier = pipeline(\"summarization\")\n",
        "a = classifier(text)\n",
        "a"
      ],
      "metadata": {
        "colab": {
          "base_uri": "https://localhost:8080/"
        },
        "id": "K4Jh-gH5uFAX",
        "outputId": "458d783c-0eaa-48a5-8730-219191e82667"
      },
      "execution_count": 41,
      "outputs": [
        {
          "output_type": "stream",
          "name": "stderr",
          "text": [
            "No model was supplied, defaulted to sshleifer/distilbart-cnn-12-6 and revision a4f8f3e (https://huggingface.co/sshleifer/distilbart-cnn-12-6).\n",
            "Using a pipeline without specifying a model name and revision in production is not recommended.\n"
          ]
        },
        {
          "output_type": "execute_result",
          "data": {
            "text/plain": [
              "[{'summary_text': ' The Association is an academic society which aims to contribute to the development of English-language abilities through research and education . The Code of Ethics prescribes the principles and standards that Members, as educators, must comply with while doing research and academic activities . Publication in academic journals impartially selecting and publishing / strictly evaluated papers on English education is one of the most important goals of the Association .'}]"
            ]
          },
          "metadata": {},
          "execution_count": 41
        }
      ]
    },
    {
      "cell_type": "markdown",
      "source": [
        "Function:  classifier(_text_)"
      ],
      "metadata": {
        "id": "7euHex_sjsd7"
      }
    },
    {
      "cell_type": "code",
      "source": [
        "t1 = text.split()\n",
        "t2 = a[0]['summary_text']\n",
        "t3 = t2.split()\n",
        "print('Text length: %d words'%len(t1))\n",
        "print('Summary length: %d words'%len(t3))"
      ],
      "metadata": {
        "colab": {
          "base_uri": "https://localhost:8080/"
        },
        "id": "CINGFYJlv3hN",
        "outputId": "1fd6833d-7d0b-4c21-f0aa-92bf0c10c01b"
      },
      "execution_count": 42,
      "outputs": [
        {
          "output_type": "stream",
          "name": "stdout",
          "text": [
            "Text length: 238 words\n",
            "Summary length: 70 words\n"
          ]
        }
      ]
    }
  ]
}