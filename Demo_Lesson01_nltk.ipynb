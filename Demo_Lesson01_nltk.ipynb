{
  "nbformat": 4,
  "nbformat_minor": 0,
  "metadata": {
    "colab": {
      "provenance": [],
      "authorship_tag": "ABX9TyMdddjqfJR/yzvE+qOw8HSF",
      "include_colab_link": true
    },
    "kernelspec": {
      "name": "python3",
      "display_name": "Python 3"
    },
    "language_info": {
      "name": "python"
    }
  },
  "cells": [
    {
      "cell_type": "markdown",
      "metadata": {
        "id": "view-in-github",
        "colab_type": "text"
      },
      "source": [
        "<a href=\"https://colab.research.google.com/github/MK316/workshop22/blob/main/Demo_Lesson01_nltk.ipynb\" target=\"_parent\"><img src=\"https://colab.research.google.com/assets/colab-badge.svg\" alt=\"Open In Colab\"/></a>"
      ]
    },
    {
      "cell_type": "markdown",
      "source": [
        "# 🐬 Topic: A class example (Week 10, Spring 2022)\n",
        "\n",
        "* Texts from the chapters 1~6:\n",
        "[Ch01](https://raw.githubusercontent.com/MK316/Class_Spring2022/main/Ch01.Visual.Village.txt), [Ch02](https://raw.githubusercontent.com/MK316/Class_Spring2022/main/Ch02_Living%20light.txt), [Ch03](https://raw.githubusercontent.com/MK316/Class_Spring2022/main/Ch03B.txt), [Ch05](https://raw.githubusercontent.com/MK316/Class_Spring2022/main/Ch05.txt) & [Ch06](https://raw.githubusercontent.com/MK316/Class_Spring2022/main/Ch06.txt)"
      ],
      "metadata": {
        "id": "Qi3VPttU4BgZ"
      }
    },
    {
      "cell_type": "markdown",
      "source": [
        "# 💾 Gathering texts"
      ],
      "metadata": {
        "id": "h20O_Exx5Bls"
      }
    },
    {
      "cell_type": "code",
      "source": [
        "#@markdown 🌱 How many texts (chapters) to combine?\n",
        "num_of_texts = \"3\"  #@param [\"1\",\"2\",\"3\",\"4\",\"5\"]\n",
        "#@markdown - Note1: An empty box will pop-up and wait for your action to paste.)  \n",
        "#@markdown - Note2: Each text is also stored in df (= dataframe: e.g., csv format): text1, text2, etc.)\n",
        "\n",
        "\n",
        "numtexts = int(num_of_texts)\n",
        "text = str()\n",
        "text_number = []\n",
        "texts = []\n",
        "df = pd.DataFrame()\n",
        "\n",
        "\n",
        "for i in range(1, numtexts+1):\n",
        "  print('▶️ Paste your text; ')\n",
        "  t1 = input()\n",
        "  tn = 'text'+str(i)\n",
        "  text_number.append(tn)\n",
        "  texts.append(t1)\n",
        "\n",
        "  text = text + \" \" + str(t1)\n",
        "  if i < (numtexts+1):\n",
        "    i = i+1\n",
        "  else:\n",
        "    text = total\n",
        "  \n",
        "df['Text_num'] = text_number\n",
        "df['Text'] = texts\n",
        "print(\"\\n⛄ Total length: %d\"%len(total))\n",
        "\n",
        "\n",
        "\n",
        "split_text = text.split(\" \")\n",
        "print(\"⛄ The total number of words: %d\"%len(split_text))"
      ],
      "metadata": {
        "id": "iySedhjoT8o-"
      },
      "execution_count": null,
      "outputs": []
    },
    {
      "cell_type": "code",
      "source": [
        "#@markdown 🌱 Show the dataframe (csv format)\n",
        "display(df)"
      ],
      "metadata": {
        "colab": {
          "base_uri": "https://localhost:8080/",
          "height": 143
        },
        "cellView": "form",
        "id": "5lU5HLoGWDwY",
        "outputId": "bc9e47e0-75ae-4d4b-f886-d50626747370"
      },
      "execution_count": 143,
      "outputs": [
        {
          "output_type": "display_data",
          "data": {
            "text/plain": [
              "  Text_num                                               Text\n",
              "0    text1  Before the age of the smartphone, aspiring pho...\n",
              "1    text2  The ability of some species to create light, k...\n",
              "2    text3  Genetic engineering (GE) of crops and animals ..."
            ],
            "text/html": [
              "\n",
              "  <div id=\"df-cfd502c5-70a1-4cbe-9daa-3f6c518f21a8\">\n",
              "    <div class=\"colab-df-container\">\n",
              "      <div>\n",
              "<style scoped>\n",
              "    .dataframe tbody tr th:only-of-type {\n",
              "        vertical-align: middle;\n",
              "    }\n",
              "\n",
              "    .dataframe tbody tr th {\n",
              "        vertical-align: top;\n",
              "    }\n",
              "\n",
              "    .dataframe thead th {\n",
              "        text-align: right;\n",
              "    }\n",
              "</style>\n",
              "<table border=\"1\" class=\"dataframe\">\n",
              "  <thead>\n",
              "    <tr style=\"text-align: right;\">\n",
              "      <th></th>\n",
              "      <th>Text_num</th>\n",
              "      <th>Text</th>\n",
              "    </tr>\n",
              "  </thead>\n",
              "  <tbody>\n",
              "    <tr>\n",
              "      <th>0</th>\n",
              "      <td>text1</td>\n",
              "      <td>Before the age of the smartphone, aspiring pho...</td>\n",
              "    </tr>\n",
              "    <tr>\n",
              "      <th>1</th>\n",
              "      <td>text2</td>\n",
              "      <td>The ability of some species to create light, k...</td>\n",
              "    </tr>\n",
              "    <tr>\n",
              "      <th>2</th>\n",
              "      <td>text3</td>\n",
              "      <td>Genetic engineering (GE) of crops and animals ...</td>\n",
              "    </tr>\n",
              "  </tbody>\n",
              "</table>\n",
              "</div>\n",
              "      <button class=\"colab-df-convert\" onclick=\"convertToInteractive('df-cfd502c5-70a1-4cbe-9daa-3f6c518f21a8')\"\n",
              "              title=\"Convert this dataframe to an interactive table.\"\n",
              "              style=\"display:none;\">\n",
              "        \n",
              "  <svg xmlns=\"http://www.w3.org/2000/svg\" height=\"24px\"viewBox=\"0 0 24 24\"\n",
              "       width=\"24px\">\n",
              "    <path d=\"M0 0h24v24H0V0z\" fill=\"none\"/>\n",
              "    <path d=\"M18.56 5.44l.94 2.06.94-2.06 2.06-.94-2.06-.94-.94-2.06-.94 2.06-2.06.94zm-11 1L8.5 8.5l.94-2.06 2.06-.94-2.06-.94L8.5 2.5l-.94 2.06-2.06.94zm10 10l.94 2.06.94-2.06 2.06-.94-2.06-.94-.94-2.06-.94 2.06-2.06.94z\"/><path d=\"M17.41 7.96l-1.37-1.37c-.4-.4-.92-.59-1.43-.59-.52 0-1.04.2-1.43.59L10.3 9.45l-7.72 7.72c-.78.78-.78 2.05 0 2.83L4 21.41c.39.39.9.59 1.41.59.51 0 1.02-.2 1.41-.59l7.78-7.78 2.81-2.81c.8-.78.8-2.07 0-2.86zM5.41 20L4 18.59l7.72-7.72 1.47 1.35L5.41 20z\"/>\n",
              "  </svg>\n",
              "      </button>\n",
              "      \n",
              "  <style>\n",
              "    .colab-df-container {\n",
              "      display:flex;\n",
              "      flex-wrap:wrap;\n",
              "      gap: 12px;\n",
              "    }\n",
              "\n",
              "    .colab-df-convert {\n",
              "      background-color: #E8F0FE;\n",
              "      border: none;\n",
              "      border-radius: 50%;\n",
              "      cursor: pointer;\n",
              "      display: none;\n",
              "      fill: #1967D2;\n",
              "      height: 32px;\n",
              "      padding: 0 0 0 0;\n",
              "      width: 32px;\n",
              "    }\n",
              "\n",
              "    .colab-df-convert:hover {\n",
              "      background-color: #E2EBFA;\n",
              "      box-shadow: 0px 1px 2px rgba(60, 64, 67, 0.3), 0px 1px 3px 1px rgba(60, 64, 67, 0.15);\n",
              "      fill: #174EA6;\n",
              "    }\n",
              "\n",
              "    [theme=dark] .colab-df-convert {\n",
              "      background-color: #3B4455;\n",
              "      fill: #D2E3FC;\n",
              "    }\n",
              "\n",
              "    [theme=dark] .colab-df-convert:hover {\n",
              "      background-color: #434B5C;\n",
              "      box-shadow: 0px 1px 3px 1px rgba(0, 0, 0, 0.15);\n",
              "      filter: drop-shadow(0px 1px 2px rgba(0, 0, 0, 0.3));\n",
              "      fill: #FFFFFF;\n",
              "    }\n",
              "  </style>\n",
              "\n",
              "      <script>\n",
              "        const buttonEl =\n",
              "          document.querySelector('#df-cfd502c5-70a1-4cbe-9daa-3f6c518f21a8 button.colab-df-convert');\n",
              "        buttonEl.style.display =\n",
              "          google.colab.kernel.accessAllowed ? 'block' : 'none';\n",
              "\n",
              "        async function convertToInteractive(key) {\n",
              "          const element = document.querySelector('#df-cfd502c5-70a1-4cbe-9daa-3f6c518f21a8');\n",
              "          const dataTable =\n",
              "            await google.colab.kernel.invokeFunction('convertToInteractive',\n",
              "                                                     [key], {});\n",
              "          if (!dataTable) return;\n",
              "\n",
              "          const docLinkHtml = 'Like what you see? Visit the ' +\n",
              "            '<a target=\"_blank\" href=https://colab.research.google.com/notebooks/data_table.ipynb>data table notebook</a>'\n",
              "            + ' to learn more about interactive tables.';\n",
              "          element.innerHTML = '';\n",
              "          dataTable['output_type'] = 'display_data';\n",
              "          await google.colab.output.renderOutput(dataTable, element);\n",
              "          const docLink = document.createElement('div');\n",
              "          docLink.innerHTML = docLinkHtml;\n",
              "          element.appendChild(docLink);\n",
              "        }\n",
              "      </script>\n",
              "    </div>\n",
              "  </div>\n",
              "  "
            ]
          },
          "metadata": {}
        }
      ]
    },
    {
      "cell_type": "code",
      "source": [
        "#@markdown 🌱 Show individual text\n",
        "textnumber = \"2\" #@param [\"1\",\"2\",\"3\",\"4\",\"5\"]\n",
        "n = int(textnumber)\n",
        "print(\"🔎 Text%d: \\n\"%n)\n",
        "df['Text'][n-1]"
      ],
      "metadata": {
        "colab": {
          "base_uri": "https://localhost:8080/",
          "height": 209
        },
        "cellView": "form",
        "id": "Dgt37lazbY3q",
        "outputId": "7438930c-1d82-4206-f5f3-2e42785a2da3"
      },
      "execution_count": 146,
      "outputs": [
        {
          "output_type": "stream",
          "name": "stdout",
          "text": [
            "🔎 Text2: \n",
            "\n"
          ]
        },
        {
          "output_type": "execute_result",
          "data": {
            "text/plain": [
              "'The ability of some species to create light, known as bioluminescence, is both magical and commonplace. Magical, because of its glimmering beauty. Commonplace, because many life forms can do it. On land the most familiar examples are fireflies, flashing to attract mates on a warm summer night. But there are other luminous land organisms, including glow-worms, millipedes, and some ninety species of fungus. Even some birds, such as the Atlantic puffin, have beaks that glow in the dark. But the real biological light show takes place in the sea. Here, an astonishing number of beings can make light. Some, such as ostracods, are like ocean fireflies, using flashes of light to attract mate. There are also glowing bacteria, and light-making fish, squid, and jellyfish. Indeed, of all the groups of organisms known to make light, more than four-fifths live in the ocean. As a place to live, the ocean has a couple of peculiarities. Firstly, there is almost nowhere to hide, so being invisible is very important. Secondly, as you descend, sunlight disappears. At first, red light is absorbed. Then the yellow and green parts of the spectrum disappear, leaving just the blue. At two-hundred meters below the surface, the ocean becomes a kind of perpetual twilight, and at six-hundred meters the blue fades out too. In fact, most of the ocean is as black as the night sky. These factors make light uniquely useful as a weapon or a veil. Hiding with light In the ocean’s upper layers, where light penetrates, creatures need to blend in to survive. Any life form that stands out is in danger of being spotted by predators, especially those swimming below, looking up. Many life forms solve this problem by avoiding the light zone during the day. Others, such as jellyfish and swimming snails, are transparent, ghostlike creatures, almost impossible to see. Other sea species use light to survive in the upper layers, but how? Some, such as certain shrimp and squid, illuminate their bellies to match the light coming from above. This allows them to become invisible to predators below. Their light can be turned on and off at will, some even have a dimmer switch. For example, certain types of shrimp can alter how much light they give off, depending on the brightness of the water around them. If a cloud passes overhead and briefly blocks the light, the shrimp will dim itself accordingly. But if the aim is to remain invisible, why do some creatures light up when they are touched, or when the water nearby is disturbed? A couple of reasons. First, a sudden burst of light may startle a predator, giving the prey a chance to escape. Some kinds of deep-sea squid, for example, give a big squirt of light before darting off into the gloom. Second, there is the principle of ‘the enemy of my enemy is my friend.’ Giving off light can help summon the predator of your predator. Known as the burglar alarm effect, this is especially useful for tiny life forms, such as dinoflagellates, that cannot swim fast. For such small beings, water is too viscous to allow a quick getaway, it would be like trying to swim through syrup. Instead, when threatened by a shrimp, for example, these organisms light up. The flashes attract larger fish that are better able to spot, and eat, the shrimp. The chief defense for these tiny organisms is therefore not fight or flight, but light. '"
            ],
            "application/vnd.google.colaboratory.intrinsic+json": {
              "type": "string"
            }
          },
          "metadata": {},
          "execution_count": 146
        }
      ]
    },
    {
      "cell_type": "markdown",
      "source": [
        "# Wordcloud of each chapter:"
      ],
      "metadata": {
        "id": "ZpCbV-2PSj_J"
      }
    },
    {
      "cell_type": "code",
      "source": [
        "from wordcloud import WordCloud, STOPWORDS, ImageColorGenerator\n",
        "import matplotlib.pyplot as plt\n",
        "import pandas as pd"
      ],
      "metadata": {
        "id": "PxYmFW5dTIh7"
      },
      "execution_count": 111,
      "outputs": []
    },
    {
      "cell_type": "code",
      "source": [
        "#@markdown Text to wordcloud: type the text number (e.g., 1 for 'text1', 2 for 'text2', etc.)\n",
        "print(\"Number of texts avaliable: 1~%d\"%int(num_of_texts))\n",
        "n = input()\n",
        "tn = int(n)\n",
        "mytext = df['Text'][tn-1]\n",
        "# Create and generate a word cloud image:\n",
        "wordcloud = WordCloud().generate(mytext)\n",
        "\n",
        "# Display the generated image:\n",
        "plt.imshow(wordcloud, interpolation='bilinear')\n",
        "plt.axis(\"off\")\n",
        "plt.show()"
      ],
      "metadata": {
        "colab": {
          "base_uri": "https://localhost:8080/",
          "height": 233
        },
        "cellView": "form",
        "id": "FnIzUOKeSpZr",
        "outputId": "4dd3918d-a2e3-4253-a6ca-d67ad069ca3c"
      },
      "execution_count": 147,
      "outputs": [
        {
          "name": "stdout",
          "output_type": "stream",
          "text": [
            "Number of texts avaliable: 1~3\n",
            "2\n"
          ]
        },
        {
          "output_type": "display_data",
          "data": {
            "text/plain": [
              "<Figure size 432x288 with 1 Axes>"
            ],
            "image/png": "[encoded data removed]"
          },
          "metadata": {
            "needs_background": "light"
          }
        }
      ]
    },
    {
      "cell_type": "markdown",
      "source": [
        "# NTLT (Natural Language Processing)"
      ],
      "metadata": {
        "id": "XIntFvd6-JAg"
      }
    },
    {
      "cell_type": "markdown",
      "source": [
        "## [1] Import {nltk} library\n",
        "- NLTK contains \"stopwords\" list"
      ],
      "metadata": {
        "id": "QlRZc-BV-yC-"
      }
    },
    {
      "cell_type": "code",
      "execution_count": 89,
      "metadata": {
        "id": "hBsnidfr35UR",
        "colab": {
          "base_uri": "https://localhost:8080/"
        },
        "outputId": "dff25c28-8886-421e-af49-f2a8bbabe4c3"
      },
      "outputs": [
        {
          "output_type": "stream",
          "name": "stdout",
          "text": [
            "⛄ Stopword list: 180\n",
            "\n",
            "⛄ Stopword list: {'you', \"doesn't\", 'been', 'weren', 'in', 'i', 'again', \"didn't\", \"wasn't\", 'shouldn', 're', \"aren't\", 'between', 'under', \"shan't\", \"mightn't\", 'few', 'do', 'here', 'only', 'whom', 'ours', 'won', 'no', 'didn', 'ma', 'hers', 'yours', 'were', 'its', 'does', 'is', 'both', 'just', \"should've\", 'it', \"don't\", 'a', 'same', 'an', 'them', 'being', 'by', \"you've\", 'about', 'their', 'herself', 'needn', 'or', \"needn't\", 'hasn', 'to', 'we', 's', 'where', \"haven't\", 'up', 'that', 'from', 'hadn', 'they', \"mustn't\", 'above', 'her', 'will', 'not', 'with', 'on', 'until', 'and', 'what', 'me', 'than', 'itself', 'during', \"you're\", 't', \"you'll\", 'over', 'my', 'this', 'further', \"shouldn't\", 'now', 'if', 'how', 'y', 'all', 'aren', 'wouldn', 'theirs', 'who', 'through', 'which', 'doing', 'why', 'ain', 'doesn', \"it's\", 'myself', 'she', 'nor', 'after', \"won't\", 'd', 'can', 'his', 'because', 'isn', \"that'll\", 'before', 'down', 'be', 'when', 'as', 'own', 'those', 'has', 'mustn', 'other', \"isn't\", 'have', 'having', 'shan', \"wouldn't\", 'wasn', 'some', 'he', 'very', 'for', 'o', \"couldn't\", 'yourself', \"hadn't\", 'off', 'into', \"hasn't\", 'yourselves', 'ourselves', 've', 'haven', \"she's\", 'did', 'm', 'below', 'had', 'll', 'couldn', 'am', 'more', 'themselves', 'out', 'any', 'while', \"weren't\", 'too', 'once', 'such', 'so', 'don', 'are', 'him', 'should', 'there', 'us', 'was', 'of', 'the', 'each', 'your', 'most', 'himself', 'against', 'but', 'at', 'then', 'mightn', 'our', 'these', \"you'd\"}\n"
          ]
        }
      ],
      "source": [
        "#@markdown 📕 Import packages {nltk}\n",
        "import nltk\n",
        "from nltk import word_tokenize, sent_tokenize\n",
        "nltk.download(\"punkt\")\n",
        "from nltk.tokenize import RegexpTokenizer\n",
        "\n",
        "# import stopwords from nltk.corpus\n",
        "\n",
        "from nltk.corpus import stopwords\n",
        "nltk.download(\"stopwords\")\n",
        "\n",
        "stop_words = set(stopwords.words(\"english\"))\n",
        "\n",
        "#add words that aren't in the NLTK stopwords list\n",
        "new_stopwords = ['us']\n",
        "new_stopwords_list = stop_words.union(new_stopwords)\n",
        "\n",
        "print(\"⛄ Stopword list: %s\"%len(new_stopwords_list))\n",
        "print(\"\\n⛄ Stopword list: %s\"%new_stopwords_list)"
      ]
    },
    {
      "cell_type": "markdown",
      "source": [
        "## [2] Preprocessing & Word Frequency: \n",
        "- removing stop words, \n",
        "- selecting words with more than 3 characters"
      ],
      "metadata": {
        "id": "AJQ8597T-X7J"
      }
    },
    {
      "cell_type": "code",
      "source": [
        "#@markdown 📕 Preprocessing Remove stopwords, numbers, < 2 character words\n",
        "import re\n",
        "text = text.lower()\n",
        "retokenize =RegexpTokenizer(\"[\\w]+\")\n",
        "words = retokenize.tokenize(text)\n",
        "\n",
        "numbers = re.findall('[0-9]+[0-9]+',text)\n",
        "words = [w for w in words if not w in numbers]\n",
        "words = [w for w in words if len(w) > 2]\n",
        "\n",
        "#@markdown - Tokenized words after filtering stop words & words with more than 3 letters:\n",
        "print('⛄ Number of words before stopwords: %d'%len(words))\n",
        "words = [w for w in words if not w in new_stopwords_list]\n",
        "print('⛄ Number of words after stopwords: %d'%len(words))"
      ],
      "metadata": {
        "colab": {
          "base_uri": "https://localhost:8080/"
        },
        "cellView": "form",
        "id": "14hUi67C8SIg",
        "outputId": "644dd485-fbc0-420e-ed45-e82b3c5576db"
      },
      "execution_count": 90,
      "outputs": [
        {
          "output_type": "stream",
          "name": "stdout",
          "text": [
            "⛄ Number of words before stopwords: 3441\n",
            "⛄ Number of words after stopwords: 2360\n"
          ]
        }
      ]
    },
    {
      "cell_type": "code",
      "source": [
        "#@markdown 📕 Frequency distribution\n",
        "number_of_words = \"10\" #@param [\"10\",\"20\",\"30\",\"50\",\"100\"]\n",
        "n = int(number_of_words)\n",
        "\n",
        "fd = nltk.FreqDist(words).most_common(n)\n",
        "print(fd[:10])\n",
        "\n",
        "import pandas as pd\n",
        "\n",
        "df = pd.DataFrame()\n",
        "wlist = []\n",
        "freq = []\n",
        "\n",
        "for i in range(0,n):\n",
        "  wlist.append(fd[i][0])\n",
        "  freq.append(fd[i][1])\n",
        "\n",
        "df['ID'] = range(1,n+1)\n",
        "df['Words'] = wlist\n",
        "df['Freq'] = freq\n",
        "\n",
        "print(df[:n])\n",
        "#@markdown - Frequency wordlist will be saved as, e.g., 'freqlist_30.csv'\n",
        "df.to_csv(r'/content/freqlist_%d.csv'%n,index=False)"
      ],
      "metadata": {
        "colab": {
          "base_uri": "https://localhost:8080/"
        },
        "cellView": "form",
        "id": "WDxNZgXD8U8M",
        "outputId": "fbfea472-dff9-4a67-8a34-7c466feb59bc"
      },
      "execution_count": 93,
      "outputs": [
        {
          "output_type": "stream",
          "name": "stdout",
          "text": [
            "[('light', 22), ('people', 20), ('money', 19), ('dna', 14), ('ancient', 14), ('new', 13), ('one', 13), ('genetic', 13), ('today', 12), ('make', 12)]\n",
            "   ID    Words  Freq\n",
            "0   1    light    22\n",
            "1   2   people    20\n",
            "2   3    money    19\n",
            "3   4      dna    14\n",
            "4   5  ancient    14\n",
            "5   6      new    13\n",
            "6   7      one    13\n",
            "7   8  genetic    13\n",
            "8   9    today    12\n",
            "9  10     make    12\n"
          ]
        }
      ]
    },
    {
      "cell_type": "code",
      "source": [
        "#@markdown 📕 Words with frequency greater than N\n",
        "occurrences = \"5\" #@param [\"1\", \"2\",\"3\",\"4\",\"5\"]\n",
        "n = int(occurrences)\n",
        "\n",
        "\n",
        "fd = nltk.FreqDist(words).most_common()\n",
        "# print(fd[:5])\n",
        "\n",
        "import pandas as pd\n",
        "\n",
        "df = pd.DataFrame()\n",
        "wlist = []\n",
        "freq = []\n",
        "\n",
        "for i in range(0,len(fd)):\n",
        "  if fd[i][1] > n-1:\n",
        "     wlist.append(fd[i][0])\n",
        "     freq.append(fd[i][1])\n",
        "df['Words'] = wlist\n",
        "df['Freq'] = freq\n",
        "\n",
        "print(\"⛄ Words occurring more than %s times:\\n\"%n)\n",
        "print(df)\n"
      ],
      "metadata": {
        "colab": {
          "base_uri": "https://localhost:8080/"
        },
        "cellView": "form",
        "id": "co9Up6AlAmTH",
        "outputId": "e2ea0af8-2385-4c6a-81c0-180b4cd1e634"
      },
      "execution_count": 94,
      "outputs": [
        {
          "output_type": "stream",
          "name": "stdout",
          "text": [
            "⛄ Words occurring more than 5 times:\n",
            "\n",
            "         Words  Freq\n",
            "0        light    22\n",
            "1       people    20\n",
            "2        money    19\n",
            "3          dna    14\n",
            "4      ancient    14\n",
            "..         ...   ...\n",
            "74       mtdna     5\n",
            "75         ago     5\n",
            "76       began     5\n",
            "77  eventually     5\n",
            "78        gold     5\n",
            "\n",
            "[79 rows x 2 columns]\n"
          ]
        }
      ]
    },
    {
      "cell_type": "markdown",
      "source": [
        "# [3] Words in context"
      ],
      "metadata": {
        "id": "8Kpt9SdB73m8"
      }
    },
    {
      "cell_type": "code",
      "source": [
        "#@markdown 📕 Import packages {nltk.sent_tokenize}\n",
        "%%capture\n",
        "from nltk import sent_tokenize\n",
        "nltk.download(\"punkt\")\n",
        "sents = nltk.sent_tokenize(text)"
      ],
      "metadata": {
        "id": "Mue1Ew5cp5hu",
        "cellView": "form"
      },
      "execution_count": 95,
      "outputs": []
    },
    {
      "cell_type": "code",
      "source": [
        "#@markdown 📕  Find sentences with a specific word: pop-up window\n",
        "import re\n",
        "\n",
        "word_to_search = input()\n",
        "w = str(word_to_search)\n",
        "\n",
        "results = [s for s in sents if bool(re.findall(w,s)) == 1 ]\n",
        "\n",
        "for i in range(0, len(results)):\n",
        "  n = i+1\n",
        "  print('Occurrence %d: '%n)\n",
        "  s = results[i]\n",
        "  print(s[0].capitalize()+s[1:])"
      ],
      "metadata": {
        "id": "jz4aAwue-8Nk",
        "outputId": "2fc28daa-2235-4ca0-aa2e-37df818e3c89",
        "colab": {
          "base_uri": "https://localhost:8080/"
        },
        "cellView": "form"
      },
      "execution_count": 96,
      "outputs": [
        {
          "output_type": "stream",
          "name": "stdout",
          "text": [
            "get\n",
            "Occurrence 1: \n",
            "A photograph taken in new york can get a response from someone in lagos within a second of being uploaded.\n",
            "Occurrence 2: \n",
            "In the past, magazines published unforgettable photos of important people and global events that captured our imaginations.\n",
            "Occurrence 3: \n",
            "No one image gets to be special for long.\n",
            "Occurrence 4: \n",
            "The question of the accuracy of images gets even trickier when photojournalists start experimenting with camera apps – like flickr or instagram – which encourage the use of filters.\n",
            "Occurrence 5: \n",
            "Many members of the media get stuck on the same stories, focusing on elections, governments, wars, and disasters.\n",
            "Occurrence 6: \n",
            "For such small beings, water is too viscous to allow a quick getaway, it would be like trying to swim through syrup.\n",
            "Occurrence 7: \n",
            "“beta-carotene, which is already widely available in fruit and vegetables, isn’t converted to vitamin a when people are malnourished.\n",
            "Occurrence 8: \n",
            "There are perhaps just a few hundred, surviving by hunting animals and gathering fruits, vegetables, and nuts.\n",
            "Occurrence 9: \n",
            "By comparing the mtdna and y chromosomes of people from various populations, geneticists can get a rough idea of where and when those groups separated in the great migrations around the planet.\n",
            "Occurrence 10: \n",
            "\"it was less of a journey and probably more like walking a little farther down the beach to get away from the crowd.\"\n"
          ]
        }
      ]
    },
    {
      "cell_type": "markdown",
      "source": [
        "## [4] N-gram: finding colloquial expressions"
      ],
      "metadata": {
        "id": "EiUOe5_RKoCH"
      }
    },
    {
      "cell_type": "code",
      "source": [
        "#@markdown 🚩 ngram(N_gram, show_topN):\n",
        "import nltk\n",
        "# nltk.download('gutenberg')\n",
        "from nltk.tokenize import word_tokenize\n",
        "from nltk import ngrams\n",
        "\n",
        "N_gram = \"4\" #@param [2,3,4,5,6]\n",
        "show_topN = \"5\" #@param [5, 10, 20, 30, 40]\n",
        "\n",
        "def ngram(x, y):\n",
        "\n",
        "  # ngram_num = input()\n",
        "  # ngram_num = int(ngram_num)\n",
        "\n",
        "  # text_to_choose = \"bible-kjv.txt\"  #@param ['austen-emma.txt', 'austen-persuasion.txt', 'austen-sense.txt', 'bible-kjv.txt', 'blake-poems.txt', 'bryant-stories.txt', 'burgess-busterbrown.txt', 'carroll-alice.txt', 'chesterton-ball.txt', 'chesterton-brown.txt', 'chesterton-thursday.txt', 'edgeworth-parents.txt', 'melville-moby_dick.txt', 'milton-paradise.txt', 'shakespeare-caesar.txt', 'shakespeare-hamlet.txt', 'shakespeare-macbeth.txt', 'whitman-leaves.txt']\n",
        "  # ngram_number = \"6\" #@param [2, 3, 4, 5, 6, 7]\n",
        "  # n = int(ngram_number)\n",
        "  # show_nth_in_frequency_list = \"5\" #@param [5, 10, 15, 20]\n",
        "  # n1 = int(show_nth_in_frequency_list)\n",
        "\n",
        "  # text = nltk.corpus.gutenberg.raw(text_to_choose)\n",
        "  ngram = ngrams(text.split(),x)\n",
        "\n",
        "  gramdata = []\n",
        "\n",
        "  for grams in ngram:\n",
        "    gramdata.append(grams)\n",
        "  num = len(gramdata)\n",
        "\n",
        "  fd = nltk.FreqDist(gramdata).most_common(int(y))\n",
        "  return fd\n",
        "\n",
        "x = int(N_gram)\n",
        "y = int(show_topN)\n",
        "ngram(x,y)\n"
      ],
      "metadata": {
        "colab": {
          "base_uri": "https://localhost:8080/"
        },
        "cellView": "form",
        "id": "V7BFRjKLGB92",
        "outputId": "91228eaf-8213-438f-b7cd-159349bcaa1d"
      },
      "execution_count": 101,
      "outputs": [
        {
          "output_type": "execute_result",
          "data": {
            "text/plain": [
              "[(('on', 'the', 'other', 'hand,'), 3),\n",
              " (('in', 'the', 'dna', 'of'), 3),\n",
              " (('tens', 'of', 'thousands', 'of'), 2),\n",
              " (('genes', 'have', 'been', 'inserted'), 2),\n",
              " (('have', 'been', 'inserted', 'into'), 2)]"
            ]
          },
          "metadata": {},
          "execution_count": 101
        }
      ]
    },
    {
      "cell_type": "markdown",
      "source": [],
      "metadata": {
        "id": "XVF8CqCKSexu"
      }
    }
  ]
}