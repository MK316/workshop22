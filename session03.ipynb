{
  "nbformat": 4,
  "nbformat_minor": 0,
  "metadata": {
    "colab": {
      "name": "Session03",
      "provenance": [],
      "authorship_tag": "ABX9TyP02bw3HjOO9Z28WDVvV52p",
      "include_colab_link": true
    },
    "kernelspec": {
      "name": "python3",
      "display_name": "Python 3"
    },
    "language_info": {
      "name": "python"
    }
  },
  "cells": [
    {
      "cell_type": "markdown",
      "metadata": {
        "id": "view-in-github",
        "colab_type": "text"
      },
      "source": [
        "<a href=\"https://colab.research.google.com/github/MK316/workshop22/blob/main/session03.ipynb\" target=\"_parent\"><img src=\"https://colab.research.google.com/assets/colab-badge.svg\" alt=\"Open In Colab\"/></a>"
      ]
    },
    {
      "cell_type": "markdown",
      "source": [
        "# 💦 **Session 03**  Data visualization and basic stats\n",
        "\n",
        "**[Table of contents]**\n",
        "1. What is dataframe? (e.g., csv file format) \n",
        "2. Handling dataframe\n",
        "3. Basic plotting with {matplotlib} package\n",
        "4. Basic stats: descriptive statistics"
      ],
      "metadata": {
        "id": "4ZZEflQTF3yY"
      }
    },
    {
      "cell_type": "markdown",
      "source": [
        "## [1] Dataframe and csv file\n",
        "\n",
        "DataFrame is a 2-dimensional labeled data structure with columns of potentially different types. You can think of it like a spreadsheet (e.g., csv file in Excel).\n",
        "\n",
        "![](https://github.com/MK316/workshop22/raw/main/img/csv.png)"
      ],
      "metadata": {
        "id": "uZ6NQNZvH1MJ"
      }
    },
    {
      "cell_type": "markdown",
      "source": [
        "Read a CSV file\n",
        "\n",
        "💾 "
      ],
      "metadata": {
        "id": "EErYu9JpKhKH"
      }
    },
    {
      "cell_type": "code",
      "source": [
        "%pwd"
      ],
      "metadata": {
        "colab": {
          "base_uri": "https://localhost:8080/",
          "height": 35
        },
        "id": "cAJbjkI8Mbw0",
        "outputId": "aa32da12-0d39-4c2e-b05b-c274fd5b4a6e"
      },
      "execution_count": null,
      "outputs": [
        {
          "output_type": "execute_result",
          "data": {
            "text/plain": [
              "'/content'"
            ],
            "application/vnd.google.colaboratory.intrinsic+json": {
              "type": "string"
            }
          },
          "metadata": {},
          "execution_count": 3
        }
      ]
    }
  ]
}