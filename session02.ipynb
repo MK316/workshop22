{
  "nbformat": 4,
  "nbformat_minor": 0,
  "metadata": {
    "colab": {
      "name": "session02.ipynb",
      "provenance": [],
      "include_colab_link": true
    },
    "kernelspec": {
      "name": "python3",
      "display_name": "Python 3"
    },
    "language_info": {
      "name": "python"
    }
  },
  "cells": [
    {
      "cell_type": "markdown",
      "metadata": {
        "id": "view-in-github",
        "colab_type": "text"
      },
      "source": [
        "<a href=\"https://colab.research.google.com/github/MK316/workshop22/blob/main/session02.ipynb\" target=\"_parent\"><img src=\"https://colab.research.google.com/assets/colab-badge.svg\" alt=\"Open In Colab\"/></a>"
      ]
    },
    {
      "cell_type": "markdown",
      "source": [
        "# 💦 **Session 02** Natural Language Processing\n",
        "\n",
        "<**Table of Contents**>\n",
        "\n",
        "1. Text file handing: e.g., reading text files\n",
        "2. {nltk} package: e.g., tokenize, sentences, stemming, lemmatizing\n",
        "3. Frequency analysis: e.g., Frequency table\n",
        "4. POS tagging: e.g., parts of speech (grammatical categories)\n",
        "5. Collocation, N-gram: e.g., sequences of words\n",
        "6. Concordance: e.g., words in context\n",
        "7. Lexical Diversity: e.g., Frequently used TTR measures\n",
        "\n",
        "📘 [About nltk texts](https://www.nltk.org/book/ch02.html)"
      ],
      "metadata": {
        "id": "vTdVhahZHDsx"
      }
    },
    {
      "cell_type": "markdown",
      "source": [
        "##🔰 [1] Text file handling\n",
        "* Getting texts as Input(), reading/saving files, text length "
      ],
      "metadata": {
        "id": "w2Zjwz2vHjUu"
      }
    },
    {
      "cell_type": "markdown",
      "source": [
        "Sample text: Aesop fable\n",
        "[File link](https://raw.githubusercontent.com/MK316/workshop22/main/data/TheHeron.txt)"
      ],
      "metadata": {
        "id": "D2D8ewoDM7jM"
      }
    },
    {
      "cell_type": "code",
      "source": [
        "# 1) Copy and paste text\n",
        "\n",
        "mytext = input()"
      ],
      "metadata": {
        "colab": {
          "base_uri": "https://localhost:8080/"
        },
        "id": "tJ-FT94CSlXy",
        "outputId": "44e00489-6021-436f-f22d-70fc94e90558"
      },
      "execution_count": 7,
      "outputs": [
        {
          "name": "stdout",
          "output_type": "stream",
          "text": [
            "A Heron was walking sedately along the bank of a stream, his eyes on the clear water, and his long neck and pointed bill ready to snap up a likely morsel for his breakfast. The clear water swarmed with fish, but Master Heron was hard to please that morning. \"No small fry for me,\" he said. \"Such scanty fare is not fit for a Heron. \"Now a fine young Perch swam near. \"No indeed,\" said the Heron. \"I wouldn't even trouble to open my beak for anything like that!\" As the sun rose, the fish left the shallow water near the shore and swam below into the cool depths toward the middle. The Heron saw no more fish, and very glad was he at last to breakfast on a tiny Snail. Do not be too hard to suit or you may have to be content with the worst or with nothing at all. [ ]\n"
          ]
        }
      ]
    },
    {
      "cell_type": "code",
      "source": [
        "# 2) Assign text as a variable\n",
        "# \\ for line break (this isn't included in the text)\n",
        "mytext1 = \"\"\"\n",
        "A Heron was walking sedately along the bank of a stream, \\\n",
        "his eyes on the clear water, and his long neck and pointed bill ready to snap up a likely morsel for his breakfast. \\\n",
        "The clear water swarmed with fish, but Master Heron was hard to please that morning. \\\n",
        "\"No small fry for me,\" he said. \"Such scanty fare is not fit for a Heron. \\\n",
        "\"Now a fine young Perch swam near. \"No indeed,\" said the Heron. \\\n",
        "\"I wouldn't even trouble to open my beak for anything like that!\" \\\n",
        "As the sun rose, the fish left the shallow water near the shore and swam below into the cool depths toward the middle. \\\n",
        "The Heron saw no more fish, and very glad was he at last to breakfast on a tiny Snail. \\\n",
        "Do not be too hard to suit or you may have to be content with the worst or with nothing at all.\n",
        "\"\"\""
      ],
      "metadata": {
        "id": "uDc7G6kbM5XG"
      },
      "execution_count": null,
      "outputs": []
    },
    {
      "cell_type": "code",
      "source": [
        "# Write text data as file: will save it on Colab\n",
        "\n",
        "with open('TheHeron.txt', 'w') as file: # 'w' creates a new file\n",
        "    file.write(mytext) "
      ],
      "metadata": {
        "id": "pWSi_8DyQ6CW"
      },
      "execution_count": 8,
      "outputs": []
    },
    {
      "cell_type": "code",
      "source": [
        "# Read text file uploaded on Colab\n",
        "\n",
        "with open('TheHeron.txt','r') as file: # 'r' reads a file\n",
        "  text = file.read()\n",
        "  file.close()\n",
        "print(text)"
      ],
      "metadata": {
        "id": "mwlcAnrhPqJV",
        "colab": {
          "base_uri": "https://localhost:8080/"
        },
        "outputId": "d048b4f2-f19f-41d2-eb96-b77d540774fe"
      },
      "execution_count": 9,
      "outputs": [
        {
          "output_type": "stream",
          "name": "stdout",
          "text": [
            "A Heron was walking sedately along the bank of a stream, his eyes on the clear water, and his long neck and pointed bill ready to snap up a likely morsel for his breakfast. The clear water swarmed with fish, but Master Heron was hard to please that morning. \"No small fry for me,\" he said. \"Such scanty fare is not fit for a Heron. \"Now a fine young Perch swam near. \"No indeed,\" said the Heron. \"I wouldn't even trouble to open my beak for anything like that!\" As the sun rose, the fish left the shallow water near the shore and swam below into the cool depths toward the middle. The Heron saw no more fish, and very glad was he at last to breakfast on a tiny Snail. Do not be too hard to suit or you may have to be content with the worst or with nothing at all. [ ]\n"
          ]
        }
      ]
    },
    {
      "cell_type": "code",
      "source": [
        "# length of string\n",
        "len(text)"
      ],
      "metadata": {
        "colab": {
          "base_uri": "https://localhost:8080/"
        },
        "id": "gbdT8X24NmcC",
        "outputId": "1fd769fb-8e21-4323-b7c4-bf4e3412c521"
      },
      "execution_count": 10,
      "outputs": [
        {
          "output_type": "execute_result",
          "data": {
            "text/plain": [
              "767"
            ]
          },
          "metadata": {},
          "execution_count": 10
        }
      ]
    },
    {
      "cell_type": "code",
      "source": [
        "# From start to nth string in the text\n",
        "text[:10]"
      ],
      "metadata": {
        "colab": {
          "base_uri": "https://localhost:8080/",
          "height": 35
        },
        "id": "PCGtjH-dRxFG",
        "outputId": "0063fe2a-dd4f-44f5-bd0d-9ed7ea3131c0"
      },
      "execution_count": 11,
      "outputs": [
        {
          "output_type": "execute_result",
          "data": {
            "text/plain": [
              "'A Heron wa'"
            ],
            "application/vnd.google.colaboratory.intrinsic+json": {
              "type": "string"
            }
          },
          "metadata": {},
          "execution_count": 11
        }
      ]
    },
    {
      "cell_type": "markdown",
      "source": [
        "\\> split text by space and join with space"
      ],
      "metadata": {
        "id": "2JFZaU5JbCR3"
      }
    },
    {
      "cell_type": "code",
      "source": [
        "sample = \"Hello, I'm learning Python and it has been very fun.\""
      ],
      "metadata": {
        "id": "MptCbfSma-QR"
      },
      "execution_count": 12,
      "outputs": []
    },
    {
      "cell_type": "markdown",
      "source": [
        "```\n",
        "⬇️ text.split() #split text by space (punctuation is included)\n",
        "```"
      ],
      "metadata": {
        "id": "-sun1Yyga-QS"
      }
    },
    {
      "cell_type": "code",
      "source": [
        "wordlist = sample.split()\n",
        "print(wordlist)"
      ],
      "metadata": {
        "colab": {
          "base_uri": "https://localhost:8080/"
        },
        "outputId": "5cab6d7b-da2a-4791-903b-4066e408dee3",
        "id": "TKocynPMa-QS"
      },
      "execution_count": 13,
      "outputs": [
        {
          "output_type": "stream",
          "name": "stdout",
          "text": [
            "['Hello,', \"I'm\", 'learning', 'Python', 'and', 'it', 'has', 'been', 'very', 'fun.']\n"
          ]
        }
      ]
    },
    {
      "cell_type": "markdown",
      "source": [
        "```\n",
        "⬇️ ' '.join(text.split())  # combine split words by space \n",
        "```"
      ],
      "metadata": {
        "id": "RZeMGPTba-QT"
      }
    },
    {
      "cell_type": "code",
      "source": [
        "' '.join(wordlist)"
      ],
      "metadata": {
        "colab": {
          "base_uri": "https://localhost:8080/",
          "height": 35
        },
        "outputId": "3cd131f5-c436-46a7-ba49-99b3eb777cff",
        "id": "TkMcfqrPa-QT"
      },
      "execution_count": 14,
      "outputs": [
        {
          "output_type": "execute_result",
          "data": {
            "text/plain": [
              "\"Hello, I'm learning Python and it has been very fun.\""
            ],
            "application/vnd.google.colaboratory.intrinsic+json": {
              "type": "string"
            }
          },
          "metadata": {},
          "execution_count": 14
        }
      ]
    },
    {
      "cell_type": "markdown",
      "source": [
        "##🔰 [2] {nltk} package: Natural Language Toolkit\n",
        "\n",
        "\\- Natural language processing (NLP) is a field that focuses on making natural human language usable by computer programs. NLTK, or Natural Language Toolkit, is a Python package that you can use for NLP.\n",
        "\n",
        "* import {nltk}\n",
        "* Tokenize by words and sentences\n",
        "* Split text\n",
        "* Filtering stopwords\n",
        "\n",
        "\n",
        "📘 [Source link: webpage](https://realpython.com/nltk-nlp-python/#:~:text=NLTK%2C%20or%20Natural%20Language%20Toolkit,first%20need%20to%20preprocess%20it.)\n",
        "\n"
      ],
      "metadata": {
        "id": "6m_o3y6IHmBk"
      }
    },
    {
      "cell_type": "markdown",
      "source": [
        "### **import packages**\n",
        "\n",
        "📒 Tokenizing by word, Tokenizing by sentence"
      ],
      "metadata": {
        "id": "4hKtg-C7VCN8"
      }
    },
    {
      "cell_type": "code",
      "source": [
        "import nltk\n",
        "from nltk.tokenize import sent_tokenize, word_tokenize\n",
        "nltk.download('punkt')"
      ],
      "metadata": {
        "colab": {
          "base_uri": "https://localhost:8080/"
        },
        "id": "YE9njbHTUIg-",
        "outputId": "af62377f-ebd8-4c71-eca7-ee336d8f5933"
      },
      "execution_count": 15,
      "outputs": [
        {
          "output_type": "stream",
          "name": "stdout",
          "text": [
            "[nltk_data] Downloading package punkt to /root/nltk_data...\n",
            "[nltk_data]   Unzipping tokenizers/punkt.zip.\n"
          ]
        },
        {
          "output_type": "execute_result",
          "data": {
            "text/plain": [
              "True"
            ]
          },
          "metadata": {},
          "execution_count": 15
        }
      ]
    },
    {
      "cell_type": "code",
      "source": [
        "# text with TheHeron.txt (mytext)\n",
        "print(mytext)\n",
        "\n",
        "# Tokenize by words and sentences\n",
        "sents = sent_tokenize(mytext)\n",
        "words = word_tokenize(mytext)\n",
        "\n",
        "# Print the results\n",
        "print('Number of sentences: %d'%len(sents),type(sents))\n",
        "print('Number of words: %d'%len(words),type(words))"
      ],
      "metadata": {
        "colab": {
          "base_uri": "https://localhost:8080/"
        },
        "id": "3dPIFrXaVBz0",
        "outputId": "97c67f41-63fc-4093-b9fa-a704a6dacd41"
      },
      "execution_count": 16,
      "outputs": [
        {
          "output_type": "stream",
          "name": "stdout",
          "text": [
            "A Heron was walking sedately along the bank of a stream, his eyes on the clear water, and his long neck and pointed bill ready to snap up a likely morsel for his breakfast. The clear water swarmed with fish, but Master Heron was hard to please that morning. \"No small fry for me,\" he said. \"Such scanty fare is not fit for a Heron. \"Now a fine young Perch swam near. \"No indeed,\" said the Heron. \"I wouldn't even trouble to open my beak for anything like that!\" As the sun rose, the fish left the shallow water near the shore and swam below into the cool depths toward the middle. The Heron saw no more fish, and very glad was he at last to breakfast on a tiny Snail. Do not be too hard to suit or you may have to be content with the worst or with nothing at all. [ ]\n",
            "Number of sentences: 11 <class 'list'>\n",
            "Number of words: 181 <class 'list'>\n"
          ]
        }
      ]
    },
    {
      "cell_type": "markdown",
      "source": [
        "📒 \\> word_tokenize(data)  \n",
        "punctuations are separate items"
      ],
      "metadata": {
        "id": "cVtGJVXfbUfN"
      }
    },
    {
      "cell_type": "code",
      "source": [
        "sample = \"Hello, I'm learning Python and it has been very fun.\"\n",
        "samplewords = word_tokenize(sample); samplewords"
      ],
      "metadata": {
        "id": "T6rt8rPebUfO",
        "colab": {
          "base_uri": "https://localhost:8080/"
        },
        "outputId": "c709fdfa-38a7-4c09-c878-a7871dc454fd"
      },
      "execution_count": 17,
      "outputs": [
        {
          "output_type": "execute_result",
          "data": {
            "text/plain": [
              "['Hello',\n",
              " ',',\n",
              " 'I',\n",
              " \"'m\",\n",
              " 'learning',\n",
              " 'Python',\n",
              " 'and',\n",
              " 'it',\n",
              " 'has',\n",
              " 'been',\n",
              " 'very',\n",
              " 'fun',\n",
              " '.']"
            ]
          },
          "metadata": {},
          "execution_count": 17
        }
      ]
    },
    {
      "cell_type": "markdown",
      "source": [
        "📒 \\> tokenize with regular expressions\n",
        "e.g., remove punctuations"
      ],
      "metadata": {
        "id": "qmFkPxLibUfO"
      }
    },
    {
      "cell_type": "code",
      "source": [
        "from nltk.tokenize import RegexpTokenizer\n",
        "retokenize =RegexpTokenizer(\"[\\w]+\")\n",
        "words = retokenize.tokenize(sample)\n",
        "words"
      ],
      "metadata": {
        "id": "o_Y6U1a-bUfP",
        "colab": {
          "base_uri": "https://localhost:8080/"
        },
        "outputId": "508c4d35-6ba1-4bfd-eebf-083588b64ce2"
      },
      "execution_count": 18,
      "outputs": [
        {
          "output_type": "execute_result",
          "data": {
            "text/plain": [
              "['Hello',\n",
              " 'I',\n",
              " 'm',\n",
              " 'learning',\n",
              " 'Python',\n",
              " 'and',\n",
              " 'it',\n",
              " 'has',\n",
              " 'been',\n",
              " 'very',\n",
              " 'fun']"
            ]
          },
          "metadata": {},
          "execution_count": 18
        }
      ]
    },
    {
      "cell_type": "markdown",
      "source": [
        "📒 \\> tokenize with regular expressions\n",
        "e.g., remove punctuations"
      ],
      "metadata": {
        "id": "Fcr84nQ_bfa5"
      }
    },
    {
      "cell_type": "code",
      "source": [
        "from nltk.tokenize import RegexpTokenizer\n",
        "retokenize =RegexpTokenizer(\"[\\w]+\")\n",
        "words = retokenize.tokenize(sample)\n",
        "words"
      ],
      "metadata": {
        "id": "V9Ercgbzbfa5",
        "colab": {
          "base_uri": "https://localhost:8080/"
        },
        "outputId": "29bbcd49-3c31-4ddf-cc13-3b764ed50c65"
      },
      "execution_count": 19,
      "outputs": [
        {
          "output_type": "execute_result",
          "data": {
            "text/plain": [
              "['Hello',\n",
              " 'I',\n",
              " 'm',\n",
              " 'learning',\n",
              " 'Python',\n",
              " 'and',\n",
              " 'it',\n",
              " 'has',\n",
              " 'been',\n",
              " 'very',\n",
              " 'fun']"
            ]
          },
          "metadata": {},
          "execution_count": 19
        }
      ]
    },
    {
      "cell_type": "markdown",
      "source": [
        "### **Filtering stop words**\n",
        "\n",
        "Stop words are _**words that you want to ignore,**_ so you filter them out of your text when you’re processing it. Very common words like 'in', 'is', and 'an' are often used as stop words since they don’t add a lot of meaning to a text in and of themselves."
      ],
      "metadata": {
        "id": "lmhBUzeXWfAl"
      }
    },
    {
      "cell_type": "code",
      "source": [
        "# import stopwords from nltk.corpus\n",
        "\n",
        "from nltk.corpus import stopwords\n",
        "nltk.download(\"stopwords\")"
      ],
      "metadata": {
        "colab": {
          "base_uri": "https://localhost:8080/"
        },
        "id": "ViCFL152WWWW",
        "outputId": "e346679c-1b06-4ffd-b1fe-51ba7b19ee04"
      },
      "execution_count": 20,
      "outputs": [
        {
          "output_type": "stream",
          "name": "stdout",
          "text": [
            "[nltk_data] Downloading package stopwords to /root/nltk_data...\n",
            "[nltk_data]   Unzipping corpora/stopwords.zip.\n"
          ]
        },
        {
          "output_type": "execute_result",
          "data": {
            "text/plain": [
              "True"
            ]
          },
          "metadata": {},
          "execution_count": 20
        }
      ]
    },
    {
      "cell_type": "code",
      "source": [
        "sample = \"Hello, I'm learning Python and it has been very fun.\""
      ],
      "metadata": {
        "id": "I89xsXiHctCN"
      },
      "execution_count": 21,
      "outputs": []
    },
    {
      "cell_type": "code",
      "source": [
        "from nltk.tokenize import RegexpTokenizer\n",
        "retokenize =RegexpTokenizer(\"[\\w]+\")\n",
        "words = retokenize.tokenize(sample)\n",
        "words"
      ],
      "metadata": {
        "id": "u5ZgooZ2dK-U",
        "colab": {
          "base_uri": "https://localhost:8080/"
        },
        "outputId": "1b0d410a-8bcf-4c8d-a91d-c376387d12de"
      },
      "execution_count": 22,
      "outputs": [
        {
          "output_type": "execute_result",
          "data": {
            "text/plain": [
              "['Hello',\n",
              " 'I',\n",
              " 'm',\n",
              " 'learning',\n",
              " 'Python',\n",
              " 'and',\n",
              " 'it',\n",
              " 'has',\n",
              " 'been',\n",
              " 'very',\n",
              " 'fun']"
            ]
          },
          "metadata": {},
          "execution_count": 22
        }
      ]
    },
    {
      "cell_type": "code",
      "source": [
        "words = [w for w in words if not w in stopwords.words('english')]\n",
        "print(words)"
      ],
      "metadata": {
        "colab": {
          "base_uri": "https://localhost:8080/"
        },
        "id": "6gaI1_5yW-CI",
        "outputId": "eefebbe9-977b-4eeb-f42e-42ebb5e3eeec"
      },
      "execution_count": 23,
      "outputs": [
        {
          "output_type": "stream",
          "name": "stdout",
          "text": [
            "['Hello', 'I', 'learning', 'Python', 'fun']\n"
          ]
        }
      ]
    },
    {
      "cell_type": "code",
      "source": [
        " #@markdown 📕 Add new words to the stopword list\n",
        "stop_words = set(stopwords.words(\"english\"))\n",
        "\n",
        "#add words that aren't in the NLTK stopwords list\n",
        "new_stopwords = ['I']\n",
        "new_stopwords_list = stop_words.union(new_stopwords)\n",
        "\n",
        "print(new_stopwords_list)"
      ],
      "metadata": {
        "cellView": "form",
        "id": "rPFt8zFldv6U",
        "colab": {
          "base_uri": "https://localhost:8080/"
        },
        "outputId": "a0927f30-d2f7-4ed9-e6a3-62684e86fe72"
      },
      "execution_count": 24,
      "outputs": [
        {
          "output_type": "stream",
          "name": "stdout",
          "text": [
            "{'won', 'over', \"couldn't\", 'about', 're', 'mightn', 'because', 'off', 'yourself', 'after', 'above', 'wouldn', 'yours', 'both', 'too', 'mustn', 'theirs', 'during', 'other', 'wasn', 'has', 'itself', 'and', 'she', 'its', 'into', 'can', 'didn', 'again', 'yourselves', 'more', 'your', 'such', \"shouldn't\", 'below', 'under', 'to', 's', 'are', 'ma', 'for', 'no', 'himself', 'we', 'out', \"isn't\", \"you'll\", 'having', \"hasn't\", 'did', 'shouldn', 'shan', 'ain', 'once', 'y', 'i', 'hadn', 'were', 'a', 'most', 'them', 'which', 'as', 'at', 'same', 'whom', \"that'll\", 'being', 'haven', 'not', 'of', \"it's\", 'only', \"mustn't\", \"shan't\", 'you', 'the', 'myself', 'doing', 'how', 'very', 'him', 'until', 'isn', 'that', 'against', 'each', 'couldn', 'be', 'weren', 'on', 'll', 'hasn', 'few', 'by', 'just', 'was', 'his', 'up', 'or', 'an', 'before', 'some', 'ours', 'd', 'than', 'should', 'hers', 'why', 'o', \"won't\", 'am', \"wasn't\", \"didn't\", 'if', 'it', 'herself', 'these', 'but', 'through', 'from', 'nor', \"should've\", 'm', \"needn't\", 'between', 'what', \"don't\", \"haven't\", 'do', 'all', 'so', 'had', 'those', 'he', \"she's\", \"you'd\", 'does', 'here', 'where', 'don', 'they', 't', 'I', 'doesn', 'me', 'will', 'is', 'further', \"you're\", 'themselves', \"weren't\", 'any', 've', \"wouldn't\", \"mightn't\", 'down', 'who', 'aren', 'been', 'their', 'there', 'own', 'then', 'ourselves', 'this', 'have', \"hadn't\", 'my', 'needn', 'in', \"doesn't\", \"aren't\", \"you've\", 'with', 'her', 'when', 'while', 'our', 'now'}\n"
          ]
        }
      ]
    },
    {
      "cell_type": "code",
      "source": [
        "#@markdown Tokenized words after filtering new stop words:\n",
        "\n",
        "words = [w for w in words if not w in new_stopwords_list]\n",
        "print(words)"
      ],
      "metadata": {
        "cellView": "form",
        "id": "OcBBaM-Cd3u8",
        "colab": {
          "base_uri": "https://localhost:8080/"
        },
        "outputId": "6c07b0c9-297d-48c2-9da5-ab2918bf15b2"
      },
      "execution_count": 25,
      "outputs": [
        {
          "output_type": "stream",
          "name": "stdout",
          "text": [
            "['Hello', 'learning', 'Python', 'fun']\n"
          ]
        }
      ]
    },
    {
      "cell_type": "markdown",
      "source": [
        "### **Stemming & Lemmatizing**\n",
        "\n",
        "\"Stemming is a text processing task in which you reduce words to their root, which is the core part of a word. For example, the words “helping” and “helper” share the root “help.” Stemming allows you to zero in on the basic meaning of a word rather than all the details of how it’s being used.\" [source link](https://realpython.com/nltk-nlp-python/)\n",
        "\n",
        "* Stemming: am ➜ am, having ➜ hav, the going ➜ the go\n",
        "* Lemmatizing: (am ➜ be or am), having ➜ have, the going ➜ the going"
      ],
      "metadata": {
        "id": "6RzaBg8gh0EQ"
      }
    },
    {
      "cell_type": "markdown",
      "source": [
        "📗 **PorterStemmer**"
      ],
      "metadata": {
        "id": "b1z3UL95kH7I"
      }
    },
    {
      "cell_type": "code",
      "source": [
        "from nltk.stem import PorterStemmer\n",
        "from nltk.tokenize import word_tokenize\n",
        "\n",
        "stemmer = PorterStemmer()"
      ],
      "metadata": {
        "id": "XvK4awzthz8J"
      },
      "execution_count": 26,
      "outputs": []
    },
    {
      "cell_type": "code",
      "source": [
        "sample = \"Good morning. Helping others is one of the greatest things that humans can do.\""
      ],
      "metadata": {
        "id": "TP1bRs5ViSFe"
      },
      "execution_count": 27,
      "outputs": []
    },
    {
      "cell_type": "code",
      "source": [
        "words = word_tokenize(sample)\n",
        "words = [w for w in words if len(w) > 1] # punctuation only items are removed.\n",
        "print(words)"
      ],
      "metadata": {
        "colab": {
          "base_uri": "https://localhost:8080/"
        },
        "id": "TdtGTz5Zii_g",
        "outputId": "6c220ad0-8709-4d73-da1e-8c2e30119d64"
      },
      "execution_count": 28,
      "outputs": [
        {
          "output_type": "stream",
          "name": "stdout",
          "text": [
            "['Good', 'morning', 'Helping', 'others', 'is', 'one', 'of', 'the', 'greatest', 'things', 'that', 'humans', 'can', 'do']\n"
          ]
        }
      ]
    },
    {
      "cell_type": "code",
      "source": [
        "stemmed_words = [stemmer.stem(w) for w in words]\n",
        "stemmed_words\n",
        "# Problems: morning > morn"
      ],
      "metadata": {
        "id": "F6Sf1wJMi2ij",
        "colab": {
          "base_uri": "https://localhost:8080/"
        },
        "outputId": "6c0fb09a-b6d2-41a4-914f-279defe8b105"
      },
      "execution_count": 29,
      "outputs": [
        {
          "output_type": "execute_result",
          "data": {
            "text/plain": [
              "['good',\n",
              " 'morn',\n",
              " 'help',\n",
              " 'other',\n",
              " 'is',\n",
              " 'one',\n",
              " 'of',\n",
              " 'the',\n",
              " 'greatest',\n",
              " 'thing',\n",
              " 'that',\n",
              " 'human',\n",
              " 'can',\n",
              " 'do']"
            ]
          },
          "metadata": {},
          "execution_count": 29
        }
      ]
    },
    {
      "cell_type": "markdown",
      "source": [
        "📗 **LancasterStemmer**"
      ],
      "metadata": {
        "id": "g90maaJvkOso"
      }
    },
    {
      "cell_type": "code",
      "source": [
        "from nltk.stem import LancasterStemmer\n",
        "Lstemmer = LancasterStemmer()"
      ],
      "metadata": {
        "id": "MENd-SeDkEu5"
      },
      "execution_count": 30,
      "outputs": []
    },
    {
      "cell_type": "code",
      "source": [
        "stemmed_words = [Lstemmer.stem(w) for w in words]\n",
        "stemmed_words\n",
        "# Problems: morning > morn, others > oth"
      ],
      "metadata": {
        "colab": {
          "base_uri": "https://localhost:8080/"
        },
        "id": "fQTszTd2kZ9K",
        "outputId": "b9152b1b-3575-489f-c5e8-9369a985da70"
      },
      "execution_count": 31,
      "outputs": [
        {
          "output_type": "execute_result",
          "data": {
            "text/plain": [
              "['good',\n",
              " 'morn',\n",
              " 'help',\n",
              " 'oth',\n",
              " 'is',\n",
              " 'on',\n",
              " 'of',\n",
              " 'the',\n",
              " 'greatest',\n",
              " 'thing',\n",
              " 'that',\n",
              " 'hum',\n",
              " 'can',\n",
              " 'do']"
            ]
          },
          "metadata": {},
          "execution_count": 31
        }
      ]
    },
    {
      "cell_type": "markdown",
      "source": [
        "📗 **WordNetLemmatizer**"
      ],
      "metadata": {
        "id": "4jC5B8Ylk0Bk"
      }
    },
    {
      "cell_type": "code",
      "source": [
        "sample = \"I am learning Python.\"\n",
        "words = word_tokenize(sample)"
      ],
      "metadata": {
        "id": "2dFTp330sg9u"
      },
      "execution_count": 32,
      "outputs": []
    },
    {
      "cell_type": "code",
      "source": [
        "from nltk.stem import WordNetLemmatizer\n",
        "nltk.download('wordnet')\n",
        "\n",
        "Wstemmer = WordNetLemmatizer()"
      ],
      "metadata": {
        "colab": {
          "base_uri": "https://localhost:8080/"
        },
        "id": "9AU8WxnFkzqu",
        "outputId": "320b2d80-14ef-41d0-82d3-35be49aaaf2f"
      },
      "execution_count": 33,
      "outputs": [
        {
          "output_type": "stream",
          "name": "stdout",
          "text": [
            "[nltk_data] Downloading package wordnet to /root/nltk_data...\n",
            "[nltk_data]   Unzipping corpora/wordnet.zip.\n"
          ]
        }
      ]
    },
    {
      "cell_type": "code",
      "source": [
        "Wlemmatized_words = [Wstemmer.lemmatize(w) for w in words]\n",
        "Wlemmatized_words\n",
        "\n",
        "# morning, others > okay!"
      ],
      "metadata": {
        "colab": {
          "base_uri": "https://localhost:8080/"
        },
        "id": "zGXVh82wlFCi",
        "outputId": "0223bf5b-efc8-4c8e-d1ce-6acfbeddeaa9"
      },
      "execution_count": 34,
      "outputs": [
        {
          "output_type": "execute_result",
          "data": {
            "text/plain": [
              "['I', 'am', 'learning', 'Python', '.']"
            ]
          },
          "metadata": {},
          "execution_count": 34
        }
      ]
    },
    {
      "cell_type": "markdown",
      "source": [
        "📗 **Snowball stemmer**"
      ],
      "metadata": {
        "id": "w9Q4j5Esj0if"
      }
    },
    {
      "cell_type": "code",
      "source": [
        "import nltk\n",
        "snow = nltk.stem.SnowballStemmer('english')\n",
        "lanca = nltk.stem.LancasterStemmer()\n",
        "porter = nltk.stem.PorterStemmer()\n",
        "wordnet = nltk.WordNetLemmatizer()"
      ],
      "metadata": {
        "id": "32kvXzSrmuAa"
      },
      "execution_count": 35,
      "outputs": []
    },
    {
      "cell_type": "markdown",
      "source": [
        "## Stemmer comparison"
      ],
      "metadata": {
        "id": "Vrxr1e7Zoi4m"
      }
    },
    {
      "cell_type": "code",
      "source": [
        "#@markdown 🚩 Stemmer, Lemmatizer comparison: Snow(S), Lancaster(S), Porter(S), WordNet(L) \n",
        "def stemming(x):\n",
        "  print('Snow (S): ', snow.stem(x))\n",
        "  print('Lancaster (S): ',lanca.stem(x))\n",
        "  print('Porter (S): ', porter.stem(x))\n",
        "  print('WordNet (L): ', wordnet.lemmatize(x))\n",
        "\n",
        "word = input()\n",
        "stemming(word)"
      ],
      "metadata": {
        "colab": {
          "base_uri": "https://localhost:8080/"
        },
        "cellView": "form",
        "id": "ETSW73rsmwir",
        "outputId": "727ef878-e273-4a58-85fc-76a0f898f956"
      },
      "execution_count": 36,
      "outputs": [
        {
          "output_type": "stream",
          "name": "stdout",
          "text": [
            "going\n",
            "Snow (S):  go\n",
            "Lancaster (S):  going\n",
            "Porter (S):  go\n",
            "WordNet (L):  going\n"
          ]
        }
      ]
    },
    {
      "cell_type": "markdown",
      "source": [
        "---\n",
        "##🔰 [3] Frequency distribution"
      ],
      "metadata": {
        "id": "YdtMdEOzHr_O"
      }
    },
    {
      "cell_type": "markdown",
      "source": [
        "### **Frequency information of words**\n",
        "\n",
        "\"The word frequency effect refers to the observation that high-frequency words are processed more efficiently than low-frequency words.\" [source link](https://journals.sagepub.com/doi/10.1177/0963721417727521)\n",
        "\n",
        "* Getting word frequency\n",
        "* Save frequency table as csv format"
      ],
      "metadata": {
        "id": "i8biCyplfmha"
      }
    },
    {
      "cell_type": "markdown",
      "source": [
        "💾  [text link](https://raw.githubusercontent.com/MK316/workshop22/main/data/TheHeron.txt)"
      ],
      "metadata": {
        "id": "um-97lJ8voEY"
      }
    },
    {
      "cell_type": "code",
      "source": [
        "# Prepare text to analyze: copy the text from the link above and paste it in the box\n",
        "mytext = input()\n",
        "words = retokenize.tokenize(mytext)"
      ],
      "metadata": {
        "colab": {
          "base_uri": "https://localhost:8080/"
        },
        "id": "raonCZlrglo2",
        "outputId": "81f06cbc-7262-42ff-9fb4-cd9954774864"
      },
      "execution_count": 37,
      "outputs": [
        {
          "name": "stdout",
          "output_type": "stream",
          "text": [
            "going to school\n"
          ]
        }
      ]
    },
    {
      "cell_type": "markdown",
      "source": [
        "💎 **Wordcloud**"
      ],
      "metadata": {
        "id": "STrrpoDgwna6"
      }
    },
    {
      "cell_type": "code",
      "source": [
        "from wordcloud import WordCloud, STOPWORDS\n",
        "import matplotlib.pyplot as plt\n",
        "\n",
        "wc = WordCloud().generate(mytext) \n",
        "plt.imshow(wc)"
      ],
      "metadata": {
        "colab": {
          "base_uri": "https://localhost:8080/",
          "height": 237
        },
        "id": "Ixt4LA8KwrqE",
        "outputId": "3d23f8c5-75cd-4a41-e45a-5dd6445be6e5"
      },
      "execution_count": 38,
      "outputs": [
        {
          "output_type": "execute_result",
          "data": {
            "text/plain": [
              "<matplotlib.image.AxesImage at 0x7f74d676c910>"
            ]
          },
          "metadata": {},
          "execution_count": 38
        },
        {
          "output_type": "display_data",
          "data": {
            "text/plain": [
              "<Figure size 432x288 with 1 Axes>"
            ],
            "image/png": "[encoded data removed]"
          },
          "metadata": {
            "needs_background": "light"
          }
        }
      ]
    },
    {
      "cell_type": "markdown",
      "source": [
        "💎 **Frequency distribution**"
      ],
      "metadata": {
        "id": "ORnXw1-Ezkp8"
      }
    },
    {
      "cell_type": "code",
      "source": [
        "# Frequency distribution\n",
        "fd = nltk.FreqDist(words).most_common(10)\n",
        "fd"
      ],
      "metadata": {
        "colab": {
          "base_uri": "https://localhost:8080/"
        },
        "id": "Vsi4NT4vvy4o",
        "outputId": "a2a07a41-c529-495f-a53a-6b1e5c2ce53c"
      },
      "execution_count": 39,
      "outputs": [
        {
          "output_type": "execute_result",
          "data": {
            "text/plain": [
              "[('going', 1), ('to', 1), ('school', 1)]"
            ]
          },
          "metadata": {},
          "execution_count": 39
        }
      ]
    },
    {
      "cell_type": "markdown",
      "source": [
        "💎 **Frequency plot**"
      ],
      "metadata": {
        "id": "D7nnA327zomt"
      }
    },
    {
      "cell_type": "code",
      "source": [
        "nltk.Text(words).plot(10)"
      ],
      "metadata": {
        "colab": {
          "base_uri": "https://localhost:8080/",
          "height": 301
        },
        "id": "VD23yJltxrho",
        "outputId": "0b789f89-668c-4ecb-d404-7a381970a6c4"
      },
      "execution_count": 40,
      "outputs": [
        {
          "output_type": "display_data",
          "data": {
            "text/plain": [
              "<Figure size 432x288 with 1 Axes>"
            ],
            "image/png": "[encoded data removed]"
          },
          "metadata": {
            "needs_background": "light"
          }
        }
      ]
    },
    {
      "cell_type": "markdown",
      "source": [
        "💎 **Dispersion plot (keywords)**"
      ],
      "metadata": {
        "id": "xEajJUCCzrio"
      }
    },
    {
      "cell_type": "code",
      "source": [
        "#Dispersion plot of keywords:\n",
        "\n",
        "nltk.Text(words).dispersion_plot(['Heron','water','fish'])"
      ],
      "metadata": {
        "colab": {
          "base_uri": "https://localhost:8080/",
          "height": 295
        },
        "id": "gACo-piyxS8X",
        "outputId": "803b6c82-6a4e-4c46-b23b-c1cbab8ade8b"
      },
      "execution_count": 41,
      "outputs": [
        {
          "output_type": "display_data",
          "data": {
            "text/plain": [
              "<Figure size 432x288 with 1 Axes>"
            ],
            "image/png": "[encoded data removed]"
          },
          "metadata": {
            "needs_background": "light"
          }
        }
      ]
    },
    {
      "cell_type": "markdown",
      "source": [
        "### 💎 Enlgish Dictionary\n",
        "\n",
        "Length: 235,886"
      ],
      "metadata": {
        "id": "fNXYCj71zyPU"
      }
    },
    {
      "cell_type": "code",
      "source": [
        "nltk.download('words')\n",
        "dictionary = nltk.corpus.words.words('en')\n",
        "\n",
        "dictionary[-10:-1] #(last 10 words)"
      ],
      "metadata": {
        "colab": {
          "base_uri": "https://localhost:8080/"
        },
        "id": "OibOOOemz8aH",
        "outputId": "59ae0f8b-f224-425d-ff49-b65ebfd9c495"
      },
      "execution_count": 42,
      "outputs": [
        {
          "output_type": "stream",
          "name": "stdout",
          "text": [
            "[nltk_data] Downloading package words to /root/nltk_data...\n",
            "[nltk_data]   Unzipping corpora/words.zip.\n"
          ]
        },
        {
          "output_type": "execute_result",
          "data": {
            "text/plain": [
              "['zymotoxic',\n",
              " 'zymurgy',\n",
              " 'Zyrenian',\n",
              " 'Zyrian',\n",
              " 'Zyryan',\n",
              " 'zythem',\n",
              " 'Zythia',\n",
              " 'zythum',\n",
              " 'Zyzomys']"
            ]
          },
          "metadata": {},
          "execution_count": 42
        }
      ]
    },
    {
      "cell_type": "code",
      "source": [
        "print(len(dictionary))\n",
        "print(type(dictionary))"
      ],
      "metadata": {
        "colab": {
          "base_uri": "https://localhost:8080/"
        },
        "id": "gv1AiqxP0L48",
        "outputId": "08999087-abfa-4942-f565-63bfa0247a1c"
      },
      "execution_count": 43,
      "outputs": [
        {
          "output_type": "stream",
          "name": "stdout",
          "text": [
            "235886\n",
            "<class 'list'>\n"
          ]
        }
      ]
    },
    {
      "cell_type": "code",
      "source": [
        "# Longest words in dictionary:\n",
        "\n",
        "res = max(dictionary, key = len)\n",
        "print(len(res))\n",
        "res"
      ],
      "metadata": {
        "colab": {
          "base_uri": "https://localhost:8080/",
          "height": 53
        },
        "id": "1tHZLJI80ts5",
        "outputId": "eb36407d-b5dd-4565-c12f-9cb618c215f0"
      },
      "execution_count": 44,
      "outputs": [
        {
          "output_type": "stream",
          "name": "stdout",
          "text": [
            "24\n"
          ]
        },
        {
          "output_type": "execute_result",
          "data": {
            "text/plain": [
              "'formaldehydesulphoxylate'"
            ],
            "application/vnd.google.colaboratory.intrinsic+json": {
              "type": "string"
            }
          },
          "metadata": {},
          "execution_count": 44
        }
      ]
    },
    {
      "cell_type": "code",
      "source": [
        "# Random word sample from dictionary\n",
        "import random\n",
        "\n",
        "random.sample(dictionary,5)"
      ],
      "metadata": {
        "colab": {
          "base_uri": "https://localhost:8080/"
        },
        "id": "zfqg2RUy2gqI",
        "outputId": "b75516d5-08d8-47a1-a7ef-817bc91dd745"
      },
      "execution_count": 45,
      "outputs": [
        {
          "output_type": "execute_result",
          "data": {
            "text/plain": [
              "['Santalaceae', 'gazzetta', 'semivocal', 'Plutarchical', 'Chlorellaceae']"
            ]
          },
          "metadata": {},
          "execution_count": 45
        }
      ]
    },
    {
      "cell_type": "markdown",
      "source": [
        "💎 **Regular Expression** {re}\n",
        "\n",
        "[Learn regular expression](https://www.w3schools.com/python/python_regex.asp)"
      ],
      "metadata": {
        "id": "f3mLCYYk4zcg"
      }
    },
    {
      "cell_type": "code",
      "source": [
        "# Extracting words that meet conditions using regular expression\n",
        "import re\n",
        "\n",
        "result = [w for w in dictionary if len(w) == 24]; result\n",
        "result = [w for w in dictionary if re.search('ed$',w)]; print(len(result))\n",
        "result = [w for w in dictionary if re.search('ches$',w)]; print(result)\n",
        "result = [w for w in dictionary if re.search('^[a, e, i, o, u, y].+',w)]; print(result[-10:-1])"
      ],
      "metadata": {
        "id": "-8aXa_wf18NA",
        "colab": {
          "base_uri": "https://localhost:8080/"
        },
        "outputId": "b256edba-d2b0-492b-edb7-8cca84c535cd"
      },
      "execution_count": 46,
      "outputs": [
        {
          "output_type": "stream",
          "name": "stdout",
          "text": [
            "9192\n",
            "['arches', 'breeches', 'carritches', 'cratches', 'gramoches', 'laches', 'leeches', 'Leiotriches', 'Lissotriches', 'Nachitoches', 'Natchitoches', 'overriches', 'riches', 'scratches', 'Ulotriches']\n",
            "['yuletide', 'yummy', 'yungan', 'yurt', 'yurta', 'yus', 'yusdrum', 'yutu', 'yuzlik']\n"
          ]
        }
      ]
    },
    {
      "cell_type": "markdown",
      "source": [
        "##🔰 [4] POS tagging (Part of Speech)\n",
        "\n",
        "* English text Tagging using the Corpus Toolkit [by Kristopher Kyle](\"https://github.com/kristopherkyle/corpus_toolkit\")\n",
        "\n",
        "---\n",
        "\n",
        "For a given text, we'll add POS tag to the text.  \n",
        "📍 install {corpus-toolkit}"
      ],
      "metadata": {
        "id": "VKJnk8rPHwEs"
      }
    },
    {
      "cell_type": "code",
      "source": [
        "%%capture\n",
        "!pip install corpus-toolkit"
      ],
      "metadata": {
        "id": "C68rEdbq8GTh"
      },
      "execution_count": 47,
      "outputs": []
    },
    {
      "cell_type": "markdown",
      "source": [
        "### **Step#1** Create a folder named 'txtdata'\n",
        "=> Corpus Toolkit processes files under a specified folder. So we create a folder and upload files in the given folder."
      ],
      "metadata": {
        "id": "kw9AqIDEuZGs"
      }
    },
    {
      "cell_type": "code",
      "source": [
        "import os\n",
        "os.mkdir(\"txtdata\")"
      ],
      "metadata": {
        "id": "F4IUkgrGuEQW"
      },
      "execution_count": 48,
      "outputs": []
    },
    {
      "cell_type": "markdown",
      "source": [
        "### **Step#2** File upload (on colab) under the 'txtdata' folder:\n",
        "e.g., DoveAndAnt.txt\n",
        "https://raw.githubusercontent.com/MK316/mynltkdata/main/data/DoveAndAnt.txt"
      ],
      "metadata": {
        "id": "pbQooI7rkQQP"
      }
    },
    {
      "cell_type": "markdown",
      "source": [
        "### Check current directory & change current directory if needed:\n",
        "\n",
        "---\n",
        "Current data location: /content/txtdata/DoveAndAnt.txt\n",
        "\n",
        "Current directory should be '/content'\n"
      ],
      "metadata": {
        "id": "eIAvf9qPs4DM"
      }
    },
    {
      "cell_type": "code",
      "source": [
        "!pwd\n",
        "# %cd /content/"
      ],
      "metadata": {
        "colab": {
          "base_uri": "https://localhost:8080/"
        },
        "id": "PV8OHtE2svsX",
        "outputId": "9a7fff74-24d0-46b2-9033-61304e22f775"
      },
      "execution_count": 49,
      "outputs": [
        {
          "output_type": "stream",
          "name": "stdout",
          "text": [
            "/content\n"
          ]
        }
      ]
    },
    {
      "cell_type": "code",
      "source": [
        "from corpus_toolkit import corpus_tools as ct\n",
        "\n",
        "brown_corp = ct.ldcorpus(\"txtdata\") #load and read text files under 'txtdata' directory\n",
        "tok_corp = ct.tokenize(brown_corp)  #tokenize corpus - by default this lemmatizes as well\n",
        "brown_freq = ct.frequency(tok_corp) #creates a frequency dictionary"
      ],
      "metadata": {
        "colab": {
          "base_uri": "https://localhost:8080/"
        },
        "id": "zeqch2yNmGM0",
        "outputId": "5bc3b877-31cf-43b1-8e6a-b19b36f3cea6"
      },
      "execution_count": 50,
      "outputs": [
        {
          "output_type": "stream",
          "name": "stdout",
          "text": [
            "No files found. There may be a problem with your working directory or your file search term.\n"
          ]
        }
      ]
    },
    {
      "cell_type": "markdown",
      "source": [
        "### **Step#3** Write a tagged file under '/content/tagged_txt'\n"
      ],
      "metadata": {
        "id": "R6RlPDadv0Tp"
      }
    },
    {
      "cell_type": "code",
      "source": [
        "# tagged_txt (tagged data folder), txtdata (original data folder)\n",
        "ct.write_corpus(\"tagged_txt\",ct.tag(ct.ldcorpus(\"txtdata\")))"
      ],
      "metadata": {
        "colab": {
          "base_uri": "https://localhost:8080/"
        },
        "id": "3j_TbVhImP2M",
        "outputId": "876a5556-66a5-4b02-9094-889396eeec4a"
      },
      "execution_count": 51,
      "outputs": [
        {
          "output_type": "stream",
          "name": "stdout",
          "text": [
            "No files found. There may be a problem with your working directory or your file search term.\n"
          ]
        }
      ]
    },
    {
      "cell_type": "code",
      "source": [
        "tagged_freq = ct.frequency(ct.reload(\"tagged_txt\"))\n",
        "ct.head(tagged_freq, hits = 10)"
      ],
      "metadata": {
        "id": "J5RQ2WHBofP7"
      },
      "execution_count": 52,
      "outputs": []
    },
    {
      "cell_type": "code",
      "source": [
        "type(tagged_freq) # dict"
      ],
      "metadata": {
        "id": "ye6IfuHdxyJK",
        "colab": {
          "base_uri": "https://localhost:8080/"
        },
        "outputId": "368d1b88-6bed-4742-8e49-1c1e994e6bea"
      },
      "execution_count": 53,
      "outputs": [
        {
          "output_type": "execute_result",
          "data": {
            "text/plain": [
              "dict"
            ]
          },
          "metadata": {},
          "execution_count": 53
        }
      ]
    },
    {
      "cell_type": "markdown",
      "source": [
        "### **Step#4** Save Tagged_freq as Data frame"
      ],
      "metadata": {
        "id": "eHOLnOp2zIZ4"
      }
    },
    {
      "cell_type": "code",
      "source": [
        "import pandas as pd"
      ],
      "metadata": {
        "id": "KWChGmPgzimF"
      },
      "execution_count": 54,
      "outputs": []
    },
    {
      "cell_type": "code",
      "source": [
        "data_dict = tagged_freq\n",
        "data_items = data_dict. items()\n",
        "data_list = list(data_items)\n",
        "df = pd.DataFrame(data_list)\n",
        "print(df)"
      ],
      "metadata": {
        "colab": {
          "base_uri": "https://localhost:8080/"
        },
        "id": "3Ff1neOwx1PK",
        "outputId": "c4ab43ba-3304-40d1-e00b-273ab84d3e76"
      },
      "execution_count": 55,
      "outputs": [
        {
          "output_type": "stream",
          "name": "stdout",
          "text": [
            "Empty DataFrame\n",
            "Columns: []\n",
            "Index: []\n"
          ]
        }
      ]
    },
    {
      "cell_type": "markdown",
      "source": [
        "### **Step#5** Write a tagged frequency dataframe to a csv file (on Colab)"
      ],
      "metadata": {
        "id": "Dt8juzff0xeX"
      }
    },
    {
      "cell_type": "code",
      "source": [
        "df.to_csv(r'/content/tagged.csv', index=False)"
      ],
      "metadata": {
        "id": "93eI3khd0O8p"
      },
      "execution_count": 56,
      "outputs": []
    },
    {
      "cell_type": "code",
      "source": [
        "data = pd.read_csv('tagged.csv')\n",
        "data"
      ],
      "metadata": {
        "id": "ZMsLjqzUAI5E",
        "colab": {
          "base_uri": "https://localhost:8080/",
          "height": 246
        },
        "outputId": "44ca4971-3d18-4159-bd82-a60e6463772f"
      },
      "execution_count": 68,
      "outputs": [
        {
          "output_type": "error",
          "ename": "EmptyDataError",
          "evalue": "ignored",
          "traceback": [
            "\u001b[0;31m---------------------------------------------------------------------------\u001b[0m",
            "\u001b[0;31mEmptyDataError\u001b[0m                            Traceback (most recent call last)",
            "\u001b[0;32m<ipython-input-68-4182df7688e1>\u001b[0m in \u001b[0;36m<module>\u001b[0;34m()\u001b[0m\n\u001b[0;32m----> 1\u001b[0;31m \u001b[0mdata\u001b[0m \u001b[0;34m=\u001b[0m \u001b[0mpd\u001b[0m\u001b[0;34m.\u001b[0m\u001b[0mread_csv\u001b[0m\u001b[0;34m(\u001b[0m\u001b[0;34m'tagged.csv'\u001b[0m\u001b[0;34m)\u001b[0m\u001b[0;34m\u001b[0m\u001b[0;34m\u001b[0m\u001b[0m\n\u001b[0m\u001b[1;32m      2\u001b[0m \u001b[0mdata\u001b[0m\u001b[0;34m\u001b[0m\u001b[0;34m\u001b[0m\u001b[0m\n",
            "\u001b[0;32m/usr/local/lib/python3.7/dist-packages/pandas/util/_decorators.py\u001b[0m in \u001b[0;36mwrapper\u001b[0;34m(*args, **kwargs)\u001b[0m\n\u001b[1;32m    309\u001b[0m                     \u001b[0mstacklevel\u001b[0m\u001b[0;34m=\u001b[0m\u001b[0mstacklevel\u001b[0m\u001b[0;34m,\u001b[0m\u001b[0;34m\u001b[0m\u001b[0;34m\u001b[0m\u001b[0m\n\u001b[1;32m    310\u001b[0m                 )\n\u001b[0;32m--> 311\u001b[0;31m             \u001b[0;32mreturn\u001b[0m \u001b[0mfunc\u001b[0m\u001b[0;34m(\u001b[0m\u001b[0;34m*\u001b[0m\u001b[0margs\u001b[0m\u001b[0;34m,\u001b[0m \u001b[0;34m**\u001b[0m\u001b[0mkwargs\u001b[0m\u001b[0;34m)\u001b[0m\u001b[0;34m\u001b[0m\u001b[0;34m\u001b[0m\u001b[0m\n\u001b[0m\u001b[1;32m    312\u001b[0m \u001b[0;34m\u001b[0m\u001b[0m\n\u001b[1;32m    313\u001b[0m         \u001b[0;32mreturn\u001b[0m \u001b[0mwrapper\u001b[0m\u001b[0;34m\u001b[0m\u001b[0;34m\u001b[0m\u001b[0m\n",
            "\u001b[0;32m/usr/local/lib/python3.7/dist-packages/pandas/io/parsers/readers.py\u001b[0m in \u001b[0;36mread_csv\u001b[0;34m(filepath_or_buffer, sep, delimiter, header, names, index_col, usecols, squeeze, prefix, mangle_dupe_cols, dtype, engine, converters, true_values, false_values, skipinitialspace, skiprows, skipfooter, nrows, na_values, keep_default_na, na_filter, verbose, skip_blank_lines, parse_dates, infer_datetime_format, keep_date_col, date_parser, dayfirst, cache_dates, iterator, chunksize, compression, thousands, decimal, lineterminator, quotechar, quoting, doublequote, escapechar, comment, encoding, encoding_errors, dialect, error_bad_lines, warn_bad_lines, on_bad_lines, delim_whitespace, low_memory, memory_map, float_precision, storage_options)\u001b[0m\n\u001b[1;32m    584\u001b[0m     \u001b[0mkwds\u001b[0m\u001b[0;34m.\u001b[0m\u001b[0mupdate\u001b[0m\u001b[0;34m(\u001b[0m\u001b[0mkwds_defaults\u001b[0m\u001b[0;34m)\u001b[0m\u001b[0;34m\u001b[0m\u001b[0;34m\u001b[0m\u001b[0m\n\u001b[1;32m    585\u001b[0m \u001b[0;34m\u001b[0m\u001b[0m\n\u001b[0;32m--> 586\u001b[0;31m     \u001b[0;32mreturn\u001b[0m \u001b[0m_read\u001b[0m\u001b[0;34m(\u001b[0m\u001b[0mfilepath_or_buffer\u001b[0m\u001b[0;34m,\u001b[0m \u001b[0mkwds\u001b[0m\u001b[0;34m)\u001b[0m\u001b[0;34m\u001b[0m\u001b[0;34m\u001b[0m\u001b[0m\n\u001b[0m\u001b[1;32m    587\u001b[0m \u001b[0;34m\u001b[0m\u001b[0m\n\u001b[1;32m    588\u001b[0m \u001b[0;34m\u001b[0m\u001b[0m\n",
            "\u001b[0;32m/usr/local/lib/python3.7/dist-packages/pandas/io/parsers/readers.py\u001b[0m in \u001b[0;36m_read\u001b[0;34m(filepath_or_buffer, kwds)\u001b[0m\n\u001b[1;32m    480\u001b[0m \u001b[0;34m\u001b[0m\u001b[0m\n\u001b[1;32m    481\u001b[0m     \u001b[0;31m# Create the parser.\u001b[0m\u001b[0;34m\u001b[0m\u001b[0;34m\u001b[0m\u001b[0;34m\u001b[0m\u001b[0m\n\u001b[0;32m--> 482\u001b[0;31m     \u001b[0mparser\u001b[0m \u001b[0;34m=\u001b[0m \u001b[0mTextFileReader\u001b[0m\u001b[0;34m(\u001b[0m\u001b[0mfilepath_or_buffer\u001b[0m\u001b[0;34m,\u001b[0m \u001b[0;34m**\u001b[0m\u001b[0mkwds\u001b[0m\u001b[0;34m)\u001b[0m\u001b[0;34m\u001b[0m\u001b[0;34m\u001b[0m\u001b[0m\n\u001b[0m\u001b[1;32m    483\u001b[0m \u001b[0;34m\u001b[0m\u001b[0m\n\u001b[1;32m    484\u001b[0m     \u001b[0;32mif\u001b[0m \u001b[0mchunksize\u001b[0m \u001b[0;32mor\u001b[0m \u001b[0miterator\u001b[0m\u001b[0;34m:\u001b[0m\u001b[0;34m\u001b[0m\u001b[0;34m\u001b[0m\u001b[0m\n",
            "\u001b[0;32m/usr/local/lib/python3.7/dist-packages/pandas/io/parsers/readers.py\u001b[0m in \u001b[0;36m__init__\u001b[0;34m(self, f, engine, **kwds)\u001b[0m\n\u001b[1;32m    809\u001b[0m             \u001b[0mself\u001b[0m\u001b[0;34m.\u001b[0m\u001b[0moptions\u001b[0m\u001b[0;34m[\u001b[0m\u001b[0;34m\"has_index_names\"\u001b[0m\u001b[0;34m]\u001b[0m \u001b[0;34m=\u001b[0m \u001b[0mkwds\u001b[0m\u001b[0;34m[\u001b[0m\u001b[0;34m\"has_index_names\"\u001b[0m\u001b[0;34m]\u001b[0m\u001b[0;34m\u001b[0m\u001b[0;34m\u001b[0m\u001b[0m\n\u001b[1;32m    810\u001b[0m \u001b[0;34m\u001b[0m\u001b[0m\n\u001b[0;32m--> 811\u001b[0;31m         \u001b[0mself\u001b[0m\u001b[0;34m.\u001b[0m\u001b[0m_engine\u001b[0m \u001b[0;34m=\u001b[0m \u001b[0mself\u001b[0m\u001b[0;34m.\u001b[0m\u001b[0m_make_engine\u001b[0m\u001b[0;34m(\u001b[0m\u001b[0mself\u001b[0m\u001b[0;34m.\u001b[0m\u001b[0mengine\u001b[0m\u001b[0;34m)\u001b[0m\u001b[0;34m\u001b[0m\u001b[0;34m\u001b[0m\u001b[0m\n\u001b[0m\u001b[1;32m    812\u001b[0m \u001b[0;34m\u001b[0m\u001b[0m\n\u001b[1;32m    813\u001b[0m     \u001b[0;32mdef\u001b[0m \u001b[0mclose\u001b[0m\u001b[0;34m(\u001b[0m\u001b[0mself\u001b[0m\u001b[0;34m)\u001b[0m\u001b[0;34m:\u001b[0m\u001b[0;34m\u001b[0m\u001b[0;34m\u001b[0m\u001b[0m\n",
            "\u001b[0;32m/usr/local/lib/python3.7/dist-packages/pandas/io/parsers/readers.py\u001b[0m in \u001b[0;36m_make_engine\u001b[0;34m(self, engine)\u001b[0m\n\u001b[1;32m   1038\u001b[0m             )\n\u001b[1;32m   1039\u001b[0m         \u001b[0;31m# error: Too many arguments for \"ParserBase\"\u001b[0m\u001b[0;34m\u001b[0m\u001b[0;34m\u001b[0m\u001b[0;34m\u001b[0m\u001b[0m\n\u001b[0;32m-> 1040\u001b[0;31m         \u001b[0;32mreturn\u001b[0m \u001b[0mmapping\u001b[0m\u001b[0;34m[\u001b[0m\u001b[0mengine\u001b[0m\u001b[0;34m]\u001b[0m\u001b[0;34m(\u001b[0m\u001b[0mself\u001b[0m\u001b[0;34m.\u001b[0m\u001b[0mf\u001b[0m\u001b[0;34m,\u001b[0m \u001b[0;34m**\u001b[0m\u001b[0mself\u001b[0m\u001b[0;34m.\u001b[0m\u001b[0moptions\u001b[0m\u001b[0;34m)\u001b[0m  \u001b[0;31m# type: ignore[call-arg]\u001b[0m\u001b[0;34m\u001b[0m\u001b[0;34m\u001b[0m\u001b[0m\n\u001b[0m\u001b[1;32m   1041\u001b[0m \u001b[0;34m\u001b[0m\u001b[0m\n\u001b[1;32m   1042\u001b[0m     \u001b[0;32mdef\u001b[0m \u001b[0m_failover_to_python\u001b[0m\u001b[0;34m(\u001b[0m\u001b[0mself\u001b[0m\u001b[0;34m)\u001b[0m\u001b[0;34m:\u001b[0m\u001b[0;34m\u001b[0m\u001b[0;34m\u001b[0m\u001b[0m\n",
            "\u001b[0;32m/usr/local/lib/python3.7/dist-packages/pandas/io/parsers/c_parser_wrapper.py\u001b[0m in \u001b[0;36m__init__\u001b[0;34m(self, src, **kwds)\u001b[0m\n\u001b[1;32m     67\u001b[0m         \u001b[0mkwds\u001b[0m\u001b[0;34m[\u001b[0m\u001b[0;34m\"dtype\"\u001b[0m\u001b[0;34m]\u001b[0m \u001b[0;34m=\u001b[0m \u001b[0mensure_dtype_objs\u001b[0m\u001b[0;34m(\u001b[0m\u001b[0mkwds\u001b[0m\u001b[0;34m.\u001b[0m\u001b[0mget\u001b[0m\u001b[0;34m(\u001b[0m\u001b[0;34m\"dtype\"\u001b[0m\u001b[0;34m,\u001b[0m \u001b[0;32mNone\u001b[0m\u001b[0;34m)\u001b[0m\u001b[0;34m)\u001b[0m\u001b[0;34m\u001b[0m\u001b[0;34m\u001b[0m\u001b[0m\n\u001b[1;32m     68\u001b[0m         \u001b[0;32mtry\u001b[0m\u001b[0;34m:\u001b[0m\u001b[0;34m\u001b[0m\u001b[0;34m\u001b[0m\u001b[0m\n\u001b[0;32m---> 69\u001b[0;31m             \u001b[0mself\u001b[0m\u001b[0;34m.\u001b[0m\u001b[0m_reader\u001b[0m \u001b[0;34m=\u001b[0m \u001b[0mparsers\u001b[0m\u001b[0;34m.\u001b[0m\u001b[0mTextReader\u001b[0m\u001b[0;34m(\u001b[0m\u001b[0mself\u001b[0m\u001b[0;34m.\u001b[0m\u001b[0mhandles\u001b[0m\u001b[0;34m.\u001b[0m\u001b[0mhandle\u001b[0m\u001b[0;34m,\u001b[0m \u001b[0;34m**\u001b[0m\u001b[0mkwds\u001b[0m\u001b[0;34m)\u001b[0m\u001b[0;34m\u001b[0m\u001b[0;34m\u001b[0m\u001b[0m\n\u001b[0m\u001b[1;32m     70\u001b[0m         \u001b[0;32mexcept\u001b[0m \u001b[0mException\u001b[0m\u001b[0;34m:\u001b[0m\u001b[0;34m\u001b[0m\u001b[0;34m\u001b[0m\u001b[0m\n\u001b[1;32m     71\u001b[0m             \u001b[0mself\u001b[0m\u001b[0;34m.\u001b[0m\u001b[0mhandles\u001b[0m\u001b[0;34m.\u001b[0m\u001b[0mclose\u001b[0m\u001b[0;34m(\u001b[0m\u001b[0;34m)\u001b[0m\u001b[0;34m\u001b[0m\u001b[0;34m\u001b[0m\u001b[0m\n",
            "\u001b[0;32m/usr/local/lib/python3.7/dist-packages/pandas/_libs/parsers.pyx\u001b[0m in \u001b[0;36mpandas._libs.parsers.TextReader.__cinit__\u001b[0;34m()\u001b[0m\n",
            "\u001b[0;31mEmptyDataError\u001b[0m: No columns to parse from file"
          ]
        }
      ]
    },
    {
      "cell_type": "markdown",
      "source": [
        "##🔰 [5] Collocation, N-grams\n",
        "\n",
        "**Collocations:** these are phrases or expressions containing sequences of words, that are highly likely to co-occur. \n",
        "\n",
        "* For example — 'social media', national holiday', 'deep learning', 'Walt Disney', etc.\n",
        "\n",
        "**N-grams:** Traditionally, we can use n-grams to generate language models to predict which word comes next given a history of words. {nltk.lm}"
      ],
      "metadata": {
        "id": "qvTb7YwPH0Mr"
      }
    },
    {
      "cell_type": "code",
      "source": [
        "# Corpus to download: 'gutenberg' (18 texts: novels, bible)\n",
        "import nltk\n",
        "from nltk.tokenize import word_tokenize, sent_tokenize\n",
        "nltk.download('gutenberg')\n",
        "nltk.corpus.gutenberg.fileids()"
      ],
      "metadata": {
        "colab": {
          "base_uri": "https://localhost:8080/"
        },
        "id": "Vuu3zRM7J-7a",
        "outputId": "bd0db22a-dfef-47e6-e24f-43e1d1a4e089"
      },
      "execution_count": 59,
      "outputs": [
        {
          "output_type": "stream",
          "name": "stdout",
          "text": [
            "[nltk_data] Downloading package gutenberg to /root/nltk_data...\n",
            "[nltk_data]   Package gutenberg is already up-to-date!\n"
          ]
        },
        {
          "output_type": "execute_result",
          "data": {
            "text/plain": [
              "['austen-emma.txt',\n",
              " 'austen-persuasion.txt',\n",
              " 'austen-sense.txt',\n",
              " 'bible-kjv.txt',\n",
              " 'blake-poems.txt',\n",
              " 'bryant-stories.txt',\n",
              " 'burgess-busterbrown.txt',\n",
              " 'carroll-alice.txt',\n",
              " 'chesterton-ball.txt',\n",
              " 'chesterton-brown.txt',\n",
              " 'chesterton-thursday.txt',\n",
              " 'edgeworth-parents.txt',\n",
              " 'melville-moby_dick.txt',\n",
              " 'milton-paradise.txt',\n",
              " 'shakespeare-caesar.txt',\n",
              " 'shakespeare-hamlet.txt',\n",
              " 'shakespeare-macbeth.txt',\n",
              " 'whitman-leaves.txt']"
            ]
          },
          "metadata": {},
          "execution_count": 59
        }
      ]
    },
    {
      "cell_type": "code",
      "source": [
        "text = nltk.corpus.gutenberg.raw('austen-sense.txt')\n",
        "words = retokenize.tokenize(text)\n",
        "print(len(words))"
      ],
      "metadata": {
        "colab": {
          "base_uri": "https://localhost:8080/"
        },
        "id": "uCUkRA3YBHU0",
        "outputId": "0d4e6576-ee35-4f90-da91-a59dae69e45c"
      },
      "execution_count": 60,
      "outputs": [
        {
          "output_type": "stream",
          "name": "stdout",
          "text": [
            "120787\n"
          ]
        }
      ]
    },
    {
      "cell_type": "code",
      "source": [
        "nltk.Text(words).collocations()"
      ],
      "metadata": {
        "colab": {
          "base_uri": "https://localhost:8080/"
        },
        "id": "ggvxq9J6Kjwi",
        "outputId": "60cf754e-479e-4a33-d2d0-81af89c5b653"
      },
      "execution_count": 61,
      "outputs": [
        {
          "output_type": "stream",
          "name": "stdout",
          "text": [
            "Mrs Jennings; Colonel Brandon; Sir John; Lady Middleton; Mrs Dashwood;\n",
            "Mrs Ferrars; Miss Dashwood; every thing; thousand pounds; dare say;\n",
            "Miss Steeles; Mrs Palmer; Miss Steele; said Elinor; every body; John\n",
            "Dashwood; great deal; Harley Street; Berkeley Street; Miss Dashwoods\n"
          ]
        }
      ]
    },
    {
      "cell_type": "markdown",
      "source": [
        "[sample text:](https://raw.githubusercontent.com/MK316/workshop22/main/data/TheHeron.txt) Copy and paste below"
      ],
      "metadata": {
        "id": "d_Sa99y7LZce"
      }
    },
    {
      "cell_type": "code",
      "source": [
        "text = input()\n",
        "words1 = retokenize.tokenize(text)"
      ],
      "metadata": {
        "colab": {
          "base_uri": "https://localhost:8080/"
        },
        "id": "HoAjen3kLA7k",
        "outputId": "391365f9-4662-4797-b2c9-8d7087e5a0a1"
      },
      "execution_count": 62,
      "outputs": [
        {
          "name": "stdout",
          "output_type": "stream",
          "text": [
            "A Heron was walking sedately along the bank of a stream, his eyes on the clear water, and his long neck and pointed bill ready to snap up a likely morsel for his breakfast. The clear water swarmed with fish, but Master Heron was hard to please that morning. \"No small fry for me,\" he said. \"Such scanty fare is not fit for a Heron. \"Now a fine young Perch swam near. \"No indeed,\" said the Heron. \"I wouldn't even trouble to open my beak for anything like that!\" As the sun rose, the fish left the shallow water near the shore and swam below into the cool depths toward the middle. The Heron saw no more fish, and very glad was he at last to breakfast on a tiny Snail. Do not be too hard to suit or you may have to be content with the worst or with nothing at all. [ ]\n"
          ]
        }
      ]
    },
    {
      "cell_type": "code",
      "source": [
        "nltk.Text(words1).collocations()"
      ],
      "metadata": {
        "colab": {
          "base_uri": "https://localhost:8080/"
        },
        "id": "mzhRNdEoLw1s",
        "outputId": "b1dbe913-f3c1-4550-b017-83de5003dc96"
      },
      "execution_count": 63,
      "outputs": [
        {
          "output_type": "stream",
          "name": "stdout",
          "text": [
            "clear water\n"
          ]
        }
      ]
    },
    {
      "cell_type": "markdown",
      "source": [
        "###🚩 **N-grams**\n",
        "\n",
        "_**Why is it that we need to learn n-gram and the related probability?**_\n",
        "\n",
        "\\- In Natural Language Processing, or NLP for short, n-grams are used for a variety of things. Some examples include auto completion of sentences, auto spell check, and to a certain extent, we can check for grammar in a given sentence. "
      ],
      "metadata": {
        "id": "LcDH9OfLN_b2"
      }
    },
    {
      "cell_type": "code",
      "source": [
        "#@markdown 🚩 (1) Let's try with a new function: ngram(x, y) x = ngram number, y = show top yth ngrams\n",
        "import nltk\n",
        "nltk.download('gutenberg')\n",
        "from nltk.tokenize import word_tokenize\n",
        "from nltk import ngrams\n",
        "\n",
        "def ngram(x,y):\n",
        "\n",
        "  # ngram_num = input()\n",
        "  # ngram_num = int(ngram_num)\n",
        "\n",
        "  text_to_choose = \"bible-kjv.txt\"  #@param ['austen-emma.txt', 'austen-persuasion.txt', 'austen-sense.txt', 'bible-kjv.txt', 'blake-poems.txt', 'bryant-stories.txt', 'burgess-busterbrown.txt', 'carroll-alice.txt', 'chesterton-ball.txt', 'chesterton-brown.txt', 'chesterton-thursday.txt', 'edgeworth-parents.txt', 'melville-moby_dick.txt', 'milton-paradise.txt', 'shakespeare-caesar.txt', 'shakespeare-hamlet.txt', 'shakespeare-macbeth.txt', 'whitman-leaves.txt']\n",
        "  # ngram_number = \"6\" #@param [2, 3, 4, 5, 6, 7]\n",
        "  # n = int(ngram_number)\n",
        "  # show_nth_in_frequency_list = \"5\" #@param [5, 10, 15, 20]\n",
        "  # n1 = int(show_nth_in_frequency_list)\n",
        "\n",
        "  text = nltk.corpus.gutenberg.raw(text_to_choose)\n",
        "  ngram = ngrams(text.split(),x)\n",
        "  gramdata = []\n",
        "\n",
        "  for grams in ngram:\n",
        "    gramdata.append(grams)\n",
        "  print(len(gramdata))\n",
        "\n",
        "  # fd = nltk.FreqDist(gramdata).most_common(int(y))\n",
        "  return gramdata"
      ],
      "metadata": {
        "colab": {
          "base_uri": "https://localhost:8080/"
        },
        "id": "j-bLZ62-QGCp",
        "outputId": "a9572198-8374-4ae3-8f69-4bca3e65590d"
      },
      "execution_count": 71,
      "outputs": [
        {
          "output_type": "stream",
          "name": "stdout",
          "text": [
            "[nltk_data] Downloading package gutenberg to /root/nltk_data...\n",
            "[nltk_data]   Package gutenberg is already up-to-date!\n"
          ]
        }
      ]
    },
    {
      "cell_type": "markdown",
      "source": [
        "🚩 (2) Getting results using ngram(x,y)"
      ],
      "metadata": {
        "id": "AdEZ6GThXs58"
      }
    },
    {
      "cell_type": "code",
      "source": [
        "ngram(5,6) # fivegram result, show top 10 most common fivegram"
      ],
      "metadata": {
        "id": "Y0nQ06SjV9_m",
        "colab": {
          "base_uri": "https://localhost:8080/"
        },
        "outputId": "740414fe-9a39-4151-ebd0-4c9236ac1cc3"
      },
      "execution_count": 72,
      "outputs": [
        {
          "output_type": "stream",
          "name": "stdout",
          "text": [
            "821129\n"
          ]
        },
        {
          "output_type": "execute_result",
          "data": {
            "text/plain": [
              "[('[The', 'King', 'James', 'Bible]', 'The'),\n",
              " ('King', 'James', 'Bible]', 'The', 'Old'),\n",
              " ('James', 'Bible]', 'The', 'Old', 'Testament'),\n",
              " ('Bible]', 'The', 'Old', 'Testament', 'of'),\n",
              " ('The', 'Old', 'Testament', 'of', 'the'),\n",
              " ('Old', 'Testament', 'of', 'the', 'King'),\n",
              " ('Testament', 'of', 'the', 'King', 'James'),\n",
              " ('of', 'the', 'King', 'James', 'Bible'),\n",
              " ('the', 'King', 'James', 'Bible', 'The'),\n",
              " ('King', 'James', 'Bible', 'The', 'First'),\n",
              " ('James', 'Bible', 'The', 'First', 'Book'),\n",
              " ('Bible', 'The', 'First', 'Book', 'of'),\n",
              " ('The', 'First', 'Book', 'of', 'Moses:'),\n",
              " ('First', 'Book', 'of', 'Moses:', 'Called'),\n",
              " ('Book', 'of', 'Moses:', 'Called', 'Genesis'),\n",
              " ('of', 'Moses:', 'Called', 'Genesis', '1:1'),\n",
              " ('Moses:', 'Called', 'Genesis', '1:1', 'In'),\n",
              " ('Called', 'Genesis', '1:1', 'In', 'the'),\n",
              " ('Genesis', '1:1', 'In', 'the', 'beginning'),\n",
              " ('1:1', 'In', 'the', 'beginning', 'God'),\n",
              " ('In', 'the', 'beginning', 'God', 'created'),\n",
              " ('the', 'beginning', 'God', 'created', 'the'),\n",
              " ('beginning', 'God', 'created', 'the', 'heaven'),\n",
              " ('God', 'created', 'the', 'heaven', 'and'),\n",
              " ('created', 'the', 'heaven', 'and', 'the'),\n",
              " ('the', 'heaven', 'and', 'the', 'earth.'),\n",
              " ('heaven', 'and', 'the', 'earth.', '1:2'),\n",
              " ('and', 'the', 'earth.', '1:2', 'And'),\n",
              " ('the', 'earth.', '1:2', 'And', 'the'),\n",
              " ('earth.', '1:2', 'And', 'the', 'earth'),\n",
              " ('1:2', 'And', 'the', 'earth', 'was'),\n",
              " ('And', 'the', 'earth', 'was', 'without'),\n",
              " ('the', 'earth', 'was', 'without', 'form,'),\n",
              " ('earth', 'was', 'without', 'form,', 'and'),\n",
              " ('was', 'without', 'form,', 'and', 'void;'),\n",
              " ('without', 'form,', 'and', 'void;', 'and'),\n",
              " ('form,', 'and', 'void;', 'and', 'darkness'),\n",
              " ('and', 'void;', 'and', 'darkness', 'was'),\n",
              " ('void;', 'and', 'darkness', 'was', 'upon'),\n",
              " ('and', 'darkness', 'was', 'upon', 'the'),\n",
              " ('darkness', 'was', 'upon', 'the', 'face'),\n",
              " ('was', 'upon', 'the', 'face', 'of'),\n",
              " ('upon', 'the', 'face', 'of', 'the'),\n",
              " ('the', 'face', 'of', 'the', 'deep.'),\n",
              " ('face', 'of', 'the', 'deep.', 'And'),\n",
              " ('of', 'the', 'deep.', 'And', 'the'),\n",
              " ('the', 'deep.', 'And', 'the', 'Spirit'),\n",
              " ('deep.', 'And', 'the', 'Spirit', 'of'),\n",
              " ('And', 'the', 'Spirit', 'of', 'God'),\n",
              " ('the', 'Spirit', 'of', 'God', 'moved'),\n",
              " ('Spirit', 'of', 'God', 'moved', 'upon'),\n",
              " ('of', 'God', 'moved', 'upon', 'the'),\n",
              " ('God', 'moved', 'upon', 'the', 'face'),\n",
              " ('moved', 'upon', 'the', 'face', 'of'),\n",
              " ('upon', 'the', 'face', 'of', 'the'),\n",
              " ('the', 'face', 'of', 'the', 'waters.'),\n",
              " ('face', 'of', 'the', 'waters.', '1:3'),\n",
              " ('of', 'the', 'waters.', '1:3', 'And'),\n",
              " ('the', 'waters.', '1:3', 'And', 'God'),\n",
              " ('waters.', '1:3', 'And', 'God', 'said,'),\n",
              " ('1:3', 'And', 'God', 'said,', 'Let'),\n",
              " ('And', 'God', 'said,', 'Let', 'there'),\n",
              " ('God', 'said,', 'Let', 'there', 'be'),\n",
              " ('said,', 'Let', 'there', 'be', 'light:'),\n",
              " ('Let', 'there', 'be', 'light:', 'and'),\n",
              " ('there', 'be', 'light:', 'and', 'there'),\n",
              " ('be', 'light:', 'and', 'there', 'was'),\n",
              " ('light:', 'and', 'there', 'was', 'light.'),\n",
              " ('and', 'there', 'was', 'light.', '1:4'),\n",
              " ('there', 'was', 'light.', '1:4', 'And'),\n",
              " ('was', 'light.', '1:4', 'And', 'God'),\n",
              " ('light.', '1:4', 'And', 'God', 'saw'),\n",
              " ('1:4', 'And', 'God', 'saw', 'the'),\n",
              " ('And', 'God', 'saw', 'the', 'light,'),\n",
              " ('God', 'saw', 'the', 'light,', 'that'),\n",
              " ('saw', 'the', 'light,', 'that', 'it'),\n",
              " ('the', 'light,', 'that', 'it', 'was'),\n",
              " ('light,', 'that', 'it', 'was', 'good:'),\n",
              " ('that', 'it', 'was', 'good:', 'and'),\n",
              " ('it', 'was', 'good:', 'and', 'God'),\n",
              " ('was', 'good:', 'and', 'God', 'divided'),\n",
              " ('good:', 'and', 'God', 'divided', 'the'),\n",
              " ('and', 'God', 'divided', 'the', 'light'),\n",
              " ('God', 'divided', 'the', 'light', 'from'),\n",
              " ('divided', 'the', 'light', 'from', 'the'),\n",
              " ('the', 'light', 'from', 'the', 'darkness.'),\n",
              " ('light', 'from', 'the', 'darkness.', '1:5'),\n",
              " ('from', 'the', 'darkness.', '1:5', 'And'),\n",
              " ('the', 'darkness.', '1:5', 'And', 'God'),\n",
              " ('darkness.', '1:5', 'And', 'God', 'called'),\n",
              " ('1:5', 'And', 'God', 'called', 'the'),\n",
              " ('And', 'God', 'called', 'the', 'light'),\n",
              " ('God', 'called', 'the', 'light', 'Day,'),\n",
              " ('called', 'the', 'light', 'Day,', 'and'),\n",
              " ('the', 'light', 'Day,', 'and', 'the'),\n",
              " ('light', 'Day,', 'and', 'the', 'darkness'),\n",
              " ('Day,', 'and', 'the', 'darkness', 'he'),\n",
              " ('and', 'the', 'darkness', 'he', 'called'),\n",
              " ('the', 'darkness', 'he', 'called', 'Night.'),\n",
              " ('darkness', 'he', 'called', 'Night.', 'And'),\n",
              " ('he', 'called', 'Night.', 'And', 'the'),\n",
              " ('called', 'Night.', 'And', 'the', 'evening'),\n",
              " ('Night.', 'And', 'the', 'evening', 'and'),\n",
              " ('And', 'the', 'evening', 'and', 'the'),\n",
              " ('the', 'evening', 'and', 'the', 'morning'),\n",
              " ('evening', 'and', 'the', 'morning', 'were'),\n",
              " ('and', 'the', 'morning', 'were', 'the'),\n",
              " ('the', 'morning', 'were', 'the', 'first'),\n",
              " ('morning', 'were', 'the', 'first', 'day.'),\n",
              " ('were', 'the', 'first', 'day.', '1:6'),\n",
              " ('the', 'first', 'day.', '1:6', 'And'),\n",
              " ('first', 'day.', '1:6', 'And', 'God'),\n",
              " ('day.', '1:6', 'And', 'God', 'said,'),\n",
              " ('1:6', 'And', 'God', 'said,', 'Let'),\n",
              " ('And', 'God', 'said,', 'Let', 'there'),\n",
              " ('God', 'said,', 'Let', 'there', 'be'),\n",
              " ('said,', 'Let', 'there', 'be', 'a'),\n",
              " ('Let', 'there', 'be', 'a', 'firmament'),\n",
              " ('there', 'be', 'a', 'firmament', 'in'),\n",
              " ('be', 'a', 'firmament', 'in', 'the'),\n",
              " ('a', 'firmament', 'in', 'the', 'midst'),\n",
              " ('firmament', 'in', 'the', 'midst', 'of'),\n",
              " ('in', 'the', 'midst', 'of', 'the'),\n",
              " ('the', 'midst', 'of', 'the', 'waters,'),\n",
              " ('midst', 'of', 'the', 'waters,', 'and'),\n",
              " ('of', 'the', 'waters,', 'and', 'let'),\n",
              " ('the', 'waters,', 'and', 'let', 'it'),\n",
              " ('waters,', 'and', 'let', 'it', 'divide'),\n",
              " ('and', 'let', 'it', 'divide', 'the'),\n",
              " ('let', 'it', 'divide', 'the', 'waters'),\n",
              " ('it', 'divide', 'the', 'waters', 'from'),\n",
              " ('divide', 'the', 'waters', 'from', 'the'),\n",
              " ('the', 'waters', 'from', 'the', 'waters.'),\n",
              " ('waters', 'from', 'the', 'waters.', '1:7'),\n",
              " ('from', 'the', 'waters.', '1:7', 'And'),\n",
              " ('the', 'waters.', '1:7', 'And', 'God'),\n",
              " ('waters.', '1:7', 'And', 'God', 'made'),\n",
              " ('1:7', 'And', 'God', 'made', 'the'),\n",
              " ('And', 'God', 'made', 'the', 'firmament,'),\n",
              " ('God', 'made', 'the', 'firmament,', 'and'),\n",
              " ('made', 'the', 'firmament,', 'and', 'divided'),\n",
              " ('the', 'firmament,', 'and', 'divided', 'the'),\n",
              " ('firmament,', 'and', 'divided', 'the', 'waters'),\n",
              " ('and', 'divided', 'the', 'waters', 'which'),\n",
              " ('divided', 'the', 'waters', 'which', 'were'),\n",
              " ('the', 'waters', 'which', 'were', 'under'),\n",
              " ('waters', 'which', 'were', 'under', 'the'),\n",
              " ('which', 'were', 'under', 'the', 'firmament'),\n",
              " ('were', 'under', 'the', 'firmament', 'from'),\n",
              " ('under', 'the', 'firmament', 'from', 'the'),\n",
              " ('the', 'firmament', 'from', 'the', 'waters'),\n",
              " ('firmament', 'from', 'the', 'waters', 'which'),\n",
              " ('from', 'the', 'waters', 'which', 'were'),\n",
              " ('the', 'waters', 'which', 'were', 'above'),\n",
              " ('waters', 'which', 'were', 'above', 'the'),\n",
              " ('which', 'were', 'above', 'the', 'firmament:'),\n",
              " ('were', 'above', 'the', 'firmament:', 'and'),\n",
              " ('above', 'the', 'firmament:', 'and', 'it'),\n",
              " ('the', 'firmament:', 'and', 'it', 'was'),\n",
              " ('firmament:', 'and', 'it', 'was', 'so.'),\n",
              " ('and', 'it', 'was', 'so.', '1:8'),\n",
              " ('it', 'was', 'so.', '1:8', 'And'),\n",
              " ('was', 'so.', '1:8', 'And', 'God'),\n",
              " ('so.', '1:8', 'And', 'God', 'called'),\n",
              " ('1:8', 'And', 'God', 'called', 'the'),\n",
              " ('And', 'God', 'called', 'the', 'firmament'),\n",
              " ('God', 'called', 'the', 'firmament', 'Heaven.'),\n",
              " ('called', 'the', 'firmament', 'Heaven.', 'And'),\n",
              " ('the', 'firmament', 'Heaven.', 'And', 'the'),\n",
              " ('firmament', 'Heaven.', 'And', 'the', 'evening'),\n",
              " ('Heaven.', 'And', 'the', 'evening', 'and'),\n",
              " ('And', 'the', 'evening', 'and', 'the'),\n",
              " ('the', 'evening', 'and', 'the', 'morning'),\n",
              " ('evening', 'and', 'the', 'morning', 'were'),\n",
              " ('and', 'the', 'morning', 'were', 'the'),\n",
              " ('the', 'morning', 'were', 'the', 'second'),\n",
              " ('morning', 'were', 'the', 'second', 'day.'),\n",
              " ('were', 'the', 'second', 'day.', '1:9'),\n",
              " ('the', 'second', 'day.', '1:9', 'And'),\n",
              " ('second', 'day.', '1:9', 'And', 'God'),\n",
              " ('day.', '1:9', 'And', 'God', 'said,'),\n",
              " ('1:9', 'And', 'God', 'said,', 'Let'),\n",
              " ('And', 'God', 'said,', 'Let', 'the'),\n",
              " ('God', 'said,', 'Let', 'the', 'waters'),\n",
              " ('said,', 'Let', 'the', 'waters', 'under'),\n",
              " ('Let', 'the', 'waters', 'under', 'the'),\n",
              " ('the', 'waters', 'under', 'the', 'heaven'),\n",
              " ('waters', 'under', 'the', 'heaven', 'be'),\n",
              " ('under', 'the', 'heaven', 'be', 'gathered'),\n",
              " ('the', 'heaven', 'be', 'gathered', 'together'),\n",
              " ('heaven', 'be', 'gathered', 'together', 'unto'),\n",
              " ('be', 'gathered', 'together', 'unto', 'one'),\n",
              " ('gathered', 'together', 'unto', 'one', 'place,'),\n",
              " ('together', 'unto', 'one', 'place,', 'and'),\n",
              " ('unto', 'one', 'place,', 'and', 'let'),\n",
              " ('one', 'place,', 'and', 'let', 'the'),\n",
              " ('place,', 'and', 'let', 'the', 'dry'),\n",
              " ('and', 'let', 'the', 'dry', 'land'),\n",
              " ('let', 'the', 'dry', 'land', 'appear:'),\n",
              " ('the', 'dry', 'land', 'appear:', 'and'),\n",
              " ('dry', 'land', 'appear:', 'and', 'it'),\n",
              " ('land', 'appear:', 'and', 'it', 'was'),\n",
              " ('appear:', 'and', 'it', 'was', 'so.'),\n",
              " ('and', 'it', 'was', 'so.', '1:10'),\n",
              " ('it', 'was', 'so.', '1:10', 'And'),\n",
              " ('was', 'so.', '1:10', 'And', 'God'),\n",
              " ('so.', '1:10', 'And', 'God', 'called'),\n",
              " ('1:10', 'And', 'God', 'called', 'the'),\n",
              " ('And', 'God', 'called', 'the', 'dry'),\n",
              " ('God', 'called', 'the', 'dry', 'land'),\n",
              " ('called', 'the', 'dry', 'land', 'Earth;'),\n",
              " ('the', 'dry', 'land', 'Earth;', 'and'),\n",
              " ('dry', 'land', 'Earth;', 'and', 'the'),\n",
              " ('land', 'Earth;', 'and', 'the', 'gathering'),\n",
              " ('Earth;', 'and', 'the', 'gathering', 'together'),\n",
              " ('and', 'the', 'gathering', 'together', 'of'),\n",
              " ('the', 'gathering', 'together', 'of', 'the'),\n",
              " ('gathering', 'together', 'of', 'the', 'waters'),\n",
              " ('together', 'of', 'the', 'waters', 'called'),\n",
              " ('of', 'the', 'waters', 'called', 'he'),\n",
              " ('the', 'waters', 'called', 'he', 'Seas:'),\n",
              " ('waters', 'called', 'he', 'Seas:', 'and'),\n",
              " ('called', 'he', 'Seas:', 'and', 'God'),\n",
              " ('he', 'Seas:', 'and', 'God', 'saw'),\n",
              " ('Seas:', 'and', 'God', 'saw', 'that'),\n",
              " ('and', 'God', 'saw', 'that', 'it'),\n",
              " ('God', 'saw', 'that', 'it', 'was'),\n",
              " ('saw', 'that', 'it', 'was', 'good.'),\n",
              " ('that', 'it', 'was', 'good.', '1:11'),\n",
              " ('it', 'was', 'good.', '1:11', 'And'),\n",
              " ('was', 'good.', '1:11', 'And', 'God'),\n",
              " ('good.', '1:11', 'And', 'God', 'said,'),\n",
              " ('1:11', 'And', 'God', 'said,', 'Let'),\n",
              " ('And', 'God', 'said,', 'Let', 'the'),\n",
              " ('God', 'said,', 'Let', 'the', 'earth'),\n",
              " ('said,', 'Let', 'the', 'earth', 'bring'),\n",
              " ('Let', 'the', 'earth', 'bring', 'forth'),\n",
              " ('the', 'earth', 'bring', 'forth', 'grass,'),\n",
              " ('earth', 'bring', 'forth', 'grass,', 'the'),\n",
              " ('bring', 'forth', 'grass,', 'the', 'herb'),\n",
              " ('forth', 'grass,', 'the', 'herb', 'yielding'),\n",
              " ('grass,', 'the', 'herb', 'yielding', 'seed,'),\n",
              " ('the', 'herb', 'yielding', 'seed,', 'and'),\n",
              " ('herb', 'yielding', 'seed,', 'and', 'the'),\n",
              " ('yielding', 'seed,', 'and', 'the', 'fruit'),\n",
              " ('seed,', 'and', 'the', 'fruit', 'tree'),\n",
              " ('and', 'the', 'fruit', 'tree', 'yielding'),\n",
              " ('the', 'fruit', 'tree', 'yielding', 'fruit'),\n",
              " ('fruit', 'tree', 'yielding', 'fruit', 'after'),\n",
              " ('tree', 'yielding', 'fruit', 'after', 'his'),\n",
              " ('yielding', 'fruit', 'after', 'his', 'kind,'),\n",
              " ('fruit', 'after', 'his', 'kind,', 'whose'),\n",
              " ('after', 'his', 'kind,', 'whose', 'seed'),\n",
              " ('his', 'kind,', 'whose', 'seed', 'is'),\n",
              " ('kind,', 'whose', 'seed', 'is', 'in'),\n",
              " ('whose', 'seed', 'is', 'in', 'itself,'),\n",
              " ('seed', 'is', 'in', 'itself,', 'upon'),\n",
              " ('is', 'in', 'itself,', 'upon', 'the'),\n",
              " ('in', 'itself,', 'upon', 'the', 'earth:'),\n",
              " ('itself,', 'upon', 'the', 'earth:', 'and'),\n",
              " ('upon', 'the', 'earth:', 'and', 'it'),\n",
              " ('the', 'earth:', 'and', 'it', 'was'),\n",
              " ('earth:', 'and', 'it', 'was', 'so.'),\n",
              " ('and', 'it', 'was', 'so.', '1:12'),\n",
              " ('it', 'was', 'so.', '1:12', 'And'),\n",
              " ('was', 'so.', '1:12', 'And', 'the'),\n",
              " ('so.', '1:12', 'And', 'the', 'earth'),\n",
              " ('1:12', 'And', 'the', 'earth', 'brought'),\n",
              " ('And', 'the', 'earth', 'brought', 'forth'),\n",
              " ('the', 'earth', 'brought', 'forth', 'grass,'),\n",
              " ('earth', 'brought', 'forth', 'grass,', 'and'),\n",
              " ('brought', 'forth', 'grass,', 'and', 'herb'),\n",
              " ('forth', 'grass,', 'and', 'herb', 'yielding'),\n",
              " ('grass,', 'and', 'herb', 'yielding', 'seed'),\n",
              " ('and', 'herb', 'yielding', 'seed', 'after'),\n",
              " ('herb', 'yielding', 'seed', 'after', 'his'),\n",
              " ('yielding', 'seed', 'after', 'his', 'kind,'),\n",
              " ('seed', 'after', 'his', 'kind,', 'and'),\n",
              " ('after', 'his', 'kind,', 'and', 'the'),\n",
              " ('his', 'kind,', 'and', 'the', 'tree'),\n",
              " ('kind,', 'and', 'the', 'tree', 'yielding'),\n",
              " ('and', 'the', 'tree', 'yielding', 'fruit,'),\n",
              " ('the', 'tree', 'yielding', 'fruit,', 'whose'),\n",
              " ('tree', 'yielding', 'fruit,', 'whose', 'seed'),\n",
              " ('yielding', 'fruit,', 'whose', 'seed', 'was'),\n",
              " ('fruit,', 'whose', 'seed', 'was', 'in'),\n",
              " ('whose', 'seed', 'was', 'in', 'itself,'),\n",
              " ('seed', 'was', 'in', 'itself,', 'after'),\n",
              " ('was', 'in', 'itself,', 'after', 'his'),\n",
              " ('in', 'itself,', 'after', 'his', 'kind:'),\n",
              " ('itself,', 'after', 'his', 'kind:', 'and'),\n",
              " ('after', 'his', 'kind:', 'and', 'God'),\n",
              " ('his', 'kind:', 'and', 'God', 'saw'),\n",
              " ('kind:', 'and', 'God', 'saw', 'that'),\n",
              " ('and', 'God', 'saw', 'that', 'it'),\n",
              " ('God', 'saw', 'that', 'it', 'was'),\n",
              " ('saw', 'that', 'it', 'was', 'good.'),\n",
              " ('that', 'it', 'was', 'good.', '1:13'),\n",
              " ('it', 'was', 'good.', '1:13', 'And'),\n",
              " ('was', 'good.', '1:13', 'And', 'the'),\n",
              " ('good.', '1:13', 'And', 'the', 'evening'),\n",
              " ('1:13', 'And', 'the', 'evening', 'and'),\n",
              " ('And', 'the', 'evening', 'and', 'the'),\n",
              " ('the', 'evening', 'and', 'the', 'morning'),\n",
              " ('evening', 'and', 'the', 'morning', 'were'),\n",
              " ('and', 'the', 'morning', 'were', 'the'),\n",
              " ('the', 'morning', 'were', 'the', 'third'),\n",
              " ('morning', 'were', 'the', 'third', 'day.'),\n",
              " ('were', 'the', 'third', 'day.', '1:14'),\n",
              " ('the', 'third', 'day.', '1:14', 'And'),\n",
              " ('third', 'day.', '1:14', 'And', 'God'),\n",
              " ('day.', '1:14', 'And', 'God', 'said,'),\n",
              " ('1:14', 'And', 'God', 'said,', 'Let'),\n",
              " ('And', 'God', 'said,', 'Let', 'there'),\n",
              " ('God', 'said,', 'Let', 'there', 'be'),\n",
              " ('said,', 'Let', 'there', 'be', 'lights'),\n",
              " ('Let', 'there', 'be', 'lights', 'in'),\n",
              " ('there', 'be', 'lights', 'in', 'the'),\n",
              " ('be', 'lights', 'in', 'the', 'firmament'),\n",
              " ('lights', 'in', 'the', 'firmament', 'of'),\n",
              " ('in', 'the', 'firmament', 'of', 'the'),\n",
              " ('the', 'firmament', 'of', 'the', 'heaven'),\n",
              " ('firmament', 'of', 'the', 'heaven', 'to'),\n",
              " ('of', 'the', 'heaven', 'to', 'divide'),\n",
              " ('the', 'heaven', 'to', 'divide', 'the'),\n",
              " ('heaven', 'to', 'divide', 'the', 'day'),\n",
              " ('to', 'divide', 'the', 'day', 'from'),\n",
              " ('divide', 'the', 'day', 'from', 'the'),\n",
              " ('the', 'day', 'from', 'the', 'night;'),\n",
              " ('day', 'from', 'the', 'night;', 'and'),\n",
              " ('from', 'the', 'night;', 'and', 'let'),\n",
              " ('the', 'night;', 'and', 'let', 'them'),\n",
              " ('night;', 'and', 'let', 'them', 'be'),\n",
              " ('and', 'let', 'them', 'be', 'for'),\n",
              " ('let', 'them', 'be', 'for', 'signs,'),\n",
              " ('them', 'be', 'for', 'signs,', 'and'),\n",
              " ('be', 'for', 'signs,', 'and', 'for'),\n",
              " ('for', 'signs,', 'and', 'for', 'seasons,'),\n",
              " ('signs,', 'and', 'for', 'seasons,', 'and'),\n",
              " ('and', 'for', 'seasons,', 'and', 'for'),\n",
              " ('for', 'seasons,', 'and', 'for', 'days,'),\n",
              " ('seasons,', 'and', 'for', 'days,', 'and'),\n",
              " ('and', 'for', 'days,', 'and', 'years:'),\n",
              " ('for', 'days,', 'and', 'years:', '1:15'),\n",
              " ('days,', 'and', 'years:', '1:15', 'And'),\n",
              " ('and', 'years:', '1:15', 'And', 'let'),\n",
              " ('years:', '1:15', 'And', 'let', 'them'),\n",
              " ('1:15', 'And', 'let', 'them', 'be'),\n",
              " ('And', 'let', 'them', 'be', 'for'),\n",
              " ('let', 'them', 'be', 'for', 'lights'),\n",
              " ('them', 'be', 'for', 'lights', 'in'),\n",
              " ('be', 'for', 'lights', 'in', 'the'),\n",
              " ('for', 'lights', 'in', 'the', 'firmament'),\n",
              " ('lights', 'in', 'the', 'firmament', 'of'),\n",
              " ('in', 'the', 'firmament', 'of', 'the'),\n",
              " ('the', 'firmament', 'of', 'the', 'heaven'),\n",
              " ('firmament', 'of', 'the', 'heaven', 'to'),\n",
              " ('of', 'the', 'heaven', 'to', 'give'),\n",
              " ('the', 'heaven', 'to', 'give', 'light'),\n",
              " ('heaven', 'to', 'give', 'light', 'upon'),\n",
              " ('to', 'give', 'light', 'upon', 'the'),\n",
              " ('give', 'light', 'upon', 'the', 'earth:'),\n",
              " ('light', 'upon', 'the', 'earth:', 'and'),\n",
              " ('upon', 'the', 'earth:', 'and', 'it'),\n",
              " ('the', 'earth:', 'and', 'it', 'was'),\n",
              " ('earth:', 'and', 'it', 'was', 'so.'),\n",
              " ('and', 'it', 'was', 'so.', '1:16'),\n",
              " ('it', 'was', 'so.', '1:16', 'And'),\n",
              " ('was', 'so.', '1:16', 'And', 'God'),\n",
              " ('so.', '1:16', 'And', 'God', 'made'),\n",
              " ('1:16', 'And', 'God', 'made', 'two'),\n",
              " ('And', 'God', 'made', 'two', 'great'),\n",
              " ('God', 'made', 'two', 'great', 'lights;'),\n",
              " ('made', 'two', 'great', 'lights;', 'the'),\n",
              " ('two', 'great', 'lights;', 'the', 'greater'),\n",
              " ('great', 'lights;', 'the', 'greater', 'light'),\n",
              " ('lights;', 'the', 'greater', 'light', 'to'),\n",
              " ('the', 'greater', 'light', 'to', 'rule'),\n",
              " ('greater', 'light', 'to', 'rule', 'the'),\n",
              " ('light', 'to', 'rule', 'the', 'day,'),\n",
              " ('to', 'rule', 'the', 'day,', 'and'),\n",
              " ('rule', 'the', 'day,', 'and', 'the'),\n",
              " ('the', 'day,', 'and', 'the', 'lesser'),\n",
              " ('day,', 'and', 'the', 'lesser', 'light'),\n",
              " ('and', 'the', 'lesser', 'light', 'to'),\n",
              " ('the', 'lesser', 'light', 'to', 'rule'),\n",
              " ('lesser', 'light', 'to', 'rule', 'the'),\n",
              " ('light', 'to', 'rule', 'the', 'night:'),\n",
              " ('to', 'rule', 'the', 'night:', 'he'),\n",
              " ('rule', 'the', 'night:', 'he', 'made'),\n",
              " ('the', 'night:', 'he', 'made', 'the'),\n",
              " ('night:', 'he', 'made', 'the', 'stars'),\n",
              " ('he', 'made', 'the', 'stars', 'also.'),\n",
              " ('made', 'the', 'stars', 'also.', '1:17'),\n",
              " ('the', 'stars', 'also.', '1:17', 'And'),\n",
              " ('stars', 'also.', '1:17', 'And', 'God'),\n",
              " ('also.', '1:17', 'And', 'God', 'set'),\n",
              " ('1:17', 'And', 'God', 'set', 'them'),\n",
              " ('And', 'God', 'set', 'them', 'in'),\n",
              " ('God', 'set', 'them', 'in', 'the'),\n",
              " ('set', 'them', 'in', 'the', 'firmament'),\n",
              " ('them', 'in', 'the', 'firmament', 'of'),\n",
              " ('in', 'the', 'firmament', 'of', 'the'),\n",
              " ('the', 'firmament', 'of', 'the', 'heaven'),\n",
              " ('firmament', 'of', 'the', 'heaven', 'to'),\n",
              " ('of', 'the', 'heaven', 'to', 'give'),\n",
              " ('the', 'heaven', 'to', 'give', 'light'),\n",
              " ('heaven', 'to', 'give', 'light', 'upon'),\n",
              " ('to', 'give', 'light', 'upon', 'the'),\n",
              " ('give', 'light', 'upon', 'the', 'earth,'),\n",
              " ('light', 'upon', 'the', 'earth,', '1:18'),\n",
              " ('upon', 'the', 'earth,', '1:18', 'And'),\n",
              " ('the', 'earth,', '1:18', 'And', 'to'),\n",
              " ('earth,', '1:18', 'And', 'to', 'rule'),\n",
              " ('1:18', 'And', 'to', 'rule', 'over'),\n",
              " ('And', 'to', 'rule', 'over', 'the'),\n",
              " ('to', 'rule', 'over', 'the', 'day'),\n",
              " ('rule', 'over', 'the', 'day', 'and'),\n",
              " ('over', 'the', 'day', 'and', 'over'),\n",
              " ('the', 'day', 'and', 'over', 'the'),\n",
              " ('day', 'and', 'over', 'the', 'night,'),\n",
              " ('and', 'over', 'the', 'night,', 'and'),\n",
              " ('over', 'the', 'night,', 'and', 'to'),\n",
              " ('the', 'night,', 'and', 'to', 'divide'),\n",
              " ('night,', 'and', 'to', 'divide', 'the'),\n",
              " ('and', 'to', 'divide', 'the', 'light'),\n",
              " ('to', 'divide', 'the', 'light', 'from'),\n",
              " ('divide', 'the', 'light', 'from', 'the'),\n",
              " ('the', 'light', 'from', 'the', 'darkness:'),\n",
              " ('light', 'from', 'the', 'darkness:', 'and'),\n",
              " ('from', 'the', 'darkness:', 'and', 'God'),\n",
              " ('the', 'darkness:', 'and', 'God', 'saw'),\n",
              " ('darkness:', 'and', 'God', 'saw', 'that'),\n",
              " ('and', 'God', 'saw', 'that', 'it'),\n",
              " ('God', 'saw', 'that', 'it', 'was'),\n",
              " ('saw', 'that', 'it', 'was', 'good.'),\n",
              " ('that', 'it', 'was', 'good.', '1:19'),\n",
              " ('it', 'was', 'good.', '1:19', 'And'),\n",
              " ('was', 'good.', '1:19', 'And', 'the'),\n",
              " ('good.', '1:19', 'And', 'the', 'evening'),\n",
              " ('1:19', 'And', 'the', 'evening', 'and'),\n",
              " ('And', 'the', 'evening', 'and', 'the'),\n",
              " ('the', 'evening', 'and', 'the', 'morning'),\n",
              " ('evening', 'and', 'the', 'morning', 'were'),\n",
              " ('and', 'the', 'morning', 'were', 'the'),\n",
              " ('the', 'morning', 'were', 'the', 'fourth'),\n",
              " ('morning', 'were', 'the', 'fourth', 'day.'),\n",
              " ('were', 'the', 'fourth', 'day.', '1:20'),\n",
              " ('the', 'fourth', 'day.', '1:20', 'And'),\n",
              " ('fourth', 'day.', '1:20', 'And', 'God'),\n",
              " ('day.', '1:20', 'And', 'God', 'said,'),\n",
              " ('1:20', 'And', 'God', 'said,', 'Let'),\n",
              " ('And', 'God', 'said,', 'Let', 'the'),\n",
              " ('God', 'said,', 'Let', 'the', 'waters'),\n",
              " ('said,', 'Let', 'the', 'waters', 'bring'),\n",
              " ('Let', 'the', 'waters', 'bring', 'forth'),\n",
              " ('the', 'waters', 'bring', 'forth', 'abundantly'),\n",
              " ('waters', 'bring', 'forth', 'abundantly', 'the'),\n",
              " ('bring', 'forth', 'abundantly', 'the', 'moving'),\n",
              " ('forth', 'abundantly', 'the', 'moving', 'creature'),\n",
              " ('abundantly', 'the', 'moving', 'creature', 'that'),\n",
              " ('the', 'moving', 'creature', 'that', 'hath'),\n",
              " ('moving', 'creature', 'that', 'hath', 'life,'),\n",
              " ('creature', 'that', 'hath', 'life,', 'and'),\n",
              " ('that', 'hath', 'life,', 'and', 'fowl'),\n",
              " ('hath', 'life,', 'and', 'fowl', 'that'),\n",
              " ('life,', 'and', 'fowl', 'that', 'may'),\n",
              " ('and', 'fowl', 'that', 'may', 'fly'),\n",
              " ('fowl', 'that', 'may', 'fly', 'above'),\n",
              " ('that', 'may', 'fly', 'above', 'the'),\n",
              " ('may', 'fly', 'above', 'the', 'earth'),\n",
              " ('fly', 'above', 'the', 'earth', 'in'),\n",
              " ('above', 'the', 'earth', 'in', 'the'),\n",
              " ('the', 'earth', 'in', 'the', 'open'),\n",
              " ('earth', 'in', 'the', 'open', 'firmament'),\n",
              " ('in', 'the', 'open', 'firmament', 'of'),\n",
              " ('the', 'open', 'firmament', 'of', 'heaven.'),\n",
              " ('open', 'firmament', 'of', 'heaven.', '1:21'),\n",
              " ('firmament', 'of', 'heaven.', '1:21', 'And'),\n",
              " ('of', 'heaven.', '1:21', 'And', 'God'),\n",
              " ('heaven.', '1:21', 'And', 'God', 'created'),\n",
              " ('1:21', 'And', 'God', 'created', 'great'),\n",
              " ('And', 'God', 'created', 'great', 'whales,'),\n",
              " ('God', 'created', 'great', 'whales,', 'and'),\n",
              " ('created', 'great', 'whales,', 'and', 'every'),\n",
              " ('great', 'whales,', 'and', 'every', 'living'),\n",
              " ('whales,', 'and', 'every', 'living', 'creature'),\n",
              " ('and', 'every', 'living', 'creature', 'that'),\n",
              " ('every', 'living', 'creature', 'that', 'moveth,'),\n",
              " ('living', 'creature', 'that', 'moveth,', 'which'),\n",
              " ('creature', 'that', 'moveth,', 'which', 'the'),\n",
              " ('that', 'moveth,', 'which', 'the', 'waters'),\n",
              " ('moveth,', 'which', 'the', 'waters', 'brought'),\n",
              " ('which', 'the', 'waters', 'brought', 'forth'),\n",
              " ('the', 'waters', 'brought', 'forth', 'abundantly,'),\n",
              " ('waters', 'brought', 'forth', 'abundantly,', 'after'),\n",
              " ('brought', 'forth', 'abundantly,', 'after', 'their'),\n",
              " ('forth', 'abundantly,', 'after', 'their', 'kind,'),\n",
              " ('abundantly,', 'after', 'their', 'kind,', 'and'),\n",
              " ('after', 'their', 'kind,', 'and', 'every'),\n",
              " ('their', 'kind,', 'and', 'every', 'winged'),\n",
              " ('kind,', 'and', 'every', 'winged', 'fowl'),\n",
              " ('and', 'every', 'winged', 'fowl', 'after'),\n",
              " ('every', 'winged', 'fowl', 'after', 'his'),\n",
              " ('winged', 'fowl', 'after', 'his', 'kind:'),\n",
              " ('fowl', 'after', 'his', 'kind:', 'and'),\n",
              " ('after', 'his', 'kind:', 'and', 'God'),\n",
              " ('his', 'kind:', 'and', 'God', 'saw'),\n",
              " ('kind:', 'and', 'God', 'saw', 'that'),\n",
              " ('and', 'God', 'saw', 'that', 'it'),\n",
              " ('God', 'saw', 'that', 'it', 'was'),\n",
              " ('saw', 'that', 'it', 'was', 'good.'),\n",
              " ('that', 'it', 'was', 'good.', '1:22'),\n",
              " ('it', 'was', 'good.', '1:22', 'And'),\n",
              " ('was', 'good.', '1:22', 'And', 'God'),\n",
              " ('good.', '1:22', 'And', 'God', 'blessed'),\n",
              " ('1:22', 'And', 'God', 'blessed', 'them,'),\n",
              " ('And', 'God', 'blessed', 'them,', 'saying,'),\n",
              " ('God', 'blessed', 'them,', 'saying,', 'Be'),\n",
              " ('blessed', 'them,', 'saying,', 'Be', 'fruitful,'),\n",
              " ('them,', 'saying,', 'Be', 'fruitful,', 'and'),\n",
              " ('saying,', 'Be', 'fruitful,', 'and', 'multiply,'),\n",
              " ('Be', 'fruitful,', 'and', 'multiply,', 'and'),\n",
              " ('fruitful,', 'and', 'multiply,', 'and', 'fill'),\n",
              " ('and', 'multiply,', 'and', 'fill', 'the'),\n",
              " ('multiply,', 'and', 'fill', 'the', 'waters'),\n",
              " ('and', 'fill', 'the', 'waters', 'in'),\n",
              " ('fill', 'the', 'waters', 'in', 'the'),\n",
              " ('the', 'waters', 'in', 'the', 'seas,'),\n",
              " ('waters', 'in', 'the', 'seas,', 'and'),\n",
              " ('in', 'the', 'seas,', 'and', 'let'),\n",
              " ('the', 'seas,', 'and', 'let', 'fowl'),\n",
              " ('seas,', 'and', 'let', 'fowl', 'multiply'),\n",
              " ('and', 'let', 'fowl', 'multiply', 'in'),\n",
              " ('let', 'fowl', 'multiply', 'in', 'the'),\n",
              " ('fowl', 'multiply', 'in', 'the', 'earth.'),\n",
              " ('multiply', 'in', 'the', 'earth.', '1:23'),\n",
              " ('in', 'the', 'earth.', '1:23', 'And'),\n",
              " ('the', 'earth.', '1:23', 'And', 'the'),\n",
              " ('earth.', '1:23', 'And', 'the', 'evening'),\n",
              " ('1:23', 'And', 'the', 'evening', 'and'),\n",
              " ('And', 'the', 'evening', 'and', 'the'),\n",
              " ('the', 'evening', 'and', 'the', 'morning'),\n",
              " ('evening', 'and', 'the', 'morning', 'were'),\n",
              " ('and', 'the', 'morning', 'were', 'the'),\n",
              " ('the', 'morning', 'were', 'the', 'fifth'),\n",
              " ('morning', 'were', 'the', 'fifth', 'day.'),\n",
              " ('were', 'the', 'fifth', 'day.', '1:24'),\n",
              " ('the', 'fifth', 'day.', '1:24', 'And'),\n",
              " ('fifth', 'day.', '1:24', 'And', 'God'),\n",
              " ('day.', '1:24', 'And', 'God', 'said,'),\n",
              " ('1:24', 'And', 'God', 'said,', 'Let'),\n",
              " ('And', 'God', 'said,', 'Let', 'the'),\n",
              " ('God', 'said,', 'Let', 'the', 'earth'),\n",
              " ('said,', 'Let', 'the', 'earth', 'bring'),\n",
              " ('Let', 'the', 'earth', 'bring', 'forth'),\n",
              " ('the', 'earth', 'bring', 'forth', 'the'),\n",
              " ('earth', 'bring', 'forth', 'the', 'living'),\n",
              " ('bring', 'forth', 'the', 'living', 'creature'),\n",
              " ('forth', 'the', 'living', 'creature', 'after'),\n",
              " ('the', 'living', 'creature', 'after', 'his'),\n",
              " ('living', 'creature', 'after', 'his', 'kind,'),\n",
              " ('creature', 'after', 'his', 'kind,', 'cattle,'),\n",
              " ('after', 'his', 'kind,', 'cattle,', 'and'),\n",
              " ('his', 'kind,', 'cattle,', 'and', 'creeping'),\n",
              " ('kind,', 'cattle,', 'and', 'creeping', 'thing,'),\n",
              " ('cattle,', 'and', 'creeping', 'thing,', 'and'),\n",
              " ('and', 'creeping', 'thing,', 'and', 'beast'),\n",
              " ('creeping', 'thing,', 'and', 'beast', 'of'),\n",
              " ('thing,', 'and', 'beast', 'of', 'the'),\n",
              " ('and', 'beast', 'of', 'the', 'earth'),\n",
              " ('beast', 'of', 'the', 'earth', 'after'),\n",
              " ('of', 'the', 'earth', 'after', 'his'),\n",
              " ('the', 'earth', 'after', 'his', 'kind:'),\n",
              " ('earth', 'after', 'his', 'kind:', 'and'),\n",
              " ('after', 'his', 'kind:', 'and', 'it'),\n",
              " ('his', 'kind:', 'and', 'it', 'was'),\n",
              " ('kind:', 'and', 'it', 'was', 'so.'),\n",
              " ('and', 'it', 'was', 'so.', '1:25'),\n",
              " ('it', 'was', 'so.', '1:25', 'And'),\n",
              " ('was', 'so.', '1:25', 'And', 'God'),\n",
              " ('so.', '1:25', 'And', 'God', 'made'),\n",
              " ('1:25', 'And', 'God', 'made', 'the'),\n",
              " ('And', 'God', 'made', 'the', 'beast'),\n",
              " ('God', 'made', 'the', 'beast', 'of'),\n",
              " ('made', 'the', 'beast', 'of', 'the'),\n",
              " ('the', 'beast', 'of', 'the', 'earth'),\n",
              " ('beast', 'of', 'the', 'earth', 'after'),\n",
              " ('of', 'the', 'earth', 'after', 'his'),\n",
              " ('the', 'earth', 'after', 'his', 'kind,'),\n",
              " ('earth', 'after', 'his', 'kind,', 'and'),\n",
              " ('after', 'his', 'kind,', 'and', 'cattle'),\n",
              " ('his', 'kind,', 'and', 'cattle', 'after'),\n",
              " ('kind,', 'and', 'cattle', 'after', 'their'),\n",
              " ('and', 'cattle', 'after', 'their', 'kind,'),\n",
              " ('cattle', 'after', 'their', 'kind,', 'and'),\n",
              " ('after', 'their', 'kind,', 'and', 'every'),\n",
              " ('their', 'kind,', 'and', 'every', 'thing'),\n",
              " ('kind,', 'and', 'every', 'thing', 'that'),\n",
              " ('and', 'every', 'thing', 'that', 'creepeth'),\n",
              " ('every', 'thing', 'that', 'creepeth', 'upon'),\n",
              " ('thing', 'that', 'creepeth', 'upon', 'the'),\n",
              " ('that', 'creepeth', 'upon', 'the', 'earth'),\n",
              " ('creepeth', 'upon', 'the', 'earth', 'after'),\n",
              " ('upon', 'the', 'earth', 'after', 'his'),\n",
              " ('the', 'earth', 'after', 'his', 'kind:'),\n",
              " ('earth', 'after', 'his', 'kind:', 'and'),\n",
              " ('after', 'his', 'kind:', 'and', 'God'),\n",
              " ('his', 'kind:', 'and', 'God', 'saw'),\n",
              " ('kind:', 'and', 'God', 'saw', 'that'),\n",
              " ('and', 'God', 'saw', 'that', 'it'),\n",
              " ('God', 'saw', 'that', 'it', 'was'),\n",
              " ('saw', 'that', 'it', 'was', 'good.'),\n",
              " ('that', 'it', 'was', 'good.', '1:26'),\n",
              " ('it', 'was', 'good.', '1:26', 'And'),\n",
              " ('was', 'good.', '1:26', 'And', 'God'),\n",
              " ('good.', '1:26', 'And', 'God', 'said,'),\n",
              " ('1:26', 'And', 'God', 'said,', 'Let'),\n",
              " ('And', 'God', 'said,', 'Let', 'us'),\n",
              " ('God', 'said,', 'Let', 'us', 'make'),\n",
              " ('said,', 'Let', 'us', 'make', 'man'),\n",
              " ('Let', 'us', 'make', 'man', 'in'),\n",
              " ('us', 'make', 'man', 'in', 'our'),\n",
              " ('make', 'man', 'in', 'our', 'image,'),\n",
              " ('man', 'in', 'our', 'image,', 'after'),\n",
              " ('in', 'our', 'image,', 'after', 'our'),\n",
              " ('our', 'image,', 'after', 'our', 'likeness:'),\n",
              " ('image,', 'after', 'our', 'likeness:', 'and'),\n",
              " ('after', 'our', 'likeness:', 'and', 'let'),\n",
              " ('our', 'likeness:', 'and', 'let', 'them'),\n",
              " ('likeness:', 'and', 'let', 'them', 'have'),\n",
              " ('and', 'let', 'them', 'have', 'dominion'),\n",
              " ('let', 'them', 'have', 'dominion', 'over'),\n",
              " ('them', 'have', 'dominion', 'over', 'the'),\n",
              " ('have', 'dominion', 'over', 'the', 'fish'),\n",
              " ('dominion', 'over', 'the', 'fish', 'of'),\n",
              " ('over', 'the', 'fish', 'of', 'the'),\n",
              " ('the', 'fish', 'of', 'the', 'sea,'),\n",
              " ('fish', 'of', 'the', 'sea,', 'and'),\n",
              " ('of', 'the', 'sea,', 'and', 'over'),\n",
              " ('the', 'sea,', 'and', 'over', 'the'),\n",
              " ('sea,', 'and', 'over', 'the', 'fowl'),\n",
              " ('and', 'over', 'the', 'fowl', 'of'),\n",
              " ('over', 'the', 'fowl', 'of', 'the'),\n",
              " ('the', 'fowl', 'of', 'the', 'air,'),\n",
              " ('fowl', 'of', 'the', 'air,', 'and'),\n",
              " ('of', 'the', 'air,', 'and', 'over'),\n",
              " ('the', 'air,', 'and', 'over', 'the'),\n",
              " ('air,', 'and', 'over', 'the', 'cattle,'),\n",
              " ('and', 'over', 'the', 'cattle,', 'and'),\n",
              " ('over', 'the', 'cattle,', 'and', 'over'),\n",
              " ('the', 'cattle,', 'and', 'over', 'all'),\n",
              " ('cattle,', 'and', 'over', 'all', 'the'),\n",
              " ('and', 'over', 'all', 'the', 'earth,'),\n",
              " ('over', 'all', 'the', 'earth,', 'and'),\n",
              " ('all', 'the', 'earth,', 'and', 'over'),\n",
              " ('the', 'earth,', 'and', 'over', 'every'),\n",
              " ('earth,', 'and', 'over', 'every', 'creeping'),\n",
              " ('and', 'over', 'every', 'creeping', 'thing'),\n",
              " ('over', 'every', 'creeping', 'thing', 'that'),\n",
              " ('every', 'creeping', 'thing', 'that', 'creepeth'),\n",
              " ('creeping', 'thing', 'that', 'creepeth', 'upon'),\n",
              " ('thing', 'that', 'creepeth', 'upon', 'the'),\n",
              " ('that', 'creepeth', 'upon', 'the', 'earth.'),\n",
              " ('creepeth', 'upon', 'the', 'earth.', '1:27'),\n",
              " ('upon', 'the', 'earth.', '1:27', 'So'),\n",
              " ('the', 'earth.', '1:27', 'So', 'God'),\n",
              " ('earth.', '1:27', 'So', 'God', 'created'),\n",
              " ('1:27', 'So', 'God', 'created', 'man'),\n",
              " ('So', 'God', 'created', 'man', 'in'),\n",
              " ('God', 'created', 'man', 'in', 'his'),\n",
              " ('created', 'man', 'in', 'his', 'own'),\n",
              " ('man', 'in', 'his', 'own', 'image,'),\n",
              " ('in', 'his', 'own', 'image,', 'in'),\n",
              " ('his', 'own', 'image,', 'in', 'the'),\n",
              " ('own', 'image,', 'in', 'the', 'image'),\n",
              " ('image,', 'in', 'the', 'image', 'of'),\n",
              " ('in', 'the', 'image', 'of', 'God'),\n",
              " ('the', 'image', 'of', 'God', 'created'),\n",
              " ('image', 'of', 'God', 'created', 'he'),\n",
              " ('of', 'God', 'created', 'he', 'him;'),\n",
              " ('God', 'created', 'he', 'him;', 'male'),\n",
              " ('created', 'he', 'him;', 'male', 'and'),\n",
              " ('he', 'him;', 'male', 'and', 'female'),\n",
              " ('him;', 'male', 'and', 'female', 'created'),\n",
              " ('male', 'and', 'female', 'created', 'he'),\n",
              " ('and', 'female', 'created', 'he', 'them.'),\n",
              " ('female', 'created', 'he', 'them.', '1:28'),\n",
              " ('created', 'he', 'them.', '1:28', 'And'),\n",
              " ('he', 'them.', '1:28', 'And', 'God'),\n",
              " ('them.', '1:28', 'And', 'God', 'blessed'),\n",
              " ('1:28', 'And', 'God', 'blessed', 'them,'),\n",
              " ('And', 'God', 'blessed', 'them,', 'and'),\n",
              " ('God', 'blessed', 'them,', 'and', 'God'),\n",
              " ('blessed', 'them,', 'and', 'God', 'said'),\n",
              " ('them,', 'and', 'God', 'said', 'unto'),\n",
              " ('and', 'God', 'said', 'unto', 'them,'),\n",
              " ('God', 'said', 'unto', 'them,', 'Be'),\n",
              " ('said', 'unto', 'them,', 'Be', 'fruitful,'),\n",
              " ('unto', 'them,', 'Be', 'fruitful,', 'and'),\n",
              " ('them,', 'Be', 'fruitful,', 'and', 'multiply,'),\n",
              " ('Be', 'fruitful,', 'and', 'multiply,', 'and'),\n",
              " ('fruitful,', 'and', 'multiply,', 'and', 'replenish'),\n",
              " ('and', 'multiply,', 'and', 'replenish', 'the'),\n",
              " ('multiply,', 'and', 'replenish', 'the', 'earth,'),\n",
              " ('and', 'replenish', 'the', 'earth,', 'and'),\n",
              " ('replenish', 'the', 'earth,', 'and', 'subdue'),\n",
              " ('the', 'earth,', 'and', 'subdue', 'it:'),\n",
              " ('earth,', 'and', 'subdue', 'it:', 'and'),\n",
              " ('and', 'subdue', 'it:', 'and', 'have'),\n",
              " ('subdue', 'it:', 'and', 'have', 'dominion'),\n",
              " ('it:', 'and', 'have', 'dominion', 'over'),\n",
              " ('and', 'have', 'dominion', 'over', 'the'),\n",
              " ('have', 'dominion', 'over', 'the', 'fish'),\n",
              " ('dominion', 'over', 'the', 'fish', 'of'),\n",
              " ('over', 'the', 'fish', 'of', 'the'),\n",
              " ('the', 'fish', 'of', 'the', 'sea,'),\n",
              " ('fish', 'of', 'the', 'sea,', 'and'),\n",
              " ('of', 'the', 'sea,', 'and', 'over'),\n",
              " ('the', 'sea,', 'and', 'over', 'the'),\n",
              " ('sea,', 'and', 'over', 'the', 'fowl'),\n",
              " ('and', 'over', 'the', 'fowl', 'of'),\n",
              " ('over', 'the', 'fowl', 'of', 'the'),\n",
              " ('the', 'fowl', 'of', 'the', 'air,'),\n",
              " ('fowl', 'of', 'the', 'air,', 'and'),\n",
              " ('of', 'the', 'air,', 'and', 'over'),\n",
              " ('the', 'air,', 'and', 'over', 'every'),\n",
              " ('air,', 'and', 'over', 'every', 'living'),\n",
              " ('and', 'over', 'every', 'living', 'thing'),\n",
              " ('over', 'every', 'living', 'thing', 'that'),\n",
              " ('every', 'living', 'thing', 'that', 'moveth'),\n",
              " ('living', 'thing', 'that', 'moveth', 'upon'),\n",
              " ('thing', 'that', 'moveth', 'upon', 'the'),\n",
              " ('that', 'moveth', 'upon', 'the', 'earth.'),\n",
              " ('moveth', 'upon', 'the', 'earth.', '1:29'),\n",
              " ('upon', 'the', 'earth.', '1:29', 'And'),\n",
              " ('the', 'earth.', '1:29', 'And', 'God'),\n",
              " ('earth.', '1:29', 'And', 'God', 'said,'),\n",
              " ('1:29', 'And', 'God', 'said,', 'Behold,'),\n",
              " ('And', 'God', 'said,', 'Behold,', 'I'),\n",
              " ('God', 'said,', 'Behold,', 'I', 'have'),\n",
              " ('said,', 'Behold,', 'I', 'have', 'given'),\n",
              " ('Behold,', 'I', 'have', 'given', 'you'),\n",
              " ('I', 'have', 'given', 'you', 'every'),\n",
              " ('have', 'given', 'you', 'every', 'herb'),\n",
              " ('given', 'you', 'every', 'herb', 'bearing'),\n",
              " ('you', 'every', 'herb', 'bearing', 'seed,'),\n",
              " ('every', 'herb', 'bearing', 'seed,', 'which'),\n",
              " ('herb', 'bearing', 'seed,', 'which', 'is'),\n",
              " ('bearing', 'seed,', 'which', 'is', 'upon'),\n",
              " ('seed,', 'which', 'is', 'upon', 'the'),\n",
              " ('which', 'is', 'upon', 'the', 'face'),\n",
              " ('is', 'upon', 'the', 'face', 'of'),\n",
              " ('upon', 'the', 'face', 'of', 'all'),\n",
              " ('the', 'face', 'of', 'all', 'the'),\n",
              " ('face', 'of', 'all', 'the', 'earth,'),\n",
              " ('of', 'all', 'the', 'earth,', 'and'),\n",
              " ('all', 'the', 'earth,', 'and', 'every'),\n",
              " ('the', 'earth,', 'and', 'every', 'tree,'),\n",
              " ('earth,', 'and', 'every', 'tree,', 'in'),\n",
              " ('and', 'every', 'tree,', 'in', 'the'),\n",
              " ('every', 'tree,', 'in', 'the', 'which'),\n",
              " ('tree,', 'in', 'the', 'which', 'is'),\n",
              " ('in', 'the', 'which', 'is', 'the'),\n",
              " ('the', 'which', 'is', 'the', 'fruit'),\n",
              " ('which', 'is', 'the', 'fruit', 'of'),\n",
              " ('is', 'the', 'fruit', 'of', 'a'),\n",
              " ('the', 'fruit', 'of', 'a', 'tree'),\n",
              " ('fruit', 'of', 'a', 'tree', 'yielding'),\n",
              " ('of', 'a', 'tree', 'yielding', 'seed;'),\n",
              " ('a', 'tree', 'yielding', 'seed;', 'to'),\n",
              " ('tree', 'yielding', 'seed;', 'to', 'you'),\n",
              " ('yielding', 'seed;', 'to', 'you', 'it'),\n",
              " ('seed;', 'to', 'you', 'it', 'shall'),\n",
              " ('to', 'you', 'it', 'shall', 'be'),\n",
              " ('you', 'it', 'shall', 'be', 'for'),\n",
              " ('it', 'shall', 'be', 'for', 'meat.'),\n",
              " ('shall', 'be', 'for', 'meat.', '1:30'),\n",
              " ('be', 'for', 'meat.', '1:30', 'And'),\n",
              " ('for', 'meat.', '1:30', 'And', 'to'),\n",
              " ('meat.', '1:30', 'And', 'to', 'every'),\n",
              " ('1:30', 'And', 'to', 'every', 'beast'),\n",
              " ('And', 'to', 'every', 'beast', 'of'),\n",
              " ('to', 'every', 'beast', 'of', 'the'),\n",
              " ('every', 'beast', 'of', 'the', 'earth,'),\n",
              " ('beast', 'of', 'the', 'earth,', 'and'),\n",
              " ('of', 'the', 'earth,', 'and', 'to'),\n",
              " ('the', 'earth,', 'and', 'to', 'every'),\n",
              " ('earth,', 'and', 'to', 'every', 'fowl'),\n",
              " ('and', 'to', 'every', 'fowl', 'of'),\n",
              " ('to', 'every', 'fowl', 'of', 'the'),\n",
              " ('every', 'fowl', 'of', 'the', 'air,'),\n",
              " ('fowl', 'of', 'the', 'air,', 'and'),\n",
              " ('of', 'the', 'air,', 'and', 'to'),\n",
              " ('the', 'air,', 'and', 'to', 'every'),\n",
              " ('air,', 'and', 'to', 'every', 'thing'),\n",
              " ('and', 'to', 'every', 'thing', 'that'),\n",
              " ('to', 'every', 'thing', 'that', 'creepeth'),\n",
              " ('every', 'thing', 'that', 'creepeth', 'upon'),\n",
              " ('thing', 'that', 'creepeth', 'upon', 'the'),\n",
              " ('that', 'creepeth', 'upon', 'the', 'earth,'),\n",
              " ('creepeth', 'upon', 'the', 'earth,', 'wherein'),\n",
              " ('upon', 'the', 'earth,', 'wherein', 'there'),\n",
              " ('the', 'earth,', 'wherein', 'there', 'is'),\n",
              " ('earth,', 'wherein', 'there', 'is', 'life,'),\n",
              " ('wherein', 'there', 'is', 'life,', 'I'),\n",
              " ('there', 'is', 'life,', 'I', 'have'),\n",
              " ('is', 'life,', 'I', 'have', 'given'),\n",
              " ('life,', 'I', 'have', 'given', 'every'),\n",
              " ('I', 'have', 'given', 'every', 'green'),\n",
              " ('have', 'given', 'every', 'green', 'herb'),\n",
              " ('given', 'every', 'green', 'herb', 'for'),\n",
              " ('every', 'green', 'herb', 'for', 'meat:'),\n",
              " ('green', 'herb', 'for', 'meat:', 'and'),\n",
              " ('herb', 'for', 'meat:', 'and', 'it'),\n",
              " ('for', 'meat:', 'and', 'it', 'was'),\n",
              " ('meat:', 'and', 'it', 'was', 'so.'),\n",
              " ('and', 'it', 'was', 'so.', '1:31'),\n",
              " ('it', 'was', 'so.', '1:31', 'And'),\n",
              " ('was', 'so.', '1:31', 'And', 'God'),\n",
              " ('so.', '1:31', 'And', 'God', 'saw'),\n",
              " ('1:31', 'And', 'God', 'saw', 'every'),\n",
              " ('And', 'God', 'saw', 'every', 'thing'),\n",
              " ('God', 'saw', 'every', 'thing', 'that'),\n",
              " ('saw', 'every', 'thing', 'that', 'he'),\n",
              " ('every', 'thing', 'that', 'he', 'had'),\n",
              " ('thing', 'that', 'he', 'had', 'made,'),\n",
              " ('that', 'he', 'had', 'made,', 'and,'),\n",
              " ('he', 'had', 'made,', 'and,', 'behold,'),\n",
              " ('had', 'made,', 'and,', 'behold,', 'it'),\n",
              " ('made,', 'and,', 'behold,', 'it', 'was'),\n",
              " ('and,', 'behold,', 'it', 'was', 'very'),\n",
              " ('behold,', 'it', 'was', 'very', 'good.'),\n",
              " ('it', 'was', 'very', 'good.', 'And'),\n",
              " ('was', 'very', 'good.', 'And', 'the'),\n",
              " ('very', 'good.', 'And', 'the', 'evening'),\n",
              " ('good.', 'And', 'the', 'evening', 'and'),\n",
              " ('And', 'the', 'evening', 'and', 'the'),\n",
              " ('the', 'evening', 'and', 'the', 'morning'),\n",
              " ('evening', 'and', 'the', 'morning', 'were'),\n",
              " ('and', 'the', 'morning', 'were', 'the'),\n",
              " ('the', 'morning', 'were', 'the', 'sixth'),\n",
              " ('morning', 'were', 'the', 'sixth', 'day.'),\n",
              " ('were', 'the', 'sixth', 'day.', '2:1'),\n",
              " ('the', 'sixth', 'day.', '2:1', 'Thus'),\n",
              " ('sixth', 'day.', '2:1', 'Thus', 'the'),\n",
              " ('day.', '2:1', 'Thus', 'the', 'heavens'),\n",
              " ('2:1', 'Thus', 'the', 'heavens', 'and'),\n",
              " ('Thus', 'the', 'heavens', 'and', 'the'),\n",
              " ('the', 'heavens', 'and', 'the', 'earth'),\n",
              " ('heavens', 'and', 'the', 'earth', 'were'),\n",
              " ('and', 'the', 'earth', 'were', 'finished,'),\n",
              " ('the', 'earth', 'were', 'finished,', 'and'),\n",
              " ('earth', 'were', 'finished,', 'and', 'all'),\n",
              " ('were', 'finished,', 'and', 'all', 'the'),\n",
              " ('finished,', 'and', 'all', 'the', 'host'),\n",
              " ('and', 'all', 'the', 'host', 'of'),\n",
              " ('all', 'the', 'host', 'of', 'them.'),\n",
              " ('the', 'host', 'of', 'them.', '2:2'),\n",
              " ('host', 'of', 'them.', '2:2', 'And'),\n",
              " ('of', 'them.', '2:2', 'And', 'on'),\n",
              " ('them.', '2:2', 'And', 'on', 'the'),\n",
              " ('2:2', 'And', 'on', 'the', 'seventh'),\n",
              " ('And', 'on', 'the', 'seventh', 'day'),\n",
              " ('on', 'the', 'seventh', 'day', 'God'),\n",
              " ('the', 'seventh', 'day', 'God', 'ended'),\n",
              " ('seventh', 'day', 'God', 'ended', 'his'),\n",
              " ('day', 'God', 'ended', 'his', 'work'),\n",
              " ('God', 'ended', 'his', 'work', 'which'),\n",
              " ('ended', 'his', 'work', 'which', 'he'),\n",
              " ('his', 'work', 'which', 'he', 'had'),\n",
              " ('work', 'which', 'he', 'had', 'made;'),\n",
              " ('which', 'he', 'had', 'made;', 'and'),\n",
              " ('he', 'had', 'made;', 'and', 'he'),\n",
              " ('had', 'made;', 'and', 'he', 'rested'),\n",
              " ('made;', 'and', 'he', 'rested', 'on'),\n",
              " ('and', 'he', 'rested', 'on', 'the'),\n",
              " ('he', 'rested', 'on', 'the', 'seventh'),\n",
              " ('rested', 'on', 'the', 'seventh', 'day'),\n",
              " ('on', 'the', 'seventh', 'day', 'from'),\n",
              " ('the', 'seventh', 'day', 'from', 'all'),\n",
              " ('seventh', 'day', 'from', 'all', 'his'),\n",
              " ('day', 'from', 'all', 'his', 'work'),\n",
              " ('from', 'all', 'his', 'work', 'which'),\n",
              " ('all', 'his', 'work', 'which', 'he'),\n",
              " ('his', 'work', 'which', 'he', 'had'),\n",
              " ('work', 'which', 'he', 'had', 'made.'),\n",
              " ('which', 'he', 'had', 'made.', '2:3'),\n",
              " ('he', 'had', 'made.', '2:3', 'And'),\n",
              " ('had', 'made.', '2:3', 'And', 'God'),\n",
              " ('made.', '2:3', 'And', 'God', 'blessed'),\n",
              " ('2:3', 'And', 'God', 'blessed', 'the'),\n",
              " ('And', 'God', 'blessed', 'the', 'seventh'),\n",
              " ('God', 'blessed', 'the', 'seventh', 'day,'),\n",
              " ('blessed', 'the', 'seventh', 'day,', 'and'),\n",
              " ('the', 'seventh', 'day,', 'and', 'sanctified'),\n",
              " ('seventh', 'day,', 'and', 'sanctified', 'it:'),\n",
              " ('day,', 'and', 'sanctified', 'it:', 'because'),\n",
              " ('and', 'sanctified', 'it:', 'because', 'that'),\n",
              " ('sanctified', 'it:', 'because', 'that', 'in'),\n",
              " ('it:', 'because', 'that', 'in', 'it'),\n",
              " ('because', 'that', 'in', 'it', 'he'),\n",
              " ('that', 'in', 'it', 'he', 'had'),\n",
              " ('in', 'it', 'he', 'had', 'rested'),\n",
              " ('it', 'he', 'had', 'rested', 'from'),\n",
              " ('he', 'had', 'rested', 'from', 'all'),\n",
              " ('had', 'rested', 'from', 'all', 'his'),\n",
              " ('rested', 'from', 'all', 'his', 'work'),\n",
              " ('from', 'all', 'his', 'work', 'which'),\n",
              " ('all', 'his', 'work', 'which', 'God'),\n",
              " ('his', 'work', 'which', 'God', 'created'),\n",
              " ('work', 'which', 'God', 'created', 'and'),\n",
              " ('which', 'God', 'created', 'and', 'made.'),\n",
              " ('God', 'created', 'and', 'made.', '2:4'),\n",
              " ('created', 'and', 'made.', '2:4', 'These'),\n",
              " ('and', 'made.', '2:4', 'These', 'are'),\n",
              " ('made.', '2:4', 'These', 'are', 'the'),\n",
              " ('2:4', 'These', 'are', 'the', 'generations'),\n",
              " ('These', 'are', 'the', 'generations', 'of'),\n",
              " ('are', 'the', 'generations', 'of', 'the'),\n",
              " ('the', 'generations', 'of', 'the', 'heavens'),\n",
              " ('generations', 'of', 'the', 'heavens', 'and'),\n",
              " ('of', 'the', 'heavens', 'and', 'of'),\n",
              " ('the', 'heavens', 'and', 'of', 'the'),\n",
              " ('heavens', 'and', 'of', 'the', 'earth'),\n",
              " ('and', 'of', 'the', 'earth', 'when'),\n",
              " ('of', 'the', 'earth', 'when', 'they'),\n",
              " ('the', 'earth', 'when', 'they', 'were'),\n",
              " ('earth', 'when', 'they', 'were', 'created,'),\n",
              " ('when', 'they', 'were', 'created,', 'in'),\n",
              " ('they', 'were', 'created,', 'in', 'the'),\n",
              " ('were', 'created,', 'in', 'the', 'day'),\n",
              " ('created,', 'in', 'the', 'day', 'that'),\n",
              " ('in', 'the', 'day', 'that', 'the'),\n",
              " ('the', 'day', 'that', 'the', 'LORD'),\n",
              " ('day', 'that', 'the', 'LORD', 'God'),\n",
              " ('that', 'the', 'LORD', 'God', 'made'),\n",
              " ('the', 'LORD', 'God', 'made', 'the'),\n",
              " ('LORD', 'God', 'made', 'the', 'earth'),\n",
              " ('God', 'made', 'the', 'earth', 'and'),\n",
              " ('made', 'the', 'earth', 'and', 'the'),\n",
              " ('the', 'earth', 'and', 'the', 'heavens,'),\n",
              " ('earth', 'and', 'the', 'heavens,', '2:5'),\n",
              " ('and', 'the', 'heavens,', '2:5', 'And'),\n",
              " ('the', 'heavens,', '2:5', 'And', 'every'),\n",
              " ('heavens,', '2:5', 'And', 'every', 'plant'),\n",
              " ('2:5', 'And', 'every', 'plant', 'of'),\n",
              " ('And', 'every', 'plant', 'of', 'the'),\n",
              " ('every', 'plant', 'of', 'the', 'field'),\n",
              " ('plant', 'of', 'the', 'field', 'before'),\n",
              " ('of', 'the', 'field', 'before', 'it'),\n",
              " ('the', 'field', 'before', 'it', 'was'),\n",
              " ('field', 'before', 'it', 'was', 'in'),\n",
              " ('before', 'it', 'was', 'in', 'the'),\n",
              " ('it', 'was', 'in', 'the', 'earth,'),\n",
              " ('was', 'in', 'the', 'earth,', 'and'),\n",
              " ('in', 'the', 'earth,', 'and', 'every'),\n",
              " ('the', 'earth,', 'and', 'every', 'herb'),\n",
              " ('earth,', 'and', 'every', 'herb', 'of'),\n",
              " ('and', 'every', 'herb', 'of', 'the'),\n",
              " ('every', 'herb', 'of', 'the', 'field'),\n",
              " ('herb', 'of', 'the', 'field', 'before'),\n",
              " ('of', 'the', 'field', 'before', 'it'),\n",
              " ('the', 'field', 'before', 'it', 'grew:'),\n",
              " ('field', 'before', 'it', 'grew:', 'for'),\n",
              " ('before', 'it', 'grew:', 'for', 'the'),\n",
              " ('it', 'grew:', 'for', 'the', 'LORD'),\n",
              " ('grew:', 'for', 'the', 'LORD', 'God'),\n",
              " ('for', 'the', 'LORD', 'God', 'had'),\n",
              " ('the', 'LORD', 'God', 'had', 'not'),\n",
              " ('LORD', 'God', 'had', 'not', 'caused'),\n",
              " ('God', 'had', 'not', 'caused', 'it'),\n",
              " ('had', 'not', 'caused', 'it', 'to'),\n",
              " ('not', 'caused', 'it', 'to', 'rain'),\n",
              " ('caused', 'it', 'to', 'rain', 'upon'),\n",
              " ('it', 'to', 'rain', 'upon', 'the'),\n",
              " ('to', 'rain', 'upon', 'the', 'earth,'),\n",
              " ('rain', 'upon', 'the', 'earth,', 'and'),\n",
              " ('upon', 'the', 'earth,', 'and', 'there'),\n",
              " ('the', 'earth,', 'and', 'there', 'was'),\n",
              " ('earth,', 'and', 'there', 'was', 'not'),\n",
              " ('and', 'there', 'was', 'not', 'a'),\n",
              " ('there', 'was', 'not', 'a', 'man'),\n",
              " ('was', 'not', 'a', 'man', 'to'),\n",
              " ('not', 'a', 'man', 'to', 'till'),\n",
              " ('a', 'man', 'to', 'till', 'the'),\n",
              " ('man', 'to', 'till', 'the', 'ground.'),\n",
              " ('to', 'till', 'the', 'ground.', '2:6'),\n",
              " ('till', 'the', 'ground.', '2:6', 'But'),\n",
              " ('the', 'ground.', '2:6', 'But', 'there'),\n",
              " ('ground.', '2:6', 'But', 'there', 'went'),\n",
              " ('2:6', 'But', 'there', 'went', 'up'),\n",
              " ('But', 'there', 'went', 'up', 'a'),\n",
              " ('there', 'went', 'up', 'a', 'mist'),\n",
              " ('went', 'up', 'a', 'mist', 'from'),\n",
              " ('up', 'a', 'mist', 'from', 'the'),\n",
              " ('a', 'mist', 'from', 'the', 'earth,'),\n",
              " ('mist', 'from', 'the', 'earth,', 'and'),\n",
              " ('from', 'the', 'earth,', 'and', 'watered'),\n",
              " ('the', 'earth,', 'and', 'watered', 'the'),\n",
              " ...]"
            ]
          },
          "metadata": {},
          "execution_count": 72
        }
      ]
    },
    {
      "cell_type": "markdown",
      "source": [
        "##🔰 [6] Concordance\n",
        "\n",
        "words in context"
      ],
      "metadata": {
        "id": "sSiDo9DzH25V"
      }
    },
    {
      "cell_type": "code",
      "source": [
        "nltk.Text(words).concordance('Jennings',130,10)"
      ],
      "metadata": {
        "colab": {
          "base_uri": "https://localhost:8080/"
        },
        "id": "x6S-8AhrMSlF",
        "outputId": "daa23115-a805-44a7-90de-2b87b3e15c79"
      },
      "execution_count": null,
      "outputs": [
        {
          "output_type": "stream",
          "name": "stdout",
          "text": [
            "Displaying 10 of 230 matches:\n",
            "two entire strangers of the party and wished for no more Mrs Jennings Lady Middleton s mother was a good humoured merry fat elderl\n",
            "pain than could arise from such common place raillery as Mrs Jennings s Colonel Brandon the friend of Sir John seemed no more adap\n",
            " be his friend than Lady Middleton was to be his wife or Mrs Jennings to be Lady Middleton s mother He was silent and grave His ap\n",
            "advanced state of life which humanity required CHAPTER 8 Mrs Jennings was a widow with an ample jointure She had only two daughter\n",
            " an excellent match for HE was rich and SHE was handsome Mrs Jennings had been anxious to see Colonel Brandon well married ever si\n",
            " to the youthful fancy of her daughter ventured to clear Mrs Jennings from the probability of wishing to throw ridicule on his age\n",
            "ly ill natured Colonel Brandon is certainly younger than Mrs Jennings but he is old enough to be MY father and if he were ever ani\n",
            " though unwillingly to believe that the sentiments which Mrs Jennings had assigned him for her own satisfaction were now actually \n",
            " of being approved by such a woman as Lady Middleton and Mrs Jennings that could command the indifference of any body else But per\n",
            "nd with less regret than ever Neither Lady Middleton nor Mrs Jennings could supply to her the conversation she missed although the\n"
          ]
        }
      ]
    },
    {
      "cell_type": "code",
      "source": [
        "nltk.Text(words).dispersion_plot(['Jennings','Brandon','John','Elinor'])"
      ],
      "metadata": {
        "colab": {
          "base_uri": "https://localhost:8080/",
          "height": 295
        },
        "id": "9cmq2NMBM4YT",
        "outputId": "9db3fe0f-b63a-4d7a-97bc-4f4b9cbd905f"
      },
      "execution_count": null,
      "outputs": [
        {
          "output_type": "display_data",
          "data": {
            "text/plain": [
              "<Figure size 432x288 with 1 Axes>"
            ],
            "image/png": "[encoded data removed]"
          },
          "metadata": {
            "needs_background": "light"
          }
        }
      ]
    },
    {
      "cell_type": "code",
      "source": [
        "fd = nltk.FreqDist(words).most_common(10)\n",
        "fd"
      ],
      "metadata": {
        "colab": {
          "base_uri": "https://localhost:8080/"
        },
        "id": "Ww3wfNCrNWId",
        "outputId": "dfde2e4a-af87-4393-b4c8-ff5c6007d159"
      },
      "execution_count": null,
      "outputs": [
        {
          "output_type": "execute_result",
          "data": {
            "text/plain": [
              "[('to', 4063),\n",
              " ('the', 3861),\n",
              " ('of', 3565),\n",
              " ('and', 3350),\n",
              " ('her', 2436),\n",
              " ('a', 2043),\n",
              " ('I', 2004),\n",
              " ('in', 1904),\n",
              " ('was', 1846),\n",
              " ('it', 1568)]"
            ]
          },
          "metadata": {},
          "execution_count": 271
        }
      ]
    },
    {
      "cell_type": "markdown",
      "source": [
        "##🔰 [7] Lexical Diversity Assessments:\n",
        "Keywords: **TTR (Type-to-Token Ratio), MTLD, vocd-D,** and **HD-D**\n",
        "\n",
        "**[Notes]** \n",
        "1. The lexical diversity indices here refer to the following article:\n",
        "\n",
        "* [McCarthy, P.M., Jarvis, S.](\"https://link.springer.com/article/10.3758/BRM.42.2.381\") (2010). MTLD, vocd-D, and HD-D: A validation study of sophisticated approaches to lexical diversity assessment. Behavior Research Methods 42, 381–392. https://doi.org/10.3758/BRM.42.2.381\n",
        "\n",
        "2. The Python coding here uses [Kristopher Kyle's {lexical-diversity} package](\"https://github.com/kristopherkyle/lexical_diversity\").\n",
        "\n",
        "3. TTR, Log TTR, RootTTR etc: These measures have been criticized since they are heavily influenced by text length. (Tweedie & Baayen, 1998; Chipere et al., 2004; Kettunen, 2014) Thus, researchers should use matrics such as MTLD, HDD, MASS, etc\n",
        "\n"
      ],
      "metadata": {
        "id": "7zKdKkKfH6Wj"
      }
    },
    {
      "cell_type": "markdown",
      "source": [
        "### **Step#1** Intalling {lexical-diversity} packages:"
      ],
      "metadata": {
        "id": "DnZrNr0Zj9Wj"
      }
    },
    {
      "cell_type": "code",
      "execution_count": null,
      "metadata": {
        "id": "dmMZqmq8d1sz"
      },
      "outputs": [],
      "source": [
        "%%capture\n",
        "pip install lexical-diversity"
      ]
    },
    {
      "cell_type": "code",
      "source": [
        "from lexical_diversity import lex_div as ld"
      ],
      "metadata": {
        "id": "ss-i74H6vlNE"
      },
      "execution_count": null,
      "outputs": []
    },
    {
      "cell_type": "markdown",
      "source": [
        "### **Step#2** Bring your texts to be analyzed:\n",
        "\n",
        "Text upload: Copy the text following the link and past it when asked.\n",
        "\n",
        "[Text1 to copy](https://raw.githubusercontent.com/MK316/workshop22/main/data/RE.Ch01.txt)"
      ],
      "metadata": {
        "id": "Jo-yR1aojtrg"
      }
    },
    {
      "cell_type": "code",
      "source": [
        "#1# Copy and paste the text directly in the cell:\n",
        "\n",
        "text1 = input()"
      ],
      "metadata": {
        "id": "FgR5hPZ2kKKM",
        "colab": {
          "base_uri": "https://localhost:8080/"
        },
        "outputId": "34a2bfa2-14d1-437d-c72d-a61c9b7f4867"
      },
      "execution_count": null,
      "outputs": [
        {
          "name": "stdout",
          "output_type": "stream",
          "text": [
            "The visual village  Before the age of the smartphone, aspiring photographers had to learn how to use high-tech cameras and photographic techniques. Not everyone had cameras, and it took skill and a good eye to capture and create a great photograph. Today, with the huge range of camera apps on our smartphones, we are all amateur photographers. And pretty good ones, too: The quality of smartphone images now nearly equals that of digital cameras. The new ease of photography has given us a tremendous appetite for capturing the magical and the ordinary. We are obsessed with documenting everyday moments, whether it’s a shot of our breakfast, our cat – or our cat’s breakfast. And rather than collect pictures in scrapbooks, we share, like, and comment on them with friends and strangers around the globe. Even photojournalists are experimenting with cell phones because their near invisibility makes it easier to capture unguarded media. They can now act as their own publishers – reaching huge audiences via social media sites such as Instagram. A photograph taken in New York can get a response from someone in Lagos within a second of being uploaded. In the past, magazines published unforgettable photos of important people and global events that captured our imaginations. These photos had the power to change public opinion – even the course of history. But if there are fewer memorable images today, it’s not because there are fewer good images: It’s because there are so many. No one image gets to be special for long. Cameras are everywhere – a situation that is transforming the way we experience dramatic events. When there are major political events or natural disasters, it is ordinary citizens with cell phones – not photojournalists – who often provide the first news images. Quality still matters, but it’s less important than what’s instantly shared. As people everywhere embrace photography and the media make use of citizen journalist, professional standards appear to be shifting. In the past, most people trusted photojournalists to accurately represent reality. Today, however, digital images can be altered in ways the naked eye might never notice. Any image can be altered to create an “improved” picture of reality. The average viewer is left with no way to assess the accuracy of an image except through trust in a news organization or photographer. The question of the accuracy of images gets even trickier when photojournalists start experimenting with camera apps – like Flickr or Instagram – which encourage the use of filters. Images can be colored, brightened, faded, and scratched to make photographs more artistic, or to give them an antique look. Photojournalists using camera apps to cover wars and conflicts have created powerful images – but also controversy. Critics worry that antique-looking photographs romanticize war, while distancing us from those who fight in them. Yet, photography has always been more subjective than we assume. Each picture is a result of a series of decisions – where to stand, what lens to use, and what to leave in or out of the frame. Does altering photographs with camera app filters make them less true? There’s something powerful and exciting about the experiment that the digital age has forced upon us. These new tools make it easier to tell our own stories, and they give others the power to do the same. Many members of the media get stuck on the same stories, focusing on elections, governments, wars, and disasters. In the process, they miss out on the less dramatic images of daily life that can be just as revealing and relevant. The increase in the number of photographs and photographers might even be good for democracy itself. Hundreds of millions of potential citizen journalists make the world smaller and help keep leaders honest. People can now show what they are up against, making it increasingly difficult for governments to hide their actions. If everyone has a camera, Big Brother isn’t the only one watching. Who knows? Our obsession with documentation and constantly being connected could lead to a radical change in our way of being. Perhaps we are witnessing the development of a universal visual language. It’s one that could change the way we relate to each other and the world. Of course, as with any language, there will be those who produce poetry and those who make shopping lists. It’s not clear whether this flowering of image-making will lead to a public that better appreciates and understands images. Or will it simply numb us to the profound effects a well-made image can have? Regardless, the change is irreversible. Let’s hope the millions of new photographs made today help us see what we all have in common, rather than what sets us apart.\n"
          ]
        }
      ]
    },
    {
      "cell_type": "markdown",
      "source": [
        "[Text2 to copy](https://raw.githubusercontent.com/MK316/workshop22/main/data/RE.Ch02.txt)"
      ],
      "metadata": {
        "id": "zp1YEtL0bhlo"
      }
    },
    {
      "cell_type": "code",
      "source": [
        "text2 = input()"
      ],
      "metadata": {
        "colab": {
          "base_uri": "https://localhost:8080/"
        },
        "id": "z3EqjTVWbgGH",
        "outputId": "bd993ffb-5528-42da-d3fb-ebd45d66f0be"
      },
      "execution_count": null,
      "outputs": [
        {
          "name": "stdout",
          "output_type": "stream",
          "text": [
            "Living light  The ability of some species to create light, known as bioluminescence, is both magical and commonplace. Magical, because of its glimmering beauty. Commonplace, because many life forms can do it. On land the most familiar examples are fireflies, flashing to attract mates on a warm summer night. But there are other luminous land organisms, including glow-worms, millipedes, and some ninety species of fungus. Even some birds, such as the Atlantic puffin, have beaks that glow in the dark. But the real biological light show takes place in the sea. Here, an astonishing number of beings can make light. Some, such as ostracods, are like ocean fireflies, using flashes of light to attract mate. There are also glowing bacteria, and light-making fish, squid, and jellyfish. Indeed, of all the groups of organisms known to make light, more than four-fifths live in the ocean. As a place to live, the ocean has a couple of peculiarities. Firstly, there is almost nowhere to hide, so being invisible is very important. Secondly, as you descend, sunlight disappears. At first, red light is absorbed. Then the yellow and green parts of the spectrum disappear, leaving just the blue. At two-hundred meters below the surface, the ocean becomes a kind of perpetual twilight, and at six-hundred meters the blue fades out too. In fact, most of the ocean is as black as the night sky. These factors make light uniquely useful as a weapon or a veil. Hiding with light In the ocean’s upper layers, where light penetrates, creatures need to blend in to survive. Any life form that stands out is in danger of being spotted by predators, especially those swimming below, looking up. Many life forms solve this problem by avoiding the light zone during the day. Others, such as jellyfish and swimming snails, are transparent, ghostlike creatures, almost impossible to see. Other sea species use light to survive in the upper layers, but how? Some, such as certain shrimp and squid, illuminate their bellies to match the light coming from above. This allows them to become invisible to predators below. Their light can be turned on and off at will, some even have a dimmer switch. For example, certain types of shrimp can alter how much light they give off, depending on the brightness of the water around them. If a cloud passes overhead and briefly blocks the light, the shrimp will dim itself accordingly. But if the aim is to remain invisible, why do some creatures light up when they are touched, or when the water nearby is disturbed? A couple of reasons. First, a sudden burst of light may startle a predator, giving the prey a chance to escape. Some kinds of deep-sea squid, for example, give a big squirt of light before darting off into the gloom. Second, there is the principle of ‘the enemy of my enemy is my friend.’ Giving off light can help summon the predator of your predator. Known as the burglar alarm effect, this is especially useful for tiny life forms, such as dinoflagellates, that cannot swim fast. For such small beings, water is too viscous to allow a quick getaway, it would be like trying to swim through syrup. Instead, when threatened by a shrimp, for example, these organisms light up. The flashes attract larger fish that are better able to spot, and eat, the shrimp. The chief defense for these tiny organisms is therefore not fight or flight, but light. \n"
          ]
        }
      ]
    },
    {
      "cell_type": "code",
      "source": [
        "tleng1 = len(text1); print('Text length: ',tleng1)\n",
        "tleng2 = len(text2); print('Text length: ',tleng2)"
      ],
      "metadata": {
        "colab": {
          "base_uri": "https://localhost:8080/"
        },
        "outputId": "f7e5c46f-1a5f-4e81-ab5a-fc0ab6f52f3d",
        "id": "YhV8ARmof4Bc"
      },
      "execution_count": null,
      "outputs": [
        {
          "output_type": "stream",
          "name": "stdout",
          "text": [
            "Text length:  4755\n",
            "Text length:  3382\n"
          ]
        }
      ]
    },
    {
      "cell_type": "code",
      "source": [
        "tok1 = ld.tokenize(text1); tok2 = ld.tokenize(text2)\n",
        "tok1 = [w for w in tok1 if len(w) >1]; tok2 = [w for w in tok2 if len(w) >1]\n",
        "print('First 10 tokenized words in text1:', tok1[:10])\n",
        "print('First 10 tokenized words in text2:', tok2[:10])"
      ],
      "metadata": {
        "colab": {
          "base_uri": "https://localhost:8080/"
        },
        "outputId": "770c3db4-2271-4a40-90d9-975e3a4efe1c",
        "id": "lCPcgBNDf4Bd"
      },
      "execution_count": null,
      "outputs": [
        {
          "output_type": "stream",
          "name": "stdout",
          "text": [
            "First 10 tokenized words in text1: ['the', 'visual', 'village', 'before', 'the', 'age', 'of', 'the', 'smartphone', 'aspiring']\n",
            "First 10 tokenized words in text2: ['living', 'light', 'the', 'ability', 'of', 'some', 'species', 'to', 'create', 'light']\n"
          ]
        }
      ]
    },
    {
      "cell_type": "code",
      "source": [
        "flt1 = ld.flemmatize(text1)\n",
        "flt2 = ld.flemmatize(text2)"
      ],
      "metadata": {
        "id": "whvJDBujf4Bd"
      },
      "execution_count": null,
      "outputs": []
    },
    {
      "cell_type": "markdown",
      "source": [
        "### **[0] TTR:** This measure is sensitive to the length of a text."
      ],
      "metadata": {
        "id": "v6Mu13NeetCY"
      }
    },
    {
      "cell_type": "markdown",
      "source": [
        "### Lexical Diversity indices:\n",
        "\n",
        "* TTR (Type-Token ratio) = Type / Token: \n",
        "\n",
        "e.g., unique words = 400, Token = 1,000\n",
        "TTR = 400 / 1,000 = 0.4\n",
        "\n",
        "- It is a measure of vocabulary ***variation*** within a written text or a speech\n",
        "\n",
        "- The closer the TTR ratio is to 1, the greater the lexical richness of the segment.\n",
        "\n",
        "* Note: TTR values vary in accordance with the length of the text. That is, TTR’s are not comparable unless they are based on texts of the same length. \n",
        "\n",
        "=> STTR (Standardized TTR): You can get an average type/token ratio based on consecutive 1,000-word chunks of text. (Texts with less than 1,000 words will get a standardised type/token ratio of 0.)"
      ],
      "metadata": {
        "id": "II7Amu12lCCX"
      }
    },
    {
      "cell_type": "markdown",
      "source": [
        "References\n",
        "Johnson (1939) Language and Speech Hygiene: an Application of General Semantics: Outline of a Course (Chicago)."
      ],
      "metadata": {
        "id": "_EksYVihyZTo"
      }
    },
    {
      "cell_type": "code",
      "source": [
        "ttr1 = ld.ttr(flt1)\n",
        "ttr2 = ld.ttr(flt2)\n",
        "print(ttr1, ttr2)"
      ],
      "metadata": {
        "colab": {
          "base_uri": "https://localhost:8080/"
        },
        "id": "xHlc5x3SfEyY",
        "outputId": "cc1a0d61-0687-4de7-880b-714bdf13786f"
      },
      "execution_count": null,
      "outputs": [
        {
          "output_type": "stream",
          "name": "stdout",
          "text": [
            "0.42258883248730966 0.45689655172413796\n"
          ]
        }
      ]
    },
    {
      "cell_type": "markdown",
      "source": [
        "### [1] **MTLD**: the Measure of Textual Lexical Diversity\n",
        "\n",
        "* The index for this approach is calculated as the mean length of word strings that maintain a criterion level of lexical variation.\n",
        "\n",
        "* This index is not found to vary as a function of text length. (McCarthy, 2010)"
      ],
      "metadata": {
        "id": "4DaWeIibfXbQ"
      }
    },
    {
      "cell_type": "markdown",
      "source": [
        "\"... MTLD is obtained by dividing the total number of words by\n",
        "the total number of factors. Thus, if the text is 360 words long and there are 4 factors, the MTLD value is 90. ... The final version of MTLD is obtained by running the programme\n",
        "forward and backward through the data and calculating an average of the outcome of both. According to McCarthy (2005) and Crossley et al. (2009), MTLD does not vary as a function of text length for text segments whose length is in the\n",
        "100–2,000-word range.\" excerpt from [Treffers-Daller, J. (2013)](\"https://centaur.reading.ac.uk/28712/1/04ch3.pdf\") Measuring lexical diversity among L2\n",
        "learners of French: an exploration of the validity of D, MTLD\n",
        "and HD-D as measures of language ability. In: Jarvis, S. and\n",
        "Daller, M. (eds.) Vocabulary knowledge: human ratings and\n",
        "automated measures. Benjamins, Amsterdam, pp. 79-104.\n",
        "ISBN 9789027241887 Available at\n",
        "http://centaur.reading.ac.uk/28712/"
      ],
      "metadata": {
        "id": "Nt8vb4bU7ppU"
      }
    },
    {
      "cell_type": "code",
      "source": [
        "tleng1 = len(text1); print('Text length: ',tleng1)\n",
        "tleng2 = len(text2); print('Text length: ',tleng2)"
      ],
      "metadata": {
        "colab": {
          "base_uri": "https://localhost:8080/"
        },
        "id": "LzsFgC0m873R",
        "outputId": "a49f3ca6-efe4-4a4e-8fc2-7841d1f33e4e"
      },
      "execution_count": null,
      "outputs": [
        {
          "output_type": "stream",
          "name": "stdout",
          "text": [
            "Text length:  4755\n",
            "Text length:  3382\n"
          ]
        }
      ]
    },
    {
      "cell_type": "code",
      "source": [
        "tok1 = ld.tokenize(text1); tok2 = ld.tokenize(text2)\n",
        "tok1 = [w for w in tok1 if len(w) >1]; tok2 = [w for w in tok2 if len(w) >1]\n",
        "print('First 10 tokenized words in text1:', tok1[:10])\n",
        "print('First 10 tokenized words in text2:', tok2[:10])"
      ],
      "metadata": {
        "colab": {
          "base_uri": "https://localhost:8080/"
        },
        "id": "Ycm2T0vhvbnm",
        "outputId": "0d917317-7973-4f7c-b9d1-8103e2b6fee0"
      },
      "execution_count": null,
      "outputs": [
        {
          "output_type": "stream",
          "name": "stdout",
          "text": [
            "First 10 tokenized words in text1: ['the', 'visual', 'village', 'before', 'the', 'age', 'of', 'the', 'smartphone', 'aspiring']\n",
            "First 10 tokenized words in text2: ['living', 'light', 'the', 'ability', 'of', 'some', 'species', 'to', 'create', 'light']\n"
          ]
        }
      ]
    },
    {
      "cell_type": "code",
      "source": [
        "flt1 = ld.flemmatize(text1)\n",
        "flt2 = ld.flemmatize(text2)"
      ],
      "metadata": {
        "id": "GW56Ew8mv2VT"
      },
      "execution_count": null,
      "outputs": []
    },
    {
      "cell_type": "code",
      "source": [
        "mtld1 = ld.mtld(flt1); print(\"MTLD index: %d\"%mtld1)\n",
        "mtld2 = ld.mtld(flt2); print(\"MTLD index: %d\"%mtld2)"
      ],
      "metadata": {
        "colab": {
          "base_uri": "https://localhost:8080/"
        },
        "id": "hy_hD4enfcjg",
        "outputId": "92e8740f-87f2-4aa7-f078-2f70444528f3"
      },
      "execution_count": null,
      "outputs": [
        {
          "output_type": "stream",
          "name": "stdout",
          "text": [
            "MTLD index: 102\n",
            "MTLD index: 82\n"
          ]
        }
      ]
    },
    {
      "cell_type": "markdown",
      "source": [
        "### **[2] HD-D**(or vocd-D): Hypergeometric distribution D\n",
        "* HD-D is a viable alternative to the vocd-D standard."
      ],
      "metadata": {
        "id": "1iWMLmvVgz3t"
      }
    },
    {
      "cell_type": "code",
      "source": [
        "hdd1 = ld.hdd(flt1); print('HD-D index: ',hdd1)\n",
        "hdd2 = ld.hdd(flt2); print('HD-D index: ',hdd2)"
      ],
      "metadata": {
        "colab": {
          "base_uri": "https://localhost:8080/"
        },
        "id": "DEsKy2wjg7tI",
        "outputId": "338311d2-a7af-4029-aa3a-26bf82a3c955"
      },
      "execution_count": null,
      "outputs": [
        {
          "output_type": "stream",
          "name": "stdout",
          "text": [
            "HD-D index:  0.8531322110810644\n",
            "HD-D index:  0.8330696824693796\n"
          ]
        }
      ]
    },
    {
      "cell_type": "markdown",
      "source": [
        "### **[3] MASS**:\n",
        "\n",
        "* Three of the indices — MTLD, vocd-D (or HD-D), and Maas—appear to capture unique lexical information. "
      ],
      "metadata": {
        "id": "NDQzK6ODhCs1"
      }
    },
    {
      "cell_type": "code",
      "source": [
        "mass1 = ld.maas_ttr(flt1); print('MASS index: ', mass1)\n",
        "mass2 = ld.maas_ttr(flt2); print('MASS index: ', mass2)"
      ],
      "metadata": {
        "colab": {
          "base_uri": "https://localhost:8080/"
        },
        "id": "qw-_fyZuhHyu",
        "outputId": "991f7f21-d6cc-49fe-be10-bcf85bb30402"
      },
      "execution_count": null,
      "outputs": [
        {
          "output_type": "stream",
          "name": "stdout",
          "text": [
            "MASS index:  0.04458737093343894\n",
            "MASS index:  0.044546663099875504\n"
          ]
        }
      ]
    },
    {
      "cell_type": "markdown",
      "source": [
        "### Result summary"
      ],
      "metadata": {
        "id": "PfHEzb5560FM"
      }
    },
    {
      "cell_type": "code",
      "source": [
        "# result table\n",
        "\n",
        "df = pd.DataFrame()\n",
        "\n",
        "df['Text'] = ['Text1','Text2']\n",
        "df['Length'] = [tleng1, tleng2]\n",
        "df['TTR'] = [ttr1, ttr2]\n",
        "df['MTLD'] = [round(mtld1,2), round(mtld2,2)]\n",
        "df['HDD'] = [round(hdd1,4), round(hdd2,4)]\n",
        "df['MASS'] = [round(mass1,4), round(mass2,4)]\n",
        "\n",
        "df"
      ],
      "metadata": {
        "colab": {
          "base_uri": "https://localhost:8080/",
          "height": 112
        },
        "id": "JWsqZ5ntc3R6",
        "outputId": "2f3e6ee9-5ff0-47a0-d9b1-b8d0b7fff9da"
      },
      "execution_count": null,
      "outputs": [
        {
          "output_type": "execute_result",
          "data": {
            "text/plain": [
              "    Text  Length       TTR    MTLD     HDD    MASS\n",
              "0  Text1    4755  0.422589  102.14  0.8531  0.0446\n",
              "1  Text2    3382  0.456897   82.86  0.8331  0.0445"
            ],
            "text/html": [
              "\n",
              "  <div id=\"df-bb914dc7-c9e1-41ee-8a5f-26fd1a3cd91e\">\n",
              "    <div class=\"colab-df-container\">\n",
              "      <div>\n",
              "<style scoped>\n",
              "    .dataframe tbody tr th:only-of-type {\n",
              "        vertical-align: middle;\n",
              "    }\n",
              "\n",
              "    .dataframe tbody tr th {\n",
              "        vertical-align: top;\n",
              "    }\n",
              "\n",
              "    .dataframe thead th {\n",
              "        text-align: right;\n",
              "    }\n",
              "</style>\n",
              "<table border=\"1\" class=\"dataframe\">\n",
              "  <thead>\n",
              "    <tr style=\"text-align: right;\">\n",
              "      <th></th>\n",
              "      <th>Text</th>\n",
              "      <th>Length</th>\n",
              "      <th>TTR</th>\n",
              "      <th>MTLD</th>\n",
              "      <th>HDD</th>\n",
              "      <th>MASS</th>\n",
              "    </tr>\n",
              "  </thead>\n",
              "  <tbody>\n",
              "    <tr>\n",
              "      <th>0</th>\n",
              "      <td>Text1</td>\n",
              "      <td>4755</td>\n",
              "      <td>0.422589</td>\n",
              "      <td>102.14</td>\n",
              "      <td>0.8531</td>\n",
              "      <td>0.0446</td>\n",
              "    </tr>\n",
              "    <tr>\n",
              "      <th>1</th>\n",
              "      <td>Text2</td>\n",
              "      <td>3382</td>\n",
              "      <td>0.456897</td>\n",
              "      <td>82.86</td>\n",
              "      <td>0.8331</td>\n",
              "      <td>0.0445</td>\n",
              "    </tr>\n",
              "  </tbody>\n",
              "</table>\n",
              "</div>\n",
              "      <button class=\"colab-df-convert\" onclick=\"convertToInteractive('df-bb914dc7-c9e1-41ee-8a5f-26fd1a3cd91e')\"\n",
              "              title=\"Convert this dataframe to an interactive table.\"\n",
              "              style=\"display:none;\">\n",
              "        \n",
              "  <svg xmlns=\"http://www.w3.org/2000/svg\" height=\"24px\"viewBox=\"0 0 24 24\"\n",
              "       width=\"24px\">\n",
              "    <path d=\"M0 0h24v24H0V0z\" fill=\"none\"/>\n",
              "    <path d=\"M18.56 5.44l.94 2.06.94-2.06 2.06-.94-2.06-.94-.94-2.06-.94 2.06-2.06.94zm-11 1L8.5 8.5l.94-2.06 2.06-.94-2.06-.94L8.5 2.5l-.94 2.06-2.06.94zm10 10l.94 2.06.94-2.06 2.06-.94-2.06-.94-.94-2.06-.94 2.06-2.06.94z\"/><path d=\"M17.41 7.96l-1.37-1.37c-.4-.4-.92-.59-1.43-.59-.52 0-1.04.2-1.43.59L10.3 9.45l-7.72 7.72c-.78.78-.78 2.05 0 2.83L4 21.41c.39.39.9.59 1.41.59.51 0 1.02-.2 1.41-.59l7.78-7.78 2.81-2.81c.8-.78.8-2.07 0-2.86zM5.41 20L4 18.59l7.72-7.72 1.47 1.35L5.41 20z\"/>\n",
              "  </svg>\n",
              "      </button>\n",
              "      \n",
              "  <style>\n",
              "    .colab-df-container {\n",
              "      display:flex;\n",
              "      flex-wrap:wrap;\n",
              "      gap: 12px;\n",
              "    }\n",
              "\n",
              "    .colab-df-convert {\n",
              "      background-color: #E8F0FE;\n",
              "      border: none;\n",
              "      border-radius: 50%;\n",
              "      cursor: pointer;\n",
              "      display: none;\n",
              "      fill: #1967D2;\n",
              "      height: 32px;\n",
              "      padding: 0 0 0 0;\n",
              "      width: 32px;\n",
              "    }\n",
              "\n",
              "    .colab-df-convert:hover {\n",
              "      background-color: #E2EBFA;\n",
              "      box-shadow: 0px 1px 2px rgba(60, 64, 67, 0.3), 0px 1px 3px 1px rgba(60, 64, 67, 0.15);\n",
              "      fill: #174EA6;\n",
              "    }\n",
              "\n",
              "    [theme=dark] .colab-df-convert {\n",
              "      background-color: #3B4455;\n",
              "      fill: #D2E3FC;\n",
              "    }\n",
              "\n",
              "    [theme=dark] .colab-df-convert:hover {\n",
              "      background-color: #434B5C;\n",
              "      box-shadow: 0px 1px 3px 1px rgba(0, 0, 0, 0.15);\n",
              "      filter: drop-shadow(0px 1px 2px rgba(0, 0, 0, 0.3));\n",
              "      fill: #FFFFFF;\n",
              "    }\n",
              "  </style>\n",
              "\n",
              "      <script>\n",
              "        const buttonEl =\n",
              "          document.querySelector('#df-bb914dc7-c9e1-41ee-8a5f-26fd1a3cd91e button.colab-df-convert');\n",
              "        buttonEl.style.display =\n",
              "          google.colab.kernel.accessAllowed ? 'block' : 'none';\n",
              "\n",
              "        async function convertToInteractive(key) {\n",
              "          const element = document.querySelector('#df-bb914dc7-c9e1-41ee-8a5f-26fd1a3cd91e');\n",
              "          const dataTable =\n",
              "            await google.colab.kernel.invokeFunction('convertToInteractive',\n",
              "                                                     [key], {});\n",
              "          if (!dataTable) return;\n",
              "\n",
              "          const docLinkHtml = 'Like what you see? Visit the ' +\n",
              "            '<a target=\"_blank\" href=https://colab.research.google.com/notebooks/data_table.ipynb>data table notebook</a>'\n",
              "            + ' to learn more about interactive tables.';\n",
              "          element.innerHTML = '';\n",
              "          dataTable['output_type'] = 'display_data';\n",
              "          await google.colab.output.renderOutput(dataTable, element);\n",
              "          const docLink = document.createElement('div');\n",
              "          docLink.innerHTML = docLinkHtml;\n",
              "          element.appendChild(docLink);\n",
              "        }\n",
              "      </script>\n",
              "    </div>\n",
              "  </div>\n",
              "  "
            ]
          },
          "metadata": {},
          "execution_count": 340
        }
      ]
    }
  ]
}