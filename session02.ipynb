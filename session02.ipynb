{
  "nbformat": 4,
  "nbformat_minor": 0,
  "metadata": {
    "colab": {
      "name": "session02.ipynb",
      "provenance": [],
      "authorship_tag": "ABX9TyMO6DGZt6SRbZzct8dCyASD",
      "include_colab_link": true
    },
    "kernelspec": {
      "name": "python3",
      "display_name": "Python 3"
    },
    "language_info": {
      "name": "python"
    }
  },
  "cells": [
    {
      "cell_type": "markdown",
      "metadata": {
        "id": "view-in-github",
        "colab_type": "text"
      },
      "source": [
        "<a href=\"https://colab.research.google.com/github/MK316/workshop22/blob/main/session02.ipynb\" target=\"_parent\"><img src=\"https://colab.research.google.com/assets/colab-badge.svg\" alt=\"Open In Colab\"/></a>"
      ]
    },
    {
      "cell_type": "markdown",
      "source": [
        "# 💦 **Session 02** Natural Language Processing\n",
        "\n",
        "<**Table of Contents**>\n",
        "\n",
        "1. Text file handing: e.g., reading text files\n",
        "2. {nltk} package: e.g., tokenize, sentences, stemming, lemmatizing\n",
        "3. Frequency analysis: e.g., Frequency table\n",
        "4. POS tagging: e.g., parts of speech (grammatical categories)\n",
        "5. Collocation, N-gram: e.g., sequences of words\n",
        "6. Concordance: e.g., words in context\n",
        "7. Lexical Diversity: e.g., Frequently used TTR measures\n",
        "\n",
        "📘 [About nltk texts](https://www.nltk.org/book/ch02.html)"
      ],
      "metadata": {
        "id": "vTdVhahZHDsx"
      }
    },
    {
      "cell_type": "markdown",
      "source": [
        "##🔰 [1] Text file handling\n",
        "* Getting texts as Input(), reading/saving files, text length "
      ],
      "metadata": {
        "id": "w2Zjwz2vHjUu"
      }
    },
    {
      "cell_type": "markdown",
      "source": [
        "Sample text: Aesop fable\n",
        "[File link](https://raw.githubusercontent.com/MK316/workshop22/main/data/TheHeron.txt)"
      ],
      "metadata": {
        "id": "D2D8ewoDM7jM"
      }
    },
    {
      "cell_type": "code",
      "source": [
        "# 1) Copy and paste text\n",
        "\n",
        "mytext = input()"
      ],
      "metadata": {
        "colab": {
          "base_uri": "https://localhost:8080/"
        },
        "id": "tJ-FT94CSlXy",
        "outputId": "c0ff3d56-65e7-464e-8c94-3c987315139b"
      },
      "execution_count": null,
      "outputs": [
        {
          "name": "stdout",
          "output_type": "stream",
          "text": [
            " A Heron was walking sedately along the bank of a stream, his eyes on the clear water, and his long neck and pointed bill ready to snap up a likely morsel for his breakfast. The clear water swarmed with fish, but Master Heron was hard to please that morning. \"No small fry for me,\" he said. \"Such scanty fare is not fit for a Heron. \"Now a fine young Perch swam near. \"No indeed,\" said the Heron. \"I wouldn't even trouble to open my beak for anything like that!\" As the sun rose, the fish left the shallow water near the shore and swam below into the cool depths toward the middle. The Heron saw no more fish, and very glad was he at last to breakfast on a tiny Snail. Do not be too hard to suit or you may have to be content with the worst or with nothing at all.\n"
          ]
        }
      ]
    },
    {
      "cell_type": "code",
      "source": [
        "# 2) Assign text as a variable\n",
        "# \\ for line break (this isn't included in the text)\n",
        "mytext1 = \"\"\"\n",
        "A Heron was walking sedately along the bank of a stream, \\\n",
        "his eyes on the clear water, and his long neck and pointed bill ready to snap up a likely morsel for his breakfast. \\\n",
        "The clear water swarmed with fish, but Master Heron was hard to please that morning. \\\n",
        "\"No small fry for me,\" he said. \"Such scanty fare is not fit for a Heron. \\\n",
        "\"Now a fine young Perch swam near. \"No indeed,\" said the Heron. \\\n",
        "\"I wouldn't even trouble to open my beak for anything like that!\" \\\n",
        "As the sun rose, the fish left the shallow water near the shore and swam below into the cool depths toward the middle. \\\n",
        "The Heron saw no more fish, and very glad was he at last to breakfast on a tiny Snail. \\\n",
        "Do not be too hard to suit or you may have to be content with the worst or with nothing at all.\n",
        "\"\"\""
      ],
      "metadata": {
        "id": "uDc7G6kbM5XG"
      },
      "execution_count": null,
      "outputs": []
    },
    {
      "cell_type": "code",
      "source": [
        "# Write text data as file: will save it on Colab\n",
        "\n",
        "with open('TheHeron.txt', 'w') as file: # 'w' creates a new file\n",
        "    file.write(mytext) "
      ],
      "metadata": {
        "id": "pWSi_8DyQ6CW"
      },
      "execution_count": null,
      "outputs": []
    },
    {
      "cell_type": "code",
      "source": [
        "# Read text file uploaded on Colab\n",
        "\n",
        "with open('TheHeron.txt','r') as file: # 'r' reads a file\n",
        "  text = file.read()\n",
        "  file.close()\n",
        "print(text)"
      ],
      "metadata": {
        "id": "mwlcAnrhPqJV"
      },
      "execution_count": null,
      "outputs": []
    },
    {
      "cell_type": "code",
      "source": [
        "# length of string\n",
        "len(text)"
      ],
      "metadata": {
        "colab": {
          "base_uri": "https://localhost:8080/"
        },
        "id": "gbdT8X24NmcC",
        "outputId": "241bbc38-7864-4079-e5f6-4adbd3e1b44b"
      },
      "execution_count": null,
      "outputs": [
        {
          "output_type": "execute_result",
          "data": {
            "text/plain": [
              "765"
            ]
          },
          "metadata": {},
          "execution_count": 24
        }
      ]
    },
    {
      "cell_type": "code",
      "source": [
        "# From start to nth string in the text\n",
        "text[:10]"
      ],
      "metadata": {
        "colab": {
          "base_uri": "https://localhost:8080/",
          "height": 35
        },
        "id": "PCGtjH-dRxFG",
        "outputId": "37b28fcb-3020-4edb-bc2c-98a2a4f946c5"
      },
      "execution_count": null,
      "outputs": [
        {
          "output_type": "execute_result",
          "data": {
            "text/plain": [
              "'\\nA Heron w'"
            ],
            "application/vnd.google.colaboratory.intrinsic+json": {
              "type": "string"
            }
          },
          "metadata": {},
          "execution_count": 25
        }
      ]
    },
    {
      "cell_type": "markdown",
      "source": [
        "\\> split text by space and join with space"
      ],
      "metadata": {
        "id": "2JFZaU5JbCR3"
      }
    },
    {
      "cell_type": "code",
      "source": [
        "sample = \"Hello, I'm learning Python and it has been very fun.\""
      ],
      "metadata": {
        "id": "MptCbfSma-QR"
      },
      "execution_count": null,
      "outputs": []
    },
    {
      "cell_type": "markdown",
      "source": [
        "```\n",
        "⬇️ text.split() #split text by space (punctuation is included)\n",
        "```"
      ],
      "metadata": {
        "id": "-sun1Yyga-QS"
      }
    },
    {
      "cell_type": "code",
      "source": [
        "wordlist = sample.split()\n",
        "print(wordlist)"
      ],
      "metadata": {
        "colab": {
          "base_uri": "https://localhost:8080/"
        },
        "outputId": "b2588a89-f74a-4e25-a505-e795f9736b13",
        "id": "TKocynPMa-QS"
      },
      "execution_count": null,
      "outputs": [
        {
          "output_type": "stream",
          "name": "stdout",
          "text": [
            "['Hello,', \"I'm\", 'learning', 'Python', 'and', 'it', 'has', 'been', 'very', 'fun.']\n"
          ]
        }
      ]
    },
    {
      "cell_type": "markdown",
      "source": [
        "```\n",
        "⬇️ ' '.join(text.split())  # combine split words by space \n",
        "```"
      ],
      "metadata": {
        "id": "RZeMGPTba-QT"
      }
    },
    {
      "cell_type": "code",
      "source": [
        "' '.join(wordlist)"
      ],
      "metadata": {
        "colab": {
          "base_uri": "https://localhost:8080/",
          "height": 35
        },
        "outputId": "403005a1-6ba8-4758-e683-8d90e07f5412",
        "id": "TkMcfqrPa-QT"
      },
      "execution_count": null,
      "outputs": [
        {
          "output_type": "execute_result",
          "data": {
            "text/plain": [
              "\"Hello, I'm learning Python and it has been very fun.\""
            ],
            "application/vnd.google.colaboratory.intrinsic+json": {
              "type": "string"
            }
          },
          "metadata": {},
          "execution_count": 52
        }
      ]
    },
    {
      "cell_type": "markdown",
      "source": [
        "##🔰 [2] {nltk} package: Natural Language Toolkit\n",
        "\n",
        "\\- Natural language processing (NLP) is a field that focuses on making natural human language usable by computer programs. NLTK, or Natural Language Toolkit, is a Python package that you can use for NLP.\n",
        "\n",
        "* import {nltk}\n",
        "* Tokenize by words and sentences\n",
        "* Split text\n",
        "* Filtering stopwords\n",
        "\n",
        "\n",
        "📘 [Source link: webpage](https://realpython.com/nltk-nlp-python/#:~:text=NLTK%2C%20or%20Natural%20Language%20Toolkit,first%20need%20to%20preprocess%20it.)\n",
        "\n"
      ],
      "metadata": {
        "id": "6m_o3y6IHmBk"
      }
    },
    {
      "cell_type": "markdown",
      "source": [
        "### **import packages**\n",
        "\n",
        "📒 Tokenizing by word, Tokenizing by sentence"
      ],
      "metadata": {
        "id": "4hKtg-C7VCN8"
      }
    },
    {
      "cell_type": "code",
      "source": [
        "import nltk\n",
        "from nltk.tokenize import sent_tokenize, word_tokenize\n",
        "nltk.download('punkt')"
      ],
      "metadata": {
        "colab": {
          "base_uri": "https://localhost:8080/"
        },
        "id": "YE9njbHTUIg-",
        "outputId": "750f13e0-36b6-4e71-e8aa-ce8a3cf80634"
      },
      "execution_count": null,
      "outputs": [
        {
          "output_type": "stream",
          "name": "stdout",
          "text": [
            "[nltk_data] Downloading package punkt to /root/nltk_data...\n",
            "[nltk_data]   Unzipping tokenizers/punkt.zip.\n"
          ]
        },
        {
          "output_type": "execute_result",
          "data": {
            "text/plain": [
              "True"
            ]
          },
          "metadata": {},
          "execution_count": 32
        }
      ]
    },
    {
      "cell_type": "code",
      "source": [
        "# text with TheHeron.txt (mytext)\n",
        "print(mytext)\n",
        "\n",
        "# Tokenize by words and sentences\n",
        "sents = sent_tokenize(mytext)\n",
        "words = word_tokenize(mytext)\n",
        "\n",
        "# Print the results\n",
        "print('Number of sentences: %d'%len(sents),type(sents))\n",
        "print('Number of words: %d'%len(words),type(words))"
      ],
      "metadata": {
        "colab": {
          "base_uri": "https://localhost:8080/"
        },
        "id": "3dPIFrXaVBz0",
        "outputId": "c958393c-6687-42ad-db79-eadb18e5ce3f"
      },
      "execution_count": null,
      "outputs": [
        {
          "output_type": "stream",
          "name": "stdout",
          "text": [
            " A Heron was walking sedately along the bank of a stream, his eyes on the clear water, and his long neck and pointed bill ready to snap up a likely morsel for his breakfast. The clear water swarmed with fish, but Master Heron was hard to please that morning. \"No small fry for me,\" he said. \"Such scanty fare is not fit for a Heron. \"Now a fine young Perch swam near. \"No indeed,\" said the Heron. \"I wouldn't even trouble to open my beak for anything like that!\" As the sun rose, the fish left the shallow water near the shore and swam below into the cool depths toward the middle. The Heron saw no more fish, and very glad was he at last to breakfast on a tiny Snail. Do not be too hard to suit or you may have to be content with the worst or with nothing at all.\n",
            "Number of sentences: 10 <class 'list'>\n",
            "Number of words: 179 <class 'list'>\n"
          ]
        }
      ]
    },
    {
      "cell_type": "markdown",
      "source": [
        "📒 \\> word_tokenize(data)  \n",
        "punctuations are separate items"
      ],
      "metadata": {
        "id": "cVtGJVXfbUfN"
      }
    },
    {
      "cell_type": "code",
      "source": [
        "sample = \"Hello, I'm learning Python and it has been very fun.\"\n",
        "samplewords = word_tokenize(sample); samplewords"
      ],
      "metadata": {
        "id": "T6rt8rPebUfO"
      },
      "execution_count": null,
      "outputs": []
    },
    {
      "cell_type": "markdown",
      "source": [
        "📒 \\> tokenize with regular expressions\n",
        "e.g., remove punctuations"
      ],
      "metadata": {
        "id": "qmFkPxLibUfO"
      }
    },
    {
      "cell_type": "code",
      "source": [
        "from nltk.tokenize import RegexpTokenizer\n",
        "retokenize =RegexpTokenizer(\"[\\w]+\")\n",
        "words = retokenize.tokenize(sample)\n",
        "words"
      ],
      "metadata": {
        "id": "o_Y6U1a-bUfP"
      },
      "execution_count": null,
      "outputs": []
    },
    {
      "cell_type": "markdown",
      "source": [
        "📒 \\> tokenize with regular expressions\n",
        "e.g., remove punctuations"
      ],
      "metadata": {
        "id": "Fcr84nQ_bfa5"
      }
    },
    {
      "cell_type": "code",
      "source": [
        "from nltk.tokenize import RegexpTokenizer\n",
        "retokenize =RegexpTokenizer(\"[\\w]+\")\n",
        "words = retokenize.tokenize(sample)\n",
        "words"
      ],
      "metadata": {
        "id": "V9Ercgbzbfa5"
      },
      "execution_count": null,
      "outputs": []
    },
    {
      "cell_type": "markdown",
      "source": [
        "### **Filtering stop words**\n",
        "\n",
        "Stop words are _**words that you want to ignore,**_ so you filter them out of your text when you’re processing it. Very common words like 'in', 'is', and 'an' are often used as stop words since they don’t add a lot of meaning to a text in and of themselves."
      ],
      "metadata": {
        "id": "lmhBUzeXWfAl"
      }
    },
    {
      "cell_type": "code",
      "source": [
        "# import stopwords from nltk.corpus\n",
        "\n",
        "from nltk.corpus import stopwords\n",
        "nltk.download(\"stopwords\")"
      ],
      "metadata": {
        "colab": {
          "base_uri": "https://localhost:8080/"
        },
        "id": "ViCFL152WWWW",
        "outputId": "08664536-7c89-4045-cc47-7557a1b73b0b"
      },
      "execution_count": null,
      "outputs": [
        {
          "output_type": "stream",
          "name": "stdout",
          "text": [
            "[nltk_data] Downloading package stopwords to /root/nltk_data...\n",
            "[nltk_data]   Package stopwords is already up-to-date!\n",
            "<class 'nltk.corpus.reader.wordlist.WordListCorpusReader'>\n"
          ]
        }
      ]
    },
    {
      "cell_type": "code",
      "source": [
        "sample = \"Hello, I'm learning Python and it has been very fun.\""
      ],
      "metadata": {
        "id": "I89xsXiHctCN"
      },
      "execution_count": null,
      "outputs": []
    },
    {
      "cell_type": "code",
      "source": [
        "from nltk.tokenize import RegexpTokenizer\n",
        "retokenize =RegexpTokenizer(\"[\\w]+\")\n",
        "words = retokenize.tokenize(sample)\n",
        "words"
      ],
      "metadata": {
        "id": "u5ZgooZ2dK-U"
      },
      "execution_count": null,
      "outputs": []
    },
    {
      "cell_type": "code",
      "source": [
        "words = [w for w in words if not w in stopwords.words('english')]\n",
        "print(words)"
      ],
      "metadata": {
        "colab": {
          "base_uri": "https://localhost:8080/"
        },
        "id": "6gaI1_5yW-CI",
        "outputId": "f8ae748c-1b93-4f95-ae3f-4e280bc0a073"
      },
      "execution_count": null,
      "outputs": [
        {
          "output_type": "stream",
          "name": "stdout",
          "text": [
            "['Hello', 'I', 'learning', 'Python', 'fun']\n"
          ]
        }
      ]
    },
    {
      "cell_type": "code",
      "source": [
        " #@markdown 📕 Add new words to the stopword list\n",
        "stop_words = set(stopwords.words(\"english\"))\n",
        "\n",
        "#add words that aren't in the NLTK stopwords list\n",
        "new_stopwords = ['I']\n",
        "new_stopwords_list = stop_words.union(new_stopwords)\n",
        "\n",
        "print(new_stopwords_list)"
      ],
      "metadata": {
        "cellView": "form",
        "id": "rPFt8zFldv6U"
      },
      "execution_count": null,
      "outputs": []
    },
    {
      "cell_type": "code",
      "source": [
        "#@markdown Tokenized words after filtering new stop words:\n",
        "\n",
        "words = [w for w in words if not w in new_stopwords_list]\n",
        "print(words)"
      ],
      "metadata": {
        "cellView": "form",
        "id": "OcBBaM-Cd3u8"
      },
      "execution_count": null,
      "outputs": []
    },
    {
      "cell_type": "markdown",
      "source": [
        "### **Stemming & Lemmatizing**\n",
        "\n",
        "\"Stemming is a text processing task in which you reduce words to their root, which is the core part of a word. For example, the words “helping” and “helper” share the root “help.” Stemming allows you to zero in on the basic meaning of a word rather than all the details of how it’s being used.\" [source link](https://realpython.com/nltk-nlp-python/)\n",
        "\n",
        "* Stemming: am ➜ am, having ➜ hav, the going ➜ the go\n",
        "* Lemmatizing: (am ➜ be or am), having ➜ have, the going ➜ the going"
      ],
      "metadata": {
        "id": "6RzaBg8gh0EQ"
      }
    },
    {
      "cell_type": "markdown",
      "source": [
        "📗 **PorterStemmer**"
      ],
      "metadata": {
        "id": "b1z3UL95kH7I"
      }
    },
    {
      "cell_type": "code",
      "source": [
        "from nltk.stem import PorterStemmer\n",
        "from nltk.tokenize import word_tokenize\n",
        "\n",
        "stemmer = PorterStemmer()"
      ],
      "metadata": {
        "id": "XvK4awzthz8J"
      },
      "execution_count": null,
      "outputs": []
    },
    {
      "cell_type": "code",
      "source": [
        "sample = \"Good morning. Helping others is one of the greatest things that humans can do.\""
      ],
      "metadata": {
        "id": "TP1bRs5ViSFe"
      },
      "execution_count": null,
      "outputs": []
    },
    {
      "cell_type": "code",
      "source": [
        "words = word_tokenize(sample)\n",
        "words = [w for w in words if len(w) > 1] # punctuation only items are removed.\n",
        "print(words)"
      ],
      "metadata": {
        "colab": {
          "base_uri": "https://localhost:8080/"
        },
        "id": "TdtGTz5Zii_g",
        "outputId": "0b98a71d-bc3c-488c-b3fd-70968580c747"
      },
      "execution_count": null,
      "outputs": [
        {
          "output_type": "stream",
          "name": "stdout",
          "text": [
            "['Good', 'morning', 'Helping', 'others', 'is', 'one', 'of', 'the', 'greatest', 'things', 'that', 'humans', 'can', 'do']\n"
          ]
        }
      ]
    },
    {
      "cell_type": "code",
      "source": [
        "stemmed_words = [stemmer.stem(w) for w in words]\n",
        "stemmed_words\n",
        "# Problems: morning > morn"
      ],
      "metadata": {
        "id": "F6Sf1wJMi2ij"
      },
      "execution_count": null,
      "outputs": []
    },
    {
      "cell_type": "markdown",
      "source": [
        "📗 **LancasterStemmer**"
      ],
      "metadata": {
        "id": "g90maaJvkOso"
      }
    },
    {
      "cell_type": "code",
      "source": [
        "from nltk.stem import LancasterStemmer\n",
        "Lstemmer = LancasterStemmer()"
      ],
      "metadata": {
        "id": "MENd-SeDkEu5"
      },
      "execution_count": null,
      "outputs": []
    },
    {
      "cell_type": "code",
      "source": [
        "stemmed_words = [Lstemmer.stem(w) for w in words]\n",
        "stemmed_words\n",
        "# Problems: morning > morn, others > oth"
      ],
      "metadata": {
        "colab": {
          "base_uri": "https://localhost:8080/"
        },
        "id": "fQTszTd2kZ9K",
        "outputId": "259a06d4-c08e-48c0-8c90-24c86ffa60f7"
      },
      "execution_count": null,
      "outputs": [
        {
          "output_type": "execute_result",
          "data": {
            "text/plain": [
              "['i', 'am', 'learn', 'python', '.']"
            ]
          },
          "metadata": {},
          "execution_count": 150
        }
      ]
    },
    {
      "cell_type": "markdown",
      "source": [
        "📗 **WordNetLemmatizer**"
      ],
      "metadata": {
        "id": "4jC5B8Ylk0Bk"
      }
    },
    {
      "cell_type": "code",
      "source": [
        "sample = \"I am learning Python.\"\n",
        "words = word_tokenize(sample)"
      ],
      "metadata": {
        "id": "2dFTp330sg9u"
      },
      "execution_count": null,
      "outputs": []
    },
    {
      "cell_type": "code",
      "source": [
        "from nltk.stem import WordNetLemmatizer\n",
        "nltk.download('wordnet')\n",
        "\n",
        "Wstemmer = WordNetLemmatizer()"
      ],
      "metadata": {
        "colab": {
          "base_uri": "https://localhost:8080/"
        },
        "id": "9AU8WxnFkzqu",
        "outputId": "bf4c03e4-03ec-4d49-8569-cba3b12e1220"
      },
      "execution_count": null,
      "outputs": [
        {
          "output_type": "stream",
          "name": "stdout",
          "text": [
            "[nltk_data] Downloading package wordnet to /root/nltk_data...\n",
            "[nltk_data]   Package wordnet is already up-to-date!\n"
          ]
        }
      ]
    },
    {
      "cell_type": "code",
      "source": [
        "Wlemmatized_words = [Wstemmer.lemmatize(w) for w in words]\n",
        "Wlemmatized_words\n",
        "\n",
        "# morning, others > okay!"
      ],
      "metadata": {
        "colab": {
          "base_uri": "https://localhost:8080/"
        },
        "id": "zGXVh82wlFCi",
        "outputId": "bf1ac0c5-ad87-4a66-ba93-b73c5ec0821d"
      },
      "execution_count": null,
      "outputs": [
        {
          "output_type": "execute_result",
          "data": {
            "text/plain": [
              "['I', 'am', 'learning', 'Python', '.']"
            ]
          },
          "metadata": {},
          "execution_count": 149
        }
      ]
    },
    {
      "cell_type": "markdown",
      "source": [
        "📗 **Snowball stemmer**"
      ],
      "metadata": {
        "id": "w9Q4j5Esj0if"
      }
    },
    {
      "cell_type": "code",
      "source": [
        "import nltk\n",
        "snow = nltk.stem.SnowballStemmer('english')\n",
        "lanca = nltk.stem.LancasterStemmer()\n",
        "porter = nltk.stem.PorterStemmer()\n",
        "wordnet = nltk.WordNetLemmatizer()"
      ],
      "metadata": {
        "id": "32kvXzSrmuAa"
      },
      "execution_count": null,
      "outputs": []
    },
    {
      "cell_type": "code",
      "source": [
        "#@markdown 🚩 Stemmer, Lemmatizer comparison: Snow(S), Lancaster(S), Porter(S), WordNet(L) \n",
        "def stemming(x):\n",
        "  print('Snow (S): ', snow.stem(x))\n",
        "  print('Lancaster (S): ',lanca.stem(x))\n",
        "  print('Porter (S): ', porter.stem(x))\n",
        "  print('WordNet (L): ', wordnet.lemmatize(x))\n",
        "\n",
        "word = input()\n",
        "stemming(word)"
      ],
      "metadata": {
        "colab": {
          "base_uri": "https://localhost:8080/"
        },
        "cellView": "form",
        "id": "ETSW73rsmwir",
        "outputId": "5461aea7-5dca-4c56-a579-d5a1d92a3ce4"
      },
      "execution_count": null,
      "outputs": [
        {
          "output_type": "stream",
          "name": "stdout",
          "text": [
            "loving\n",
            "Snow (S):  love\n",
            "Lancaster (S):  lov\n",
            "Porter (S):  love\n",
            "WordNet (L):  loving\n"
          ]
        }
      ]
    },
    {
      "cell_type": "markdown",
      "source": [
        "---\n",
        "##🔰 [3] Frequency distribution"
      ],
      "metadata": {
        "id": "YdtMdEOzHr_O"
      }
    },
    {
      "cell_type": "markdown",
      "source": [
        "### **Frequency information of words**\n",
        "\n",
        "\"The word frequency effect refers to the observation that high-frequency words are processed more efficiently than low-frequency words.\" [source link](https://journals.sagepub.com/doi/10.1177/0963721417727521)\n",
        "\n",
        "* Getting word frequency\n",
        "* Save frequency table as csv format"
      ],
      "metadata": {
        "id": "i8biCyplfmha"
      }
    },
    {
      "cell_type": "markdown",
      "source": [
        "💾  [text link](https://raw.githubusercontent.com/MK316/workshop22/main/data/TheHeron.txt)"
      ],
      "metadata": {
        "id": "um-97lJ8voEY"
      }
    },
    {
      "cell_type": "code",
      "source": [
        "# Prepare text to analyze: copy the text from the link above and paste it in the box\n",
        "mytext = input()\n",
        "words = retokenize.tokenize(mytext)"
      ],
      "metadata": {
        "colab": {
          "base_uri": "https://localhost:8080/"
        },
        "id": "raonCZlrglo2",
        "outputId": "29407459-0214-4a26-a0a4-3607b21d3c57"
      },
      "execution_count": null,
      "outputs": [
        {
          "name": "stdout",
          "output_type": "stream",
          "text": [
            " A Heron was walking sedately along the bank of a stream, his eyes on the clear water, and his long neck and pointed bill ready to snap up a likely morsel for his breakfast. The clear water swarmed with fish, but Master Heron was hard to please that morning. \"No small fry for me,\" he said. \"Such scanty fare is not fit for a Heron. \"Now a fine young Perch swam near. \"No indeed,\" said the Heron. \"I wouldn't even trouble to open my beak for anything like that!\" As the sun rose, the fish left the shallow water near the shore and swam below into the cool depths toward the middle. The Heron saw no more fish, and very glad was he at last to breakfast on a tiny Snail. Do not be too hard to suit or you may have to be content with the worst or with nothing at all.\n"
          ]
        }
      ]
    },
    {
      "cell_type": "markdown",
      "source": [
        "💎 **Wordcloud**"
      ],
      "metadata": {
        "id": "STrrpoDgwna6"
      }
    },
    {
      "cell_type": "code",
      "source": [
        "from wordcloud import WordCloud, STOPWORDS\n",
        "import matplotlib.pyplot as plt\n",
        "\n",
        "wc = WordCloud().generate(mytext) \n",
        "plt.imshow(wc)"
      ],
      "metadata": {
        "colab": {
          "base_uri": "https://localhost:8080/",
          "height": 237
        },
        "id": "Ixt4LA8KwrqE",
        "outputId": "63827bf3-97ca-4e5e-fcd1-e2506f8e4e20"
      },
      "execution_count": null,
      "outputs": [
        {
          "output_type": "execute_result",
          "data": {
            "text/plain": [
              "<matplotlib.image.AxesImage at 0x7f762bded050>"
            ]
          },
          "metadata": {},
          "execution_count": 167
        },
        {
          "output_type": "display_data",
          "data": {
            "text/plain": [
              "<Figure size 432x288 with 1 Axes>"
            ],
            "image/png": "[encoded data removed]"
          },
          "metadata": {
            "needs_background": "light"
          }
        }
      ]
    },
    {
      "cell_type": "markdown",
      "source": [
        "💎 **Frequency distribution**"
      ],
      "metadata": {
        "id": "ORnXw1-Ezkp8"
      }
    },
    {
      "cell_type": "code",
      "source": [
        "# Frequency distribution\n",
        "fd = nltk.FreqDist(words).most_common(10)\n",
        "fd"
      ],
      "metadata": {
        "colab": {
          "base_uri": "https://localhost:8080/"
        },
        "id": "Vsi4NT4vvy4o",
        "outputId": "2bbdffec-d906-4278-93ef-23594e020286"
      },
      "execution_count": null,
      "outputs": [
        {
          "output_type": "execute_result",
          "data": {
            "text/plain": [
              "[('the', 10),\n",
              " ('to', 6),\n",
              " ('Heron', 5),\n",
              " ('a', 5),\n",
              " ('and', 4),\n",
              " ('for', 4),\n",
              " ('was', 3),\n",
              " ('his', 3),\n",
              " ('water', 3),\n",
              " ('with', 3)]"
            ]
          },
          "metadata": {},
          "execution_count": 173
        }
      ]
    },
    {
      "cell_type": "markdown",
      "source": [
        "💎 **Frequency plot**"
      ],
      "metadata": {
        "id": "D7nnA327zomt"
      }
    },
    {
      "cell_type": "code",
      "source": [
        "nltk.Text(words).plot(10)"
      ],
      "metadata": {
        "colab": {
          "base_uri": "https://localhost:8080/",
          "height": 299
        },
        "id": "VD23yJltxrho",
        "outputId": "d179ce2f-9687-4f2e-89a2-e6789f76e99a"
      },
      "execution_count": null,
      "outputs": [
        {
          "output_type": "display_data",
          "data": {
            "text/plain": [
              "<Figure size 432x288 with 1 Axes>"
            ],
            "image/png": "[encoded data removed]"
          },
          "metadata": {
            "needs_background": "light"
          }
        }
      ]
    },
    {
      "cell_type": "markdown",
      "source": [
        "💎 **Dispersion plot (keywords)**"
      ],
      "metadata": {
        "id": "xEajJUCCzrio"
      }
    },
    {
      "cell_type": "code",
      "source": [
        "#Dispersion plot of keywords:\n",
        "\n",
        "nltk.Text(words).dispersion_plot(['Heron','water','fish'])"
      ],
      "metadata": {
        "colab": {
          "base_uri": "https://localhost:8080/",
          "height": 295
        },
        "id": "gACo-piyxS8X",
        "outputId": "11ce83db-91a1-48fe-ac33-1f0832aa418d"
      },
      "execution_count": null,
      "outputs": [
        {
          "output_type": "display_data",
          "data": {
            "text/plain": [
              "<Figure size 432x288 with 1 Axes>"
            ],
            "image/png": "[encoded data removed]"
          },
          "metadata": {
            "needs_background": "light"
          }
        }
      ]
    },
    {
      "cell_type": "markdown",
      "source": [
        "### 💎 Enlgish Dictionary\n",
        "\n",
        "Length: 235,886"
      ],
      "metadata": {
        "id": "fNXYCj71zyPU"
      }
    },
    {
      "cell_type": "code",
      "source": [
        "nltk.download('words')\n",
        "dictionary = nltk.corpus.words.words('en')\n",
        "\n",
        "dictionary[-10:-1] #(last 10 words)"
      ],
      "metadata": {
        "colab": {
          "base_uri": "https://localhost:8080/"
        },
        "id": "OibOOOemz8aH",
        "outputId": "9762106c-579d-4be0-91fd-f4832c5d2026"
      },
      "execution_count": null,
      "outputs": [
        {
          "output_type": "stream",
          "name": "stdout",
          "text": [
            "[nltk_data] Downloading package words to /root/nltk_data...\n",
            "[nltk_data]   Package words is already up-to-date!\n"
          ]
        },
        {
          "output_type": "execute_result",
          "data": {
            "text/plain": [
              "['zymotoxic',\n",
              " 'zymurgy',\n",
              " 'Zyrenian',\n",
              " 'Zyrian',\n",
              " 'Zyryan',\n",
              " 'zythem',\n",
              " 'Zythia',\n",
              " 'zythum',\n",
              " 'Zyzomys']"
            ]
          },
          "metadata": {},
          "execution_count": 180
        }
      ]
    },
    {
      "cell_type": "code",
      "source": [
        "print(len(dictionary))\n",
        "print(type(dictionary))"
      ],
      "metadata": {
        "colab": {
          "base_uri": "https://localhost:8080/"
        },
        "id": "gv1AiqxP0L48",
        "outputId": "02a4c40a-d16c-46c3-f6e0-4fb9dc3526b9"
      },
      "execution_count": null,
      "outputs": [
        {
          "output_type": "stream",
          "name": "stdout",
          "text": [
            "235886\n",
            "<class 'list'>\n"
          ]
        },
        {
          "output_type": "execute_result",
          "data": {
            "text/plain": [
              "0"
            ]
          },
          "metadata": {},
          "execution_count": 185
        }
      ]
    },
    {
      "cell_type": "code",
      "source": [
        "# Longest words in dictionary:\n",
        "\n",
        "res = max(dictionary, key = len)\n",
        "print(len(res))\n",
        "res"
      ],
      "metadata": {
        "colab": {
          "base_uri": "https://localhost:8080/",
          "height": 53
        },
        "id": "1tHZLJI80ts5",
        "outputId": "5f5da956-2e6f-4f69-fec1-cb21590bb039"
      },
      "execution_count": null,
      "outputs": [
        {
          "output_type": "stream",
          "name": "stdout",
          "text": [
            "24\n"
          ]
        },
        {
          "output_type": "execute_result",
          "data": {
            "text/plain": [
              "'formaldehydesulphoxylate'"
            ],
            "application/vnd.google.colaboratory.intrinsic+json": {
              "type": "string"
            }
          },
          "metadata": {},
          "execution_count": 204
        }
      ]
    },
    {
      "cell_type": "code",
      "source": [
        "# Random word sample from dictionary\n",
        "import random\n",
        "\n",
        "random.sample(dictionary,5)"
      ],
      "metadata": {
        "colab": {
          "base_uri": "https://localhost:8080/"
        },
        "id": "zfqg2RUy2gqI",
        "outputId": "b7c09aff-00c1-4902-e460-5ee55cb01357"
      },
      "execution_count": null,
      "outputs": [
        {
          "output_type": "execute_result",
          "data": {
            "text/plain": [
              "['grotto', 'botryopterid', 'ballasting', 'sociobiological', 'unaspersed']"
            ]
          },
          "metadata": {},
          "execution_count": 214
        }
      ]
    },
    {
      "cell_type": "markdown",
      "source": [
        "💎 **Regular Expression** {re}\n",
        "\n",
        "[Learn regular expression](https://www.w3schools.com/python/python_regex.asp)"
      ],
      "metadata": {
        "id": "f3mLCYYk4zcg"
      }
    },
    {
      "cell_type": "code",
      "source": [
        "# Extracting words that meet conditions using regular expression\n",
        "import re\n",
        "\n",
        "result = [w for w in dictionary if len(w) == 24]; result\n",
        "result = [w for w in dictionary if re.search('ed$',w)]; print(len(result))\n",
        "result = [w for w in dictionary if re.search('ches$',w)]; print(result)\n",
        "result = [w for w in dictionary if re.search('^[a, e, i, o, u, y].+',w)]; print(result[-10:-1])"
      ],
      "metadata": {
        "id": "-8aXa_wf18NA"
      },
      "execution_count": null,
      "outputs": []
    },
    {
      "cell_type": "markdown",
      "source": [
        "##🔰 [4] POS tagging (Part of Speech)\n",
        "\n",
        "* English text Tagging using the Corpus Toolkit [by Kristopher Kyle](\"https://github.com/kristopherkyle/corpus_toolkit\")\n",
        "\n",
        "---\n",
        "\n",
        "For a given text, we'll add POS tag to the text.  \n",
        "📍 install {corpus-toolkit}"
      ],
      "metadata": {
        "id": "VKJnk8rPHwEs"
      }
    },
    {
      "cell_type": "code",
      "source": [
        "%%capture\n",
        "!pip install corpus-toolkit"
      ],
      "metadata": {
        "id": "C68rEdbq8GTh"
      },
      "execution_count": null,
      "outputs": []
    },
    {
      "cell_type": "markdown",
      "source": [
        "### **Step#1** Create a folder named 'txtdata'\n",
        "=> Corpus Toolkit processes files under a specified folder. So we create a folder and upload files in the given folder."
      ],
      "metadata": {
        "id": "kw9AqIDEuZGs"
      }
    },
    {
      "cell_type": "code",
      "source": [
        "import os\n",
        "os.mkdir(\"txtdata\")"
      ],
      "metadata": {
        "id": "F4IUkgrGuEQW"
      },
      "execution_count": null,
      "outputs": []
    },
    {
      "cell_type": "markdown",
      "source": [
        "### **Step#2** File upload (on colab) under the 'txtdata' folder:\n",
        "e.g., DoveAndAnt.txt\n",
        "https://raw.githubusercontent.com/MK316/mynltkdata/main/data/DoveAndAnt.txt"
      ],
      "metadata": {
        "id": "pbQooI7rkQQP"
      }
    },
    {
      "cell_type": "markdown",
      "source": [
        "### Check current directory & change current directory if needed:\n",
        "\n",
        "---\n",
        "Current data location: /content/txtdata/DoveAndAnt.txt\n",
        "\n",
        "Current directory should be '/content'\n"
      ],
      "metadata": {
        "id": "eIAvf9qPs4DM"
      }
    },
    {
      "cell_type": "code",
      "source": [
        "!pwd\n",
        "# %cd /content/"
      ],
      "metadata": {
        "colab": {
          "base_uri": "https://localhost:8080/"
        },
        "id": "PV8OHtE2svsX",
        "outputId": "27d1b869-9b94-4649-b612-e1591840319a"
      },
      "execution_count": null,
      "outputs": [
        {
          "output_type": "stream",
          "name": "stdout",
          "text": [
            "/content\n"
          ]
        }
      ]
    },
    {
      "cell_type": "code",
      "source": [
        "from corpus_toolkit import corpus_tools as ct\n",
        "\n",
        "brown_corp = ct.ldcorpus(\"txtdata\") #load and read text files under 'txtdata' directory\n",
        "tok_corp = ct.tokenize(brown_corp)  #tokenize corpus - by default this lemmatizes as well\n",
        "brown_freq = ct.frequency(tok_corp) #creates a frequency dictionary"
      ],
      "metadata": {
        "colab": {
          "base_uri": "https://localhost:8080/"
        },
        "id": "zeqch2yNmGM0",
        "outputId": "e3c9a669-ab93-4533-cbc4-e2c788b41536"
      },
      "execution_count": null,
      "outputs": [
        {
          "output_type": "stream",
          "name": "stdout",
          "text": [
            "Processing TheHeron.txt (1 of 1 files)\n"
          ]
        }
      ]
    },
    {
      "cell_type": "markdown",
      "source": [
        "### **Step#3** Write a tagged file under '/content/tagged_txt'\n"
      ],
      "metadata": {
        "id": "R6RlPDadv0Tp"
      }
    },
    {
      "cell_type": "code",
      "source": [
        "# tagged_txt (tagged data folder), txtdata (original data folder)\n",
        "ct.write_corpus(\"tagged_txt\",ct.tag(ct.ldcorpus(\"txtdata\")))"
      ],
      "metadata": {
        "colab": {
          "base_uri": "https://localhost:8080/"
        },
        "id": "3j_TbVhImP2M",
        "outputId": "9f120ec6-821a-4414-a92c-82541029e105"
      },
      "execution_count": null,
      "outputs": [
        {
          "output_type": "stream",
          "name": "stdout",
          "text": [
            "Processing TheHeron.txt (1 of 1 files)\n"
          ]
        }
      ]
    },
    {
      "cell_type": "code",
      "source": [
        "tagged_freq = ct.frequency(ct.reload(\"tagged_txt\"))\n",
        "ct.head(tagged_freq, hits = 10)"
      ],
      "metadata": {
        "id": "J5RQ2WHBofP7",
        "colab": {
          "base_uri": "https://localhost:8080/"
        },
        "outputId": "04da5802-6216-4fa5-8b72-14037c1369be"
      },
      "execution_count": null,
      "outputs": [
        {
          "output_type": "stream",
          "name": "stdout",
          "text": [
            "Processing 1.txt (1 of 1 files)\n",
            "the_DET\t12\n",
            "a_DET\t6\n",
            "be_AUX\t6\n",
            "Heron_PROPN\t5\n",
            "to_PART\t5\n",
            "and_CCONJ\t4\n",
            "for_ADP\t4\n",
            "his_DET\t3\n",
            "water_NOUN\t3\n",
            "with_ADP\t3\n"
          ]
        }
      ]
    },
    {
      "cell_type": "code",
      "source": [
        "type(tagged_freq) # dict"
      ],
      "metadata": {
        "id": "ye6IfuHdxyJK",
        "colab": {
          "base_uri": "https://localhost:8080/"
        },
        "outputId": "99d06b8c-548c-4963-d3e1-94b9d745157d"
      },
      "execution_count": null,
      "outputs": [
        {
          "output_type": "execute_result",
          "data": {
            "text/plain": [
              "dict"
            ]
          },
          "metadata": {},
          "execution_count": 236
        }
      ]
    },
    {
      "cell_type": "markdown",
      "source": [
        "### **Step#4** Save Tagged_freq as Data frame"
      ],
      "metadata": {
        "id": "eHOLnOp2zIZ4"
      }
    },
    {
      "cell_type": "code",
      "source": [
        "import pandas as pd"
      ],
      "metadata": {
        "id": "KWChGmPgzimF"
      },
      "execution_count": null,
      "outputs": []
    },
    {
      "cell_type": "code",
      "source": [
        "data_dict = tagged_freq\n",
        "data_items = data_dict. items()\n",
        "data_list = list(data_items)\n",
        "df = pd.DataFrame(data_list)\n",
        "print(df)"
      ],
      "metadata": {
        "colab": {
          "base_uri": "https://localhost:8080/"
        },
        "id": "3Ff1neOwx1PK",
        "outputId": "96e7a2b4-50df-4e00-a620-ae28dd8d1b5e"
      },
      "execution_count": null,
      "outputs": [
        {
          "output_type": "stream",
          "name": "stdout",
          "text": [
            "               0  1\n",
            "0          a_DET  6\n",
            "1    Heron_PROPN  5\n",
            "2         be_AUX  6\n",
            "3      walk_VERB  1\n",
            "4   sedately_ADV  1\n",
            "..           ... ..\n",
            "95   content_ADJ  1\n",
            "96       bad_ADJ  1\n",
            "97  nothing_PRON  1\n",
            "98        at_ADV  1\n",
            "99       all_ADV  1\n",
            "\n",
            "[100 rows x 2 columns]\n"
          ]
        }
      ]
    },
    {
      "cell_type": "markdown",
      "source": [
        "### **Step#5** Write a tagged frequency dataframe to a csv file (on Colab)"
      ],
      "metadata": {
        "id": "Dt8juzff0xeX"
      }
    },
    {
      "cell_type": "code",
      "source": [
        "df.to_csv(r'/content/tagged.csv', index=False)"
      ],
      "metadata": {
        "id": "93eI3khd0O8p"
      },
      "execution_count": null,
      "outputs": []
    },
    {
      "cell_type": "code",
      "source": [
        "data = pd.read_csv('tagged.csv')\n",
        "data"
      ],
      "metadata": {
        "id": "ZMsLjqzUAI5E"
      },
      "execution_count": null,
      "outputs": []
    },
    {
      "cell_type": "markdown",
      "source": [
        "##🔰 [5] Collocation, N-grams\n",
        "\n",
        "**Collocations:** these are phrases or expressions containing sequences of words, that are highly likely to co-occur. \n",
        "\n",
        "* For example — 'social media', national holiday', 'deep learning', 'Walt Disney', etc.\n",
        "\n",
        "**N-grams:** Traditionally, we can use n-grams to generate language models to predict which word comes next given a history of words. {nltk.lm}"
      ],
      "metadata": {
        "id": "qvTb7YwPH0Mr"
      }
    },
    {
      "cell_type": "code",
      "source": [
        "# Corpus to download: 'gutenberg' (18 texts: novels, bible)\n",
        "import nltk\n",
        "nltk.download('gutenberg')\n",
        "nltk.corpus.gutenberg.fileids()"
      ],
      "metadata": {
        "colab": {
          "base_uri": "https://localhost:8080/"
        },
        "id": "Vuu3zRM7J-7a",
        "outputId": "9baadb7d-1cc0-4ab9-dd26-b8f4a41ba712"
      },
      "execution_count": null,
      "outputs": [
        {
          "output_type": "stream",
          "name": "stdout",
          "text": [
            "[nltk_data] Downloading package gutenberg to /root/nltk_data...\n",
            "[nltk_data]   Package gutenberg is already up-to-date!\n"
          ]
        },
        {
          "output_type": "execute_result",
          "data": {
            "text/plain": [
              "['austen-emma.txt',\n",
              " 'austen-persuasion.txt',\n",
              " 'austen-sense.txt',\n",
              " 'bible-kjv.txt',\n",
              " 'blake-poems.txt',\n",
              " 'bryant-stories.txt',\n",
              " 'burgess-busterbrown.txt',\n",
              " 'carroll-alice.txt',\n",
              " 'chesterton-ball.txt',\n",
              " 'chesterton-brown.txt',\n",
              " 'chesterton-thursday.txt',\n",
              " 'edgeworth-parents.txt',\n",
              " 'melville-moby_dick.txt',\n",
              " 'milton-paradise.txt',\n",
              " 'shakespeare-caesar.txt',\n",
              " 'shakespeare-hamlet.txt',\n",
              " 'shakespeare-macbeth.txt',\n",
              " 'whitman-leaves.txt']"
            ]
          },
          "metadata": {},
          "execution_count": 247
        }
      ]
    },
    {
      "cell_type": "code",
      "source": [
        "text = nltk.corpus.gutenberg.raw('austen-sense.txt')\n",
        "words = retokenize.tokenize(text)\n",
        "print(len(words))"
      ],
      "metadata": {
        "colab": {
          "base_uri": "https://localhost:8080/"
        },
        "id": "uCUkRA3YBHU0",
        "outputId": "0a2bb9c3-1309-4a75-f62b-9de5527497d2"
      },
      "execution_count": null,
      "outputs": [
        {
          "output_type": "stream",
          "name": "stdout",
          "text": [
            "120787\n"
          ]
        }
      ]
    },
    {
      "cell_type": "code",
      "source": [
        "nltk.Text(words).collocations()"
      ],
      "metadata": {
        "colab": {
          "base_uri": "https://localhost:8080/"
        },
        "id": "ggvxq9J6Kjwi",
        "outputId": "063c032f-ef9e-411e-8cc8-3e4ad569be38"
      },
      "execution_count": null,
      "outputs": [
        {
          "output_type": "stream",
          "name": "stdout",
          "text": [
            "Mrs Jennings; Colonel Brandon; Sir John; Lady Middleton; Mrs Dashwood;\n",
            "Mrs Ferrars; Miss Dashwood; every thing; thousand pounds; dare say;\n",
            "Miss Steeles; Mrs Palmer; Miss Steele; said Elinor; every body; John\n",
            "Dashwood; great deal; Harley Street; Berkeley Street; Miss Dashwoods\n"
          ]
        }
      ]
    },
    {
      "cell_type": "markdown",
      "source": [
        "[sample text:](https://raw.githubusercontent.com/MK316/workshop22/main/data/TheHeron.txt) Copy and paste below"
      ],
      "metadata": {
        "id": "d_Sa99y7LZce"
      }
    },
    {
      "cell_type": "code",
      "source": [
        "text = input()\n",
        "words1 = retokenize.tokenize(text)"
      ],
      "metadata": {
        "colab": {
          "base_uri": "https://localhost:8080/"
        },
        "id": "HoAjen3kLA7k",
        "outputId": "733b0218-2c1b-4023-9ae2-dff6e02146a7"
      },
      "execution_count": null,
      "outputs": [
        {
          "name": "stdout",
          "output_type": "stream",
          "text": [
            " A Heron was walking sedately along the bank of a stream, his eyes on the clear water, and his long neck and pointed bill ready to snap up a likely morsel for his breakfast. The clear water swarmed with fish, but Master Heron was hard to please that morning. \"No small fry for me,\" he said. \"Such scanty fare is not fit for a Heron. \"Now a fine young Perch swam near. \"No indeed,\" said the Heron. \"I wouldn't even trouble to open my beak for anything like that!\" As the sun rose, the fish left the shallow water near the shore and swam below into the cool depths toward the middle. The Heron saw no more fish, and very glad was he at last to breakfast on a tiny Snail. Do not be too hard to suit or you may have to be content with the worst or with nothing at all.\n"
          ]
        }
      ]
    },
    {
      "cell_type": "code",
      "source": [
        "nltk.Text(words1).collocations()"
      ],
      "metadata": {
        "colab": {
          "base_uri": "https://localhost:8080/"
        },
        "id": "mzhRNdEoLw1s",
        "outputId": "705a8213-7c87-4113-8d47-01b2006d44eb"
      },
      "execution_count": null,
      "outputs": [
        {
          "output_type": "stream",
          "name": "stdout",
          "text": [
            "clear water\n"
          ]
        }
      ]
    },
    {
      "cell_type": "markdown",
      "source": [
        "###🚩 **N-grams**\n",
        "\n",
        "_**Why is it that we need to learn n-gram and the related probability?**_\n",
        "\n",
        "\\- In Natural Language Processing, or NLP for short, n-grams are used for a variety of things. Some examples include auto completion of sentences, auto spell check, and to a certain extent, we can check for grammar in a given sentence. "
      ],
      "metadata": {
        "id": "LcDH9OfLN_b2"
      }
    },
    {
      "cell_type": "code",
      "source": [
        "#@markdown 🚩 (1) Let's try with a new function: ngram(x, y) x = ngram number, y = show top yth ngrams\n",
        "import nltk\n",
        "nltk.download('gutenberb')\n",
        "from nltk.tokenize import word_tokenize\n",
        "\n",
        "def ngram(x, y):\n",
        "\n",
        "  # ngram_num = input()\n",
        "  # ngram_num = int(ngram_num)\n",
        "\n",
        "  text_to_choose = \"bible-kjv.txt\"  #@param ['austen-emma.txt', 'austen-persuasion.txt', 'austen-sense.txt', 'bible-kjv.txt', 'blake-poems.txt', 'bryant-stories.txt', 'burgess-busterbrown.txt', 'carroll-alice.txt', 'chesterton-ball.txt', 'chesterton-brown.txt', 'chesterton-thursday.txt', 'edgeworth-parents.txt', 'melville-moby_dick.txt', 'milton-paradise.txt', 'shakespeare-caesar.txt', 'shakespeare-hamlet.txt', 'shakespeare-macbeth.txt', 'whitman-leaves.txt']\n",
        "  # ngram_number = \"6\" #@param [2, 3, 4, 5, 6, 7]\n",
        "  # n = int(ngram_number)\n",
        "  # show_nth_in_frequency_list = \"5\" #@param [5, 10, 15, 20]\n",
        "  # n1 = int(show_nth_in_frequency_list)\n",
        "\n",
        "  text = nltk.corpus.gutenberg.raw(text_to_choose)\n",
        "  ngram = ngrams(text.split(),x)\n",
        "\n",
        "  gramdata = []\n",
        "\n",
        "  for grams in ngram:\n",
        "    gramdata.append(grams)\n",
        "  print(len(gramdata))\n",
        "\n",
        "  fd = nltk.FreqDist(gramdata).most_common(int(y))\n",
        "  return fd"
      ],
      "metadata": {
        "colab": {
          "base_uri": "https://localhost:8080/"
        },
        "cellView": "form",
        "id": "j-bLZ62-QGCp",
        "outputId": "c1402da9-e614-4a9d-ad9b-b63c59da8427"
      },
      "execution_count": null,
      "outputs": [
        {
          "output_type": "stream",
          "name": "stdout",
          "text": [
            "[nltk_data] Error loading gutenberb: Package 'gutenberb' not found in\n",
            "[nltk_data]     index\n"
          ]
        }
      ]
    },
    {
      "cell_type": "markdown",
      "source": [
        "🚩 (2) Getting results using ngram(x,y)"
      ],
      "metadata": {
        "id": "AdEZ6GThXs58"
      }
    },
    {
      "cell_type": "code",
      "source": [
        "ngram(5, 10) # fivegram result, show top 10 most common fivegram"
      ],
      "metadata": {
        "id": "Y0nQ06SjV9_m"
      },
      "execution_count": null,
      "outputs": []
    },
    {
      "cell_type": "markdown",
      "source": [
        "##🔰 [6] Concordance\n",
        "\n",
        "words in context"
      ],
      "metadata": {
        "id": "sSiDo9DzH25V"
      }
    },
    {
      "cell_type": "code",
      "source": [
        "nltk.Text(words).concordance('Jennings',130,10)"
      ],
      "metadata": {
        "colab": {
          "base_uri": "https://localhost:8080/"
        },
        "id": "x6S-8AhrMSlF",
        "outputId": "daa23115-a805-44a7-90de-2b87b3e15c79"
      },
      "execution_count": null,
      "outputs": [
        {
          "output_type": "stream",
          "name": "stdout",
          "text": [
            "Displaying 10 of 230 matches:\n",
            "two entire strangers of the party and wished for no more Mrs Jennings Lady Middleton s mother was a good humoured merry fat elderl\n",
            "pain than could arise from such common place raillery as Mrs Jennings s Colonel Brandon the friend of Sir John seemed no more adap\n",
            " be his friend than Lady Middleton was to be his wife or Mrs Jennings to be Lady Middleton s mother He was silent and grave His ap\n",
            "advanced state of life which humanity required CHAPTER 8 Mrs Jennings was a widow with an ample jointure She had only two daughter\n",
            " an excellent match for HE was rich and SHE was handsome Mrs Jennings had been anxious to see Colonel Brandon well married ever si\n",
            " to the youthful fancy of her daughter ventured to clear Mrs Jennings from the probability of wishing to throw ridicule on his age\n",
            "ly ill natured Colonel Brandon is certainly younger than Mrs Jennings but he is old enough to be MY father and if he were ever ani\n",
            " though unwillingly to believe that the sentiments which Mrs Jennings had assigned him for her own satisfaction were now actually \n",
            " of being approved by such a woman as Lady Middleton and Mrs Jennings that could command the indifference of any body else But per\n",
            "nd with less regret than ever Neither Lady Middleton nor Mrs Jennings could supply to her the conversation she missed although the\n"
          ]
        }
      ]
    },
    {
      "cell_type": "code",
      "source": [
        "nltk.Text(words).dispersion_plot(['Jennings','Brandon','John','Elinor'])"
      ],
      "metadata": {
        "colab": {
          "base_uri": "https://localhost:8080/",
          "height": 295
        },
        "id": "9cmq2NMBM4YT",
        "outputId": "9db3fe0f-b63a-4d7a-97bc-4f4b9cbd905f"
      },
      "execution_count": null,
      "outputs": [
        {
          "output_type": "display_data",
          "data": {
            "text/plain": [
              "<Figure size 432x288 with 1 Axes>"
            ],
            "image/png": "[encoded data removed]"
          },
          "metadata": {
            "needs_background": "light"
          }
        }
      ]
    },
    {
      "cell_type": "code",
      "source": [
        "fd = nltk.FreqDist(words).most_common(10)\n",
        "fd"
      ],
      "metadata": {
        "colab": {
          "base_uri": "https://localhost:8080/"
        },
        "id": "Ww3wfNCrNWId",
        "outputId": "dfde2e4a-af87-4393-b4c8-ff5c6007d159"
      },
      "execution_count": null,
      "outputs": [
        {
          "output_type": "execute_result",
          "data": {
            "text/plain": [
              "[('to', 4063),\n",
              " ('the', 3861),\n",
              " ('of', 3565),\n",
              " ('and', 3350),\n",
              " ('her', 2436),\n",
              " ('a', 2043),\n",
              " ('I', 2004),\n",
              " ('in', 1904),\n",
              " ('was', 1846),\n",
              " ('it', 1568)]"
            ]
          },
          "metadata": {},
          "execution_count": 271
        }
      ]
    },
    {
      "cell_type": "markdown",
      "source": [
        "##🔰 [7] Lexical Diversity Assessments:\n",
        "Keywords: **TTR (Type-to-Token Ratio), MTLD, vocd-D,** and **HD-D**\n",
        "\n",
        "**[Notes]** \n",
        "1. The lexical diversity indices here refer to the following article:\n",
        "\n",
        "* [McCarthy, P.M., Jarvis, S.](\"https://link.springer.com/article/10.3758/BRM.42.2.381\") (2010). MTLD, vocd-D, and HD-D: A validation study of sophisticated approaches to lexical diversity assessment. Behavior Research Methods 42, 381–392. https://doi.org/10.3758/BRM.42.2.381\n",
        "\n",
        "2. The Python coding here uses [Kristopher Kyle's {lexical-diversity} package](\"https://github.com/kristopherkyle/lexical_diversity\").\n",
        "\n",
        "3. TTR, Log TTR, RootTTR etc: These measures have been criticized since they are heavily influenced by text length. (Tweedie & Baayen, 1998; Chipere et al., 2004; Kettunen, 2014) Thus, researchers should use matrics such as MTLD, HDD, MASS, etc\n",
        "\n"
      ],
      "metadata": {
        "id": "7zKdKkKfH6Wj"
      }
    },
    {
      "cell_type": "markdown",
      "source": [
        "### **Step#1** Intalling {lexical-diversity} packages:"
      ],
      "metadata": {
        "id": "DnZrNr0Zj9Wj"
      }
    },
    {
      "cell_type": "code",
      "execution_count": null,
      "metadata": {
        "id": "dmMZqmq8d1sz"
      },
      "outputs": [],
      "source": [
        "%%capture\n",
        "pip install lexical-diversity"
      ]
    },
    {
      "cell_type": "code",
      "source": [
        "from lexical_diversity import lex_div as ld"
      ],
      "metadata": {
        "id": "ss-i74H6vlNE"
      },
      "execution_count": null,
      "outputs": []
    },
    {
      "cell_type": "markdown",
      "source": [
        "### **Step#2** Bring your texts to be analyzed:\n",
        "\n",
        "Text upload: Copy the text following the link and past it when asked.\n",
        "\n",
        "[Text1 to copy](https://raw.githubusercontent.com/MK316/workshop22/main/data/RE.Ch01.txt)"
      ],
      "metadata": {
        "id": "Jo-yR1aojtrg"
      }
    },
    {
      "cell_type": "code",
      "source": [
        "#1# Copy and paste the text directly in the cell:\n",
        "\n",
        "text1 = input()"
      ],
      "metadata": {
        "id": "FgR5hPZ2kKKM",
        "colab": {
          "base_uri": "https://localhost:8080/"
        },
        "outputId": "34a2bfa2-14d1-437d-c72d-a61c9b7f4867"
      },
      "execution_count": null,
      "outputs": [
        {
          "name": "stdout",
          "output_type": "stream",
          "text": [
            "The visual village  Before the age of the smartphone, aspiring photographers had to learn how to use high-tech cameras and photographic techniques. Not everyone had cameras, and it took skill and a good eye to capture and create a great photograph. Today, with the huge range of camera apps on our smartphones, we are all amateur photographers. And pretty good ones, too: The quality of smartphone images now nearly equals that of digital cameras. The new ease of photography has given us a tremendous appetite for capturing the magical and the ordinary. We are obsessed with documenting everyday moments, whether it’s a shot of our breakfast, our cat – or our cat’s breakfast. And rather than collect pictures in scrapbooks, we share, like, and comment on them with friends and strangers around the globe. Even photojournalists are experimenting with cell phones because their near invisibility makes it easier to capture unguarded media. They can now act as their own publishers – reaching huge audiences via social media sites such as Instagram. A photograph taken in New York can get a response from someone in Lagos within a second of being uploaded. In the past, magazines published unforgettable photos of important people and global events that captured our imaginations. These photos had the power to change public opinion – even the course of history. But if there are fewer memorable images today, it’s not because there are fewer good images: It’s because there are so many. No one image gets to be special for long. Cameras are everywhere – a situation that is transforming the way we experience dramatic events. When there are major political events or natural disasters, it is ordinary citizens with cell phones – not photojournalists – who often provide the first news images. Quality still matters, but it’s less important than what’s instantly shared. As people everywhere embrace photography and the media make use of citizen journalist, professional standards appear to be shifting. In the past, most people trusted photojournalists to accurately represent reality. Today, however, digital images can be altered in ways the naked eye might never notice. Any image can be altered to create an “improved” picture of reality. The average viewer is left with no way to assess the accuracy of an image except through trust in a news organization or photographer. The question of the accuracy of images gets even trickier when photojournalists start experimenting with camera apps – like Flickr or Instagram – which encourage the use of filters. Images can be colored, brightened, faded, and scratched to make photographs more artistic, or to give them an antique look. Photojournalists using camera apps to cover wars and conflicts have created powerful images – but also controversy. Critics worry that antique-looking photographs romanticize war, while distancing us from those who fight in them. Yet, photography has always been more subjective than we assume. Each picture is a result of a series of decisions – where to stand, what lens to use, and what to leave in or out of the frame. Does altering photographs with camera app filters make them less true? There’s something powerful and exciting about the experiment that the digital age has forced upon us. These new tools make it easier to tell our own stories, and they give others the power to do the same. Many members of the media get stuck on the same stories, focusing on elections, governments, wars, and disasters. In the process, they miss out on the less dramatic images of daily life that can be just as revealing and relevant. The increase in the number of photographs and photographers might even be good for democracy itself. Hundreds of millions of potential citizen journalists make the world smaller and help keep leaders honest. People can now show what they are up against, making it increasingly difficult for governments to hide their actions. If everyone has a camera, Big Brother isn’t the only one watching. Who knows? Our obsession with documentation and constantly being connected could lead to a radical change in our way of being. Perhaps we are witnessing the development of a universal visual language. It’s one that could change the way we relate to each other and the world. Of course, as with any language, there will be those who produce poetry and those who make shopping lists. It’s not clear whether this flowering of image-making will lead to a public that better appreciates and understands images. Or will it simply numb us to the profound effects a well-made image can have? Regardless, the change is irreversible. Let’s hope the millions of new photographs made today help us see what we all have in common, rather than what sets us apart.\n"
          ]
        }
      ]
    },
    {
      "cell_type": "markdown",
      "source": [
        "[Text2 to copy](https://raw.githubusercontent.com/MK316/workshop22/main/data/RE.Ch02.txt)"
      ],
      "metadata": {
        "id": "zp1YEtL0bhlo"
      }
    },
    {
      "cell_type": "code",
      "source": [
        "text2 = input()"
      ],
      "metadata": {
        "colab": {
          "base_uri": "https://localhost:8080/"
        },
        "id": "z3EqjTVWbgGH",
        "outputId": "bd993ffb-5528-42da-d3fb-ebd45d66f0be"
      },
      "execution_count": null,
      "outputs": [
        {
          "name": "stdout",
          "output_type": "stream",
          "text": [
            "Living light  The ability of some species to create light, known as bioluminescence, is both magical and commonplace. Magical, because of its glimmering beauty. Commonplace, because many life forms can do it. On land the most familiar examples are fireflies, flashing to attract mates on a warm summer night. But there are other luminous land organisms, including glow-worms, millipedes, and some ninety species of fungus. Even some birds, such as the Atlantic puffin, have beaks that glow in the dark. But the real biological light show takes place in the sea. Here, an astonishing number of beings can make light. Some, such as ostracods, are like ocean fireflies, using flashes of light to attract mate. There are also glowing bacteria, and light-making fish, squid, and jellyfish. Indeed, of all the groups of organisms known to make light, more than four-fifths live in the ocean. As a place to live, the ocean has a couple of peculiarities. Firstly, there is almost nowhere to hide, so being invisible is very important. Secondly, as you descend, sunlight disappears. At first, red light is absorbed. Then the yellow and green parts of the spectrum disappear, leaving just the blue. At two-hundred meters below the surface, the ocean becomes a kind of perpetual twilight, and at six-hundred meters the blue fades out too. In fact, most of the ocean is as black as the night sky. These factors make light uniquely useful as a weapon or a veil. Hiding with light In the ocean’s upper layers, where light penetrates, creatures need to blend in to survive. Any life form that stands out is in danger of being spotted by predators, especially those swimming below, looking up. Many life forms solve this problem by avoiding the light zone during the day. Others, such as jellyfish and swimming snails, are transparent, ghostlike creatures, almost impossible to see. Other sea species use light to survive in the upper layers, but how? Some, such as certain shrimp and squid, illuminate their bellies to match the light coming from above. This allows them to become invisible to predators below. Their light can be turned on and off at will, some even have a dimmer switch. For example, certain types of shrimp can alter how much light they give off, depending on the brightness of the water around them. If a cloud passes overhead and briefly blocks the light, the shrimp will dim itself accordingly. But if the aim is to remain invisible, why do some creatures light up when they are touched, or when the water nearby is disturbed? A couple of reasons. First, a sudden burst of light may startle a predator, giving the prey a chance to escape. Some kinds of deep-sea squid, for example, give a big squirt of light before darting off into the gloom. Second, there is the principle of ‘the enemy of my enemy is my friend.’ Giving off light can help summon the predator of your predator. Known as the burglar alarm effect, this is especially useful for tiny life forms, such as dinoflagellates, that cannot swim fast. For such small beings, water is too viscous to allow a quick getaway, it would be like trying to swim through syrup. Instead, when threatened by a shrimp, for example, these organisms light up. The flashes attract larger fish that are better able to spot, and eat, the shrimp. The chief defense for these tiny organisms is therefore not fight or flight, but light. \n"
          ]
        }
      ]
    },
    {
      "cell_type": "code",
      "source": [
        "tleng1 = len(text1); print('Text length: ',tleng1)\n",
        "tleng2 = len(text2); print('Text length: ',tleng2)"
      ],
      "metadata": {
        "colab": {
          "base_uri": "https://localhost:8080/"
        },
        "outputId": "f7e5c46f-1a5f-4e81-ab5a-fc0ab6f52f3d",
        "id": "YhV8ARmof4Bc"
      },
      "execution_count": null,
      "outputs": [
        {
          "output_type": "stream",
          "name": "stdout",
          "text": [
            "Text length:  4755\n",
            "Text length:  3382\n"
          ]
        }
      ]
    },
    {
      "cell_type": "code",
      "source": [
        "tok1 = ld.tokenize(text1); tok2 = ld.tokenize(text2)\n",
        "tok1 = [w for w in tok1 if len(w) >1]; tok2 = [w for w in tok2 if len(w) >1]\n",
        "print('First 10 tokenized words in text1:', tok1[:10])\n",
        "print('First 10 tokenized words in text2:', tok2[:10])"
      ],
      "metadata": {
        "colab": {
          "base_uri": "https://localhost:8080/"
        },
        "outputId": "770c3db4-2271-4a40-90d9-975e3a4efe1c",
        "id": "lCPcgBNDf4Bd"
      },
      "execution_count": null,
      "outputs": [
        {
          "output_type": "stream",
          "name": "stdout",
          "text": [
            "First 10 tokenized words in text1: ['the', 'visual', 'village', 'before', 'the', 'age', 'of', 'the', 'smartphone', 'aspiring']\n",
            "First 10 tokenized words in text2: ['living', 'light', 'the', 'ability', 'of', 'some', 'species', 'to', 'create', 'light']\n"
          ]
        }
      ]
    },
    {
      "cell_type": "code",
      "source": [
        "flt1 = ld.flemmatize(text1)\n",
        "flt2 = ld.flemmatize(text2)"
      ],
      "metadata": {
        "id": "whvJDBujf4Bd"
      },
      "execution_count": null,
      "outputs": []
    },
    {
      "cell_type": "markdown",
      "source": [
        "### **[0] TTR:** This measure is sensitive to the length of a text."
      ],
      "metadata": {
        "id": "v6Mu13NeetCY"
      }
    },
    {
      "cell_type": "markdown",
      "source": [
        "### Lexical Diversity indices:\n",
        "\n",
        "* TTR (Type-Token ratio) = Type / Token: \n",
        "\n",
        "e.g., unique words = 400, Token = 1,000\n",
        "TTR = 400 / 1,000 = 0.4\n",
        "\n",
        "- It is a measure of vocabulary ***variation*** within a written text or a speech\n",
        "\n",
        "- The closer the TTR ratio is to 1, the greater the lexical richness of the segment.\n",
        "\n",
        "* Note: TTR values vary in accordance with the length of the text. That is, TTR’s are not comparable unless they are based on texts of the same length. \n",
        "\n",
        "=> STTR (Standardized TTR): You can get an average type/token ratio based on consecutive 1,000-word chunks of text. (Texts with less than 1,000 words will get a standardised type/token ratio of 0.)"
      ],
      "metadata": {
        "id": "II7Amu12lCCX"
      }
    },
    {
      "cell_type": "markdown",
      "source": [
        "References\n",
        "Johnson (1939) Language and Speech Hygiene: an Application of General Semantics: Outline of a Course (Chicago)."
      ],
      "metadata": {
        "id": "_EksYVihyZTo"
      }
    },
    {
      "cell_type": "code",
      "source": [
        "ttr1 = ld.ttr(flt1)\n",
        "ttr2 = ld.ttr(flt2)\n",
        "print(ttr1, ttr2)"
      ],
      "metadata": {
        "colab": {
          "base_uri": "https://localhost:8080/"
        },
        "id": "xHlc5x3SfEyY",
        "outputId": "cc1a0d61-0687-4de7-880b-714bdf13786f"
      },
      "execution_count": null,
      "outputs": [
        {
          "output_type": "stream",
          "name": "stdout",
          "text": [
            "0.42258883248730966 0.45689655172413796\n"
          ]
        }
      ]
    },
    {
      "cell_type": "markdown",
      "source": [
        "### [1] **MTLD**: the Measure of Textual Lexical Diversity\n",
        "\n",
        "* The index for this approach is calculated as the mean length of word strings that maintain a criterion level of lexical variation.\n",
        "\n",
        "* This index is not found to vary as a function of text length. (McCarthy, 2010)"
      ],
      "metadata": {
        "id": "4DaWeIibfXbQ"
      }
    },
    {
      "cell_type": "markdown",
      "source": [
        "\"... MTLD is obtained by dividing the total number of words by\n",
        "the total number of factors. Thus, if the text is 360 words long and there are 4 factors, the MTLD value is 90. ... The final version of MTLD is obtained by running the programme\n",
        "forward and backward through the data and calculating an average of the outcome of both. According to McCarthy (2005) and Crossley et al. (2009), MTLD does not vary as a function of text length for text segments whose length is in the\n",
        "100–2,000-word range.\" excerpt from [Treffers-Daller, J. (2013)](\"https://centaur.reading.ac.uk/28712/1/04ch3.pdf\") Measuring lexical diversity among L2\n",
        "learners of French: an exploration of the validity of D, MTLD\n",
        "and HD-D as measures of language ability. In: Jarvis, S. and\n",
        "Daller, M. (eds.) Vocabulary knowledge: human ratings and\n",
        "automated measures. Benjamins, Amsterdam, pp. 79-104.\n",
        "ISBN 9789027241887 Available at\n",
        "http://centaur.reading.ac.uk/28712/"
      ],
      "metadata": {
        "id": "Nt8vb4bU7ppU"
      }
    },
    {
      "cell_type": "code",
      "source": [
        "tleng1 = len(text1); print('Text length: ',tleng1)\n",
        "tleng2 = len(text2); print('Text length: ',tleng2)"
      ],
      "metadata": {
        "colab": {
          "base_uri": "https://localhost:8080/"
        },
        "id": "LzsFgC0m873R",
        "outputId": "a49f3ca6-efe4-4a4e-8fc2-7841d1f33e4e"
      },
      "execution_count": null,
      "outputs": [
        {
          "output_type": "stream",
          "name": "stdout",
          "text": [
            "Text length:  4755\n",
            "Text length:  3382\n"
          ]
        }
      ]
    },
    {
      "cell_type": "code",
      "source": [
        "tok1 = ld.tokenize(text1); tok2 = ld.tokenize(text2)\n",
        "tok1 = [w for w in tok1 if len(w) >1]; tok2 = [w for w in tok2 if len(w) >1]\n",
        "print('First 10 tokenized words in text1:', tok1[:10])\n",
        "print('First 10 tokenized words in text2:', tok2[:10])"
      ],
      "metadata": {
        "colab": {
          "base_uri": "https://localhost:8080/"
        },
        "id": "Ycm2T0vhvbnm",
        "outputId": "0d917317-7973-4f7c-b9d1-8103e2b6fee0"
      },
      "execution_count": null,
      "outputs": [
        {
          "output_type": "stream",
          "name": "stdout",
          "text": [
            "First 10 tokenized words in text1: ['the', 'visual', 'village', 'before', 'the', 'age', 'of', 'the', 'smartphone', 'aspiring']\n",
            "First 10 tokenized words in text2: ['living', 'light', 'the', 'ability', 'of', 'some', 'species', 'to', 'create', 'light']\n"
          ]
        }
      ]
    },
    {
      "cell_type": "code",
      "source": [
        "flt1 = ld.flemmatize(text1)\n",
        "flt2 = ld.flemmatize(text2)"
      ],
      "metadata": {
        "id": "GW56Ew8mv2VT"
      },
      "execution_count": null,
      "outputs": []
    },
    {
      "cell_type": "code",
      "source": [
        "mtld1 = ld.mtld(flt1); print(\"MTLD index: %d\"%mtld1)\n",
        "mtld2 = ld.mtld(flt2); print(\"MTLD index: %d\"%mtld2)"
      ],
      "metadata": {
        "colab": {
          "base_uri": "https://localhost:8080/"
        },
        "id": "hy_hD4enfcjg",
        "outputId": "92e8740f-87f2-4aa7-f078-2f70444528f3"
      },
      "execution_count": null,
      "outputs": [
        {
          "output_type": "stream",
          "name": "stdout",
          "text": [
            "MTLD index: 102\n",
            "MTLD index: 82\n"
          ]
        }
      ]
    },
    {
      "cell_type": "markdown",
      "source": [
        "### **[2] HD-D**(or vocd-D): Hypergeometric distribution D\n",
        "* HD-D is a viable alternative to the vocd-D standard."
      ],
      "metadata": {
        "id": "1iWMLmvVgz3t"
      }
    },
    {
      "cell_type": "code",
      "source": [
        "hdd1 = ld.hdd(flt1); print('HD-D index: ',hdd1)\n",
        "hdd2 = ld.hdd(flt2); print('HD-D index: ',hdd2)"
      ],
      "metadata": {
        "colab": {
          "base_uri": "https://localhost:8080/"
        },
        "id": "DEsKy2wjg7tI",
        "outputId": "338311d2-a7af-4029-aa3a-26bf82a3c955"
      },
      "execution_count": null,
      "outputs": [
        {
          "output_type": "stream",
          "name": "stdout",
          "text": [
            "HD-D index:  0.8531322110810644\n",
            "HD-D index:  0.8330696824693796\n"
          ]
        }
      ]
    },
    {
      "cell_type": "markdown",
      "source": [
        "### **[3] MASS**:\n",
        "\n",
        "* Three of the indices — MTLD, vocd-D (or HD-D), and Maas—appear to capture unique lexical information. "
      ],
      "metadata": {
        "id": "NDQzK6ODhCs1"
      }
    },
    {
      "cell_type": "code",
      "source": [
        "mass1 = ld.maas_ttr(flt1); print('MASS index: ', mass1)\n",
        "mass2 = ld.maas_ttr(flt2); print('MASS index: ', mass2)"
      ],
      "metadata": {
        "colab": {
          "base_uri": "https://localhost:8080/"
        },
        "id": "qw-_fyZuhHyu",
        "outputId": "991f7f21-d6cc-49fe-be10-bcf85bb30402"
      },
      "execution_count": null,
      "outputs": [
        {
          "output_type": "stream",
          "name": "stdout",
          "text": [
            "MASS index:  0.04458737093343894\n",
            "MASS index:  0.044546663099875504\n"
          ]
        }
      ]
    },
    {
      "cell_type": "markdown",
      "source": [
        "### Result summary"
      ],
      "metadata": {
        "id": "PfHEzb5560FM"
      }
    },
    {
      "cell_type": "code",
      "source": [
        "# result table\n",
        "\n",
        "df = pd.DataFrame()\n",
        "\n",
        "df['Text'] = ['Text1','Text2']\n",
        "df['Length'] = [tleng1, tleng2]\n",
        "df['TTR'] = [ttr1, ttr2]\n",
        "df['MTLD'] = [round(mtld1,2), round(mtld2,2)]\n",
        "df['HDD'] = [round(hdd1,4), round(hdd2,4)]\n",
        "df['MASS'] = [round(mass1,4), round(mass2,4)]\n",
        "\n",
        "df"
      ],
      "metadata": {
        "colab": {
          "base_uri": "https://localhost:8080/",
          "height": 112
        },
        "id": "JWsqZ5ntc3R6",
        "outputId": "2f3e6ee9-5ff0-47a0-d9b1-b8d0b7fff9da"
      },
      "execution_count": null,
      "outputs": [
        {
          "output_type": "execute_result",
          "data": {
            "text/plain": [
              "    Text  Length       TTR    MTLD     HDD    MASS\n",
              "0  Text1    4755  0.422589  102.14  0.8531  0.0446\n",
              "1  Text2    3382  0.456897   82.86  0.8331  0.0445"
            ],
            "text/html": [
              "\n",
              "  <div id=\"df-bb914dc7-c9e1-41ee-8a5f-26fd1a3cd91e\">\n",
              "    <div class=\"colab-df-container\">\n",
              "      <div>\n",
              "<style scoped>\n",
              "    .dataframe tbody tr th:only-of-type {\n",
              "        vertical-align: middle;\n",
              "    }\n",
              "\n",
              "    .dataframe tbody tr th {\n",
              "        vertical-align: top;\n",
              "    }\n",
              "\n",
              "    .dataframe thead th {\n",
              "        text-align: right;\n",
              "    }\n",
              "</style>\n",
              "<table border=\"1\" class=\"dataframe\">\n",
              "  <thead>\n",
              "    <tr style=\"text-align: right;\">\n",
              "      <th></th>\n",
              "      <th>Text</th>\n",
              "      <th>Length</th>\n",
              "      <th>TTR</th>\n",
              "      <th>MTLD</th>\n",
              "      <th>HDD</th>\n",
              "      <th>MASS</th>\n",
              "    </tr>\n",
              "  </thead>\n",
              "  <tbody>\n",
              "    <tr>\n",
              "      <th>0</th>\n",
              "      <td>Text1</td>\n",
              "      <td>4755</td>\n",
              "      <td>0.422589</td>\n",
              "      <td>102.14</td>\n",
              "      <td>0.8531</td>\n",
              "      <td>0.0446</td>\n",
              "    </tr>\n",
              "    <tr>\n",
              "      <th>1</th>\n",
              "      <td>Text2</td>\n",
              "      <td>3382</td>\n",
              "      <td>0.456897</td>\n",
              "      <td>82.86</td>\n",
              "      <td>0.8331</td>\n",
              "      <td>0.0445</td>\n",
              "    </tr>\n",
              "  </tbody>\n",
              "</table>\n",
              "</div>\n",
              "      <button class=\"colab-df-convert\" onclick=\"convertToInteractive('df-bb914dc7-c9e1-41ee-8a5f-26fd1a3cd91e')\"\n",
              "              title=\"Convert this dataframe to an interactive table.\"\n",
              "              style=\"display:none;\">\n",
              "        \n",
              "  <svg xmlns=\"http://www.w3.org/2000/svg\" height=\"24px\"viewBox=\"0 0 24 24\"\n",
              "       width=\"24px\">\n",
              "    <path d=\"M0 0h24v24H0V0z\" fill=\"none\"/>\n",
              "    <path d=\"M18.56 5.44l.94 2.06.94-2.06 2.06-.94-2.06-.94-.94-2.06-.94 2.06-2.06.94zm-11 1L8.5 8.5l.94-2.06 2.06-.94-2.06-.94L8.5 2.5l-.94 2.06-2.06.94zm10 10l.94 2.06.94-2.06 2.06-.94-2.06-.94-.94-2.06-.94 2.06-2.06.94z\"/><path d=\"M17.41 7.96l-1.37-1.37c-.4-.4-.92-.59-1.43-.59-.52 0-1.04.2-1.43.59L10.3 9.45l-7.72 7.72c-.78.78-.78 2.05 0 2.83L4 21.41c.39.39.9.59 1.41.59.51 0 1.02-.2 1.41-.59l7.78-7.78 2.81-2.81c.8-.78.8-2.07 0-2.86zM5.41 20L4 18.59l7.72-7.72 1.47 1.35L5.41 20z\"/>\n",
              "  </svg>\n",
              "      </button>\n",
              "      \n",
              "  <style>\n",
              "    .colab-df-container {\n",
              "      display:flex;\n",
              "      flex-wrap:wrap;\n",
              "      gap: 12px;\n",
              "    }\n",
              "\n",
              "    .colab-df-convert {\n",
              "      background-color: #E8F0FE;\n",
              "      border: none;\n",
              "      border-radius: 50%;\n",
              "      cursor: pointer;\n",
              "      display: none;\n",
              "      fill: #1967D2;\n",
              "      height: 32px;\n",
              "      padding: 0 0 0 0;\n",
              "      width: 32px;\n",
              "    }\n",
              "\n",
              "    .colab-df-convert:hover {\n",
              "      background-color: #E2EBFA;\n",
              "      box-shadow: 0px 1px 2px rgba(60, 64, 67, 0.3), 0px 1px 3px 1px rgba(60, 64, 67, 0.15);\n",
              "      fill: #174EA6;\n",
              "    }\n",
              "\n",
              "    [theme=dark] .colab-df-convert {\n",
              "      background-color: #3B4455;\n",
              "      fill: #D2E3FC;\n",
              "    }\n",
              "\n",
              "    [theme=dark] .colab-df-convert:hover {\n",
              "      background-color: #434B5C;\n",
              "      box-shadow: 0px 1px 3px 1px rgba(0, 0, 0, 0.15);\n",
              "      filter: drop-shadow(0px 1px 2px rgba(0, 0, 0, 0.3));\n",
              "      fill: #FFFFFF;\n",
              "    }\n",
              "  </style>\n",
              "\n",
              "      <script>\n",
              "        const buttonEl =\n",
              "          document.querySelector('#df-bb914dc7-c9e1-41ee-8a5f-26fd1a3cd91e button.colab-df-convert');\n",
              "        buttonEl.style.display =\n",
              "          google.colab.kernel.accessAllowed ? 'block' : 'none';\n",
              "\n",
              "        async function convertToInteractive(key) {\n",
              "          const element = document.querySelector('#df-bb914dc7-c9e1-41ee-8a5f-26fd1a3cd91e');\n",
              "          const dataTable =\n",
              "            await google.colab.kernel.invokeFunction('convertToInteractive',\n",
              "                                                     [key], {});\n",
              "          if (!dataTable) return;\n",
              "\n",
              "          const docLinkHtml = 'Like what you see? Visit the ' +\n",
              "            '<a target=\"_blank\" href=https://colab.research.google.com/notebooks/data_table.ipynb>data table notebook</a>'\n",
              "            + ' to learn more about interactive tables.';\n",
              "          element.innerHTML = '';\n",
              "          dataTable['output_type'] = 'display_data';\n",
              "          await google.colab.output.renderOutput(dataTable, element);\n",
              "          const docLink = document.createElement('div');\n",
              "          docLink.innerHTML = docLinkHtml;\n",
              "          element.appendChild(docLink);\n",
              "        }\n",
              "      </script>\n",
              "    </div>\n",
              "  </div>\n",
              "  "
            ]
          },
          "metadata": {},
          "execution_count": 340
        }
      ]
    }
  ]
}