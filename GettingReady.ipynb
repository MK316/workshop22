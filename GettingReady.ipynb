{
  "nbformat": 4,
  "nbformat_minor": 0,
  "metadata": {
    "colab": {
      "name": "GettingReady.ipynb",
      "provenance": [],
      "authorship_tag": "ABX9TyNFURQWFgetwAV0zoY8T1u3",
      "include_colab_link": true
    },
    "kernelspec": {
      "name": "python3",
      "display_name": "Python 3"
    },
    "language_info": {
      "name": "python"
    }
  },
  "cells": [
    {
      "cell_type": "markdown",
      "metadata": {
        "id": "view-in-github",
        "colab_type": "text"
      },
      "source": [
        "<a href=\"https://colab.research.google.com/github/MK316/workshop22/blob/main/GettingReady.ipynb\" target=\"_parent\"><img src=\"https://colab.research.google.com/assets/colab-badge.svg\" alt=\"Open In Colab\"/></a>"
      ]
    },
    {
      "cell_type": "markdown",
      "source": [
        "# Getting ready\n",
        "\n",
        "Todo: Colab environment, python coding"
      ],
      "metadata": {
        "id": "BzjMIpH4mpFH"
      }
    },
    {
      "cell_type": "code",
      "execution_count": null,
      "metadata": {
        "id": "2FG-PldFmm4B"
      },
      "outputs": [],
      "source": [
        ""
      ]
    }
  ]
}