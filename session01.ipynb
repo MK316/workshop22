{
  "nbformat": 4,
  "nbformat_minor": 0,
  "metadata": {
    "colab": {
      "name": "session01.ipynb",
      "provenance": [],
      "collapsed_sections": [],
      "authorship_tag": "ABX9TyO7BqzcX2InGP8JYQGrETEY",
      "include_colab_link": true
    },
    "kernelspec": {
      "name": "python3",
      "display_name": "Python 3"
    },
    "language_info": {
      "name": "python"
    }
  },
  "cells": [
    {
      "cell_type": "markdown",
      "metadata": {
        "id": "view-in-github",
        "colab_type": "text"
      },
      "source": [
        "<a href=\"https://colab.research.google.com/github/MK316/workshop22/blob/main/session01.ipynb\" target=\"_parent\"><img src=\"https://colab.research.google.com/assets/colab-badge.svg\" alt=\"Open In Colab\"/></a>"
      ]
    },
    {
      "cell_type": "markdown",
      "source": [
        "# 💡**Session 1**\n",
        "##  Table of Contents:\n",
        "1. Variables\n",
        "2. Data types \n",
        "3. Packages\n",
        "4. Functions\n",
        "---\n",
        "♻️ [Learning sources: W3schools.com/Python](\"https://www.w3schools.com/python/python_variables_output.asp\")\n"
      ],
      "metadata": {
        "id": "mF4SB1lwo9CL"
      }
    },
    {
      "cell_type": "markdown",
      "source": [
        "\n",
        "##📗 [1] Variables\n",
        "\n",
        ": Python has no command for declaring a variable. A variable is created the moment you first assign a value to it.\n",
        "\n",
        "🔳   Types of variables: Integer, floating number, and string"
      ],
      "metadata": {
        "id": "DEmp-UbM1thN"
      }
    },
    {
      "cell_type": "code",
      "source": [
        "# x = 3    'Integer 3 is assigned to the variable 'x'\n",
        "# y = 3.0  'Floating number 3.0 is assigned to the variable 'y'\n",
        "# z = \"3\"  'String \"3\" is assigned to the variable 'z' \n",
        "# single or double quotes for string (both ends should match.)\n",
        "\n",
        "x = 3             # variable 'x' type: integer 'int'\n",
        "y = 3.0           # variable 'y' type: floating number 'float'\n",
        "z = \"3\"           # variable 'z' type: string 'str'\n",
        "Z = 'Character'   # variable 'Z'(capital) type: string 'str'\n",
        "\n",
        "print(type(x))\n",
        "print(type(y))\n",
        "print(type(z))\n",
        "print(type(Z))"
      ],
      "metadata": {
        "id": "sZ5zDruBHv0j",
        "outputId": "8dceee39-6f8b-4b7f-df2a-138bc016fc5b",
        "colab": {
          "base_uri": "https://localhost:8080/"
        }
      },
      "execution_count": null,
      "outputs": [
        {
          "output_type": "stream",
          "name": "stdout",
          "text": [
            "<class 'int'>\n",
            "<class 'float'>\n",
            "<class 'str'>\n",
            "<class 'str'>\n"
          ]
        }
      ]
    },
    {
      "cell_type": "code",
      "source": [
        "# The four fundamental arithmetic operation:\n",
        "\n",
        "a1 = x + y    # addition\n",
        "a2 = x - y    # substraction\n",
        "a3 = x * y    # multiplication\n",
        "a4 = x/y      # division\n",
        "\n",
        "print(a1)     # integer + floating = floating\n",
        "print(a2)\n",
        "print(a3)\n",
        "print(a4)"
      ],
      "metadata": {
        "id": "1k8lXumXI1iB",
        "outputId": "f14e4edd-bf68-4300-a3c9-1cf3b3de9206",
        "colab": {
          "base_uri": "https://localhost:8080/"
        }
      },
      "execution_count": null,
      "outputs": [
        {
          "output_type": "stream",
          "name": "stdout",
          "text": [
            "6.0\n",
            "0.0\n",
            "9.0\n",
            "1.0\n"
          ]
        }
      ]
    },
    {
      "cell_type": "code",
      "source": [
        "# String operation with '+'\n",
        "# This will concatenate strings\n",
        "\n",
        "a2 = z + z\n",
        "a3 = Z + z\n",
        "print(a2)  # string + string \n",
        "type(a2)   # string 33, not integer 33\n",
        "print(a3)"
      ],
      "metadata": {
        "id": "Qpqq2qBQI_ms",
        "outputId": "bdf432b5-15ed-4262-d7af-a8f948ec9705",
        "colab": {
          "base_uri": "https://localhost:8080/"
        }
      },
      "execution_count": null,
      "outputs": [
        {
          "output_type": "stream",
          "name": "stdout",
          "text": [
            "33\n",
            "Character3\n"
          ]
        }
      ]
    },
    {
      "cell_type": "markdown",
      "source": [
        "🔳  String variable outputs"
      ],
      "metadata": {
        "id": "R_m6BPsdSJ1T"
      }
    },
    {
      "cell_type": "code",
      "source": [
        "text = \"I'm learning Python.\"\n",
        "print(text)"
      ],
      "metadata": {
        "id": "DNpSzQ7DSL_-",
        "outputId": "4bed31d7-7c2d-4bea-c4ff-6edcfb5a09f7",
        "colab": {
          "base_uri": "https://localhost:8080/"
        }
      },
      "execution_count": null,
      "outputs": [
        {
          "output_type": "stream",
          "name": "stdout",
          "text": [
            "I'm learning Python.\n"
          ]
        }
      ]
    },
    {
      "cell_type": "code",
      "source": [
        "x = \"I'm\"\n",
        "y = \"learning\"\n",
        "z = \"Python\"\n",
        "\n",
        "print(x, y, z)"
      ],
      "metadata": {
        "id": "Bi7Pd_UESStE",
        "outputId": "9823dc87-dd4a-45fe-9547-85c47cc905bc",
        "colab": {
          "base_uri": "https://localhost:8080/"
        }
      },
      "execution_count": null,
      "outputs": [
        {
          "output_type": "stream",
          "name": "stdout",
          "text": [
            "I'm learning Python\n"
          ]
        }
      ]
    },
    {
      "cell_type": "code",
      "source": [
        "x = \"I'm\"\n",
        "y = \"learning\"\n",
        "z = \"Python\"\n",
        "\n",
        "print(x + y + z)"
      ],
      "metadata": {
        "id": "8C1qCxRJSaQH",
        "outputId": "2cd3d87b-907d-4366-fcb8-9e69b345cbd0",
        "colab": {
          "base_uri": "https://localhost:8080/"
        }
      },
      "execution_count": null,
      "outputs": [
        {
          "output_type": "stream",
          "name": "stdout",
          "text": [
            "I'mlearningPython\n"
          ]
        }
      ]
    },
    {
      "cell_type": "code",
      "source": [
        "x = \"I'm\"\n",
        "y = \"learning\"\n",
        "z = \"Python\"\n",
        "\n",
        "print(x + ' ' + y + ' ' + z +'.') #space can be added"
      ],
      "metadata": {
        "id": "-oBJOfHaSjig",
        "outputId": "18f465ca-bc70-417f-ddea-4022afb99373",
        "colab": {
          "base_uri": "https://localhost:8080/"
        }
      },
      "execution_count": null,
      "outputs": [
        {
          "output_type": "stream",
          "name": "stdout",
          "text": [
            "I'm learning Python.\n"
          ]
        }
      ]
    },
    {
      "cell_type": "markdown",
      "source": [
        "###🔳  Assigning variable\n"
      ],
      "metadata": {
        "id": "qGaaUdPhN8z7"
      }
    },
    {
      "cell_type": "markdown",
      "source": [
        "**1) Rules:**\n",
        "* A variable name must start with a letter or the underscore character\n",
        "* A variable name cannot start with a number\n",
        "* A variable name can only contain alpha-numeric characters and underscores (A-z, 0-9, and _ )\n",
        "* Variable names are case-sensitive (age, Age and AGE are three different variables)"
      ],
      "metadata": {
        "id": "e3ulGi-CQdka"
      }
    },
    {
      "cell_type": "code",
      "source": [
        "_a1 = 3\n",
        "a_1 = 4\n",
        "#1a = 4 (fail)"
      ],
      "metadata": {
        "id": "Zcahk6rmORIg"
      },
      "execution_count": null,
      "outputs": []
    },
    {
      "cell_type": "markdown",
      "source": [
        "**2) Multiple Values to Multiple Variables**  \n",
        ">Python allows you to assign values to multiple variables in one line:"
      ],
      "metadata": {
        "id": "woMHE46cORki"
      }
    },
    {
      "cell_type": "code",
      "source": [
        "x, y, z = 3, 3.0, \"Character\"\n",
        "print(x)\n",
        "print(y)\n",
        "print(z)"
      ],
      "metadata": {
        "id": "YuiwEnmFOVrs",
        "outputId": "f9bc2c92-be67-4ce6-efbf-4087f8eb2b22",
        "colab": {
          "base_uri": "https://localhost:8080/"
        }
      },
      "execution_count": null,
      "outputs": [
        {
          "output_type": "stream",
          "name": "stdout",
          "text": [
            "3\n",
            "3.0\n",
            "Character\n"
          ]
        }
      ]
    },
    {
      "cell_type": "markdown",
      "source": [
        "**3) Variable assignment using a list**\n",
        "> => Unpacking"
      ],
      "metadata": {
        "id": "NKVai0SJPXWj"
      }
    },
    {
      "cell_type": "code",
      "source": [
        "pos = [\"Noun\", \"Verb\", \"Adjective\", \"Adverb\"]\n",
        "x, y, z, m = pos\n",
        "print(x)\n",
        "print(y)\n",
        "print(z)\n",
        "print(m)"
      ],
      "metadata": {
        "id": "TRYMBGCUPYTC",
        "outputId": "0893122f-d4bb-4ad3-c166-e64c020f41ef",
        "colab": {
          "base_uri": "https://localhost:8080/"
        }
      },
      "execution_count": null,
      "outputs": [
        {
          "output_type": "stream",
          "name": "stdout",
          "text": [
            "Noun\n",
            "Verb\n",
            "Adjective\n",
            "Adverb\n"
          ]
        }
      ]
    },
    {
      "cell_type": "markdown",
      "source": [
        "---\n",
        "\n",
        "##📗 [2] Data types\n",
        "\n",
        "Data type is an important concept. Variables can store data of different types, and different types can do different things. Python has the following data types built-in by default:\n",
        "\n",
        "|Types | Kind|\n",
        "|---|---|\n",
        "|Text Type:|\tstr(ing) |\n",
        "|Numeric Types:|\tint(eger), float(ing) |\n",
        "|Sequence Types:|\t**list**, tuple, range |\n",
        "|Mapping Type:|\t**dict(ionary)** |  \n",
        "\n",
        "🔳  Commonly used types of data: (string, integer, floating numbers), **list, dictionary,** (tuple)"
      ],
      "metadata": {
        "id": "NvAtuiGJIbEM"
      }
    },
    {
      "cell_type": "markdown",
      "source": [
        "### 📍 **List data handling**\n",
        "\n",
        "* Accessing items in a listdata\n",
        "* Replace items\n",
        "* Adding items\n",
        "* Inserting items"
      ],
      "metadata": {
        "id": "bM8FR2qTcrb6"
      }
    },
    {
      "cell_type": "code",
      "source": [
        "# List: list [1, 2, 3, 4, 5] or [\"Python\", \"is\", \"awesome\"]\n",
        "\n",
        "listdata = [1, 2, 3, 4, 5]\n",
        "type(listdata)"
      ],
      "metadata": {
        "id": "m4xCtT3TH9kZ",
        "outputId": "bfe1db1b-284a-4b70-a204-30f775cedfbb",
        "colab": {
          "base_uri": "https://localhost:8080/"
        }
      },
      "execution_count": null,
      "outputs": [
        {
          "output_type": "execute_result",
          "data": {
            "text/plain": [
              "list"
            ]
          },
          "metadata": {},
          "execution_count": 44
        }
      ]
    },
    {
      "cell_type": "code",
      "source": [
        "# Accessing the data: List data\n",
        "\n",
        "print(listdata[0])  # 1st element of the list\n",
        "print(listdata[1])  # 2nd element\n",
        "print(listdata[2])  # 3rd element\n",
        "print(listdata[3])  # 4th element\n",
        "print(listdata[4])  # 5th element\n",
        "\n",
        "# Negative indexing means start from the end\n",
        "\n",
        "print(listdata[-1]) # 1st from the end\n",
        "print(listdata[-2])\n",
        "print(listdata[-3])\n",
        "print(listdata[-4])\n",
        "print(listdata[-5])"
      ],
      "metadata": {
        "id": "gbXmvm4eXcJp"
      },
      "execution_count": null,
      "outputs": []
    },
    {
      "cell_type": "markdown",
      "source": [
        "**🔸 Range of Indexes**  \n",
        "> You can specify a range of indexes by specifying **where to start and where to end** the range. When specifying a range, the return value will be a new list with the specified items."
      ],
      "metadata": {
        "id": "m--XVCeGbIau"
      }
    },
    {
      "cell_type": "code",
      "source": [
        "fruitlist = [\"apple\", \"banana\", \"cherry\", \"orange\", \"kiwi\", \"melon\", \"mango\"]\n",
        "print(fruitlist[2:5])   # From 2nd to the element before the 5th (excluding)\n",
        "print(fruitlist[:5])    # From the 1st to the element before the 5th (excluding)\n",
        "print(fruitlist[-4:-1]) # the first from the end is excluded.\n",
        "print(fruitlist[-4:])"
      ],
      "metadata": {
        "id": "bIKefX3ibGtx"
      },
      "execution_count": null,
      "outputs": []
    },
    {
      "cell_type": "code",
      "source": [
        "# Change item values:\n",
        "\n",
        "fruitlist = [\"apple\", \"banana\", \"cherry\", \"orange\"]\n",
        "fruitlist[1] = \"grapes\"\n",
        "\n",
        "print(fruitlist[1])\n",
        "print(fruitlist)"
      ],
      "metadata": {
        "id": "OSfu0Oe3c6Ti",
        "outputId": "644671f4-ee2c-4944-b3ea-954eef2888a4",
        "colab": {
          "base_uri": "https://localhost:8080/"
        }
      },
      "execution_count": null,
      "outputs": [
        {
          "output_type": "stream",
          "name": "stdout",
          "text": [
            "grapes\n",
            "['apple', 'grapes', 'cherry', 'orange']\n"
          ]
        }
      ]
    },
    {
      "cell_type": "code",
      "source": [
        "# Change multiple item values:\n",
        "fruitlist = [\"apple\", \"banana\", \"cherry\", \"orange\", \"kiwi\"]\n",
        "fruitlist[1:3] = [\"grapes\",\"banana\"]\n",
        "\n",
        "print(fruitlist)\n",
        "len(fruitlist)"
      ],
      "metadata": {
        "id": "Ie2MLAjgdpu2",
        "outputId": "6bd5233d-883f-4430-87bb-0a2f9551fa4d",
        "colab": {
          "base_uri": "https://localhost:8080/"
        }
      },
      "execution_count": null,
      "outputs": [
        {
          "output_type": "stream",
          "name": "stdout",
          "text": [
            "['apple', 'grapes', 'banana', 'orange', 'kiwi']\n"
          ]
        },
        {
          "output_type": "execute_result",
          "data": {
            "text/plain": [
              "5"
            ]
          },
          "metadata": {},
          "execution_count": 71
        }
      ]
    },
    {
      "cell_type": "code",
      "source": [
        "# Add items: append\n",
        "fruitlist = [\"apple\", \"banana\", \"cherry\", \"orange\", \"kiwi\"]\n",
        "\n",
        "fruitlist.append(\"blueberry\")\n",
        "print(fruitlist)\n",
        "\n",
        "# Length of items in a list: len()\n",
        "\n",
        "len(fruitlist)"
      ],
      "metadata": {
        "id": "feytnr7KhMFs",
        "outputId": "c1538021-1ac0-4a1a-f127-92b861be301e",
        "colab": {
          "base_uri": "https://localhost:8080/"
        }
      },
      "execution_count": null,
      "outputs": [
        {
          "output_type": "stream",
          "name": "stdout",
          "text": [
            "['apple', 'banana', 'cherry', 'orange', 'kiwi', 'blueberry']\n"
          ]
        },
        {
          "output_type": "execute_result",
          "data": {
            "text/plain": [
              "6"
            ]
          },
          "metadata": {},
          "execution_count": 72
        }
      ]
    },
    {
      "cell_type": "code",
      "source": [
        "# Add an item in a specific location: listdata.insert()\n",
        "\n",
        "fruitlist = [\"apple\", \"banana\", \"cherry\"]\n",
        "fruitlist.insert(0, \"blueberry\")\n",
        "fruitlist.insert(2, \"raspberry\")\n",
        "print(fruitlist)"
      ],
      "metadata": {
        "id": "_ouzKG7OibtZ",
        "outputId": "0e178b60-7952-4ff2-fd0c-1ae32d728c0f",
        "colab": {
          "base_uri": "https://localhost:8080/"
        }
      },
      "execution_count": null,
      "outputs": [
        {
          "output_type": "stream",
          "name": "stdout",
          "text": [
            "['blueberry', 'apple', 'raspberry', 'banana', 'cherry']\n"
          ]
        }
      ]
    },
    {
      "cell_type": "code",
      "source": [
        "# Remove items:\n",
        "\n",
        "fruitlist = [\"apple\", \"banana\", \"cherry\"]\n",
        "\n",
        "fruitlist.remove(\"banana\")\n",
        "print(fruitlist)"
      ],
      "metadata": {
        "id": "Vd_4iji6kn0n",
        "outputId": "756ca8ac-79f0-4aa7-deec-9724e7b5babc",
        "colab": {
          "base_uri": "https://localhost:8080/"
        }
      },
      "execution_count": null,
      "outputs": [
        {
          "output_type": "stream",
          "name": "stdout",
          "text": [
            "['apple', 'cherry']\n"
          ]
        }
      ]
    },
    {
      "cell_type": "code",
      "source": [
        "# Remove specific items: (1) .pop()\n",
        "\n",
        "fruitlist = [\"apple\", \"banana\", \"cherry\"]\n",
        "fruitlist.pop(2)  # Remove the 3rd item\n",
        "print(fruitlist)\n",
        "\n",
        "# Remove specific index: (2) del \n",
        "\n",
        "del fruitlist[0]\n",
        "print(fruitlist)"
      ],
      "metadata": {
        "id": "UJwZ86GTk3qs",
        "outputId": "4d751ba8-a5fb-40cf-dfb7-2d99b1576f9c",
        "colab": {
          "base_uri": "https://localhost:8080/"
        }
      },
      "execution_count": null,
      "outputs": [
        {
          "output_type": "stream",
          "name": "stdout",
          "text": [
            "['apple', 'banana']\n",
            "['banana']\n"
          ]
        }
      ]
    },
    {
      "cell_type": "markdown",
      "source": [
        "### 📍 **Dict data handling**"
      ],
      "metadata": {
        "id": "Q_Yn3aGpc4Am"
      }
    },
    {
      "cell_type": "code",
      "source": [
        "# Dictionary: dict {\"index1\": \"value1\", \"index2\": \"value2\"}\n",
        "\n",
        "dictdata = {'Noun': 'Python', 'Adj': 'awesome', 'Verb': 'is'}\n",
        "type(dictdata)"
      ],
      "metadata": {
        "id": "KxA4JVswW02h",
        "outputId": "71990051-29a4-4e56-d72a-21ecfbf3b5fa",
        "colab": {
          "base_uri": "https://localhost:8080/"
        }
      },
      "execution_count": null,
      "outputs": [
        {
          "output_type": "execute_result",
          "data": {
            "text/plain": [
              "dict"
            ]
          },
          "metadata": {},
          "execution_count": 45
        }
      ]
    },
    {
      "cell_type": "code",
      "source": [
        "# Accessing the data: Use index for dictionary data\n",
        "\n",
        "print(dictdata['Noun'])  # 1st element of the list\n",
        "print(dictdata['Verb'])  # 2nd element\n",
        "print(dictdata['Adj'])   # 3rd element\n",
        "\n",
        "print(dictdata['Noun'], dictdata['Verb'], dictdata['Adj'])"
      ],
      "metadata": {
        "id": "YySZu52jXt5w",
        "outputId": "2cd7cbdd-19d5-47fa-931c-40c0df1eb4b1",
        "colab": {
          "base_uri": "https://localhost:8080/"
        }
      },
      "execution_count": null,
      "outputs": [
        {
          "output_type": "stream",
          "name": "stdout",
          "text": [
            "Python\n",
            "is\n",
            "awesome\n",
            "Python is awesome\n"
          ]
        }
      ]
    },
    {
      "cell_type": "code",
      "source": [
        "# Dictionary data with list:\n",
        "\n",
        "dictdata1 = {'Noun': [\"book\",\"table\",\"Birds\"], 'Adj': [\"expensive\",\"good\",\"awesome\"],\"Verb\": [\"is\",\"become\",\"sing\"]}\n",
        "\n",
        "print(dictdata1['Noun'])\n",
        "print(dictdata1['Noun'][0])   # 1st element of the list with the index 'Noun'\n",
        "print(dictdata1['Noun'][1])\n",
        "print(dictdata1['Noun'][2])"
      ],
      "metadata": {
        "id": "YW23AFNOgwUl",
        "outputId": "5784b301-2422-4c14-828b-2a422b22c903",
        "colab": {
          "base_uri": "https://localhost:8080/"
        }
      },
      "execution_count": null,
      "outputs": [
        {
          "output_type": "stream",
          "name": "stdout",
          "text": [
            "['book', 'table', 'Birds']\n",
            "book\n",
            "table\n",
            "Birds\n"
          ]
        }
      ]
    },
    {
      "cell_type": "code",
      "source": [
        "a = dictdata1['Noun'][2]\n",
        "b = dictdata1['Verb'][2]\n",
        "\n",
        "print(a, b)"
      ],
      "metadata": {
        "id": "kEhA3KPskRZg",
        "outputId": "a785f497-cf8c-415c-e49a-530c02df8c6f",
        "colab": {
          "base_uri": "https://localhost:8080/"
        }
      },
      "execution_count": null,
      "outputs": [
        {
          "output_type": "stream",
          "name": "stdout",
          "text": [
            "Birds sing\n"
          ]
        }
      ]
    },
    {
      "cell_type": "code",
      "source": [
        ""
      ],
      "metadata": {
        "id": "tley75Hkkicf"
      },
      "execution_count": null,
      "outputs": []
    },
    {
      "cell_type": "markdown",
      "source": [
        "---\n",
        "\n",
        "##📗 [3] Packages \n",
        "{ [Frequently used packages for me](https://github.com/MK316/workshop22/blob/main/python_packages.ipynb) }: packages and their usage examples\n",
        "\n",
        "🔳 A. Import packages: when needed.  \n",
        "🔳 B. Install packages: some packages need your manual installation. Check out the error message when importing packages."
      ],
      "metadata": {
        "id": "qkuGuNG7o8Hg"
      }
    },
    {
      "cell_type": "markdown",
      "source": [
        "### Example 1️⃣, {os} — Miscellaneous operating system interfaces"
      ],
      "metadata": {
        "id": "trLXzHSlwOdK"
      }
    },
    {
      "cell_type": "code",
      "source": [
        "# Importing packages\n",
        "\n",
        "import os\n",
        "\n",
        "#os.chdir(path)\n",
        "#os.fchdir(fd)\n",
        "os.getcwd() "
      ],
      "metadata": {
        "colab": {
          "base_uri": "https://localhost:8080/",
          "height": 35
        },
        "id": "Ju_ZIjbA431H",
        "outputId": "6730f72f-0bc3-4dab-8e68-e3c2754d0488"
      },
      "execution_count": null,
      "outputs": [
        {
          "output_type": "execute_result",
          "data": {
            "text/plain": [
              "'/content'"
            ],
            "application/vnd.google.colaboratory.intrinsic+json": {
              "type": "string"
            }
          },
          "metadata": {},
          "execution_count": 1
        }
      ]
    },
    {
      "cell_type": "code",
      "source": [
        "# Creating a directory\n",
        "os.mkdir('myfiles')"
      ],
      "metadata": {
        "id": "2gedMdSEyuLr"
      },
      "execution_count": null,
      "outputs": []
    },
    {
      "cell_type": "code",
      "source": [
        "# Creating a subdirectory\n",
        "os.mkdir('myfiles/test/')"
      ],
      "metadata": {
        "id": "Bwti4g-hzGz-"
      },
      "execution_count": null,
      "outputs": []
    },
    {
      "cell_type": "markdown",
      "source": [
        "open(file, mode='r', buffering=- 1, encoding=None, errors=None, newline=None, closefd=True, opener=None)\n",
        "\n",
        "[💾  file to download](https://raw.githubusercontent.com/MK316/data/main/DoveAndAnt.txt)"
      ],
      "metadata": {
        "id": "UoSpvr_5w7vy"
      }
    },
    {
      "cell_type": "code",
      "source": [
        "file = open('DoveAndAnt.txt','r')\n",
        "text = file.read()\n",
        "file.close()\n",
        "\n",
        "text"
      ],
      "metadata": {
        "id": "vibkDF9Dw5-x",
        "outputId": "16bba01e-7853-4915-d4ac-dac1f28173fd",
        "colab": {
          "base_uri": "https://localhost:8080/",
          "height": 107
        }
      },
      "execution_count": null,
      "outputs": [
        {
          "output_type": "execute_result",
          "data": {
            "text/plain": [
              "'A Dove saw an Ant fall into a brook. The Ant struggled in vain to reach the bank, and in pity, the Dove dropped a blade of straw close beside it. Clinging to the straw like a shipwrecked sailor to a broken spar, the Ant floated safely to shore. Soon after, the Ant saw a man getting ready to kill the Dove with a stone. But just as he cast the stone, the Ant stung him in the heel, so that the pain made him miss his aim, and the startled Dove flew to safety in a distant wood.\\n\\n'"
            ],
            "application/vnd.google.colaboratory.intrinsic+json": {
              "type": "string"
            }
          },
          "metadata": {},
          "execution_count": 4
        }
      ]
    },
    {
      "cell_type": "markdown",
      "source": [
        "### Example 2️⃣ {matplotlib}\n",
        "[source link](\"https://www.activestate.com/resources/quick-reads/what-is-matplotlib-in-python-how-to-use-it-for-plotting/#:~:text=Matplotlib%20is%20a%20cross%2Dplatform,embed%20plots%20in%20GUI%20applications.\")"
      ],
      "metadata": {
        "id": "ngHUqzfJzqVZ"
      }
    },
    {
      "cell_type": "code",
      "source": [
        "import matplotlib.pyplot as plt\n",
        "import numpy as np"
      ],
      "metadata": {
        "id": "JSCp_p-ez3zb"
      },
      "execution_count": null,
      "outputs": []
    },
    {
      "cell_type": "code",
      "source": [
        "# Plot some numbers:\n",
        "plt.plot([1, 2, 3]) \n",
        "plt.title(\"Line Plot\")\n",
        "\n",
        "# Display the plot:\n",
        "plt.show()"
      ],
      "metadata": {
        "id": "_coFk-4Kz73Z"
      },
      "execution_count": null,
      "outputs": []
    },
    {
      "cell_type": "code",
      "source": [
        "# Data labels(x), sizes(y), and colors(z) are defined:\n",
        "x = 'A', 'B', 'C', 'D'\n",
        "y = [30, 200, 250, 150]\n",
        "z = ['green', 'yellow', 'orange', 'blue']\n",
        "\n",
        "# Data is plotted:\n",
        "plt.pie(y, labels=x, colors=z)\n",
        "\n",
        "plt.axis('equal')\n",
        "plt.title('Pie Plot Example')\n",
        "plt.show()"
      ],
      "metadata": {
        "id": "zSkL5CSX0aWy"
      },
      "execution_count": null,
      "outputs": []
    },
    {
      "cell_type": "code",
      "source": [
        "# Create a Line2D instance with x and y data in sequences xdata, ydata:\n",
        "\n",
        "# x data:\n",
        "xdata=['A','B','C']\n",
        "\n",
        "# y data:\n",
        "ydata=[1,3,5]\n",
        "\n",
        "plt.bar(range(len(xdata)),ydata)\n",
        "plt.title('Bar Plot Example')\n",
        "plt.show()"
      ],
      "metadata": {
        "id": "164JT8KX3Lt_"
      },
      "execution_count": null,
      "outputs": []
    },
    {
      "cell_type": "markdown",
      "source": [
        "##📗 [4] Functions\n",
        "\n",
        ">=> \"A function is a block of code which only runs when it is called. You can pass data, known as parameters, into a function. A function can return data as a result.\" [source link](\"https://www.w3schools.com/python/python_functions.asp\")\n"
      ],
      "metadata": {
        "id": "W05stUdH5bqv"
      }
    },
    {
      "cell_type": "code",
      "source": [
        "# Coding cell: add(a,b)\n",
        "# Define add(a,b) function\n",
        "\n",
        "def add(a,b):\n",
        "  c = a+b\n",
        "  return print('The result is %d.'%c)"
      ],
      "metadata": {
        "id": "NzHmwOIr5PH_"
      },
      "execution_count": null,
      "outputs": []
    },
    {
      "cell_type": "code",
      "source": [
        "add(3,4)"
      ],
      "metadata": {
        "id": "KueYVoiw-rgA",
        "outputId": "42db36f0-b003-4b8d-ca82-22eb4943269f",
        "colab": {
          "base_uri": "https://localhost:8080/"
        }
      },
      "execution_count": null,
      "outputs": [
        {
          "output_type": "stream",
          "name": "stdout",
          "text": [
            "The result is 7.\n"
          ]
        }
      ]
    },
    {
      "cell_type": "code",
      "source": [
        "# Create a function: Sum from x to y\n",
        "\n",
        "def sum(x,y):\n",
        "  sum = 0\n",
        "  for i in range(x, y+1):\n",
        "    sum = sum + i\n",
        "  print('The sum from %d to %d'%(x,y), 'is %d'%sum)"
      ],
      "metadata": {
        "id": "l3Ehb7LN420Z"
      },
      "execution_count": null,
      "outputs": []
    },
    {
      "cell_type": "code",
      "source": [
        "sum(1,100)"
      ],
      "metadata": {
        "id": "lnkcQ83k94eN",
        "outputId": "72ce60b1-8e31-417d-f7e6-d01ff0fbd1be",
        "colab": {
          "base_uri": "https://localhost:8080/"
        }
      },
      "execution_count": null,
      "outputs": [
        {
          "output_type": "stream",
          "name": "stdout",
          "text": [
            "The sum from 1 to 100 is 5050\n"
          ]
        }
      ]
    },
    {
      "cell_type": "markdown",
      "source": [
        "---\n",
        "🌈 The End 🌈"
      ],
      "metadata": {
        "id": "YuavjOEY-nf-"
      }
    }
  ]
}