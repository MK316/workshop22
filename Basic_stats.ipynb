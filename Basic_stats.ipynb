{
  "nbformat": 4,
  "nbformat_minor": 0,
  "metadata": {
    "colab": {
      "name": "Basic_stats.ipynb",
      "provenance": [],
      "authorship_tag": "ABX9TyPRKizA0vKmrcWl9AdD+m4F",
      "include_colab_link": true
    },
    "kernelspec": {
      "name": "python3",
      "display_name": "Python 3"
    },
    "language_info": {
      "name": "python"
    }
  },
  "cells": [
    {
      "cell_type": "markdown",
      "metadata": {
        "id": "view-in-github",
        "colab_type": "text"
      },
      "source": [
        "<a href=\"https://colab.research.google.com/github/MK316/workshop22/blob/main/Basic_stats.ipynb\" target=\"_parent\"><img src=\"https://colab.research.google.com/assets/colab-badge.svg\" alt=\"Open In Colab\"/></a>"
      ]
    },
    {
      "cell_type": "code",
      "execution_count": null,
      "metadata": {
        "id": "jtldA1opGAal"
      },
      "outputs": [],
      "source": [
        ""
      ]
    },
    {
      "cell_type": "markdown",
      "source": [
        "\\> **df.describe()**\n",
        "* count, mean, standard deviation, minimum, maximum, quantiles"
      ],
      "metadata": {
        "id": "jYob5JsB2ju0"
      }
    },
    {
      "cell_type": "code",
      "source": [
        "df.describe()"
      ],
      "metadata": {
        "id": "JtoDHq2V2GTn"
      },
      "execution_count": null,
      "outputs": []
    },
    {
      "cell_type": "code",
      "source": [
        "df1.describe()"
      ],
      "metadata": {
        "id": "jSM83ccb2T0K"
      },
      "execution_count": null,
      "outputs": []
    },
    {
      "cell_type": "markdown",
      "source": [
        "###📗 **t-test**\n",
        "\n",
        "**Students' T-test**\n",
        "\n",
        "Student’s t-test or t-test is a parametric inferential statistical method used for comparing **the means between two different groups (two-sample t-test)** or **with the specific value (one-sample t-test)**.\n",
        "\n",
        "* One sample T-test\n",
        "* Two sample T-test\n",
        "[Source link](https://www.reneshbedre.com/blog/ttest.html)\n",
        "\n",
        "Data: iris data (iris.csv)"
      ],
      "metadata": {
        "id": "c3DUA_xG3AXN"
      }
    },
    {
      "cell_type": "code",
      "source": [
        "df1.head()"
      ],
      "metadata": {
        "id": "eUPnPKbK2Zle"
      },
      "execution_count": null,
      "outputs": []
    },
    {
      "cell_type": "markdown",
      "source": [
        "**🎯 One sample t-test**\n",
        "\n",
        "\\- One Sample t-test (single sample t-test) is used to compare the sample mean (a random sample from a population) with the specific value (hypothesized or known mean of the population).\n",
        "\n",
        "**Assumptions**  \n",
        "* Dependent variable should have an approximately normal distribution (**Shapiro-Wilks Test**)\n",
        "\n",
        "* Observations are independent of each other\n",
        "\n",
        "_Note: One sample t-test is relatively robust to the assumption of normality when the sample size is large (n ≥ 30)_\n",
        "\n",
        "* **Null hypothesis:** Sample mean is equal to the hypothesized or known population mean\n",
        "* **Alternative hypothesis:** Sample mean is not equal to the hypothesized or known population mean (two-tailed or two-sided)\n",
        "```\n",
        "# This is formatted as code\n",
        "```\n",
        "\n"
      ],
      "metadata": {
        "id": "kxOlUTA38Zxo"
      }
    },
    {
      "cell_type": "markdown",
      "source": [
        "**Import {scipy}**"
      ],
      "metadata": {
        "id": "q8Gl8bZH-_7X"
      }
    },
    {
      "cell_type": "code",
      "source": [
        "from scipy import stats"
      ],
      "metadata": {
        "id": "xyPdTBKz3xtD"
      },
      "execution_count": null,
      "outputs": []
    },
    {
      "cell_type": "code",
      "source": [
        "classA = [69, 70, 56, 90, 60, 70, 80, 99, 40. 50, 50, 55, 66]\n",
        "classB = []"
      ],
      "metadata": {
        "id": "w_p7ghTs_OvH"
      },
      "execution_count": null,
      "outputs": []
    }
  ]
}