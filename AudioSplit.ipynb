{
  "nbformat": 4,
  "nbformat_minor": 0,
  "metadata": {
    "colab": {
      "provenance": [],
      "authorship_tag": "ABX9TyMjJ4T1dNs+fPtKzuQs4yki",
      "include_colab_link": true
    },
    "kernelspec": {
      "name": "python3",
      "display_name": "Python 3"
    },
    "language_info": {
      "name": "python"
    }
  },
  "cells": [
    {
      "cell_type": "markdown",
      "metadata": {
        "id": "view-in-github",
        "colab_type": "text"
      },
      "source": [
        "<a href=\"https://colab.research.google.com/github/MK316/workshop22/blob/main/AudioSplit.ipynb\" target=\"_parent\"><img src=\"https://colab.research.google.com/assets/colab-badge.svg\" alt=\"Open In Colab\"/></a>"
      ]
    },
    {
      "cell_type": "markdown",
      "source": [
        "# [Failed as of 0920] Audio file split (large audio file to process STT)"
      ],
      "metadata": {
        "id": "XByBkx_w1Evm"
      }
    },
    {
      "cell_type": "markdown",
      "source": [
        "[Code link](https://www.geeksforgeeks.org/python-speech-recognition-on-large-audio-files/?ref=rp)"
      ],
      "metadata": {
        "id": "3agFvHkb0-v5"
      }
    },
    {
      "cell_type": "code",
      "source": [
        "!pip install SpeechRecognition"
      ],
      "metadata": {
        "colab": {
          "base_uri": "https://localhost:8080/"
        },
        "id": "xZzK6h0a1Xa2",
        "outputId": "40084500-3a3d-4a86-bc30-abffffdf0f78"
      },
      "execution_count": 4,
      "outputs": [
        {
          "output_type": "stream",
          "name": "stdout",
          "text": [
            "Looking in indexes: https://pypi.org/simple, https://us-python.pkg.dev/colab-wheels/public/simple/\n",
            "Collecting SpeechRecognition\n",
            "  Downloading SpeechRecognition-3.8.1-py2.py3-none-any.whl (32.8 MB)\n",
            "\u001b[K     |████████████████████████████████| 32.8 MB 141 kB/s \n",
            "\u001b[?25hInstalling collected packages: SpeechRecognition\n",
            "Successfully installed SpeechRecognition-3.8.1\n"
          ]
        }
      ]
    },
    {
      "cell_type": "code",
      "source": [
        "!pip install pydub"
      ],
      "metadata": {
        "colab": {
          "base_uri": "https://localhost:8080/"
        },
        "id": "s_tTfzSs15RQ",
        "outputId": "1490580a-eac4-4afe-c4e6-59fdd7a13f5f"
      },
      "execution_count": 8,
      "outputs": [
        {
          "output_type": "stream",
          "name": "stdout",
          "text": [
            "Looking in indexes: https://pypi.org/simple, https://us-python.pkg.dev/colab-wheels/public/simple/\n",
            "Collecting pydub\n",
            "  Downloading pydub-0.25.1-py2.py3-none-any.whl (32 kB)\n",
            "Installing collected packages: pydub\n",
            "Successfully installed pydub-0.25.1\n"
          ]
        }
      ]
    },
    {
      "cell_type": "code",
      "execution_count": 9,
      "metadata": {
        "id": "FZqYFMFG08uj"
      },
      "outputs": [],
      "source": [
        "# importing libraries\n",
        "import speech_recognition as sr\n",
        "  \n",
        "import os\n",
        "  \n",
        "from pydub import AudioSegment\n",
        "from pydub.silence import split_on_silence"
      ]
    },
    {
      "cell_type": "code",
      "source": [
        "# a function that splits the audio file into chunks\n",
        "# and applies speech recognition\n",
        "def silence_based_conversion(path = \"alice-medium.wav\"):\n",
        "  \n",
        "    # open the audio file stored in\n",
        "    # the local system as a wav file.\n",
        "    song = AudioSegment.from_wav(path)\n",
        "  \n",
        "    # open a file where we will concatenate  \n",
        "    # and store the recognized text\n",
        "    fh = open(\"recognized.txt\", \"w+\")\n",
        "          \n",
        "    # split track where silence is 0.5 seconds \n",
        "    # or more and get chunks\n",
        "    chunks = split_on_silence(song,\n",
        "        # must be silent for at least 0.5 seconds\n",
        "        # or 500 ms. adjust this value based on user\n",
        "        # requirement. if the speaker stays silent for \n",
        "        # longer, increase this value. else, decrease it.\n",
        "        min_silence_len = 500,\n",
        "  \n",
        "        # consider it silent if quieter than -16 dBFS\n",
        "        # adjust this per requirement\n",
        "        silence_thresh = -16\n",
        "    )\n",
        "    # create a directory to store the audio chunks.\n",
        "    try:\n",
        "        os.mkdir('audio_chunks')\n",
        "    except(FileExistsError):\n",
        "        pass\n",
        "  \n",
        "    # move into the directory to\n",
        "    # store the audio files.\n",
        "    os.chdir('audio_chunks')\n",
        "  \n",
        "    i = 0\n",
        "    # process each chunk\n",
        "    for chunk in chunks:\n",
        "              \n",
        "        # Create 0.5 seconds silence chunk\n",
        "        chunk_silent = AudioSegment.silent(duration = 10)\n",
        "  \n",
        "        # add 0.5 sec silence to beginning and \n",
        "        # end of audio chunk. This is done so that\n",
        "        # it doesn't seem abruptly sliced.\n",
        "        audio_chunk = chunk_silent + chunk + chunk_silent\n",
        "  \n",
        "        # export audio chunk and save it in \n",
        "        # the current directory.\n",
        "        print(\"saving chunk{0}.wav\".format(i))\n",
        "        # specify the bitrate to be 192 k\n",
        "        audio_chunk.export(\"./chunk{0}.wav\".format(i), bitrate ='192k', format =\"wav\")\n",
        "  \n",
        "        # the name of the newly created chunk\n",
        "        filename = 'chunk'+str(i)+'.wav'\n",
        "  \n",
        "        print(\"Processing chunk \"+str(i))\n",
        "  # get the name of the newly created chunk\n",
        "        # in the AUDIO_FILE variable for later use.\n",
        "        file = filename\n",
        "  \n",
        "        # create a speech recognition object\n",
        "        r = sr.Recognizer()\n",
        "  \n",
        "        # recognize the chunk\n",
        "        with sr.AudioFile(file) as source:\n",
        "            # remove this if it is not working\n",
        "            # correctly.\n",
        "            r.adjust_for_ambient_noise(source)\n",
        "            audio_listened = r.listen(source)\n",
        "  \n",
        "        try:\n",
        "            # try converting it to text\n",
        "            rec = r.recognize_google(audio_listened)\n",
        "            # write the output to the file.\n",
        "            fh.write(rec+\". \")\n",
        "  \n",
        "        # catch any errors.\n",
        "        except sr.UnknownValueError:\n",
        "            print(\"Could not understand audio\")\n",
        "  \n",
        "        except sr.RequestError as e:\n",
        "            print(\"Could not request results. check your internet connection\")\n",
        "  \n",
        "        i += 1\n",
        "  \n",
        "os.chdir('..')\n",
        "\n",
        "__name__ == '__main__'\n",
        "          \n",
        "print('Enter the audio file path')\n",
        "  \n",
        "path = input()\n",
        "  \n",
        "silence_based_conversion(path)"
      ],
      "metadata": {
        "colab": {
          "base_uri": "https://localhost:8080/"
        },
        "id": "62D6p-sT1ON9",
        "outputId": "ee34b50f-7dbd-4a65-d31b-de483b24cc3c"
      },
      "execution_count": 25,
      "outputs": [
        {
          "name": "stdout",
          "output_type": "stream",
          "text": [
            "Enter the audio file path\n",
            "/content/sample02.wav\n"
          ]
        }
      ]
    }
  ]
}