{
  "nbformat": 4,
  "nbformat_minor": 0,
  "metadata": {
    "colab": {
      "provenance": [],
      "authorship_tag": "ABX9TyN0Jyb9QJ2CrEHonCenf2ux",
      "include_colab_link": true
    },
    "kernelspec": {
      "name": "python3",
      "display_name": "Python 3"
    },
    "language_info": {
      "name": "python"
    }
  },
  "cells": [
    {
      "cell_type": "markdown",
      "metadata": {
        "id": "view-in-github",
        "colab_type": "text"
      },
      "source": [
        "<a href=\"https://colab.research.google.com/github/MK316/workshop22/blob/main/Demo02_Summary.ipynb\" target=\"_parent\"><img src=\"https://colab.research.google.com/assets/colab-badge.svg\" alt=\"Open In Colab\"/></a>"
      ]
    },
    {
      "cell_type": "code",
      "execution_count": null,
      "metadata": {
        "id": "6dNQCKW7t4ja"
      },
      "outputs": [],
      "source": [
        "!pip install transformers\n",
        "from transformers import pipeline"
      ]
    },
    {
      "cell_type": "code",
      "source": [
        "text = \n",
        "\"\"\"\n",
        "The Association is an academic society which aims to contribute to /\n",
        "the development of English-language abilities through research and education. /\n",
        "The role of the Association's members (hereinafter, \"Members\") is to broaden their knowledge /\n",
        "of professional English education and to demonstrate their knowledge and capability of /\n",
        "improvement of the English skills of all types of learners. The Association's Code of Ethics \n",
        "(hereinafter, \"the Code\") prescribes the principles and standards that Members, as educators, /\n",
        "must comply with while doing research and academic activities.\n",
        "In pursuing academic activities and the publication of academic research, Members must abide by /\n",
        "the Code, fulfill their duties as researchers, acknowledge one another's research, and share /\n",
        "the results of their work. Publication in academic journals impartially selecting and publishing /\n",
        "strictly evaluated papers on English education is one of the most important goals of the Association./\n",
        "In order to ensure responsible publication in well-respected academic journals, thereby making a /\n",
        "contribution towards English education development, it is necessary to establish the Code for authors /\n",
        "and the Association's Editors and Judges to follow.\n",
        "Although our organization has long had a general and practical code of ethics, this Code, /\n",
        "established to meet the expectations of changing times that now require a more explicit code of ethics, /\n",
        "will become a foundation to reconfirm the ethical mandate that the Association intends to apply in all /\n",
        "aspects of its operation.\")\n",
        "\"\"\""
      ],
      "metadata": {
        "id": "PUv3Nec5xXKU"
      },
      "execution_count": null,
      "outputs": []
    },
    {
      "cell_type": "code",
      "source": [
        "classifier = pipeline(\"summarization\")\n",
        "classifier(text)\n",
        "\n",
        "# Output"
      ],
      "metadata": {
        "colab": {
          "base_uri": "https://localhost:8080/"
        },
        "id": "K4Jh-gH5uFAX",
        "outputId": "ba754455-5912-4a0f-86a0-87e6d7a9fb5f"
      },
      "execution_count": 7,
      "outputs": [
        {
          "output_type": "stream",
          "name": "stderr",
          "text": [
            "No model was supplied, defaulted to sshleifer/distilbart-cnn-12-6 and revision a4f8f3e (https://huggingface.co/sshleifer/distilbart-cnn-12-6).\n",
            "Using a pipeline without specifying a model name and revision in production is not recommended.\n"
          ]
        },
        {
          "output_type": "execute_result",
          "data": {
            "text/plain": [
              "[{'summary_text': ' The Association\\'s Code of Ethics (hereinafter, \"the Code\") prescribes the principles and standards that Members, as educators, must comply with . Members must abide by the Code, fulfill their duties as researchers, acknowledge one another\\'s research, and share the results of their work .'}]"
            ]
          },
          "metadata": {},
          "execution_count": 7
        }
      ]
    },
    {
      "cell_type": "code",
      "source": [
        "t1 = text.split()\n",
        "len(t1)"
      ],
      "metadata": {
        "colab": {
          "base_uri": "https://localhost:8080/"
        },
        "id": "CINGFYJlv3hN",
        "outputId": "fe57eaf3-8c79-4dbc-c61b-6cd88126b5cd"
      },
      "execution_count": 9,
      "outputs": [
        {
          "output_type": "execute_result",
          "data": {
            "text/plain": [
              "227"
            ]
          },
          "metadata": {},
          "execution_count": 9
        }
      ]
    },
    {
      "cell_type": "code",
      "source": [
        "t2 = 'The Association\\'s Code of Ethics (hereinafter, \"the Code\") prescribes the principles and standards that Members, as educators, must comply with . Members must abide by the Code, fulfill their duties as researchers, acknowledge one another\\'s research, and share the results of their work'\n",
        "t3 = t2.split()\n",
        "len(t3)"
      ],
      "metadata": {
        "colab": {
          "base_uri": "https://localhost:8080/"
        },
        "id": "7C1PdSOhy5Yt",
        "outputId": "f6bf2dae-fc29-4542-e07b-224fc23ed026"
      },
      "execution_count": 12,
      "outputs": [
        {
          "output_type": "execute_result",
          "data": {
            "text/plain": [
              "43"
            ]
          },
          "metadata": {},
          "execution_count": 12
        }
      ]
    },
    {
      "cell_type": "code",
      "source": [
        "text2 = \"\"\"\n",
        "The Climate of Seoul\n",
        "Four Seasons\n",
        "Seoul enjoys a temperate climate with four distinct seasons. Indeed, the changing of the seasons has inspired Korean artists and poets for centuries. Watching the transformation in the landscape as the seasons pass is one of the many joys of living in Seoul. While the city might be at its most spectacular in spring and autumn, summer and winter are considerably beautiful, as well, making Seoul the perfect place to visit all year round.\n",
        "Spring\n",
        "Spring in Seoul begins in March and lasts until May. Temperatures range from a daily mean of 5.7 degrees Celsius in March to 17.8 degrees Celsius in May. Due to the influence of anticyclones, the skies are usually clear, although sand storms from the Gobi Desert region of China and Mongolia sometimes make an appearance, too. The air is also particularly dry during this time, so care should be taken when hiking so as to not cause forest fires. Spring flowers such as cherry blossoms, chrysanthemums, and azaleas can be seen everywhere, and the island of Yeouido—described as “Seoul’s Manhattan”—even hosts a very popular cherry blossom festival that should not be missed.\n",
        "Summer\n",
        "Beginning in June and ending in August, the Korean summer is hot and humid, with average mean temperatures peaking at 25.7 degrees Celsius in August. The Korean rainy season, or jangma, begins in mid-June and continues for about a month. Compared with some other countries that experience monsoon, however, the rains are not especially heavy, with monthly precipitation peaking at 383 millimeters in July. Green spaces in Seoul such as parks and mountains become especially verdant due to the moisture. Popular summertime activities in Seoul include biking, swimming, in-line skating, and windsurfing on the Hangang River.\n",
        "Autumn\n",
        "Autumn is a lovely time in Seoul. Temperatures start to cool, the sky is high and cobalt blue, and the hillsides are decorated with bright hues of gold and crimson. Seoul’s royal palaces, with their extensive gardens filled with maple, ginkgo, and zelkova trees, are especially colorful and make for perfect fall outings. Many Seoulites take to the mountains to enjoy the colors and bask in the natural beauty. Korean autumn begins in September and ends in November. Chuseok, the Korean harvest celebration, falls in autumn.\n",
        "Winter\n",
        "Winter in Seoul, which lasts from December to February, can get quite cold due to the Siberian high pressure systems that bring with them cold northwesterly winds. Temperatures sometimes drop to negative 15 degrees Celsius, and the Hangang River occasionally freezes solid. Generally speaking, Korea experiences a weekly cycle of three cold days followed by four mild days, a phenomenon known in Korea as samha saon. Heavy snow periodically falls on the city. When it does, parks and gardens are transformed into shimmering landscapes of white. Seollal, the Lunar New Year celebration, takes place in winter.\n",
        "\"\"\""
      ],
      "metadata": {
        "id": "bGR1msh-0pMv"
      },
      "execution_count": 13,
      "outputs": []
    },
    {
      "cell_type": "code",
      "source": [
        "t3 = text2.split()\n",
        "len(t3)"
      ],
      "metadata": {
        "colab": {
          "base_uri": "https://localhost:8080/"
        },
        "id": "UPYnzi0407t2",
        "outputId": "859b5179-5b4d-4e69-8dff-4b02ca7f8b7f"
      },
      "execution_count": 15,
      "outputs": [
        {
          "output_type": "execute_result",
          "data": {
            "text/plain": [
              "474"
            ]
          },
          "metadata": {},
          "execution_count": 15
        }
      ]
    },
    {
      "cell_type": "code",
      "source": [
        "classifier = pipeline(\"summarization\")\n",
        "classifier(text2)"
      ],
      "metadata": {
        "colab": {
          "base_uri": "https://localhost:8080/"
        },
        "id": "ghlQFjP50yLj",
        "outputId": "2e0aed3d-a5fc-4d77-ddc6-b787034ba322"
      },
      "execution_count": 14,
      "outputs": [
        {
          "output_type": "stream",
          "name": "stderr",
          "text": [
            "No model was supplied, defaulted to sshleifer/distilbart-cnn-12-6 and revision a4f8f3e (https://huggingface.co/sshleifer/distilbart-cnn-12-6).\n",
            "Using a pipeline without specifying a model name and revision in production is not recommended.\n"
          ]
        },
        {
          "output_type": "execute_result",
          "data": {
            "text/plain": [
              "[{'summary_text': ' The changing of the seasons has inspired Korean artists and poets for centuries . Seoul has four distinct seasons, including spring, summer, autumn and winter . The Korean rainy season, or jangma, begins in mid-June and continues for about a month . Chuseok, the Korean harvest celebration, falls in winter .'}]"
            ]
          },
          "metadata": {},
          "execution_count": 14
        }
      ]
    },
    {
      "cell_type": "code",
      "source": [
        "t4 = \"\"\"\n",
        "' The changing of the seasons has inspired Korean artists and poets for centuries . Seoul has four distinct seasons, including spring, summer, autumn and winter . The Korean rainy season, or jangma, begins in mid-June and continues for about a month . Chuseok, the Korean harvest celebration, falls in winter .'\n",
        "\"\"\"\n",
        "\n",
        "t5 = t4.split(); len(t5)"
      ],
      "metadata": {
        "colab": {
          "base_uri": "https://localhost:8080/"
        },
        "id": "GTSfgGoh1PK7",
        "outputId": "68b32d2f-2cd1-4275-d6bb-64d3a0992827"
      },
      "execution_count": 16,
      "outputs": [
        {
          "output_type": "execute_result",
          "data": {
            "text/plain": [
              "52"
            ]
          },
          "metadata": {},
          "execution_count": 16
        }
      ]
    },
    {
      "cell_type": "code",
      "source": [],
      "metadata": {
        "id": "avbNGeX11PEk"
      },
      "execution_count": null,
      "outputs": []
    }
  ]
}