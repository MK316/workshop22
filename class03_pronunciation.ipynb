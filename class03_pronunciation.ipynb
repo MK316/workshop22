{
  "nbformat": 4,
  "nbformat_minor": 0,
  "metadata": {
    "colab": {
      "name": "class03_pronunciation.ipynb",
      "provenance": [],
      "authorship_tag": "ABX9TyPQpjPsKWVzdkOauv06Iwwx",
      "include_colab_link": true
    },
    "kernelspec": {
      "name": "python3",
      "display_name": "Python 3"
    },
    "language_info": {
      "name": "python"
    }
  },
  "cells": [
    {
      "cell_type": "markdown",
      "metadata": {
        "id": "view-in-github",
        "colab_type": "text"
      },
      "source": [
        "<a href=\"https://colab.research.google.com/github/MK316/workshop22/blob/main/class03_pronunciation.ipynb\" target=\"_parent\"><img src=\"https://colab.research.google.com/assets/colab-badge.svg\" alt=\"Open In Colab\"/></a>"
      ]
    },
    {
      "cell_type": "markdown",
      "source": [
        "#📘 **Topic 03 Pronunciation teaching**\n",
        "\n",
        "**Table of Contents:**\n",
        "mainly using **{gTTS}** Text-to-Speech\n",
        "\n",
        "* Exposure to Keyword pronunciation (using 📍_frequency distribution, gTTS_)\n",
        "* English rhyming (using 📍_CMU dictionary_): e.g., night, right, bite, etc.\n",
        "* Phontics for adult learners (using 📍_gTTS_: ): Sound letter correspondences"
      ],
      "metadata": {
        "id": "f1lUplgVnuvM"
      }
    },
    {
      "cell_type": "markdown",
      "source": [
        "💾 Sample text: [Aesop fable: The Heron](https://raw.githubusercontent.com/MK316/workshop22/main/data/TheHeron.txt) Copy and get it ready to past below :-)"
      ],
      "metadata": {
        "id": "RlifI_rHqEJM"
      }
    },
    {
      "cell_type": "code",
      "execution_count": null,
      "metadata": {
        "id": "mbN8TYs6nZjK"
      },
      "outputs": [],
      "source": [
        "#@markdown 🔳 Paste the text here for analysis: (text)\n",
        "text = input()"
      ]
    },
    {
      "cell_type": "markdown",
      "source": [
        "🔲 **Preprocessing of the text**"
      ],
      "metadata": {
        "id": "2NF_c-QUkBab"
      }
    },
    {
      "cell_type": "code",
      "execution_count": 2,
      "metadata": {
        "id": "ZVy8-On2ioMG"
      },
      "outputs": [],
      "source": [
        "#@markdown 🔳 Install and import packages\n",
        "%%capture\n",
        "import nltk\n",
        "from nltk.tokenize import word_tokenize, sent_tokenize\n",
        "nltk.download(\"punkt\")\n"
      ]
    },
    {
      "cell_type": "code",
      "source": [
        "#@markdown 🔳 Tokenize, getting frequency list with tagging information\n",
        "\n",
        "words = word_tokenize(text)\n",
        "\n",
        "# Lower case\n",
        "wlist = []\n",
        "for w in words:\n",
        "  w1 = w.lower()\n",
        "  wlist.append(w1)\n",
        "\n",
        "# Remove stopwords\n",
        "\n",
        "\n",
        "\n"
      ],
      "metadata": {
        "id": "R9B_7_tyk7w8"
      },
      "execution_count": 6,
      "outputs": []
    },
    {
      "cell_type": "markdown",
      "source": [
        "## [1] "
      ],
      "metadata": {
        "id": "M2yH-LSjkKkd"
      }
    }
  ]
}