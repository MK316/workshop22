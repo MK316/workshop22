{
  "nbformat": 4,
  "nbformat_minor": 0,
  "metadata": {
    "colab": {
      "provenance": [],
      "authorship_tag": "ABX9TyN53nmk6AsUXbZyxBUkwYvr",
      "include_colab_link": true
    },
    "kernelspec": {
      "name": "python3",
      "display_name": "Python 3"
    },
    "language_info": {
      "name": "python"
    }
  },
  "cells": [
    {
      "cell_type": "markdown",
      "metadata": {
        "id": "view-in-github",
        "colab_type": "text"
      },
      "source": [
        "<a href=\"https://colab.research.google.com/github/MK316/workshop22/blob/main/Playquiz01.ipynb\" target=\"_parent\"><img src=\"https://colab.research.google.com/assets/colab-badge.svg\" alt=\"Open In Colab\"/></a>"
      ]
    },
    {
      "cell_type": "markdown",
      "source": [
        "# Play quiz with me"
      ],
      "metadata": {
        "id": "KA8AOgnlC5WL"
      }
    },
    {
      "cell_type": "code",
      "execution_count": 1,
      "metadata": {
        "colab": {
          "base_uri": "https://localhost:8080/"
        },
        "id": "XiDgmuaJC1Us",
        "outputId": "fb032a0f-0496-4c8c-d500-428da1b40562"
      },
      "outputs": [
        {
          "output_type": "stream",
          "name": "stdout",
          "text": [
            "Welcome to my computer quiz!\n"
          ]
        }
      ],
      "source": [
        "markdown\n",
        "print(\"Welcome to my computer quiz!\")"
      ]
    },
    {
      "cell_type": "code",
      "source": [
        "#@markdown Project 1. Cloze Quiz\n",
        "\n",
        "playing = input(\"Are you ready to start? \")\n",
        "\n",
        "if playing.lower() != \"yes\":\n",
        "  print(\"Okay, see you next time :-) \")\n",
        "  quit()\n",
        "else:\n",
        "  print(\"Okay, let's get started!\")\n",
        "\n",
        "score = 0\n",
        "\n",
        "answer = input(\"What does CPU stand for? \")\n",
        "if answer.lower() == \"central processing unit\" or \"Central Processing Unit\":\n",
        "  print(\"Correct!\")\n",
        "  score += 1\n",
        "else:\n",
        "  print(\"Incorrect!\")\n",
        "\n",
        "answer = input(\"What does GPU stand for?\")\n",
        "if answer.lower() == \"graphic processing unit\":\n",
        "  print(\"Correct!\")\n",
        "  score += 1\n",
        "else:\n",
        "  print(\"Incorrect!\")\n",
        "\n",
        "answer = input(\"What does RAM stand for? \")\n",
        "if answer == \"random access memory\":\n",
        "  print(\"Correct!\")\n",
        "  score += 1\n",
        "else:\n",
        "  print(\"Incorrect!\")\n",
        "\n",
        "print(\"You got \" + str(score) + \" questions correct!\")\n",
        "print(\"You got \" + str((score/4)*100) + \" % correct!\")"
      ],
      "metadata": {
        "colab": {
          "base_uri": "https://localhost:8080/"
        },
        "cellView": "form",
        "id": "NXigV8HDDDYp",
        "outputId": "0ade06e3-f3ab-40ee-870e-6cf161383116"
      },
      "execution_count": 4,
      "outputs": [
        {
          "output_type": "stream",
          "name": "stdout",
          "text": [
            "Are you ready to start? yes\n",
            "Okay, let's get started!\n",
            "What does CPU stand for? central processing unit\n",
            "Correct!\n",
            "What does GPU stand for?Graphic process unit\n",
            "Incorrect!\n",
            "What does RAM stand for? random access memory\n",
            "Correct!\n",
            "You got 2questions correct!\n"
          ]
        }
      ]
    },
    {
      "cell_type": "code",
      "source": [
        "#markdown Project 2. Numbers\n",
        "import random\n",
        "top_of_range = input(\"Type a number: \")\n",
        "\n",
        "if top_of_range.isdigit():\n",
        "  top_of_range = int(top_of_range)\n",
        "\n",
        "  if top_of_range <= 0:\n",
        "    print('Please type a number larger than 0 next time.')\n",
        "    quit()\n",
        "else:\n",
        "  print('Please type a number next time.')\n",
        "  quit()\n",
        "\n",
        "random_number = random.randint(0, top_of_range)\n",
        "guesses = 0\n",
        "\n",
        "while True:\n",
        "  guesses += 1\n",
        "  user_guess = input(\"Make a guess: \")\n",
        "  if user_guess.isdigit():\n",
        "      user_guess = int(user_guess)\n",
        "  else:\n",
        "    print(\"Please type a number next time.\")\n",
        "    continue\n",
        "\n",
        "  if user_guess == random_number:\n",
        "    print(\"You got it!\")\n",
        "    break\n",
        "\n",
        "  elif user_guess > random_number:\n",
        "      print(\"You were above the number!\")\n",
        "  else:\n",
        "      print(\"You were below the number!\")\n",
        "\n",
        "print(\"You got it in\", guesses, \"guesses.\")"
      ],
      "metadata": {
        "colab": {
          "base_uri": "https://localhost:8080/"
        },
        "id": "gvWrvt4jDkcz",
        "outputId": "fb64f078-10d5-461a-d94b-761cdd97a038"
      },
      "execution_count": 19,
      "outputs": [
        {
          "output_type": "stream",
          "name": "stdout",
          "text": [
            "Type a number: 8\n",
            "Make a guess: 9\n",
            "You were above the number!\n",
            "Make a guess: 6\n",
            "You were above the number!\n",
            "Make a guess: 5\n",
            "You were above the number!\n",
            "Make a guess: 4\n",
            "You were above the number!\n",
            "Make a guess: 3\n",
            "You were above the number!\n",
            "Make a guess: 2\n",
            "You were above the number!\n",
            "Make a guess: 1\n",
            "You got it!\n",
            "You got it in 7 guesses.\n"
          ]
        }
      ]
    },
    {
      "cell_type": "markdown",
      "source": [
        "Project 3: Rock, Paper, scissors"
      ],
      "metadata": {
        "id": "JHd5LEZqO-So"
      }
    },
    {
      "cell_type": "code",
      "source": [
        "import random\n",
        "\n",
        "user_wins = 0\n",
        "computer_wins = 0\n",
        "\n",
        "options = [\"rock\",\"paper\",\"scissors\"]\n",
        "\n",
        "while True:\n",
        "  user_input = input(\"Type 'Rock/Paper/Scissors' or 'Q' to quit. \").lower()\n",
        "  if user_input ==\"q\":\n",
        "      break\n",
        "\n",
        "  if user_input not in options:\n",
        "      continue\n",
        "\n",
        "  random_number = random.randint(0,2)\n",
        "  # rock = 0, paper = 1, scissors = 2\n",
        "  computer_pick = options[random_number]\n",
        "  print(\"computer_picked\", computer_pick + \".\")\n",
        "\n",
        "  if user_input == \"rock\" and computer_pick == \"scissors\":\n",
        "    print(\"You won!\")\n",
        "    user_wins += 1\n",
        "\n",
        "  elif user_input == \"paper\" and computer_pick == \"rock\":\n",
        "    print(\"You won!\")\n",
        "    user_wins += 1\n",
        "\n",
        "  elif user_input == \"scissors\" and computer_pick == \"paper\":\n",
        "    print(\"You won!\")\n",
        "    user_wins += 1\n",
        "\n",
        "  else:\n",
        "    print(\"You lost!\")\n",
        "    computer_wins += 1\n",
        "\n",
        "print(\"You won\", user_wins, \"times.\")\n",
        "print(\"Computer won\", computer_wins, \"times.\")\n",
        "print(\"Goodbye!\")\n"
      ],
      "metadata": {
        "colab": {
          "base_uri": "https://localhost:8080/"
        },
        "id": "1aBp_CZ-PDyA",
        "outputId": "a56a0e30-55ae-48a7-c998-ceee19781762"
      },
      "execution_count": 22,
      "outputs": [
        {
          "output_type": "stream",
          "name": "stdout",
          "text": [
            "Type Rock/Paper/Scissors or Q to quit. rock\n",
            "computer_picked rock.\n",
            "You lost!\n",
            "Type Rock/Paper/Scissors or Q to quit. paper\n",
            "computer_picked scissors.\n",
            "You lost!\n",
            "Type Rock/Paper/Scissors or Q to quit. paper\n",
            "computer_picked scissors.\n",
            "You lost!\n",
            "Type Rock/Paper/Scissors or Q to quit. 1\n",
            "Type Rock/Paper/Scissors or Q to quit. q\n",
            "You won 0 times.\n",
            "Computer won 3 times.\n",
            "Goodbye!\n"
          ]
        }
      ]
    },
    {
      "cell_type": "markdown",
      "source": [
        "Project 4: "
      ],
      "metadata": {
        "id": "xbsRpEJjSpgY"
      }
    },
    {
      "cell_type": "code",
      "source": [
        "name = input(\"Type your name: \")\n",
        "print(\"Welcome\", name, \"to this adventure!\")\n",
        "\n",
        "answer = input(\"You are on a dirt road, \\n and it has come to an end. \\n You can go left or right. \\n Which way do you want to go? \\n Type 'left' or 'right'.\").lower()\n",
        "\n",
        "if answer == \"left\":\n",
        "    answer == input(\"You come to a river, \\n you can walk around it or swim across. \\n Type 'walk' or 'swim'\").lower()\n",
        "\n",
        "    if answer == \"swim\":\n",
        "         print(\"You swam across and were eaten by an alligator. You lose.\")\n",
        "\n",
        "    elif answer == \"walk\":\n",
        "        print(\"You walked many miles, \\n ran out of water and you lost the game.\")\n",
        "\n",
        "    else:\n",
        "        print(\"Not a valid option. You lose.\")\n",
        "\n",
        "elif answer == \"right\":\n",
        "  answer = input(\"You come to a bridge, \\n it looks wobbly, \\n do you want to cross it or head back? Type 'cross' or 'back'. \").lower()\n",
        "\n",
        "  if answer == \"back\":\n",
        "    print(\"You go back and lose.\")\n",
        "\n",
        "  elif answer == \"cross\":\n",
        "    answer = input(\"You cross the bridge and meet a stranger. Do you talk to them? (y/n)\").lower()\n",
        "\n",
        "    if answer == \"y\":\n",
        "        print(\"You talk to the stranger and they give you gold. You win!\")\n",
        "    elif answer == \"n\":\n",
        "        print(\"Well, you lost your luck.\")\n",
        "\n",
        "  else:\n",
        "    print(\"Not a valid option. You lose.\")\n",
        "\n",
        "else:\n",
        "  print(\"Not a valid option. You lose.\")\n",
        "\n",
        "print(\"Thank you\", name, \"Bye!\")\n"
      ],
      "metadata": {
        "colab": {
          "base_uri": "https://localhost:8080/"
        },
        "id": "jLZnz4ooSrw2",
        "outputId": "24ed2a71-97af-4453-e82f-5f7f08a0d54d"
      },
      "execution_count": 38,
      "outputs": [
        {
          "output_type": "stream",
          "name": "stdout",
          "text": [
            "Type your name: Abby\n",
            "Welcome Abby to this adventure!\n",
            "You are on a dirt road, \n",
            " and it has come to an end. \n",
            " You can go left or right. \n",
            " Which way do you want to go? \n",
            " Type 'left' or 'right'.right\n",
            "You come to a bridge, \n",
            " it looks wobbly, \n",
            " do you want to cross it or head back? Type 'cross' or 'back'. back\n",
            "You go back and lose.\n",
            "You swam across and were eaten by an alligator.\n",
            "Thank you Abby Bye!\n"
          ]
        }
      ]
    },
    {
      "cell_type": "code",
      "source": [],
      "metadata": {
        "id": "Nv1gz6tBU-ad"
      },
      "execution_count": null,
      "outputs": []
    }
  ]
}