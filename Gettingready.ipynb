{
  "nbformat": 4,
  "nbformat_minor": 0,
  "metadata": {
    "colab": {
      "name": "Gettingready.ipynb",
      "provenance": [],
      "collapsed_sections": [],
      "authorship_tag": "ABX9TyMQX3uaZsGkJgfA27jAJPvw",
      "include_colab_link": true
    },
    "kernelspec": {
      "name": "python3",
      "display_name": "Python 3"
    },
    "language_info": {
      "name": "python"
    }
  },
  "cells": [
    {
      "cell_type": "markdown",
      "metadata": {
        "id": "view-in-github",
        "colab_type": "text"
      },
      "source": [
        "<a href=\"https://colab.research.google.com/github/MK316/workshop22/blob/main/Gettingready.ipynb\" target=\"_parent\"><img src=\"https://colab.research.google.com/assets/colab-badge.svg\" alt=\"Open In Colab\"/></a>"
      ]
    },
    {
      "cell_type": "markdown",
      "source": [
        "# [1] Colab getting started:\n",
        "\n",
        "* Webpage: https://colab.research.google.com/  \n",
        "![Screen Shot 2022-06-02 at 3.05.53 PM.png](data:image/png;base64,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)\n",
        "\n",
        "**Todo list:**  \n",
        "1. Creating a new notebook on Colab: filename, folder and files\n",
        "2. Format: adding code cells and text cells\n",
        "3. Running code cells\n",
        "4. File handling on colab: file saving and download\n",
        "---\n"
      ],
      "metadata": {
        "id": "mF4SB1lwo9CL"
      }
    },
    {
      "cell_type": "markdown",
      "source": [
        "\n",
        "##1.Creating a new notebook on Colab\n",
        "\n",
        "✅ A. File name: [File] > [Rename]"
      ],
      "metadata": {
        "id": "DEmp-UbM1thN"
      }
    },
    {
      "cell_type": "markdown",
      "source": [
        "---\n",
        "📎 Sample file: https://raw.githubusercontent.com/MK316/workshop22/main/data/fable01.txt  \n",
        ">=> Follow the link and Right click to save it as a file.  "
      ],
      "metadata": {
        "id": "7c2FAkkmu-7Y"
      }
    },
    {
      "cell_type": "markdown",
      "source": [
        "✅ B. Folder and files on Colab: \n",
        "\n",
        "1. Folder: Click the folder icon on the left panel.  \n",
        "2. File to upload from your computer: by clicking the fileupload icon  "
      ],
      "metadata": {
        "id": "ROjtHzbr14Ij"
      }
    },
    {
      "cell_type": "code",
      "execution_count": 1,
      "metadata": {
        "colab": {
          "base_uri": "https://localhost:8080/"
        },
        "id": "uyOPmcVfo3Va",
        "outputId": "29753801-8d97-416f-8833-869203117b82"
      },
      "outputs": [
        {
          "output_type": "stream",
          "name": "stdout",
          "text": [
            "Welcome to colab\n"
          ]
        }
      ],
      "source": [
        "print(\"Welcome to colab\")"
      ]
    },
    {
      "cell_type": "markdown",
      "source": [
        "---\n",
        "\n",
        "##2.Text and code cells\n",
        "\n",
        "✅ A. Text cells for Commentaries (format follows 'markdown' language)  \n",
        "✅ B. Code cells for **coding** (format follows python language grammar)"
      ],
      "metadata": {
        "id": "qkuGuNG7o8Hg"
      }
    },
    {
      "cell_type": "code",
      "source": [
        "# Coding cell\n",
        "\n",
        "a = \"Hello! \"\n",
        "b = \"Nice to meet you.\"\n",
        "c = a+b\n",
        "c #print(c)"
      ],
      "metadata": {
        "colab": {
          "base_uri": "https://localhost:8080/",
          "height": 35
        },
        "id": "Ju_ZIjbA431H",
        "outputId": "fb385690-a49c-4611-8030-4dce1976364e"
      },
      "execution_count": 5,
      "outputs": [
        {
          "output_type": "execute_result",
          "data": {
            "text/plain": [
              "'Hello! Nice to meet you.'"
            ],
            "application/vnd.google.colaboratory.intrinsic+json": {
              "type": "string"
            }
          },
          "metadata": {},
          "execution_count": 5
        }
      ]
    },
    {
      "cell_type": "markdown",
      "source": [
        "##3. Running code cells\n",
        "\n",
        ">=> Run the code cell and check out the returning result\n"
      ],
      "metadata": {
        "id": "W05stUdH5bqv"
      }
    },
    {
      "cell_type": "code",
      "source": [
        "# Coding cell: add(a,b)\n",
        "# Define add(a,b) function\n",
        "\n",
        "def add(a,b):\n",
        "  c = a+b\n",
        "  return print('The result is %d.'%c)"
      ],
      "metadata": {
        "id": "NzHmwOIr5PH_"
      },
      "execution_count": 11,
      "outputs": []
    },
    {
      "cell_type": "code",
      "source": [
        "add(3,4)"
      ],
      "metadata": {
        "colab": {
          "base_uri": "https://localhost:8080/"
        },
        "id": "Nk9GpGS55x3r",
        "outputId": "48a12ff9-3604-42fb-9452-0a785a7f9515"
      },
      "execution_count": 12,
      "outputs": [
        {
          "output_type": "stream",
          "name": "stdout",
          "text": [
            "The result is 7.\n"
          ]
        }
      ]
    },
    {
      "cell_type": "markdown",
      "source": [
        "##4. File saving and download\n",
        "\n",
        ">=> Folder panel on the left"
      ],
      "metadata": {
        "id": "hQPvGpLQ7e28"
      }
    },
    {
      "cell_type": "code",
      "source": [
        "# Sample text: The Ant and the Dove\n",
        "text = \"A Dove saw an Ant fall into a brook. The Ant struggled in vain to reach the bank, and in pity, the Dove dropped a blade of straw close beside it. Clinging to the straw like a shipwrecked sailor to a broken spar, the Ant floated safely to shore. Soon after, the Ant saw a man getting ready to kill the Dove with a stone. But just as he cast the stone, the Ant stung him in the heel, so that the pain made him miss his aim, and the startled Dove flew to safety in a distant wood. A kindness is never wasted.\""
      ],
      "metadata": {
        "id": "1hmKVHsxyosv"
      },
      "execution_count": 14,
      "outputs": []
    },
    {
      "cell_type": "code",
      "source": [
        "with open('filename.txt', 'w') as f:\n",
        "  f.write(text)"
      ],
      "metadata": {
        "id": "o7apmvW47lu5"
      },
      "execution_count": 15,
      "outputs": []
    },
    {
      "cell_type": "code",
      "source": [
        "#Open file\n",
        "with open('filename.txt','r') as f:\n",
        "  data = f.read()\n",
        "  print(data)"
      ],
      "metadata": {
        "colab": {
          "base_uri": "https://localhost:8080/"
        },
        "id": "H_ozsE5_8wuz",
        "outputId": "4c300408-a9be-4223-9f41-32a7e0e01fa9"
      },
      "execution_count": 22,
      "outputs": [
        {
          "output_type": "stream",
          "name": "stdout",
          "text": [
            "A Dove saw an Ant fall into a brook. The Ant struggled in vain to reach the bank, and in pity, the Dove dropped a blade of straw close beside it. Clinging to the straw like a shipwrecked sailor to a broken spar, the Ant floated safely to shore. Soon after, the Ant saw a man getting ready to kill the Dove with a stone. But just as he cast the stone, the Ant stung him in the heel, so that the pain made him miss his aim, and the startled Dove flew to safety in a distant wood. A kindness is never wasted.\n"
          ]
        }
      ]
    },
    {
      "cell_type": "code",
      "source": [
        "#@markdown 🔎 Using a direct uploader: the file will be saved on the current folder on Colab\n",
        "from google.colab import files\n",
        "uploaded = files.upload()\n",
        "\n",
        "for f in uploaded.keys():\n",
        "    file = open(f, 'r')\n",
        "    lines = file.readlines()"
      ],
      "metadata": {
        "colab": {
          "resources": {
            "http://localhost:8080/nbextensions/google.colab/files.js": {
              "data": "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",
              "ok": true,
              "headers": [
                [
                  "content-type",
                  "application/javascript"
                ]
              ],
              "status": 200,
              "status_text": ""
            }
          },
          "base_uri": "https://localhost:8080/",
          "height": 73
        },
        "cellView": "form",
        "id": "1UTAqT-B9Woh",
        "outputId": "ccb88cdf-a5ef-4587-ebba-3f25783bffa7"
      },
      "execution_count": 23,
      "outputs": [
        {
          "output_type": "display_data",
          "data": {
            "text/plain": [
              "<IPython.core.display.HTML object>"
            ],
            "text/html": [
              "\n",
              "     <input type=\"file\" id=\"files-a20df10d-d181-4045-9598-47642952da33\" name=\"files[]\" multiple disabled\n",
              "        style=\"border:none\" />\n",
              "     <output id=\"result-a20df10d-d181-4045-9598-47642952da33\">\n",
              "      Upload widget is only available when the cell has been executed in the\n",
              "      current browser session. Please rerun this cell to enable.\n",
              "      </output>\n",
              "      <script src=\"/nbextensions/google.colab/files.js\"></script> "
            ]
          },
          "metadata": {}
        },
        {
          "output_type": "stream",
          "name": "stdout",
          "text": [
            "Saving fable01.txt to fable01.txt\n"
          ]
        }
      ]
    },
    {
      "cell_type": "code",
      "source": [
        ""
      ],
      "metadata": {
        "id": "DcQo6Qjp-fCR"
      },
      "execution_count": null,
      "outputs": []
    },
    {
      "cell_type": "markdown",
      "source": [
        "# [2] Github \n",
        "* Website: https://github.com  \n",
        "* ![Screen Shot 2022-06-02 at 3.04.58 PM.png](data:image/png;base64,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)\n",
        "_**GitHub**_ is a website and cloud-based service that helps developers store and manage their code, as well as track and control changes to their code."
      ],
      "metadata": {
        "id": "YuavjOEY-nf-"
      }
    },
    {
      "cell_type": "markdown",
      "source": [
        "✅  Colab notebook file (ipynb) to Github repository\n",
        "\n",
        "_📌 Note: Github repository should be in place in advance._\n",
        ">[File] > [Save a copy in Github] > (Choose your designated repository) > Save"
      ],
      "metadata": {
        "id": "Q3FD79dbyf_l"
      }
    },
    {
      "cell_type": "markdown",
      "source": [
        "✅ Github to Colab\n",
        "\n",
        "> Extension with .ipynb can open on Colab  \n",
        "\n",
        "![](https://github.com/MK316/workshop22/raw/a759f401cf7ce962a5248e1876551c2ac655d600/img/githubfile.png)"
      ],
      "metadata": {
        "id": "iGX0Ik4EC2MG"
      }
    },
    {
      "cell_type": "markdown",
      "source": [
        "---\n",
        "\n",
        "The End"
      ],
      "metadata": {
        "id": "yywGISAQDxCk"
      }
    }
  ]
}