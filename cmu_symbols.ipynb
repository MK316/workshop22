{
  "nbformat": 4,
  "nbformat_minor": 0,
  "metadata": {
    "colab": {
      "name": "cmu_symbols.ipynb",
      "provenance": [],
      "authorship_tag": "ABX9TyMzYp8H3Bl+uUE7CvGbFh0V",
      "include_colab_link": true
    },
    "kernelspec": {
      "name": "python3",
      "display_name": "Python 3"
    },
    "language_info": {
      "name": "python"
    }
  },
  "cells": [
    {
      "cell_type": "markdown",
      "metadata": {
        "id": "view-in-github",
        "colab_type": "text"
      },
      "source": [
        "<a href=\"https://colab.research.google.com/github/MK316/workshop22/blob/main/cmu_symbols.ipynb\" target=\"_parent\"><img src=\"https://colab.research.google.com/assets/colab-badge.svg\" alt=\"Open In Colab\"/></a>"
      ]
    },
    {
      "cell_type": "markdown",
      "source": [
        "# CMU pronunciation dictionary"
      ],
      "metadata": {
        "id": "w4Lar3eMNHe8"
      }
    },
    {
      "cell_type": "markdown",
      "source": [
        "        CMU Pronunciation Dicationary\n",
        "        \n",
        "        Phoneme Example Translation\n",
        "        ------- ------- -----------\n",
        "        AA\todd     AA D\n",
        "        AE\tat\tAE T\n",
        "        AH\thut\tHH AH T\n",
        "        AO\tought\tAO T\n",
        "        AW\tcow\tK AW\n",
        "        AY\thide\tHH AY D\n",
        "        B \tbe\tB IY\n",
        "        CH\tcheese\tCH IY Z\n",
        "        D \tdee\tD IY\n",
        "        DH\tthee\tDH IY\n",
        "        EH\tEd\tEH D\n",
        "        ER\thurt\tHH ER T\n",
        "        EY\tate\tEY T\n",
        "        F \tfee\tF IY\n",
        "        G \tgreen\tG R IY N\n",
        "        HH\the\tHH IY\n",
        "        IH\tit\tIH T\n",
        "        IY\teat\tIY T\n",
        "        JH\tgee\tJH IY\n",
        "        K \tkey\tK IY\n",
        "        L \tlee\tL IY\n",
        "        M \tme\tM IY\n",
        "        N \tknee\tN IY\n",
        "        NG\tping\tP IH NG\n",
        "        OW\toat\tOW T\n",
        "        OY\ttoy\tT OY\n",
        "        P \tpee\tP IY\n",
        "        R \tread\tR IY D\n",
        "        S \tsea\tS IY\n",
        "        SH\tshe\tSH IY\n",
        "        T \ttea\tT IY\n",
        "        TH\ttheta\tTH EY T AH\n",
        "        UH\thood\tHH UH D\n",
        "        UW\ttwo\tT UW\n",
        "        V \tvee\tV IY\n",
        "        W \twe\tW IY\n",
        "        Y \tyield\tY IY L D\n",
        "        Z \tzee\tZ IY\n",
        "        ZH\tseizure\tS IY ZH ER"
      ],
      "metadata": {
        "id": "4NuoDh0yM_jY"
      }
    }
  ]
}