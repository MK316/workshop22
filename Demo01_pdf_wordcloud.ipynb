{
  "nbformat": 4,
  "nbformat_minor": 0,
  "metadata": {
    "colab": {
      "provenance": [],
      "authorship_tag": "ABX9TyMUuQUdJ4bfe90F1qwnb42Q",
      "include_colab_link": true
    },
    "kernelspec": {
      "name": "python3",
      "display_name": "Python 3"
    },
    "language_info": {
      "name": "python"
    }
  },
  "cells": [
    {
      "cell_type": "markdown",
      "metadata": {
        "id": "view-in-github",
        "colab_type": "text"
      },
      "source": [
        "<a href=\"https://colab.research.google.com/github/MK316/workshop22/blob/main/Demo01_pdf_wordcloud.ipynb\" target=\"_parent\"><img src=\"https://colab.research.google.com/assets/colab-badge.svg\" alt=\"Open In Colab\"/></a>"
      ]
    },
    {
      "cell_type": "markdown",
      "source": [
        "# 🌀 Process: Two pdf files > Two text file > {nltk} Wordcloud\n",
        "\n",
        "* text1: The Great Gatsby (by F. Scott Fitzgerald)  \n",
        "* text2: The Great Gatsby (2013, movie transcript)"
      ],
      "metadata": {
        "id": "VW3JB5N_1MMw"
      }
    },
    {
      "cell_type": "markdown",
      "source": [
        "![](https://github.com/MK316/workshop22/raw/main/img/Gatsby.png) ![](https://github.com/MK316/workshop22/raw/main/img/Gatsby_small.png)"
      ],
      "metadata": {
        "id": "ShnNOGa12mDR"
      }
    },
    {
      "cell_type": "markdown",
      "source": [
        "# 🌀 Prep[1]: Clone the location of files: github"
      ],
      "metadata": {
        "id": "sWcqNMZ_HMRA"
      }
    },
    {
      "cell_type": "code",
      "source": [
        "%%capture\n",
        "!git clone https://github.com/MK316/workshop22.git"
      ],
      "metadata": {
        "id": "gN8OyVyR6lnj"
      },
      "execution_count": 57,
      "outputs": []
    },
    {
      "cell_type": "markdown",
      "source": [
        "## 🚩 Do this only once: changing directory"
      ],
      "metadata": {
        "id": "8ZrBUsWrE4JD"
      }
    },
    {
      "cell_type": "code",
      "source": [
        "import os.path\n",
        "os.chdir('/content/workshop22/data')\n",
        "!pwd"
      ],
      "metadata": {
        "colab": {
          "base_uri": "https://localhost:8080/"
        },
        "id": "xbhuZwsu7VV3",
        "outputId": "6b721a0d-ffa4-487e-f120-e3ae95e7dbce"
      },
      "execution_count": 13,
      "outputs": [
        {
          "output_type": "stream",
          "name": "stdout",
          "text": [
            "/content/workshop22/data\n"
          ]
        }
      ]
    },
    {
      "cell_type": "markdown",
      "source": [
        "## Pdf file list in the current directory "
      ],
      "metadata": {
        "id": "7uIFdLJ_FWtR"
      }
    },
    {
      "cell_type": "code",
      "source": [
        "# File list\n",
        "import os\n",
        "relevant_path = \"/content/workshop22/data\"\n",
        "included_extensions = ['pdf']\n",
        "file_names = [fn for fn in os.listdir(relevant_path)\n",
        "              if any(fn.endswith(ext) for ext in included_extensions)]\n",
        "print(file_names)\n",
        "!pwd"
      ],
      "metadata": {
        "colab": {
          "base_uri": "https://localhost:8080/"
        },
        "id": "eygU4hcz7eb7",
        "outputId": "68be729b-9453-4fae-b3c6-ac30e8913662"
      },
      "execution_count": 58,
      "outputs": [
        {
          "output_type": "stream",
          "name": "stdout",
          "text": [
            "['Gatsby.pdf', 'greatgatsby_sp.pdf']\n",
            "/content/workshop22/data\n"
          ]
        }
      ]
    },
    {
      "cell_type": "markdown",
      "source": [
        "## Install pdfplumber package and import"
      ],
      "metadata": {
        "id": "n8fNAeKBFsSr"
      }
    },
    {
      "cell_type": "code",
      "source": [
        "%%capture\n",
        "!pip install pdfplumber\n",
        "import pdfplumber"
      ],
      "metadata": {
        "id": "LFNMQvLu9Nir"
      },
      "execution_count": 59,
      "outputs": []
    },
    {
      "cell_type": "code",
      "source": [
        "# Sample page from the pdf file\n",
        "\n",
        "pdf = pdfplumber.open('/content/workshop22/data/Gatsby.pdf')\n",
        "page = pdf.pages[1]\n",
        "sample = page.extract_text()\n",
        "print(sample)"
      ],
      "metadata": {
        "id": "E5IQqmac9Ycs"
      },
      "execution_count": null,
      "outputs": []
    },
    {
      "cell_type": "markdown",
      "source": [
        "## 🚩 All pdfs in one file\n",
        "\n",
        " We don't need this now."
      ],
      "metadata": {
        "id": "3LQ6Ks-xF3mS"
      }
    },
    {
      "cell_type": "code",
      "source": [
        "# for file in os.listdir('/content/workshop22/data'):\n",
        "#     filename = os.fsdecode(file)\n",
        "#     if filename.endswith('.pdf'):\n",
        "#         all_text = '' # new line\n",
        "#         with pdfplumber.open(file) as pdf:\n",
        "#             # page = pdf.pages[0] - comment out or remove line\n",
        "#             # text = page.extract_text() - comment out or remove line\n",
        "#             for pdf_page in pdf.pages:\n",
        "#                single_page_text = pdf_page.extract_text()\n",
        "#                #  print( single_page_text )\n",
        "#                # separate each page's text with newline\n",
        "#                all_text = all_text + '\\n' + single_page_text\n",
        "#             print(all_text)\n",
        "#             # print(text) - comment out or remove line \n",
        "# len(all_text)"
      ],
      "metadata": {
        "id": "qhdSmI-o9opP"
      },
      "execution_count": null,
      "outputs": []
    },
    {
      "cell_type": "markdown",
      "source": [
        "## Single file to pdf"
      ],
      "metadata": {
        "id": "Lv1yYk-cGF2K"
      }
    },
    {
      "cell_type": "code",
      "source": [
        "file = '/content/workshop22/data/Gatsby.pdf'\n",
        "\n",
        "\n",
        "all_text = '' # new line\n",
        "with pdfplumber.open(file) as pdf:\n",
        "    for pdf_page in pdf.pages:\n",
        "        single_page_text = pdf_page.extract_text()\n",
        "        # print( single_page_text )\n",
        "\n",
        "        all_text = all_text + '\\n' + single_page_text\n",
        "txt1 = all_text\n",
        "len(txt1)"
      ],
      "metadata": {
        "colab": {
          "base_uri": "https://localhost:8080/"
        },
        "id": "1RqJQFlwCF3J",
        "outputId": "d0edeb11-23a3-4552-e63f-4da13afc0e4d"
      },
      "execution_count": 82,
      "outputs": [
        {
          "output_type": "execute_result",
          "data": {
            "text/plain": [
              "268691"
            ]
          },
          "metadata": {},
          "execution_count": 82
        }
      ]
    },
    {
      "cell_type": "markdown",
      "source": [
        "Text2 to pdf (movie transcript)"
      ],
      "metadata": {
        "id": "-znU29lXGMRL"
      }
    },
    {
      "cell_type": "code",
      "source": [
        "file = '/content/workshop22/data/greatgatsby_sp.pdf'\n",
        "\n",
        "\n",
        "all_text = '' # new line\n",
        "with pdfplumber.open(file) as pdf:\n",
        "    for pdf_page in pdf.pages:\n",
        "        single_page_text = pdf_page.extract_text()\n",
        "        # print( single_page_text )\n",
        "        all_text = all_text + '\\n' + single_page_text\n",
        "txt2 = all_text"
      ],
      "metadata": {
        "id": "biSS1o8GDw-B"
      },
      "execution_count": 68,
      "outputs": []
    },
    {
      "cell_type": "code",
      "source": [
        "print('Text1(Gatsby novel): txt1 %d strings'%len(txt1))\n",
        "print('Text1(Gatsby transcript): txt2 %d strings'%len(txt2))"
      ],
      "metadata": {
        "colab": {
          "base_uri": "https://localhost:8080/"
        },
        "id": "UHYHmvAAESiT",
        "outputId": "d339cf82-fc49-4ed0-e910-b2aa96a6fd87"
      },
      "execution_count": 69,
      "outputs": [
        {
          "output_type": "stream",
          "name": "stdout",
          "text": [
            "Text1(Gatsby novel): txt1 268691 strings\n",
            "Text1(Gatsby transcript): txt2 136312 strings\n"
          ]
        }
      ]
    },
    {
      "cell_type": "markdown",
      "source": [
        "# 🌀 Prep[2]: Pre-processing the text data to create Wordcloud"
      ],
      "metadata": {
        "id": "7QpgkOn9Gax7"
      }
    },
    {
      "cell_type": "code",
      "source": [
        "#@markdown Install packages {nltk}\n",
        "import nltk\n",
        "nltk.download(\"punkt\")\n",
        "nltk.download('gutenberg')"
      ],
      "metadata": {
        "colab": {
          "base_uri": "https://localhost:8080/"
        },
        "id": "i2exvfiJGgZr",
        "outputId": "56d3c935-7ebc-4740-d701-d9247a6aae74"
      },
      "execution_count": 72,
      "outputs": [
        {
          "output_type": "stream",
          "name": "stderr",
          "text": [
            "[nltk_data] Downloading package punkt to /root/nltk_data...\n",
            "[nltk_data]   Package punkt is already up-to-date!\n",
            "[nltk_data] Downloading package gutenberg to /root/nltk_data...\n",
            "[nltk_data]   Package gutenberg is already up-to-date!\n"
          ]
        },
        {
          "output_type": "execute_result",
          "data": {
            "text/plain": [
              "True"
            ]
          },
          "metadata": {},
          "execution_count": 72
        }
      ]
    },
    {
      "cell_type": "code",
      "source": [
        "import os.path\n",
        "os.chdir('/content')\n",
        "!pwd"
      ],
      "metadata": {
        "colab": {
          "base_uri": "https://localhost:8080/"
        },
        "id": "hFuarvfuJ6wz",
        "outputId": "08f92a1d-9b10-43ee-97d3-3776ca9af03b"
      },
      "execution_count": 77,
      "outputs": [
        {
          "output_type": "stream",
          "name": "stdout",
          "text": [
            "/content\n"
          ]
        }
      ]
    },
    {
      "cell_type": "code",
      "source": [
        "!pip install wordcloud\n",
        "from wordcloud import WordCloud, STOPWORDS"
      ],
      "metadata": {
        "id": "OXemqwqiIz1-"
      },
      "execution_count": null,
      "outputs": []
    },
    {
      "cell_type": "code",
      "source": [
        "import matplotlib.pyplot as plt\n",
        "text = nltk.corpus.gutenberg.raw('bible-kjv.txt')\n",
        "\n",
        "wc = WordCloud().generate(text) \n",
        "plt.imshow(wc)"
      ],
      "metadata": {
        "id": "gZf9OVFaKP68"
      },
      "execution_count": null,
      "outputs": []
    }
  ]
}