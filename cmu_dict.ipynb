{
  "nbformat": 4,
  "nbformat_minor": 0,
  "metadata": {
    "colab": {
      "name": "cmu_dict.ipynb",
      "provenance": [],
      "authorship_tag": "ABX9TyMH9byM2YO1/COY2DwrM45W",
      "include_colab_link": true
    },
    "kernelspec": {
      "name": "python3",
      "display_name": "Python 3"
    },
    "language_info": {
      "name": "python"
    }
  },
  "cells": [
    {
      "cell_type": "markdown",
      "metadata": {
        "id": "view-in-github",
        "colab_type": "text"
      },
      "source": [
        "<a href=\"https://colab.research.google.com/github/MK316/workshop22/blob/main/cmu_dict.ipynb\" target=\"_parent\"><img src=\"https://colab.research.google.com/assets/colab-badge.svg\" alt=\"Open In Colab\"/></a>"
      ]
    },
    {
      "cell_type": "markdown",
      "source": [
        "# CMU dictionary in Python\n",
        "\n",
        "\"CMUdict is a versioned python wrapper package for The CMU Pronouncing Dictionary data files. The main purpose is to expose the data with little or no assumption on how it is to be used.\" [source link](https://pypi.org/project/cmudict/)\n",
        "\n",
        "**CMUdict (the Carnegie Mellon Pronouncing Dictionary)** is a free\n",
        "pronouncing dictionary of English, suitable for uses in speech\n",
        "technology and is maintained by the Speech Group in the School of\n",
        "Computer Science at Carnegie Mellon University."
      ],
      "metadata": {
        "id": "78lBUEWcPEbY"
      }
    },
    {
      "cell_type": "code",
      "source": [
        "# Copyright\n",
        "\n",
        "cmudict.license_string() # Returns the cmudict license as a string"
      ],
      "metadata": {
        "colab": {
          "base_uri": "https://localhost:8080/"
        },
        "id": "USEiDw23TSKN",
        "outputId": "3b1e5167-6061-46f3-8681-237bfdaf2dad"
      },
      "execution_count": 18,
      "outputs": [
        {
          "output_type": "execute_result",
          "data": {
            "text/plain": [
              "b\"Copyright (C) 1993-2015 Carnegie Mellon University. All rights reserved.\\n\\nRedistribution and use in source and binary forms, with or without\\nmodification, are permitted provided that the following conditions\\nare met:\\n\\n1. Redistributions of source code must retain the above copyright\\n   notice, this list of conditions and the following disclaimer.\\n   The contents of this file are deemed to be source code.\\n\\n2. Redistributions in binary form must reproduce the above copyright\\n   notice, this list of conditions and the following disclaimer in\\n   the documentation and/or other materials provided with the\\n   distribution.\\n\\nThis work was supported in part by funding from the Defense Advanced\\nResearch Projects Agency, the Office of Naval Research and the National\\nScience Foundation of the United States of America, and by member\\ncompanies of the Carnegie Mellon Sphinx Speech Consortium. We acknowledge\\nthe contributions of many volunteers to the expansion and improvement of\\nthis dictionary.\\n\\nTHIS SOFTWARE IS PROVIDED BY CARNEGIE MELLON UNIVERSITY ``AS IS'' AND\\nANY EXPRESSED OR IMPLIED WARRANTIES, INCLUDING, BUT NOT LIMITED TO,\\nTHE IMPLIED WARRANTIES OF MERCHANTABILITY AND FITNESS FOR A PARTICULAR\\nPURPOSE ARE DISCLAIMED.  IN NO EVENT SHALL CARNEGIE MELLON UNIVERSITY\\nNOR ITS EMPLOYEES BE LIABLE FOR ANY DIRECT, INDIRECT, INCIDENTAL,\\nSPECIAL, EXEMPLARY, OR CONSEQUENTIAL DAMAGES (INCLUDING, BUT NOT\\nLIMITED TO, PROCUREMENT OF SUBSTITUTE GOODS OR SERVICES; LOSS OF USE,\\nDATA, OR PROFITS; OR BUSINESS INTERRUPTION) HOWEVER CAUSED AND ON ANY\\nTHEORY OF LIABILITY, WHETHER IN CONTRACT, STRICT LIABILITY, OR TORT\\n(INCLUDING NEGLIGENCE OR OTHERWISE) ARISING IN ANY WAY OUT OF THE USE\\nOF THIS SOFTWARE, EVEN IF ADVISED OF THE POSSIBILITY OF SUCH DAMAGE.\\n\""
            ]
          },
          "metadata": {},
          "execution_count": 18
        }
      ]
    },
    {
      "cell_type": "markdown",
      "source": [
        "# CMU pronunciation dictionary: symbol list"
      ],
      "metadata": {
        "id": "w4Lar3eMNHe8"
      }
    },
    {
      "cell_type": "markdown",
      "source": [
        "## CMU Pronunciation Dicationary\n",
        "        \n",
        "        Phoneme Example Translation\n",
        "        ------- ------- -----------\n",
        "        AA\todd     AA D\n",
        "        AE\tat\tAE T\n",
        "        AH\thut\tHH AH T\n",
        "        AO\tought\tAO T\n",
        "        AW\tcow\tK AW\n",
        "        AY\thide\tHH AY D\n",
        "        B \tbe\tB IY\n",
        "        CH\tcheese\tCH IY Z\n",
        "        D \tdee\tD IY\n",
        "        DH\tthee\tDH IY\n",
        "        EH\tEd\tEH D\n",
        "        ER\thurt\tHH ER T\n",
        "        EY\tate\tEY T\n",
        "        F \tfee\tF IY\n",
        "        G \tgreen\tG R IY N\n",
        "        HH\the\tHH IY\n",
        "        IH\tit\tIH T\n",
        "        IY\teat\tIY T\n",
        "        JH\tgee\tJH IY\n",
        "        K \tkey\tK IY\n",
        "        L \tlee\tL IY\n",
        "        M \tme\tM IY\n",
        "        N \tknee\tN IY\n",
        "        NG\tping\tP IH NG\n",
        "        OW\toat\tOW T\n",
        "        OY\ttoy\tT OY\n",
        "        P \tpee\tP IY\n",
        "        R \tread\tR IY D\n",
        "        S \tsea\tS IY\n",
        "        SH\tshe\tSH IY\n",
        "        T \ttea\tT IY\n",
        "        TH\ttheta\tTH EY T AH\n",
        "        UH\thood\tHH UH D\n",
        "        UW\ttwo\tT UW\n",
        "        V \tvee\tV IY\n",
        "        W \twe\tW IY\n",
        "        Y \tyield\tY IY L D\n",
        "        Z \tzee\tZ IY\n",
        "        ZH\tseizure\tS IY ZH ER"
      ],
      "metadata": {
        "id": "4NuoDh0yM_jY"
      }
    },
    {
      "cell_type": "markdown",
      "source": [
        "# **{cmudict}**\n",
        "\n",
        "[📍 webpage: {cmudict}](https://pypi.org/project/cmudict/)"
      ],
      "metadata": {
        "id": "ORgfekOqPJTq"
      }
    },
    {
      "cell_type": "code",
      "source": [
        "!pip install cmudict"
      ],
      "metadata": {
        "colab": {
          "base_uri": "https://localhost:8080/"
        },
        "id": "AhRRlmj1PXfS",
        "outputId": "e4f13709-0073-4155-fcb6-46bb283ccbd7"
      },
      "execution_count": 1,
      "outputs": [
        {
          "output_type": "stream",
          "name": "stdout",
          "text": [
            "Looking in indexes: https://pypi.org/simple, https://us-python.pkg.dev/colab-wheels/public/simple/\n",
            "Collecting cmudict\n",
            "  Downloading cmudict-1.0.2-py2.py3-none-any.whl (939 kB)\n",
            "\u001b[K     |████████████████████████████████| 939 kB 4.2 MB/s \n",
            "\u001b[?25hInstalling collected packages: cmudict\n",
            "Successfully installed cmudict-1.0.2\n"
          ]
        }
      ]
    },
    {
      "cell_type": "markdown",
      "source": [
        "**Usage** [Description from https://pypi.org/project/cmudict/]\n",
        "\n",
        "The cmudict data set includes 4 data files: cmudict.dict, cmudict.phones, cmudict.symbols, and cmudict.vp. See The CMU Pronouncing Dictionary for details on the data. Chances are, if you're here, you already know what's in the files.\n",
        "\n",
        "Each file can be accessed through three functions, one which returns the raw (string) contents, one which returns a binary stream of the file, and one which does minimal processing of the file into an appropriate structure:"
      ],
      "metadata": {
        "id": "pPn1EAvQQLV2"
      }
    },
    {
      "cell_type": "code",
      "source": [
        "import cmudict"
      ],
      "metadata": {
        "id": "7gyy8rgLQGk4"
      },
      "execution_count": 10,
      "outputs": []
    },
    {
      "cell_type": "code",
      "source": [
        "# Entire dictionary content: e.g., 'absentees': [['AE2', 'B', 'S', 'AH0', 'N', 'T', 'IY1', 'Z']],\n",
        "# cmudict.dict()"
      ],
      "metadata": {
        "id": "r4_gFIlmQvPZ"
      },
      "execution_count": null,
      "outputs": []
    },
    {
      "cell_type": "markdown",
      "source": [
        "**cmudict.phones()**  Tuple list\n",
        "> ('AA', ['vowel'])  \n",
        "> ('JH', ['affricate'])"
      ],
      "metadata": {
        "id": "bsBXRLAPRWnm"
      }
    },
    {
      "cell_type": "code",
      "source": [
        "cmudict.phones()"
      ],
      "metadata": {
        "id": "cSSsWgPeRNdP"
      },
      "execution_count": null,
      "outputs": []
    },
    {
      "cell_type": "markdown",
      "source": [
        "**cmudict.symbols()**   \n",
        "\n",
        "string list: ['AA', 'AA0', 'AA1', ....]"
      ],
      "metadata": {
        "id": "NN7KaFQsRpyv"
      }
    },
    {
      "cell_type": "code",
      "source": [
        "cmudict.symbols()"
      ],
      "metadata": {
        "id": "9ZYfXaGtRse8"
      },
      "execution_count": null,
      "outputs": []
    },
    {
      "cell_type": "code",
      "source": [
        "# cmudict.vp() # I don't know what this is for."
      ],
      "metadata": {
        "id": "xGt1UsCmR9PH"
      },
      "execution_count": null,
      "outputs": []
    },
    {
      "cell_type": "markdown",
      "source": [
        "> * cmudict.entries() # Compatible with NLTK  \n",
        "> * cmudict.raw() # Compatible with NLTK  \n",
        "> * cmudict.words() # Compatible with NTLK  "
      ],
      "metadata": {
        "id": "y5z_JF8CSPkH"
      }
    },
    {
      "cell_type": "code",
      "source": [
        "#  ('acuity', ['AH0', 'K', 'Y', 'UW1', 'AH0', 'T', 'IY0']),\n",
        "cmudict.entries()[:10]"
      ],
      "metadata": {
        "colab": {
          "base_uri": "https://localhost:8080/"
        },
        "id": "pEBps2D8SXER",
        "outputId": "c1b6c8d9-e33a-407b-87b2-fd869a50b33c"
      },
      "execution_count": 28,
      "outputs": [
        {
          "output_type": "execute_result",
          "data": {
            "text/plain": [
              "[(\"'bout\", ['B', 'AW1', 'T']),\n",
              " (\"'cause\", ['K', 'AH0', 'Z']),\n",
              " (\"'course\", ['K', 'AO1', 'R', 'S']),\n",
              " (\"'cuse\", ['K', 'Y', 'UW1', 'Z']),\n",
              " (\"'em\", ['AH0', 'M']),\n",
              " (\"'frisco\", ['F', 'R', 'IH1', 'S', 'K', 'OW0']),\n",
              " (\"'gain\", ['G', 'EH1', 'N']),\n",
              " (\"'kay\", ['K', 'EY1']),\n",
              " (\"'m\", ['AH0', 'M']),\n",
              " (\"'n\", ['AH0', 'N'])]"
            ]
          },
          "metadata": {},
          "execution_count": 28
        }
      ]
    },
    {
      "cell_type": "code",
      "source": [
        "# cmudict.raw()"
      ],
      "metadata": {
        "id": "wXWMXcxmSt1K"
      },
      "execution_count": null,
      "outputs": []
    },
    {
      "cell_type": "code",
      "source": [
        "len(cmudict.words())"
      ],
      "metadata": {
        "colab": {
          "base_uri": "https://localhost:8080/"
        },
        "id": "ALdjAJ9vS22r",
        "outputId": "d215cdc3-2139-43b8-9bb1-152e96447e7e"
      },
      "execution_count": 17,
      "outputs": [
        {
          "output_type": "execute_result",
          "data": {
            "text/plain": [
              "135155"
            ]
          },
          "metadata": {},
          "execution_count": 17
        }
      ]
    },
    {
      "cell_type": "markdown",
      "source": [
        "# Applicable codings"
      ],
      "metadata": {
        "id": "E82tlkh-T7nP"
      }
    },
    {
      "cell_type": "code",
      "source": [
        "%%capture\n",
        "!pip install pronouncing\n",
        "import pronouncing"
      ],
      "metadata": {
        "id": "OEclH7CtUGli"
      },
      "execution_count": 21,
      "outputs": []
    },
    {
      "cell_type": "code",
      "source": [
        "pronouncing.rhymes('word')"
      ],
      "metadata": {
        "id": "fDn9Ys9YT_Lu"
      },
      "execution_count": null,
      "outputs": []
    }
  ]
}