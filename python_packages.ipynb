{
  "nbformat": 4,
  "nbformat_minor": 0,
  "metadata": {
    "colab": {
      "name": "python_packages.ipynb",
      "provenance": [],
      "authorship_tag": "ABX9TyPXYWjjIoj37V4ElrurjUj1",
      "include_colab_link": true
    },
    "kernelspec": {
      "name": "python3",
      "display_name": "Python 3"
    },
    "language_info": {
      "name": "python"
    }
  },
  "cells": [
    {
      "cell_type": "markdown",
      "metadata": {
        "id": "view-in-github",
        "colab_type": "text"
      },
      "source": [
        "<a href=\"https://colab.research.google.com/github/MK316/workshop22/blob/main/python_packages.ipynb\" target=\"_parent\"><img src=\"https://colab.research.google.com/assets/colab-badge.svg\" alt=\"Open In Colab\"/></a>"
      ]
    },
    {
      "cell_type": "markdown",
      "source": [
        "# 🔧 🔮 Frequently used packages\n",
        "\n",
        "* import numpy \n",
        "* import pandas\n",
        "* import matplotlib\n",
        "* import os\n",
        "* import nltk"
      ],
      "metadata": {
        "id": "u51NgUCBo1vV"
      }
    },
    {
      "cell_type": "markdown",
      "source": [
        "## [1] {numpy} for math operations\n",
        "\n",
        "\"Numpy is one of the most commonly used packages for scientific computing in Python. It provides a multidimensional array object, as well as variations such as masks and matrices, which can be used for various math operations. Numpy is compatible with, and used by many other popular Python packages, including pandas and matplotlib.\" [↪️ source link](\"https://www.activestate.com/resources/quick-reads/what-is-numpy-used-for-in-python/#:~:text=Numpy%20is%20one%20of%20the,used%20for%20various%20math%20operations.\")"
      ],
      "metadata": {
        "id": "wW_qtMgyrlHu"
      }
    },
    {
      "cell_type": "code",
      "execution_count": null,
      "metadata": {
        "id": "eJUHOXTGoxq8"
      },
      "outputs": [],
      "source": [
        "import numpy\n",
        "# import numpy as np"
      ]
    },
    {
      "cell_type": "markdown",
      "source": [
        "## [2] {pandas} for dataframe\n",
        "\n",
        "* Data cleansing\n",
        "* Data fill\n",
        "* Data normalization\n",
        "* Merges and joins\n",
        "* Data visualization\n",
        "* Statistical analysis\n",
        "* Data inspection\n",
        "* Loading and saving data\\\n",
        "And much more [[↪️ source link ]](\"https://www.activestate.com/resources/quick-reads/what-is-pandas-in-python-everything-you-need-to-know/#:~:text=Pandas%20is%20an%20open%20source,support%20for%20multi%2Ddimensional%20arrays.\")"
      ],
      "metadata": {
        "id": "vJSVMyAesjiS"
      }
    },
    {
      "cell_type": "code",
      "source": [
        "import pandas as pd"
      ],
      "metadata": {
        "id": "9sohMdRup0sy"
      },
      "execution_count": null,
      "outputs": []
    },
    {
      "cell_type": "markdown",
      "source": [
        "## [3] {matplotlib} for visualization and graphical plotting\n",
        "\n",
        "🍃 {Numpy} is a required dependency for matplotlib, which uses numpy functions for numerical data and multi-dimensional arrays"
      ],
      "metadata": {
        "id": "iJM2fEtqtdaG"
      }
    },
    {
      "cell_type": "code",
      "source": [
        "import matplotlib \n",
        "import numpy as np"
      ],
      "metadata": {
        "id": "FQDI6L9Kp0Eu"
      },
      "execution_count": null,
      "outputs": []
    },
    {
      "cell_type": "markdown",
      "source": [
        "# [4] {os}"
      ],
      "metadata": {
        "id": "7KWEFUt-gtJ6"
      }
    },
    {
      "cell_type": "code",
      "source": [
        "# Getting file list in a directory\n",
        "import os\n",
        "\n",
        "arr = os.listdir('/content')\n",
        "print(arr)"
      ],
      "metadata": {
        "id": "dJG3TnX9gw0y",
        "outputId": "44cbfb06-b82f-445b-8ef5-622121fc700d",
        "colab": {
          "base_uri": "https://localhost:8080/"
        }
      },
      "execution_count": 3,
      "outputs": [
        {
          "output_type": "stream",
          "name": "stdout",
          "text": [
            "['.config', 'sample_data']\n"
          ]
        }
      ]
    },
    {
      "cell_type": "code",
      "source": [
        "# Creating a folder\n",
        "\n",
        "os.mkdir('/content/test/')"
      ],
      "metadata": {
        "id": "DTS8MZfzgzTy"
      },
      "execution_count": 8,
      "outputs": []
    },
    {
      "cell_type": "code",
      "source": [
        ""
      ],
      "metadata": {
        "id": "K39cBbqlhmLF"
      },
      "execution_count": null,
      "outputs": []
    },
    {
      "cell_type": "markdown",
      "source": [
        "## [5] {nltk} for Natural Language Processing"
      ],
      "metadata": {
        "id": "R-9JDd7AuwFF"
      }
    },
    {
      "cell_type": "markdown",
      "source": [
        ""
      ],
      "metadata": {
        "id": "2exfHIWQux2O"
      }
    },
    {
      "cell_type": "markdown",
      "source": [
        "\n",
        "\n",
        "* import os\n",
        "* import seaborn\n",
        "* import sklearn\n",
        "* import PIL\n",
        "* import pytest\n",
        "* import urllib3\n",
        "* import requests\n",
        "* import librosa"
      ],
      "metadata": {
        "id": "0mrQ3LpSuqnl"
      }
    }
  ]
}